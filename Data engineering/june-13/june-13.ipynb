{
 "cells": [
  {
   "cell_type": "markdown",
   "metadata": {
    "application/vnd.databricks.v1+cell": {
     "cellMetadata": {},
     "inputWidgets": {},
     "nuid": "0931143f-adcc-4f46-bc15-820e5a949c0d",
     "showTitle": false,
     "tableResultSettingsMap": {},
     "title": ""
    }
   },
   "source": [
    "**Intialize the SparkSession**"
   ]
  },
  {
   "cell_type": "code",
   "execution_count": 0,
   "metadata": {
    "application/vnd.databricks.v1+cell": {
     "cellMetadata": {
      "byteLimit": 2048000,
      "rowLimit": 10000
     },
     "inputWidgets": {},
     "nuid": "b71a349e-a846-4956-aa89-18c5064b7667",
     "showTitle": false,
     "tableResultSettingsMap": {},
     "title": ""
    }
   },
   "outputs": [
    {
     "output_type": "execute_result",
     "data": {
      "text/html": [
       "\n",
       "            <div>\n",
       "                <p><b>SparkSession - hive</b></p>\n",
       "                \n",
       "        <div>\n",
       "            <p><b>SparkContext</b></p>\n",
       "\n",
       "            <p><a href=\"/?o=3525126442407722#setting/sparkui/0611-043339-3vb7b9iv/driver-5387258815945284036\">Spark UI</a></p>\n",
       "\n",
       "            <dl>\n",
       "              <dt>Version</dt>\n",
       "                <dd><code>v3.5.0</code></dd>\n",
       "              <dt>Master</dt>\n",
       "                <dd><code>local[*, 4]</code></dd>\n",
       "              <dt>AppName</dt>\n",
       "                <dd><code>Databricks Shell</code></dd>\n",
       "            </dl>\n",
       "        </div>\n",
       "        \n",
       "            </div>\n",
       "        "
      ],
      "text/plain": [
       "<pyspark.sql.session.SparkSession at 0x730b241e9490>"
      ]
     },
     "execution_count": 1,
     "metadata": {},
     "output_type": "execute_result"
    }
   ],
   "source": [
    "from pyspark.sql import SparkSession\n",
    "spark=SparkSession.builder\\\n",
    "      .appName(\"june-13 exercise\")\\\n",
    "      .getOrCreate()\n",
    "spark"
   ]
  },
  {
   "cell_type": "markdown",
   "metadata": {
    "application/vnd.databricks.v1+cell": {
     "cellMetadata": {},
     "inputWidgets": {},
     "nuid": "f6a57a64-8a6a-49f8-9fe8-68a0442a313d",
     "showTitle": false,
     "tableResultSettingsMap": {},
     "title": ""
    }
   },
   "source": [
    "**Spark Tasks**"
   ]
  },
  {
   "cell_type": "markdown",
   "metadata": {
    "application/vnd.databricks.v1+cell": {
     "cellMetadata": {},
     "inputWidgets": {},
     "nuid": "0203f81d-6dd8-4d2e-b0f2-15168f2c26f3",
     "showTitle": false,
     "tableResultSettingsMap": {},
     "title": ""
    }
   },
   "source": [
    "**Load the Date**"
   ]
  },
  {
   "cell_type": "code",
   "execution_count": 0,
   "metadata": {
    "application/vnd.databricks.v1+cell": {
     "cellMetadata": {
      "byteLimit": 2048000,
      "rowLimit": 10000
     },
     "inputWidgets": {},
     "nuid": "085d34a8-f8d5-46d8-87b2-fbe561f7b990",
     "showTitle": false,
     "tableResultSettingsMap": {},
     "title": ""
    }
   },
   "outputs": [
    {
     "output_type": "stream",
     "name": "stdout",
     "output_type": "stream",
     "text": [
      "+----------+-----+---------+---+\n|CustomerID| Name|     City|Age|\n+----------+-----+---------+---+\n|       101|Aditi|   Mumbai| 28|\n|       102|Rohan|    Delhi| 35|\n|       103|Meena|Hyderabad| 30|\n|       104|Kabir|Bangalore| 41|\n|       105| Zoya|Hyderabad| 25|\n+----------+-----+---------+---+\n\n+-------+----------+---------+-------+--------+-----+----------+\n|OrderID|CustomerID|     City|Product|Quantity|Price| OrderDate|\n+-------+----------+---------+-------+--------+-----+----------+\n|   1001|       101|  Chennai| Laptop|       1|70000|2024-01-05|\n|   1002|       102|  Chennai| Mobile|       2|25000|2024-02-10|\n|   1003|       103|    Delhi|   Desk|       1|10000|2024-03-15|\n|   1004|       101|   Mumbai|  Mouse|       3| 1000|2024-04-01|\n|   1005|       104|Hyderabad|Monitor|       1|12000|2024-04-25|\n+-------+----------+---------+-------+--------+-----+----------+\n\n"
     ]
    }
   ],
   "source": [
    "#1.read the csv files\n",
    "customers=spark.read.option(\"header\",True).option(\"inferSchema\",True)\\\n",
    "    .csv(\"file:/Workspace/Shared/customers.csv\")\n",
    "customers.show()\n",
    "orders=spark.read.option(\"header\",True).option(\"inferSchema\",True)\\\n",
    "    .csv(\"file:/Workspace/Shared/orders.csv\")\n",
    "orders.show()"
   ]
  },
  {
   "cell_type": "code",
   "execution_count": 0,
   "metadata": {
    "application/vnd.databricks.v1+cell": {
     "cellMetadata": {
      "byteLimit": 2048000,
      "rowLimit": 10000
     },
     "inputWidgets": {},
     "nuid": "16b6346b-0d54-4f23-ab9a-ef3bbff18587",
     "showTitle": false,
     "tableResultSettingsMap": {},
     "title": ""
    }
   },
   "outputs": [
    {
     "output_type": "stream",
     "name": "stdout",
     "output_type": "stream",
     "text": [
      "root\n |-- CustomerID: integer (nullable = true)\n |-- Name: string (nullable = true)\n |-- City: string (nullable = true)\n |-- Age: integer (nullable = true)\n\nroot\n |-- OrderID: integer (nullable = true)\n |-- CustomerID: integer (nullable = true)\n |-- City: string (nullable = true)\n |-- Product: string (nullable = true)\n |-- Quantity: integer (nullable = true)\n |-- Price: integer (nullable = true)\n |-- OrderDate: date (nullable = true)\n\n"
     ]
    }
   ],
   "source": [
    "#2.display the schema\n",
    "customers.printSchema()\n",
    "orders.printSchema()"
   ]
  },
  {
   "cell_type": "code",
   "execution_count": 0,
   "metadata": {
    "application/vnd.databricks.v1+cell": {
     "cellMetadata": {
      "byteLimit": 2048000,
      "rowLimit": 10000
     },
     "inputWidgets": {},
     "nuid": "ff4c2547-c152-435c-8a75-babe26e36142",
     "showTitle": false,
     "tableResultSettingsMap": {},
     "title": ""
    }
   },
   "outputs": [
    {
     "output_type": "stream",
     "name": "stdout",
     "output_type": "stream",
     "text": [
      "orders after adding TotalAmount column:\n+-------+----------+---------+-------+--------+-----+----------+-----------+\n|OrderID|CustomerID|     City|Product|Quantity|Price| OrderDate|TotalAmount|\n+-------+----------+---------+-------+--------+-----+----------+-----------+\n|   1001|       101|  Chennai| Laptop|       1|70000|2024-01-05|      70000|\n|   1002|       102|  Chennai| Mobile|       2|25000|2024-02-10|      50000|\n|   1003|       103|    Delhi|   Desk|       1|10000|2024-03-15|      10000|\n|   1004|       101|   Mumbai|  Mouse|       3| 1000|2024-04-01|       3000|\n|   1005|       104|Hyderabad|Monitor|       1|12000|2024-04-25|      12000|\n+-------+----------+---------+-------+--------+-----+----------+-----------+\n\n"
     ]
    }
   ],
   "source": [
    "#3.Add a column TotalAmount = Quantity * Price to orders\n",
    "from pyspark.sql.functions import col\n",
    "orders=orders.withColumn(\"TotalAmount\", col(\"Quantity\") * col(\"Price\"))\n",
    "print('orders after adding TotalAmount column:')\n",
    "orders.show()"
   ]
  },
  {
   "cell_type": "code",
   "execution_count": 0,
   "metadata": {
    "application/vnd.databricks.v1+cell": {
     "cellMetadata": {
      "byteLimit": 2048000,
      "rowLimit": 10000
     },
     "inputWidgets": {},
     "nuid": "273772c9-26c3-48d4-80d5-22fc45df8aaf",
     "showTitle": false,
     "tableResultSettingsMap": {},
     "title": ""
    }
   },
   "outputs": [
    {
     "output_type": "stream",
     "name": "stdout",
     "output_type": "stream",
     "text": [
      "Joined DataFrames:\n+----------+-----+-------+-----------+\n|CustomerID| Name|Product|TotalAmount|\n+----------+-----+-------+-----------+\n|       101|Aditi| Laptop|      70000|\n|       102|Rohan| Mobile|      50000|\n|       103|Meena|   Desk|      10000|\n|       101|Aditi|  Mouse|       3000|\n|       104|Kabir|Monitor|      12000|\n+----------+-----+-------+-----------+\n\n+----------+-------+---------+-------+--------+-----+----------+-----------+-----+---------+---+\n|CustomerID|OrderID|     City|Product|Quantity|Price| OrderDate|TotalAmount| Name|     City|Age|\n+----------+-------+---------+-------+--------+-----+----------+-----------+-----+---------+---+\n|       101|   1001|  Chennai| Laptop|       1|70000|2024-01-05|      70000|Aditi|   Mumbai| 28|\n|       102|   1002|  Chennai| Mobile|       2|25000|2024-02-10|      50000|Rohan|    Delhi| 35|\n|       103|   1003|    Delhi|   Desk|       1|10000|2024-03-15|      10000|Meena|Hyderabad| 30|\n|       101|   1004|   Mumbai|  Mouse|       3| 1000|2024-04-01|       3000|Aditi|   Mumbai| 28|\n|       104|   1005|Hyderabad|Monitor|       1|12000|2024-04-25|      12000|Kabir|Bangalore| 41|\n+----------+-------+---------+-------+--------+-----+----------+-----------+-----+---------+---+\n\n"
     ]
    }
   ],
   "source": [
    "#4.Join both DataFrames on CustomerID\n",
    "j=orders.join(customers, on=\"CustomerID\", how=\"inner\")\n",
    "print('Joined DataFrames:')\n",
    "j.select(\"CustomerID\", \"Name\", \"Product\", \"TotalAmount\").show()\n",
    "j.show()"
   ]
  },
  {
   "cell_type": "code",
   "execution_count": 0,
   "metadata": {
    "application/vnd.databricks.v1+cell": {
     "cellMetadata": {
      "byteLimit": 2048000,
      "rowLimit": 10000
     },
     "inputWidgets": {},
     "nuid": "0edc59a1-f4d6-48ab-bd14-2c5c22966522",
     "showTitle": false,
     "tableResultSettingsMap": {},
     "title": ""
    }
   },
   "outputs": [
    {
     "output_type": "stream",
     "name": "stdout",
     "output_type": "stream",
     "text": [
      "orders where TotalAmount > 20000:\n+-------+----------+-------+-------+--------+-----+----------+-----------+\n|OrderID|CustomerID|   City|Product|Quantity|Price| OrderDate|TotalAmount|\n+-------+----------+-------+-------+--------+-----+----------+-----------+\n|   1001|       101|Chennai| Laptop|       1|70000|2024-01-05|      70000|\n|   1002|       102|Chennai| Mobile|       2|25000|2024-02-10|      50000|\n+-------+----------+-------+-------+--------+-----+----------+-----------+\n\n"
     ]
    }
   ],
   "source": [
    "#5. Filter orders where TotalAmount > 20000\n",
    "a=orders.filter(col(\"TotalAmount\")>20000)\n",
    "print('orders where TotalAmount > 20000:')\n",
    "a.show()"
   ]
  },
  {
   "cell_type": "code",
   "execution_count": 0,
   "metadata": {
    "application/vnd.databricks.v1+cell": {
     "cellMetadata": {
      "byteLimit": 2048000,
      "rowLimit": 10000
     },
     "inputWidgets": {},
     "nuid": "7984d88d-d907-4cfa-9716-88db942db6c6",
     "showTitle": false,
     "tableResultSettingsMap": {},
     "title": ""
    }
   },
   "outputs": [
    {
     "output_type": "stream",
     "name": "stdout",
     "output_type": "stream",
     "text": [
      "customers who placed more than 1 order:\n+----------+-----------------------+\n|CustomerID|count(DISTINCT OrderID)|\n+----------+-----------------------+\n|       101|                      2|\n+----------+-----------------------+\n\n"
     ]
    }
   ],
   "source": [
    "#6.Show customers who placed more than 1 order\n",
    "from pyspark.sql.functions import countDistinct\n",
    "print('customers who placed more than 1 order:')\n",
    "j.groupBy(\"CustomerID\").agg(countDistinct(\"OrderID\")).filter(col(\"count(DISTINCT OrderID)\")>1).show()"
   ]
  },
  {
   "cell_type": "code",
   "execution_count": 0,
   "metadata": {
    "application/vnd.databricks.v1+cell": {
     "cellMetadata": {
      "byteLimit": 2048000,
      "rowLimit": 10000
     },
     "inputWidgets": {},
     "nuid": "6c346926-7d00-417a-855b-9bd2e2e67712",
     "showTitle": false,
     "tableResultSettingsMap": {},
     "title": ""
    }
   },
   "outputs": [
    {
     "output_type": "stream",
     "name": "stdout",
     "output_type": "stream",
     "text": [
      "customers who placed more than 1 order:\n+----------+-----+----------+\n|CustomerID| Name|OrderCount|\n+----------+-----+----------+\n|       101|Aditi|         2|\n+----------+-----+----------+\n\n"
     ]
    }
   ],
   "source": [
    "from pyspark.sql.functions import count\n",
    "print('customers who placed more than 1 order:')\n",
    "j.groupBy(\"CustomerID\", \"Name\").agg(count(\"OrderID\").alias(\"OrderCount\")) \\\n",
    "    .filter(\"OrderCount > 1\").show()\n"
   ]
  },
  {
   "cell_type": "code",
   "execution_count": 0,
   "metadata": {
    "application/vnd.databricks.v1+cell": {
     "cellMetadata": {
      "byteLimit": 2048000,
      "rowLimit": 10000
     },
     "inputWidgets": {},
     "nuid": "1c93a0e8-ce03-48ad-82a7-24a146846bd3",
     "showTitle": false,
     "tableResultSettingsMap": {},
     "title": ""
    }
   },
   "outputs": [
    {
     "output_type": "stream",
     "name": "stdout",
     "output_type": "stream",
     "text": [
      "average order value by City:\n+---------+----------------+\n|     City|avg(TotalAmount)|\n+---------+----------------+\n|  Chennai|         60000.0|\n|   Mumbai|          3000.0|\n|    Delhi|         10000.0|\n|Hyderabad|         12000.0|\n+---------+----------------+\n\n"
     ]
    }
   ],
   "source": [
    "#7. Group orders by City and get average order value\n",
    "from pyspark.sql.functions import avg\n",
    "print('average order value by City:')\n",
    "orders.groupBy(\"City\").agg(avg(\"TotalAmount\")).show()"
   ]
  },
  {
   "cell_type": "code",
   "execution_count": 0,
   "metadata": {
    "application/vnd.databricks.v1+cell": {
     "cellMetadata": {
      "byteLimit": 2048000,
      "rowLimit": 10000
     },
     "inputWidgets": {},
     "nuid": "c26f0bc6-d577-4d4e-9a79-4731dece8fe1",
     "showTitle": false,
     "tableResultSettingsMap": {},
     "title": ""
    }
   },
   "outputs": [
    {
     "output_type": "stream",
     "name": "stdout",
     "output_type": "stream",
     "text": [
      "orders sorted by OrderDate in descending order:\n+-------+----------+---------+-------+--------+-----+----------+-----------+\n|OrderID|CustomerID|     City|Product|Quantity|Price| OrderDate|TotalAmount|\n+-------+----------+---------+-------+--------+-----+----------+-----------+\n|   1005|       104|Hyderabad|Monitor|       1|12000|2024-04-25|      12000|\n|   1004|       101|   Mumbai|  Mouse|       3| 1000|2024-04-01|       3000|\n|   1003|       103|    Delhi|   Desk|       1|10000|2024-03-15|      10000|\n|   1002|       102|  Chennai| Mobile|       2|25000|2024-02-10|      50000|\n|   1001|       101|  Chennai| Laptop|       1|70000|2024-01-05|      70000|\n+-------+----------+---------+-------+--------+-----+----------+-----------+\n\n"
     ]
    }
   ],
   "source": [
    "#8.Sort orders by OrderDate in descending order\n",
    "from pyspark.sql.functions import desc\n",
    "print('orders sorted by OrderDate in descending order:')\n",
    "orders.sort(desc(\"OrderDate\")).show()"
   ]
  },
  {
   "cell_type": "code",
   "execution_count": 0,
   "metadata": {
    "application/vnd.databricks.v1+cell": {
     "cellMetadata": {
      "byteLimit": 2048000,
      "rowLimit": 10000
     },
     "inputWidgets": {},
     "nuid": "2bbbe800-f8d1-4b38-a62b-3d45751966e6",
     "showTitle": false,
     "tableResultSettingsMap": {},
     "title": ""
    }
   },
   "outputs": [],
   "source": [
    "#9.Write the final result as a Parquet file partitioned by city\n",
    "a.write.partitionBy(\"City\").mode(\"overwrite\").parquet(\"file:/Workspace/Shared/customer_orders\")"
   ]
  },
  {
   "cell_type": "code",
   "execution_count": 0,
   "metadata": {
    "application/vnd.databricks.v1+cell": {
     "cellMetadata": {
      "byteLimit": 2048000,
      "rowLimit": 10000
     },
     "inputWidgets": {},
     "nuid": "b1ed8e2c-db05-44dc-8d25-320982aaab32",
     "showTitle": false,
     "tableResultSettingsMap": {},
     "title": ""
    }
   },
   "outputs": [
    {
     "output_type": "stream",
     "name": "stdout",
     "output_type": "stream",
     "text": [
      "root\n |-- CustomerID: integer (nullable = true)\n |-- OrderID: integer (nullable = true)\n |-- OrderCity: string (nullable = true)\n |-- Product: string (nullable = true)\n |-- Quantity: integer (nullable = true)\n |-- Price: integer (nullable = true)\n |-- OrderDate: date (nullable = true)\n |-- TotalAmount: integer (nullable = true)\n |-- Name: string (nullable = true)\n |-- CustomerCity: string (nullable = true)\n |-- Age: integer (nullable = true)\n\n+----------+-------+---------+-------+--------+-----+----------+-----------+-----+------------+---+\n|CustomerID|OrderID|OrderCity|Product|Quantity|Price| OrderDate|TotalAmount| Name|CustomerCity|Age|\n+----------+-------+---------+-------+--------+-----+----------+-----------+-----+------------+---+\n|       101|   1001|  Chennai| Laptop|       1|70000|2024-01-05|      70000|Aditi|      Mumbai| 28|\n|       102|   1002|  Chennai| Mobile|       2|25000|2024-02-10|      50000|Rohan|       Delhi| 35|\n|       103|   1003|    Delhi|   Desk|       1|10000|2024-03-15|      10000|Meena|   Hyderabad| 30|\n|       101|   1004|   Mumbai|  Mouse|       3| 1000|2024-04-01|       3000|Aditi|      Mumbai| 28|\n|       104|   1005|Hyderabad|Monitor|       1|12000|2024-04-25|      12000|Kabir|   Bangalore| 41|\n+----------+-------+---------+-------+--------+-----+----------+-----------+-----+------------+---+\n\n"
     ]
    }
   ],
   "source": [
    "# Rename city columns to avoid ambiguity\n",
    "orders = orders.withColumnRenamed(\"City\", \"OrderCity\")\n",
    "customers = customers.withColumnRenamed(\"City\", \"CustomerCity\")\n",
    "j = orders.join(customers, on=\"CustomerID\", how=\"inner\")\n",
    "j.printSchema()\n",
    "j.show()"
   ]
  },
  {
   "cell_type": "code",
   "execution_count": 0,
   "metadata": {
    "application/vnd.databricks.v1+cell": {
     "cellMetadata": {
      "byteLimit": 2048000,
      "rowLimit": 10000
     },
     "inputWidgets": {},
     "nuid": "7e2a5007-f1f8-4cd6-af2e-a55c4f3bb861",
     "showTitle": false,
     "tableResultSettingsMap": {},
     "title": ""
    }
   },
   "outputs": [
    {
     "output_type": "stream",
     "name": "stdout",
     "output_type": "stream",
     "text": [
      "Total sales by customer:\n+----------+-----+----------+\n|CustomerID| Name|TotalSales|\n+----------+-----+----------+\n|       101|Aditi|     73000|\n|       102|Rohan|     50000|\n|       103|Meena|     10000|\n|       104|Kabir|     12000|\n+----------+-----+----------+\n\nCount of products per order city:\n+---------+------------+\n|OrderCity|ProductCount|\n+---------+------------+\n|  Chennai|           2|\n|   Mumbai|           1|\n|    Delhi|           1|\n|Hyderabad|           1|\n+---------+------------+\n\nTop 2 order cities by revenue:\n+---------+-------+\n|OrderCity|Revenue|\n+---------+-------+\n|  Chennai| 120000|\n|Hyderabad|  12000|\n+---------+-------+\n\n"
     ]
    }
   ],
   "source": [
    "# Create the temp view\n",
    "j.createOrReplaceTempView(\"orders_view\")\n",
    "# Total sales by customer\n",
    "print('Total sales by customer:')\n",
    "spark.sql(\"\"\"\n",
    "SELECT CustomerID, Name, SUM(TotalAmount) AS TotalSales\n",
    "FROM orders_view\n",
    "GROUP BY CustomerID, Name\n",
    "\"\"\").show()\n",
    "#Count of products per city\n",
    "print('Count of products per order city:')\n",
    "spark.sql(\"\"\"\n",
    "SELECT OrderCity, COUNT(*) AS ProductCount\n",
    "FROM orders_view\n",
    "GROUP BY OrderCity\n",
    "\"\"\").show()\n",
    "# Top 2 order cities by revenue\n",
    "print('Top 2 order cities by revenue:')\n",
    "spark.sql(\"\"\"\n",
    "SELECT OrderCity, SUM(TotalAmount) AS Revenue\n",
    "FROM orders_view\n",
    "GROUP BY OrderCity\n",
    "ORDER BY Revenue DESC\n",
    "LIMIT 2\n",
    "\"\"\").show()"
   ]
  },
  {
   "cell_type": "code",
   "execution_count": 0,
   "metadata": {
    "application/vnd.databricks.v1+cell": {
     "cellMetadata": {},
     "inputWidgets": {},
     "nuid": "5aa11c3e-1a32-41d3-b3e3-7ba3cf8a8958",
     "showTitle": false,
     "tableResultSettingsMap": {},
     "title": ""
    }
   },
   "outputs": [],
   "source": []
  }
 ],
 "metadata": {
  "application/vnd.databricks.v1+notebook": {
   "computePreferences": null,
   "dashboards": [],
   "environmentMetadata": {
    "base_environment": "",
    "environment_version": "2"
   },
   "inputWidgetPreferences": null,
   "language": "python",
   "notebookMetadata": {
    "pythonIndentUnit": 4
   },
   "notebookName": "june-13",
   "widgets": {}
  },
  "language_info": {
   "name": "python"
  }
 },
 "nbformat": 4,
 "nbformat_minor": 0
}