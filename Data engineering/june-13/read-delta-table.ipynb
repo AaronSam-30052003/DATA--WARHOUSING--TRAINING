{
 "cells": [
  {
   "cell_type": "markdown",
   "metadata": {
    "application/vnd.databricks.v1+cell": {
     "cellMetadata": {},
     "inputWidgets": {},
     "nuid": "d6297ad9-0898-40a7-b2b0-f0291a3c2978",
     "showTitle": false,
     "tableResultSettingsMap": {},
     "title": ""
    }
   },
   "source": [
    "**Intialize the SparkSession**"
   ]
  },
  {
   "cell_type": "code",
   "execution_count": 0,
   "metadata": {
    "application/vnd.databricks.v1+cell": {
     "cellMetadata": {
      "byteLimit": 2048000,
      "rowLimit": 10000
     },
     "inputWidgets": {},
     "nuid": "f94a78e0-98d2-4874-9ef0-b2b10b939a50",
     "showTitle": false,
     "tableResultSettingsMap": {},
     "title": ""
    }
   },
   "outputs": [
    {
     "output_type": "execute_result",
     "data": {
      "text/html": [
       "\n",
       "            <div>\n",
       "                <p><b>SparkSession - hive</b></p>\n",
       "                \n",
       "        <div>\n",
       "            <p><b>SparkContext</b></p>\n",
       "\n",
       "            <p><a href=\"/?o=3525126442407722#setting/sparkui/0611-043339-3vb7b9iv/driver-6629966651098859203\">Spark UI</a></p>\n",
       "\n",
       "            <dl>\n",
       "              <dt>Version</dt>\n",
       "                <dd><code>v3.5.0</code></dd>\n",
       "              <dt>Master</dt>\n",
       "                <dd><code>local[*, 4]</code></dd>\n",
       "              <dt>AppName</dt>\n",
       "                <dd><code>Databricks Shell</code></dd>\n",
       "            </dl>\n",
       "        </div>\n",
       "        \n",
       "            </div>\n",
       "        "
      ],
      "text/plain": [
       "<pyspark.sql.session.SparkSession at 0x7e3c39a00790>"
      ]
     },
     "execution_count": 1,
     "metadata": {},
     "output_type": "execute_result"
    }
   ],
   "source": [
    "from pyspark.sql import SparkSession\n",
    "spark=SparkSession.builder\\\n",
    "      .appName(\"read-delta\")\\\n",
    "      .getOrCreate()\n",
    "spark"
   ]
  },
  {
   "cell_type": "markdown",
   "metadata": {
    "application/vnd.databricks.v1+cell": {
     "cellMetadata": {},
     "inputWidgets": {},
     "nuid": "07454848-71e5-4d3c-ac92-03b14deb9c9f",
     "showTitle": false,
     "tableResultSettingsMap": {},
     "title": ""
    }
   },
   "source": [
    "**Read the delta table**"
   ]
  },
  {
   "cell_type": "code",
   "execution_count": 0,
   "metadata": {
    "application/vnd.databricks.v1+cell": {
     "cellMetadata": {
      "byteLimit": 2048000,
      "rowLimit": 10000
     },
     "inputWidgets": {},
     "nuid": "d5ef9357-8375-4817-bc4a-4d5595d0c607",
     "showTitle": false,
     "tableResultSettingsMap": {},
     "title": ""
    }
   },
   "outputs": [
    {
     "output_type": "stream",
     "name": "stdout",
     "output_type": "stream",
     "text": [
      "+----------+-----+---------+---+\n|CustomerID| Name|     City|Age|\n+----------+-----+---------+---+\n|       101|Aditi|   Mumbai| 28|\n|       102|Rohan|    Delhi| 35|\n|       103|Meena|Hyderabad| 30|\n|       104|Kabir|Bangalore| 41|\n|       105| Zoya|Hyderabad| 25|\n+----------+-----+---------+---+\n\n"
     ]
    }
   ],
   "source": [
    "df=spark.read.option(\"header\",True).option(\"inferSchema\",True)\\\n",
    "    .csv(\"file:/Workspace/Shared/customers.csv\")\n",
    "df.write.format(\"delta\").mode(\"overwrite\").save(\"file:/Workspace/Shared/customers\")\n",
    "delta = spark.read.format(\"delta\").load(\"file:/Workspace/Shared/customers\")\n",
    "delta.show()\n"
   ]
  },
  {
   "cell_type": "code",
   "execution_count": 0,
   "metadata": {
    "application/vnd.databricks.v1+cell": {
     "cellMetadata": {
      "byteLimit": 2048000,
      "rowLimit": 10000
     },
     "inputWidgets": {},
     "nuid": "c80ffdff-512b-4d78-9d48-8cb32670da75",
     "showTitle": false,
     "tableResultSettingsMap": {},
     "title": ""
    }
   },
   "outputs": [
    {
     "output_type": "stream",
     "name": "stdout",
     "output_type": "stream",
     "text": [
      "+-------+--------+-------+-----------+--------+-----+----------+-----------+\n|OrderID|Customer|Product|   Category|Quantity|Price| OrderDate|PaymentMode|\n+-------+--------+-------+-----------+--------+-----+----------+-----------+\n|   1001|     Ali| Laptop|Electronics|       1|70000|2024-01-05|       Card|\n|   1002|    Neha| Tablet|Electronics|       2|30000|2024-01-10|        UPI|\n|   1003|    Ravi|  Phone|Electronics|       1|50000|2024-01-15|       Card|\n|   1004|    Zoya|   Desk|  Furniture|       1|15000|2024-02-01|Net Banking|\n|   1005|   Karan|  Mouse|Electronics|       3| 1500|2024-02-05|        UPI|\n+-------+--------+-------+-----------+--------+-----+----------+-----------+\n\n"
     ]
    }
   ],
   "source": [
    "df=spark.read.option(\"header\",True).option(\"inferSchema\",True)\\\n",
    "    .csv(\"file:/Workspace/Shared/sales_data.csv\")\n",
    "df.write.format(\"delta\").mode(\"overwrite\").save(\"file:/Workspace/Shared/sales_data\")\n",
    "delta = spark.read.format(\"delta\").load(\"file:/Workspace/Shared/sales_data\")\n",
    "delta.show()\n"
   ]
  },
  {
   "cell_type": "code",
   "execution_count": 0,
   "metadata": {
    "application/vnd.databricks.v1+cell": {
     "cellMetadata": {},
     "inputWidgets": {},
     "nuid": "e44a0546-1bb2-443b-b668-e153a6ca21a3",
     "showTitle": false,
     "tableResultSettingsMap": {},
     "title": ""
    }
   },
   "outputs": [],
   "source": []
  }
 ],
 "metadata": {
  "application/vnd.databricks.v1+notebook": {
   "computePreferences": null,
   "dashboards": [],
   "environmentMetadata": {
    "base_environment": "",
    "environment_version": "2"
   },
   "inputWidgetPreferences": null,
   "language": "python",
   "notebookMetadata": {
    "pythonIndentUnit": 4
   },
   "notebookName": "read-delta-table",
   "widgets": {}
  },
  "language_info": {
   "name": "python"
  }
 },
 "nbformat": 4,
 "nbformat_minor": 0
}