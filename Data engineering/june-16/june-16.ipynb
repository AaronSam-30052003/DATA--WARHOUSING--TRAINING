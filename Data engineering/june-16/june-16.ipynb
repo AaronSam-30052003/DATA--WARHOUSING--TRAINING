{
 "cells": [
  {
   "cell_type": "markdown",
   "metadata": {
    "application/vnd.databricks.v1+cell": {
     "cellMetadata": {},
     "inputWidgets": {},
     "nuid": "abb080c5-69ed-4172-ae8d-0bd2eab245af",
     "showTitle": false,
     "tableResultSettingsMap": {},
     "title": ""
    }
   },
   "source": [
    "**Intialize the SparkSession**"
   ]
  },
  {
   "cell_type": "code",
   "execution_count": 0,
   "metadata": {
    "application/vnd.databricks.v1+cell": {
     "cellMetadata": {
      "byteLimit": 2048000,
      "rowLimit": 10000
     },
     "inputWidgets": {},
     "nuid": "10795b47-2504-40e0-a0fa-7cbb96e6367f",
     "showTitle": false,
     "tableResultSettingsMap": {},
     "title": ""
    }
   },
   "outputs": [
    {
     "output_type": "execute_result",
     "data": {
      "text/html": [
       "\n",
       "            <div>\n",
       "                <p><b>SparkSession - hive</b></p>\n",
       "                \n",
       "        <div>\n",
       "            <p><b>SparkContext</b></p>\n",
       "\n",
       "            <p><a href=\"/?o=3525126442407722#setting/sparkui/0611-043339-3vb7b9iv/driver-2219125173355182190\">Spark UI</a></p>\n",
       "\n",
       "            <dl>\n",
       "              <dt>Version</dt>\n",
       "                <dd><code>v3.5.0</code></dd>\n",
       "              <dt>Master</dt>\n",
       "                <dd><code>local[*, 4]</code></dd>\n",
       "              <dt>AppName</dt>\n",
       "                <dd><code>Databricks Shell</code></dd>\n",
       "            </dl>\n",
       "        </div>\n",
       "        \n",
       "            </div>\n",
       "        "
      ],
      "text/plain": [
       "<pyspark.sql.session.SparkSession at 0x7b8b28f71450>"
      ]
     },
     "execution_count": 1,
     "metadata": {},
     "output_type": "execute_result"
    }
   ],
   "source": [
    "from pyspark.sql import SparkSession\n",
    "spark=SparkSession.builder\\\n",
    "      .appName(\"Course-Enrollement\")\\\n",
    "      .getOrCreate()\n",
    "spark\n",
    "      "
   ]
  },
  {
   "cell_type": "markdown",
   "metadata": {
    "application/vnd.databricks.v1+cell": {
     "cellMetadata": {},
     "inputWidgets": {},
     "nuid": "f12e117b-d2dd-4095-bbab-2479929f9a53",
     "showTitle": false,
     "tableResultSettingsMap": {},
     "title": ""
    }
   },
   "source": [
    "**Data Loading**"
   ]
  },
  {
   "cell_type": "markdown",
   "metadata": {
    "application/vnd.databricks.v1+cell": {
     "cellMetadata": {},
     "inputWidgets": {},
     "nuid": "a7bd7a19-5562-41a1-aa9b-f1f11fd05c2d",
     "showTitle": false,
     "tableResultSettingsMap": {},
     "title": ""
    }
   },
   "source": [
    "**Load the Dataset**"
   ]
  },
  {
   "cell_type": "code",
   "execution_count": 0,
   "metadata": {
    "application/vnd.databricks.v1+cell": {
     "cellMetadata": {
      "byteLimit": 2048000,
      "rowLimit": 10000
     },
     "inputWidgets": {},
     "nuid": "b5f0a8dd-828e-4759-9c4c-ccd889e64349",
     "showTitle": false,
     "tableResultSettingsMap": {},
     "title": ""
    }
   },
   "outputs": [
    {
     "output_type": "stream",
     "name": "stdout",
     "output_type": "stream",
     "text": [
      "root\n |-- EnrollmentID: string (nullable = true)\n |-- StudentName: string (nullable = true)\n |-- CourseName: string (nullable = true)\n |-- Category: string (nullable = true)\n |-- EnrollDate: date (nullable = true)\n |-- ProgressPercent: integer (nullable = true)\n |-- Rating: double (nullable = true)\n |-- Status : string (nullable = true)\n\n+------------+-----------+--------------------+-----------+----------+---------------+------+----------+\n|EnrollmentID|StudentName|          CourseName|   Category|EnrollDate|ProgressPercent|Rating|   Status |\n+------------+-----------+--------------------+-----------+----------+---------------+------+----------+\n|      ENR001|     Aditya|Python for Beginners|Programming|2024-05-10|             80|   4.5|   Active |\n|      ENR002|     Simran|Data Analysis wit...|  Analytics|2024-05-12|            100|   4.7|Completed |\n|      ENR003|     Aakash| Power BI Essentials|  Analytics|2024-05-13|             30|   3.8|   Active |\n|      ENR004|       Neha|         Java Basics|Programming|2024-05-15|              0|  NULL| Inactive |\n|      ENR005|       Zara|Machine Learning 101|         AI|2024-05-17|             60|   4.2|   Active |\n+------------+-----------+--------------------+-----------+----------+---------------+------+----------+\nonly showing top 5 rows\n\n"
     ]
    }
   ],
   "source": [
    "df= spark.read.option(\"header\", True).option(\"inferSchema\", True).csv(\"file:/Workspace/Shared/course_enrollement.csv\")\n",
    "df.printSchema()\n",
    "df.show(5)"
   ]
  },
  {
   "cell_type": "code",
   "execution_count": 0,
   "metadata": {
    "application/vnd.databricks.v1+cell": {
     "cellMetadata": {
      "byteLimit": 2048000,
      "rowLimit": 10000
     },
     "inputWidgets": {},
     "nuid": "a937b741-76d9-445b-9efc-f82e3e1d921a",
     "showTitle": false,
     "tableResultSettingsMap": {},
     "title": ""
    }
   },
   "outputs": [
    {
     "output_type": "stream",
     "name": "stdout",
     "output_type": "stream",
     "text": [
      "root\n |-- EnrollmentID: string (nullable = true)\n |-- StudentName: string (nullable = true)\n |-- CourseName: string (nullable = true)\n |-- Category: string (nullable = true)\n |-- EnrollDate: date (nullable = true)\n |-- ProgressPercent: integer (nullable = true)\n |-- Rating: double (nullable = true)\n |-- Status: string (nullable = true)\n\n6 6\n"
     ]
    }
   ],
   "source": [
    "#manual\n",
    "from pyspark.sql.types import StructType, StructField, ShortType, StringType, DoubleType, IntegerType, DateType\n",
    "schema = StructType([\n",
    "    StructField(\"EnrollmentID\", StringType(), True),\n",
    "    StructField(\"StudentName\", StringType(), True),\n",
    "    StructField(\"CourseName\", StringType(), True),\n",
    "    StructField(\"Category\", StringType(), True),\n",
    "    StructField(\"EnrollDate\", DateType(), True),\n",
    "    StructField(\"ProgressPercent\", IntegerType(), True),\n",
    "    StructField(\"Rating\", DoubleType(), True),\n",
    "    StructField(\"Status\", StringType(), True),\n",
    "])\n",
    "\n",
    "manual = spark.read.option(\"header\", True).schema(schema).csv(\"file:/Workspace/Shared/course_enrollement.csv\")\n",
    "manual.printSchema()\n",
    "#compare\n",
    "print(df.count(),manual.count())"
   ]
  },
  {
   "cell_type": "markdown",
   "metadata": {
    "application/vnd.databricks.v1+cell": {
     "cellMetadata": {},
     "inputWidgets": {},
     "nuid": "325b18f2-54c8-45d1-a85e-bd458ae0790a",
     "showTitle": false,
     "tableResultSettingsMap": {},
     "title": ""
    }
   },
   "source": [
    "**Filtering and Transformation**"
   ]
  },
  {
   "cell_type": "code",
   "execution_count": 0,
   "metadata": {
    "application/vnd.databricks.v1+cell": {
     "cellMetadata": {
      "byteLimit": 2048000,
      "rowLimit": 10000
     },
     "inputWidgets": {},
     "nuid": "44352a46-6068-4cc8-b77b-c71d78e6da09",
     "showTitle": false,
     "tableResultSettingsMap": {},
     "title": ""
    }
   },
   "outputs": [
    {
     "output_type": "stream",
     "name": "stdout",
     "output_type": "stream",
     "text": [
      "records where ProgressPercent < 50\n+------------+-----------+-------------------+-----------+----------+---------------+------+---------+\n|EnrollmentID|StudentName|         CourseName|   Category|EnrollDate|ProgressPercent|Rating|  Status |\n+------------+-----------+-------------------+-----------+----------+---------------+------+---------+\n|      ENR003|     Aakash|Power BI Essentials|  Analytics|2024-05-13|             30|   3.8|  Active |\n|      ENR004|       Neha|        Java Basics|Programming|2024-05-15|              0|  NULL|Inactive |\n+------------+-----------+-------------------+-----------+----------+---------------+------+---------+\n\nReplace null ratings with average rating\n+------------+-----------+--------------------+-----------+----------+---------------+-----------------+----------+--------+\n|EnrollmentID|StudentName|          CourseName|   Category|EnrollDate|ProgressPercent|           Rating|   Status |IsActive|\n+------------+-----------+--------------------+-----------+----------+---------------+-----------------+----------+--------+\n|      ENR001|     Aditya|Python for Beginners|Programming|2024-05-10|             80|              4.5|   Active |       0|\n|      ENR002|     Simran|Data Analysis wit...|  Analytics|2024-05-12|            100|              4.7|Completed |       0|\n|      ENR003|     Aakash| Power BI Essentials|  Analytics|2024-05-13|             30|              3.8|   Active |       0|\n|      ENR004|       Neha|         Java Basics|Programming|2024-05-15|              0|4.359999999999999| Inactive |       0|\n|      ENR005|       Zara|Machine Learning 101|         AI|2024-05-17|             60|              4.2|   Active |       0|\n|      ENR006|    Ibrahim|Python for Beginners|Programming|2024-05-18|             90|              4.6| Completed|       0|\n+------------+-----------+--------------------+-----------+----------+---------------+-----------------+----------+--------+\n\n"
     ]
    }
   ],
   "source": [
    "from pyspark.sql.functions import col, avg, when, isnan, coalesce, year, month, lead, lag,count\n",
    "#3. Filter records where ProgressPercent < 50\n",
    "print(\"records where ProgressPercent < 50\")\n",
    "df.filter(df.ProgressPercent < 50).show()\n",
    "#4.Replace null ratings with average rating\n",
    "print(\"Replace null ratings with average rating\")\n",
    "avg = df.select(avg(\"Rating\")).first()[0]\n",
    "ratings = df.withColumn(\"Rating\", coalesce(col(\"Rating\"), when(col(\"Rating\").isNull(),avg)))\n",
    "#5. Add column IsActive → 1 if Status is Active, else 0\n",
    "status =ratings.withColumn(\"IsActive\", when(col(\"Status \") == \"Active\", 1).otherwise(0))\n",
    "status.show()"
   ]
  },
  {
   "cell_type": "markdown",
   "metadata": {
    "application/vnd.databricks.v1+cell": {
     "cellMetadata": {},
     "inputWidgets": {},
     "nuid": "101e9481-25b1-42f1-aa59-dbba56472f59",
     "showTitle": false,
     "tableResultSettingsMap": {},
     "title": ""
    }
   },
   "source": [
    "**Aggregations & Metrics**"
   ]
  },
  {
   "cell_type": "code",
   "execution_count": 0,
   "metadata": {
    "application/vnd.databricks.v1+cell": {
     "cellMetadata": {
      "byteLimit": 2048000,
      "rowLimit": 10000
     },
     "inputWidgets": {},
     "nuid": "ad0b348e-7589-4bda-96ee-b28f79d4ce9e",
     "showTitle": false,
     "tableResultSettingsMap": {},
     "title": ""
    }
   },
   "outputs": [
    {
     "output_type": "stream",
     "name": "stdout",
     "output_type": "stream",
     "text": [
      "average progress by course\n+--------------------+-----------+\n|          CourseName|AvgProgress|\n+--------------------+-----------+\n|Data Analysis wit...|      100.0|\n|         Java Basics|        0.0|\n|Machine Learning 101|       60.0|\n|Python for Beginners|       85.0|\n| Power BI Essentials|       30.0|\n+--------------------+-----------+\n\ncount of students in each course category\n+-----------+------------+\n|   Category|StudentCount|\n+-----------+------------+\n|Programming|           3|\n|         AI|           1|\n|  Analytics|           2|\n+-----------+------------+\n\nmost enrolled course\n+--------------------+-----+\n|          CourseName|count|\n+--------------------+-----+\n|Python for Beginners|    2|\n+--------------------+-----+\n\n"
     ]
    }
   ],
   "source": [
    "from pyspark.sql.functions import avg as spark_avg, count\n",
    "# 6. Find average progress by course\n",
    "print(\"average progress by course\")\n",
    "avg_progress = status.groupBy(\"CourseName\").agg(spark_avg(\"ProgressPercent\").alias(\"AvgProgress\")).show()\n",
    "# 7. Get count of students in each course category\n",
    "print(\"count of students in each course category\")\n",
    "student_count = status.groupBy(\"Category\").agg(count(\"StudentName\").alias(\"StudentCount\")).show()\n",
    "# 8. Identify the most enrolled course\n",
    "print(\"most enrolled course\")\n",
    "most_enrolled = status.groupBy(\"CourseName\").agg(count(\"StudentName\").alias(\"count\")).orderBy(\"count\", ascending=False).limit(1)\n",
    "most_enrolled.show()"
   ]
  },
  {
   "cell_type": "markdown",
   "metadata": {
    "application/vnd.databricks.v1+cell": {
     "cellMetadata": {},
     "inputWidgets": {},
     "nuid": "a73004c1-880a-4069-a81d-4f83039d6728",
     "showTitle": false,
     "tableResultSettingsMap": {},
     "title": ""
    }
   },
   "source": [
    "**Joins**"
   ]
  },
  {
   "cell_type": "code",
   "execution_count": 0,
   "metadata": {
    "application/vnd.databricks.v1+cell": {
     "cellMetadata": {
      "byteLimit": 2048000,
      "rowLimit": 10000
     },
     "inputWidgets": {},
     "nuid": "a3d2b01e-c4e7-435b-8341-df6d72a20172",
     "showTitle": false,
     "tableResultSettingsMap": {},
     "title": ""
    }
   },
   "outputs": [
    {
     "output_type": "stream",
     "name": "stdout",
     "output_type": "stream",
     "text": [
      "+--------------------+------------+-----------+-----------+----------+---------------+-----------------+----------+--------+-------------+-----------+\n|          CourseName|EnrollmentID|StudentName|   Category|EnrollDate|ProgressPercent|           Rating|   Status |IsActive|DurationWeeks|Instructor |\n+--------------------+------------+-----------+-----------+----------+---------------+-----------------+----------+--------+-------------+-----------+\n|Python for Beginners|      ENR001|     Aditya|Programming|2024-05-10|             80|              4.5|   Active |       0|            4|    Rakesh |\n|Data Analysis wit...|      ENR002|     Simran|  Analytics|2024-05-12|            100|              4.7|Completed |       0|            3|    Anjali |\n| Power BI Essentials|      ENR003|     Aakash|  Analytics|2024-05-13|             30|              3.8|   Active |       0|            5|     Rekha |\n|         Java Basics|      ENR004|       Neha|Programming|2024-05-15|              0|4.359999999999999| Inactive |       0|            6|     Manoj |\n|Machine Learning 101|      ENR005|       Zara|         AI|2024-05-17|             60|              4.2|   Active |       0|            8|      Samir|\n|Python for Beginners|      ENR006|    Ibrahim|Programming|2024-05-18|             90|              4.6| Completed|       0|            4|    Rakesh |\n+--------------------+------------+-----------+-----------+----------+---------------+-----------------+----------+--------+-------------+-----------+\n\n"
     ]
    }
   ],
   "source": [
    "#10.Join course_enrollments with course_details to include duration and intructor\n",
    "course_details = spark.read.option(\"header\", True).option(\"inferSchema\", True).csv(\"file:/Workspace/Shared/course_details.csv\")\n",
    "joined = status.join(course_details, on=\"CourseName\", how=\"left\")\n",
    "joined.show()"
   ]
  },
  {
   "cell_type": "markdown",
   "metadata": {
    "application/vnd.databricks.v1+cell": {
     "cellMetadata": {},
     "inputWidgets": {},
     "nuid": "09d3c124-201c-42a8-92d8-a0089f61ce3f",
     "showTitle": false,
     "tableResultSettingsMap": {},
     "title": ""
    }
   },
   "source": [
    "**Window Functions**"
   ]
  },
  {
   "cell_type": "code",
   "execution_count": 0,
   "metadata": {
    "application/vnd.databricks.v1+cell": {
     "cellMetadata": {
      "byteLimit": 2048000,
      "rowLimit": 10000
     },
     "inputWidgets": {},
     "nuid": "92d7d66a-4604-405b-b3a9-1c2702c1002f",
     "showTitle": false,
     "tableResultSettingsMap": {},
     "title": ""
    }
   },
   "outputs": [
    {
     "output_type": "stream",
     "name": "stdout",
     "output_type": "stream",
     "text": [
      "+------------+--------------------+---------------+------------+------------+\n|EnrollmentID|          CourseName|ProgressPercent|RankInCourse|PrevProgress|\n+------------+--------------------+---------------+------------+------------+\n|      ENR002|Data Analysis wit...|            100|        NULL|        NULL|\n|      ENR004|         Java Basics|              0|        NULL|        NULL|\n|      ENR005|Machine Learning 101|             60|        NULL|        NULL|\n|      ENR003| Power BI Essentials|             30|        NULL|        NULL|\n|      ENR006|Python for Beginners|             90|          80|        NULL|\n|      ENR001|Python for Beginners|             80|        NULL|          90|\n+------------+--------------------+---------------+------------+------------+\n\n"
     ]
    }
   ],
   "source": [
    "#11.Rank students in each course based on ProgressPercent\n",
    "from pyspark.sql.window import Window\n",
    "w = Window.partitionBy(\"CourseName\").orderBy(col(\"ProgressPercent\").desc())\n",
    "#12.Get lead and lag of EnrollDate by Category\n",
    "rank = joined.withColumn(\"RankInCourse\", lead(\"ProgressPercent\").over(w))\n",
    "rank = rank.withColumn(\"PrevProgress\", lag(\"ProgressPercent\", 1).over(w))\n",
    "rank.select(\"EnrollmentID\", \"CourseName\", \"ProgressPercent\", \"RankInCourse\", \"PrevProgress\").show()"
   ]
  },
  {
   "cell_type": "markdown",
   "metadata": {
    "application/vnd.databricks.v1+cell": {
     "cellMetadata": {},
     "inputWidgets": {},
     "nuid": "86cced60-3cc6-48fc-8ac3-4f2f7fdc71f3",
     "showTitle": false,
     "tableResultSettingsMap": {},
     "title": ""
    }
   },
   "source": [
    "**Pivoting & Formatting**"
   ]
  },
  {
   "cell_type": "code",
   "execution_count": 0,
   "metadata": {
    "application/vnd.databricks.v1+cell": {
     "cellMetadata": {
      "byteLimit": 2048000,
      "rowLimit": 10000
     },
     "inputWidgets": {},
     "nuid": "bef043d5-d132-447c-868a-cfbc31812e99",
     "showTitle": false,
     "tableResultSettingsMap": {},
     "title": ""
    }
   },
   "outputs": [
    {
     "output_type": "stream",
     "name": "stdout",
     "output_type": "stream",
     "text": [
      "+-----------+-------+---------+----------+---------+\n|   Category|Active |Completed|Completed |Inactive |\n+-----------+-------+---------+----------+---------+\n|Programming|      1|        1|      NULL|        1|\n|         AI|      1|     NULL|      NULL|     NULL|\n|  Analytics|      1|     NULL|         1|     NULL|\n+-----------+-------+---------+----------+---------+\n\n+------------+----------+----+-----+\n|EnrollmentID|EnrollDate|Year|Month|\n+------------+----------+----+-----+\n|      ENR001|2024-05-10|2024|    5|\n|      ENR002|2024-05-12|2024|    5|\n|      ENR003|2024-05-13|2024|    5|\n|      ENR004|2024-05-15|2024|    5|\n|      ENR005|2024-05-17|2024|    5|\n|      ENR006|2024-05-18|2024|    5|\n+------------+----------+----+-----+\n\n"
     ]
    }
   ],
   "source": [
    "#13.Pivot data to show total enrollments by Category and Status\n",
    "p =joined.groupBy(\"Category\").pivot(\"Status \").count()\n",
    "p.show()\n",
    "#14. Extract year and month from EnrollDate\n",
    "from pyspark.sql.functions import year, month\n",
    "b=joined.withColumn(\"Year\", year(\"EnrollDate\")).withColumn(\"Month\", month(\"EnrollDate\"))\n",
    "b.select(\"EnrollmentID\", \"EnrollDate\", \"Year\", \"Month\").show()"
   ]
  },
  {
   "cell_type": "markdown",
   "metadata": {
    "application/vnd.databricks.v1+cell": {
     "cellMetadata": {},
     "inputWidgets": {},
     "nuid": "f5a9c93b-df09-46aa-acd7-11cc849f81fb",
     "showTitle": false,
     "tableResultSettingsMap": {},
     "title": ""
    }
   },
   "source": [
    "**Cleaning and Deduplication**"
   ]
  },
  {
   "cell_type": "code",
   "execution_count": 0,
   "metadata": {
    "application/vnd.databricks.v1+cell": {
     "cellMetadata": {
      "byteLimit": 2048000,
      "rowLimit": 10000
     },
     "inputWidgets": {},
     "nuid": "167fc92e-d3b4-4368-a38c-bb51a385aea5",
     "showTitle": false,
     "tableResultSettingsMap": {},
     "title": ""
    }
   },
   "outputs": [
    {
     "output_type": "stream",
     "name": "stdout",
     "output_type": "stream",
     "text": [
      "Droped rows with null/empty Status\n+--------------------+------------+-----------+-----------+----------+---------------+-----------------+----------+--------+-------------+-----------+----+-----+\n|          CourseName|EnrollmentID|StudentName|   Category|EnrollDate|ProgressPercent|           Rating|   Status |IsActive|DurationWeeks|Instructor |Year|Month|\n+--------------------+------------+-----------+-----------+----------+---------------+-----------------+----------+--------+-------------+-----------+----+-----+\n|Python for Beginners|      ENR001|     Aditya|Programming|2024-05-10|             80|              4.5|   Active |       0|            4|    Rakesh |2024|    5|\n|Data Analysis wit...|      ENR002|     Simran|  Analytics|2024-05-12|            100|              4.7|Completed |       0|            3|    Anjali |2024|    5|\n| Power BI Essentials|      ENR003|     Aakash|  Analytics|2024-05-13|             30|              3.8|   Active |       0|            5|     Rekha |2024|    5|\n|         Java Basics|      ENR004|       Neha|Programming|2024-05-15|              0|4.359999999999999| Inactive |       0|            6|     Manoj |2024|    5|\n|Machine Learning 101|      ENR005|       Zara|         AI|2024-05-17|             60|              4.2|   Active |       0|            8|      Samir|2024|    5|\n|Python for Beginners|      ENR006|    Ibrahim|Programming|2024-05-18|             90|              4.6| Completed|       0|            4|    Rakesh |2024|    5|\n+--------------------+------------+-----------+-----------+----------+---------------+-----------------+----------+--------+-------------+-----------+----+-----+\n\n+--------------------+------------+-----------+-----------+----------+---------------+-----------------+----------+--------+-------------+-----------+----+-----+\n|          CourseName|EnrollmentID|StudentName|   Category|EnrollDate|ProgressPercent|           Rating|   Status |IsActive|DurationWeeks|Instructor |Year|Month|\n+--------------------+------------+-----------+-----------+----------+---------------+-----------------+----------+--------+-------------+-----------+----+-----+\n|         Java Basics|      ENR004|       Neha|Programming|2024-05-15|              0|4.359999999999999| Inactive |       0|            6|     Manoj |2024|    5|\n|Machine Learning 101|      ENR005|       Zara|         AI|2024-05-17|             60|              4.2|   Active |       0|            8|      Samir|2024|    5|\n|Data Analysis wit...|      ENR002|     Simran|  Analytics|2024-05-12|            100|              4.7|Completed |       0|            3|    Anjali |2024|    5|\n| Power BI Essentials|      ENR003|     Aakash|  Analytics|2024-05-13|             30|              3.8|   Active |       0|            5|     Rekha |2024|    5|\n|Python for Beginners|      ENR006|    Ibrahim|Programming|2024-05-18|             90|              4.6| Completed|       0|            4|    Rakesh |2024|    5|\n|Python for Beginners|      ENR001|     Aditya|Programming|2024-05-10|             80|              4.5|   Active |       0|            4|    Rakesh |2024|    5|\n+--------------------+------------+-----------+-----------+----------+---------------+-----------------+----------+--------+-------------+-----------+----+-----+\n\n"
     ]
    }
   ],
   "source": [
    "#15.Drop rows with null/empty Status\n",
    "print(\"Droped rows with null/empty Status\")\n",
    "c=b.filter(b['Status '].isNotNull())\n",
    "b.show()\n",
    "#16.Remove duplicate enrollments\n",
    "d = c.dropDuplicates([\"EnrollmentID\"])\n",
    "d.show()"
   ]
  },
  {
   "cell_type": "markdown",
   "metadata": {
    "application/vnd.databricks.v1+cell": {
     "cellMetadata": {},
     "inputWidgets": {},
     "nuid": "3d5d0490-d03d-409d-9ec3-cafc36fb0b21",
     "showTitle": false,
     "tableResultSettingsMap": {},
     "title": ""
    }
   },
   "source": [
    "**Export**"
   ]
  },
  {
   "cell_type": "code",
   "execution_count": 0,
   "metadata": {
    "application/vnd.databricks.v1+cell": {
     "cellMetadata": {
      "byteLimit": 2048000,
      "rowLimit": 10000
     },
     "inputWidgets": {},
     "nuid": "7bc9ce3c-704a-423e-895a-c56dbcbc1046",
     "showTitle": false,
     "tableResultSettingsMap": {},
     "title": ""
    }
   },
   "outputs": [],
   "source": [
    "# CSV\n",
    "c.write.mode(\"overwrite\").option(\"header\", True).csv(\"file:/Workspace/Shared/course_cleaned_csv\")\n",
    "# JSON\n",
    "c.write.mode(\"overwrite\").json(\"file:/Workspace/Shared/course_cleaned_json\")\n",
    "# Parquet/snappy\n",
    "c.write.mode(\"overwrite\").option(\"compression\", \"snappy\").parquet(\"file:/Workspace/Shared/course_cleaned_parquet\")"
   ]
  },
  {
   "cell_type": "code",
   "execution_count": 0,
   "metadata": {
    "application/vnd.databricks.v1+cell": {
     "cellMetadata": {},
     "inputWidgets": {},
     "nuid": "1fe2a4e9-18b7-4a75-8149-3436e544aede",
     "showTitle": false,
     "tableResultSettingsMap": {},
     "title": ""
    }
   },
   "outputs": [],
   "source": []
  }
 ],
 "metadata": {
  "application/vnd.databricks.v1+notebook": {
   "computePreferences": null,
   "dashboards": [],
   "environmentMetadata": {
    "base_environment": "",
    "environment_version": "2"
   },
   "inputWidgetPreferences": null,
   "language": "python",
   "notebookMetadata": {
    "pythonIndentUnit": 4
   },
   "notebookName": "june-16",
   "widgets": {}
  },
  "language_info": {
   "name": "python"
  }
 },
 "nbformat": 4,
 "nbformat_minor": 0
}