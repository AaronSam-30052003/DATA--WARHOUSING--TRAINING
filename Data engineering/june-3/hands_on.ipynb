{
  "nbformat": 4,
  "nbformat_minor": 0,
  "metadata": {
    "colab": {
      "provenance": [],
      "gpuType": "T4"
    },
    "kernelspec": {
      "name": "python3",
      "display_name": "Python 3"
    },
    "language_info": {
      "name": "python"
    },
    "accelerator": "GPU"
  },
  "cells": [
    {
      "cell_type": "code",
      "execution_count": null,
      "metadata": {
        "id": "7AUhMnyeTlDZ"
      },
      "outputs": [],
      "source": [
        "from pyspark.sql import SparkSession\n",
        "\n",
        "spark = (\n",
        "    SparkSession.builder\\\n",
        "    .appName(\"colab pyspark setup\")\\\n",
        "    .getOrCreate()\n",
        ")\n"
      ]
    },
    {
      "cell_type": "code",
      "source": [
        "data=[(\"Aaron\",21,600000),(\"Sobana\",20,700000),(\"Mickey\",19,500000),(\"Choki\",18,604999)]\n",
        "columns=[\"Name\",\"Age\",\"Salary\"]\n",
        "df=spark.createDataFrame(data,columns)\n",
        "df.show()"
      ],
      "metadata": {
        "colab": {
          "base_uri": "https://localhost:8080/"
        },
        "id": "1yWYTT45VwyF",
        "outputId": "c2a366c7-1d4f-45d5-8ae0-e58987caf7d1"
      },
      "execution_count": null,
      "outputs": [
        {
          "output_type": "stream",
          "name": "stdout",
          "text": [
            "+------+---+------+\n",
            "|  Name|Age|Salary|\n",
            "+------+---+------+\n",
            "| Aaron| 21|600000|\n",
            "|Sobana| 20|700000|\n",
            "|Mickey| 19|500000|\n",
            "| Choki| 18|604999|\n",
            "+------+---+------+\n",
            "\n"
          ]
        }
      ]
    },
    {
      "cell_type": "code",
      "source": [
        "df.filter(df[\"Salary\"]>600000).show()"
      ],
      "metadata": {
        "colab": {
          "base_uri": "https://localhost:8080/"
        },
        "id": "xvPZlr-uWZMj",
        "outputId": "87d45569-767d-4bc0-ef0e-697518abdfca"
      },
      "execution_count": null,
      "outputs": [
        {
          "output_type": "stream",
          "name": "stdout",
          "text": [
            "+------+---+------+\n",
            "|  Name|Age|Salary|\n",
            "+------+---+------+\n",
            "|Sobana| 20|700000|\n",
            "| Choki| 18|604999|\n",
            "+------+---+------+\n",
            "\n"
          ]
        }
      ]
    },
    {
      "cell_type": "code",
      "source": [
        "df.select(\"Name\",\"Salary\").show()"
      ],
      "metadata": {
        "colab": {
          "base_uri": "https://localhost:8080/"
        },
        "id": "pTBDNo_TZ_jr",
        "outputId": "d7d8d7dc-d5d2-40b5-b800-da0e4015b922"
      },
      "execution_count": null,
      "outputs": [
        {
          "output_type": "stream",
          "name": "stdout",
          "text": [
            "+------+------+\n",
            "|  Name|Salary|\n",
            "+------+------+\n",
            "| Aaron|600000|\n",
            "|Sobana|700000|\n",
            "|Mickey|500000|\n",
            "| Choki|604999|\n",
            "+------+------+\n",
            "\n"
          ]
        }
      ]
    },
    {
      "cell_type": "code",
      "source": [
        "df.withColumn(\"Bonus\",df[\"Salary\"]*0.1).show()"
      ],
      "metadata": {
        "colab": {
          "base_uri": "https://localhost:8080/"
        },
        "id": "P5v65zbLaGRQ",
        "outputId": "82ac221c-f9ba-4995-ae41-833518f305db"
      },
      "execution_count": null,
      "outputs": [
        {
          "output_type": "stream",
          "name": "stdout",
          "text": [
            "+------+---+------+-------+\n",
            "|  Name|Age|Salary|  Bonus|\n",
            "+------+---+------+-------+\n",
            "| Aaron| 21|600000|60000.0|\n",
            "|Sobana| 20|700000|70000.0|\n",
            "|Mickey| 19|500000|50000.0|\n",
            "| Choki| 18|604999|60499.9|\n",
            "+------+---+------+-------+\n",
            "\n"
          ]
        }
      ]
    },
    {
      "cell_type": "code",
      "source": [
        "from google.colab import drive\n",
        "drive.mount('/content/drive')"
      ],
      "metadata": {
        "id": "7ueju83xaOmd",
        "colab": {
          "base_uri": "https://localhost:8080/"
        },
        "outputId": "6c21cdae-796d-4d21-dadb-cac462af9efd"
      },
      "execution_count": null,
      "outputs": [
        {
          "output_type": "stream",
          "name": "stdout",
          "text": [
            "Mounted at /content/drive\n"
          ]
        }
      ]
    },
    {
      "cell_type": "code",
      "source": [
        "s=spark.read.csv('/content/drive/MyDrive/sales.csv',header=\"True\",inferSchema=\"True\")\n",
        "s.show()"
      ],
      "metadata": {
        "colab": {
          "base_uri": "https://localhost:8080/"
        },
        "id": "XeFRaaWD8QJE",
        "outputId": "46936cc5-3a07-4259-8dfc-6427db28ccbd"
      },
      "execution_count": null,
      "outputs": [
        {
          "output_type": "stream",
          "name": "stdout",
          "text": [
            "+-------+--------+------+---------+----------+\n",
            "|OrderID|Customer|Amount|   Status| OrderDate|\n",
            "+-------+--------+------+---------+----------+\n",
            "|    101|    Amit|   200|Delivered|2023-01-15|\n",
            "|    102|    Neha|   450|  Pending|2023-01-20|\n",
            "|    103|    Ravi|   300|Delivered|2023-01-25|\n",
            "|    104|     Ali|   700|Cancelled|2023-01-30|\n",
            "|    105|    Sara|   250|Delivered|2023-02-10|\n",
            "+-------+--------+------+---------+----------+\n",
            "\n"
          ]
        }
      ]
    },
    {
      "cell_type": "code",
      "source": [
        "s.filter(s[\"Status\"]==\"Delivered\").show()"
      ],
      "metadata": {
        "colab": {
          "base_uri": "https://localhost:8080/"
        },
        "id": "uko47OpN9BfZ",
        "outputId": "f15a1720-9e1c-4841-8a35-b9d54818e476"
      },
      "execution_count": null,
      "outputs": [
        {
          "output_type": "stream",
          "name": "stdout",
          "text": [
            "+-------+--------+------+---------+----------+\n",
            "|OrderID|Customer|Amount|   Status| OrderDate|\n",
            "+-------+--------+------+---------+----------+\n",
            "|    101|    Amit|   200|Delivered|2023-01-15|\n",
            "|    103|    Ravi|   300|Delivered|2023-01-25|\n",
            "|    105|    Sara|   250|Delivered|2023-02-10|\n",
            "+-------+--------+------+---------+----------+\n",
            "\n"
          ]
        }
      ]
    },
    {
      "cell_type": "code",
      "source": [
        "s.groupBy(\"Customer\").sum(\"Amount\").show()"
      ],
      "metadata": {
        "colab": {
          "base_uri": "https://localhost:8080/"
        },
        "id": "rm85TVZp9QbD",
        "outputId": "0a17e06d-0641-4f1a-d344-119fff4fbdf0"
      },
      "execution_count": null,
      "outputs": [
        {
          "output_type": "stream",
          "name": "stdout",
          "text": [
            "+--------+-----------+\n",
            "|Customer|sum(Amount)|\n",
            "+--------+-----------+\n",
            "|    Ravi|        300|\n",
            "|    Amit|        200|\n",
            "|    Neha|        450|\n",
            "|    Sara|        250|\n",
            "|     Ali|        700|\n",
            "+--------+-----------+\n",
            "\n"
          ]
        }
      ]
    },
    {
      "cell_type": "code",
      "source": [
        "s.groupBy(\"Status\").count().show()"
      ],
      "metadata": {
        "colab": {
          "base_uri": "https://localhost:8080/"
        },
        "id": "Sf4Bz-0k9uEa",
        "outputId": "485ce18d-835c-477c-9164-a1cae8b52785"
      },
      "execution_count": null,
      "outputs": [
        {
          "output_type": "stream",
          "name": "stdout",
          "text": [
            "+---------+-----+\n",
            "|   Status|count|\n",
            "+---------+-----+\n",
            "|Cancelled|    1|\n",
            "|Delivered|    3|\n",
            "|  Pending|    1|\n",
            "+---------+-----+\n",
            "\n"
          ]
        }
      ]
    },
    {
      "cell_type": "code",
      "source": [],
      "metadata": {
        "id": "hMlnnUDx91U4"
      },
      "execution_count": null,
      "outputs": []
    }
  ]
}