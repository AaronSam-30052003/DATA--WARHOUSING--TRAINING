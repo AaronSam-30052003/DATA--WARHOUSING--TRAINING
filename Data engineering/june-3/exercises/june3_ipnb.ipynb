{
  "nbformat": 4,
  "nbformat_minor": 0,
  "metadata": {
    "colab": {
      "provenance": [],
      "gpuType": "T4"
    },
    "kernelspec": {
      "name": "python3",
      "display_name": "Python 3"
    },
    "language_info": {
      "name": "python"
    },
    "accelerator": "GPU"
  },
  "cells": [
    {
      "cell_type": "markdown",
      "source": [
        "**intialize the Spark Session**"
      ],
      "metadata": {
        "id": "dw5pwiEwHkAx"
      }
    },
    {
      "cell_type": "code",
      "source": [
        "from pyspark.sql import SparkSession\n",
        "spark = (\n",
        "    SparkSession.builder\\\n",
        "    .appName(\"Employee\")\\\n",
        "    .getOrCreate()\n",
        ")"
      ],
      "metadata": {
        "id": "1fsxY8RcHqcM"
      },
      "execution_count": null,
      "outputs": []
    },
    {
      "cell_type": "markdown",
      "source": [
        "**Load the Dataset**"
      ],
      "metadata": {
        "id": "sFiZWurCIVEx"
      }
    },
    {
      "cell_type": "code",
      "source": [
        "from google.colab import drive\n",
        "drive.mount('/content/drive')\n"
      ],
      "metadata": {
        "id": "4FWMYIW3IJB8",
        "colab": {
          "base_uri": "https://localhost:8080/"
        },
        "outputId": "336e8851-e18e-4d3a-9078-8d58f1e4fa7a"
      },
      "execution_count": 2,
      "outputs": [
        {
          "output_type": "stream",
          "name": "stdout",
          "text": [
            "Mounted at /content/drive\n"
          ]
        }
      ]
    },
    {
      "cell_type": "code",
      "source": [
        "a= spark.read.csv(\"/content/drive/MyDrive/large_employee_dataset.csv\", header=True, inferSchema=True)\n",
        "a.show()"
      ],
      "metadata": {
        "colab": {
          "base_uri": "https://localhost:8080/"
        },
        "id": "y0cZFabDIz0p",
        "outputId": "750cd231-223a-4af3-ac38-c7cb887937ff"
      },
      "execution_count": 4,
      "outputs": [
        {
          "output_type": "stream",
          "name": "stdout",
          "text": [
            "+----------+--------------------+---+----------+------+-----------+--------+-------------------+\n",
            "|EmployeeID|                Name|Age|Department|Salary|JoiningDate|  Status|               City|\n",
            "+----------+--------------------+---+----------+------+-----------+--------+-------------------+\n",
            "|      4128|     Charles Johnson| 52|        HR| 64039| 2018-07-07|Resigned|          Allentown|\n",
            "|      6094|       Dylan Camacho| 57| Marketing| 34686| 2015-08-25|  Active|        Anthonyfort|\n",
            "|      5883| Mr. Ryan Bowman Jr.| 29|   Finance| 64541| 2025-03-11|On Leave|          Gilesstad|\n",
            "|      9146|          Brian Ball| 24|     Sales| 87831| 2015-10-01|Resigned|       Jenniferfurt|\n",
            "|      1918|       Angela Hooper| 26|   Finance|108773| 2019-08-14|On Leave|       Lake Amystad|\n",
            "|      4600|Alexander Johnson...| 45|     Sales| 75671| 2016-04-21|On Leave|         Russohaven|\n",
            "|      6253|         Steven Lane| 47|   Finance| 64982| 2021-07-25|  Active|        East Robert|\n",
            "|      8278|       Riley Johnson| 49|        HR| 43449| 2015-08-03|Resigned|         New Thomas|\n",
            "|      8520|    Emily Washington| 43|   Finance| 33851| 2021-11-30|Resigned|        West Ashley|\n",
            "|      1298|     Valerie Fleming| 42| Marketing| 70137| 2019-12-08|Resigned|        Caseborough|\n",
            "|      5157|     Tracy Hughes MD| 28|   Finance| 34381| 2020-06-01|  Active|       West Phillip|\n",
            "|      7403|    Johnathan Harmon| 50|        HR| 97666| 2021-03-09|On Leave|           Jillport|\n",
            "|      3326|       Michael Brown| 28|        HR| 85122| 2023-10-21|Resigned|          Port Mark|\n",
            "|      8989|       Scott Burnett| 48|     Sales| 93690| 2016-04-25|Resigned|     North Brittany|\n",
            "|      4676|  Christopher Fuller| 30|        HR| 63042| 2021-04-30|Resigned|   South Donnaville|\n",
            "|      6598|         Mary Henson| 58|        IT| 63951| 2021-08-25|  Active|        Port Tricia|\n",
            "|      4136|       Jerome Torres| 30|   Finance| 68213| 2024-11-30|  Active|North Justinborough|\n",
            "|      6640|     Isaiah Martinez| 51| Marketing| 72596| 2021-07-26|On Leave|       Mcgeechester|\n",
            "|      6406|       Patrick Chung| 27|        HR|116423| 2024-07-05|  Active|         Tonyamouth|\n",
            "|      1515|        Micheal Wade| 26|        HR| 41771| 2024-03-29|  Active|     Jimenezborough|\n",
            "+----------+--------------------+---+----------+------+-----------+--------+-------------------+\n",
            "only showing top 20 rows\n",
            "\n"
          ]
        }
      ]
    },
    {
      "cell_type": "markdown",
      "source": [
        "**Basic Exploration**"
      ],
      "metadata": {
        "id": "6mU5RPvoJR1R"
      }
    },
    {
      "cell_type": "code",
      "source": [
        "#1.Show the top 10 rows\n",
        "a.show(10)\n",
        "#2.Count the total number of employees\n",
        "a.count()\n",
        "#3.Display unique departments\n",
        "a.select(\"Department\").distinct().show()"
      ],
      "metadata": {
        "colab": {
          "base_uri": "https://localhost:8080/"
        },
        "id": "WiKO8Z0HJYiT",
        "outputId": "b90b9fe2-d611-4e1d-ec9d-3d102aff62d6"
      },
      "execution_count": 9,
      "outputs": [
        {
          "output_type": "stream",
          "name": "stdout",
          "text": [
            "+----------+--------------------+---+----------+------+-----------+--------+------------+\n",
            "|EmployeeID|                Name|Age|Department|Salary|JoiningDate|  Status|        City|\n",
            "+----------+--------------------+---+----------+------+-----------+--------+------------+\n",
            "|      4128|     Charles Johnson| 52|        HR| 64039| 2018-07-07|Resigned|   Allentown|\n",
            "|      6094|       Dylan Camacho| 57| Marketing| 34686| 2015-08-25|  Active| Anthonyfort|\n",
            "|      5883| Mr. Ryan Bowman Jr.| 29|   Finance| 64541| 2025-03-11|On Leave|   Gilesstad|\n",
            "|      9146|          Brian Ball| 24|     Sales| 87831| 2015-10-01|Resigned|Jenniferfurt|\n",
            "|      1918|       Angela Hooper| 26|   Finance|108773| 2019-08-14|On Leave|Lake Amystad|\n",
            "|      4600|Alexander Johnson...| 45|     Sales| 75671| 2016-04-21|On Leave|  Russohaven|\n",
            "|      6253|         Steven Lane| 47|   Finance| 64982| 2021-07-25|  Active| East Robert|\n",
            "|      8278|       Riley Johnson| 49|        HR| 43449| 2015-08-03|Resigned|  New Thomas|\n",
            "|      8520|    Emily Washington| 43|   Finance| 33851| 2021-11-30|Resigned| West Ashley|\n",
            "|      1298|     Valerie Fleming| 42| Marketing| 70137| 2019-12-08|Resigned| Caseborough|\n",
            "+----------+--------------------+---+----------+------+-----------+--------+------------+\n",
            "only showing top 10 rows\n",
            "\n",
            "+----------+\n",
            "|Department|\n",
            "+----------+\n",
            "|     Sales|\n",
            "|        HR|\n",
            "|   Finance|\n",
            "| Marketing|\n",
            "|        IT|\n",
            "+----------+\n",
            "\n"
          ]
        }
      ]
    },
    {
      "cell_type": "markdown",
      "source": [
        "**Filtering & Sorting**"
      ],
      "metadata": {
        "id": "VhoZ23wcJ4Hy"
      }
    },
    {
      "cell_type": "code",
      "source": [
        "#4.Filter all employees in the \"IT\" department\n",
        "a.filter(a.Department == \"IT\").show()\n",
        "#5.Show employees aged between 30 and 40\n",
        "a.filter((a.Age >= 30) & (a.Age <= 40)).show()\n",
        "#6.Sort employees by salary in descending order\n",
        "a.orderBy(a.Salary.desc()).show()"
      ],
      "metadata": {
        "colab": {
          "base_uri": "https://localhost:8080/"
        },
        "id": "stXfO9OeJ9KT",
        "outputId": "0468cfdf-711f-4e47-8401-97223526e954"
      },
      "execution_count": 10,
      "outputs": [
        {
          "output_type": "stream",
          "name": "stdout",
          "text": [
            "+----------+-------------------+---+----------+------+-----------+--------+------------------+\n",
            "|EmployeeID|               Name|Age|Department|Salary|JoiningDate|  Status|              City|\n",
            "+----------+-------------------+---+----------+------+-----------+--------+------------------+\n",
            "|      6598|        Mary Henson| 58|        IT| 63951| 2021-08-25|  Active|       Port Tricia|\n",
            "|      8518|   Elizabeth Abbott| 22|        IT| 91732| 2022-11-05|  Active|       Douglasside|\n",
            "|      9506|        Thomas Dunn| 45|        IT| 90340| 2020-07-12|On Leave|    Lindseychester|\n",
            "|      9663|        Glenn Mason| 43|        IT|109189| 2020-03-27|On Leave|      Katelynburgh|\n",
            "|      2106|     Richard Bailey| 45|        IT| 30950| 2021-06-29|Resigned|        North John|\n",
            "|      8212|      Jacob Jackson| 35|        IT| 54812| 2020-09-18|On Leave|South Veronicastad|\n",
            "|      6354|     Nicole Gilmore| 35|        IT|104202| 2018-05-04|  Active|       East Joseph|\n",
            "|      5716|         David Wang| 49|        IT| 94317| 2016-03-12|Resigned|          Linmouth|\n",
            "|      1181|       Joseph Clark| 33|        IT|117142| 2016-05-31|On Leave|        Carlosfurt|\n",
            "|      8302|      Debra Swanson| 47|        IT| 35236| 2023-10-25|Resigned|     Maciasborough|\n",
            "|      9542|      Jeffrey Frank| 34|        IT| 57182| 2024-01-28|On Leave|          Paulside|\n",
            "|      4100|Christopher Jimenez| 25|        IT| 65524| 2017-03-13|  Active|      North Tamara|\n",
            "|      5780|     Kevin Harrison| 26|        IT| 77259| 2024-03-28|  Active|    New Laurietown|\n",
            "|      5572|    Andrew Harrison| 42|        IT|118992| 2021-12-08|  Active|      West Matthew|\n",
            "|      6388|        Melissa Lee| 49|        IT| 74933| 2016-05-10|  Active|       Barbermouth|\n",
            "|      7984|         Paige Hall| 28|        IT| 67290| 2017-01-29|On Leave|         Jamesfort|\n",
            "|      6043|        Casey Olson| 37|        IT| 80199| 2022-01-27|  Active|         Brianland|\n",
            "|      2817|      Tony Mcdonald| 28|        IT| 92665| 2018-06-21|On Leave|       East Ashley|\n",
            "|      1982|     Jackie Herring| 37|        IT| 65014| 2023-11-13|On Leave|       Michaeltown|\n",
            "|      9259|       Shelly James| 35|        IT|106417| 2018-04-13|On Leave|  Port Laurieburgh|\n",
            "+----------+-------------------+---+----------+------+-----------+--------+------------------+\n",
            "only showing top 20 rows\n",
            "\n",
            "+----------+------------------+---+----------+------+-----------+--------+-------------------+\n",
            "|EmployeeID|              Name|Age|Department|Salary|JoiningDate|  Status|               City|\n",
            "+----------+------------------+---+----------+------+-----------+--------+-------------------+\n",
            "|      4676|Christopher Fuller| 30|        HR| 63042| 2021-04-30|Resigned|   South Donnaville|\n",
            "|      4136|     Jerome Torres| 30|   Finance| 68213| 2024-11-30|  Active|North Justinborough|\n",
            "|      1588|       Edwin Burns| 34|     Sales|108208| 2015-09-14|Resigned|        South David|\n",
            "|      8074|       Fred Brewer| 30|        HR|100736| 2021-06-06|On Leave|    Port Wendyville|\n",
            "|      3841|       April Allen| 36|        HR| 98845| 2020-05-20|  Active|      Rachelchester|\n",
            "|      8212|     Jacob Jackson| 35|        IT| 54812| 2020-09-18|On Leave| South Veronicastad|\n",
            "|      3325|       Brian Huynh| 40|   Finance| 59924| 2017-01-02|On Leave|           Johnside|\n",
            "|      6180|     Robert Cortez| 35| Marketing| 76109| 2023-12-31|Resigned|    Port Katiemouth|\n",
            "|      6354|    Nicole Gilmore| 35|        IT|104202| 2018-05-04|  Active|        East Joseph|\n",
            "|      6364|       James Hogan| 33|        HR| 79932| 2023-12-05|  Active|     Rodriguezshire|\n",
            "|      6913|   Dustin Williams| 34|   Finance| 91947| 2023-10-16|On Leave|      North Stephen|\n",
            "|      3115|   Benjamin Turner| 38|        HR| 99949| 2018-03-20|Resigned|     West Hollybury|\n",
            "|      7527|      Bobby Henson| 34|   Finance| 47038| 2022-11-24|On Leave|           Dianaton|\n",
            "|      5620|  Christina Reeves| 34|   Finance| 37858| 2024-01-16|On Leave|        Hannahhaven|\n",
            "|      9939|      Karen Hansen| 37|        HR|112082| 2021-07-30|Resigned|           New Tara|\n",
            "|      6509|     Joann Frazier| 38|   Finance| 87736| 2024-01-11|Resigned|  South Sabrinaview|\n",
            "|      6340|     Kenneth Smith| 38|     Sales|115731| 2018-12-29|Resigned|        Lake Sheila|\n",
            "|      1181|      Joseph Clark| 33|        IT|117142| 2016-05-31|On Leave|         Carlosfurt|\n",
            "|      7098|     Hayley Reeves| 38|        HR|115326| 2022-03-26|  Active|          Whiteview|\n",
            "|      9542|     Jeffrey Frank| 34|        IT| 57182| 2024-01-28|On Leave|           Paulside|\n",
            "+----------+------------------+---+----------+------+-----------+--------+-------------------+\n",
            "only showing top 20 rows\n",
            "\n",
            "+----------+--------------------+---+----------+------+-----------+--------+-------------------+\n",
            "|EmployeeID|                Name|Age|Department|Salary|JoiningDate|  Status|               City|\n",
            "+----------+--------------------+---+----------+------+-----------+--------+-------------------+\n",
            "|      8860|       Cody Williams| 30|        IT|119978| 2019-03-16|Resigned|         Susanville|\n",
            "|      4585|      Sandra Webster| 30|        HR|119940| 2022-10-21|On Leave|       Thompsonport|\n",
            "|      4667|         Ronald Hunt| 58|     Sales|119677| 2019-08-29|Resigned|    Griffithchester|\n",
            "|      1602|    Deborah Williams| 25|        HR|119397| 2023-09-26|On Leave|    Port Terrimouth|\n",
            "|      3374|        Amanda Green| 41|        HR|119316| 2021-04-08|Resigned|    West Shelleyton|\n",
            "|      6329|       Heidi Shaffer| 36|        HR|119165| 2020-01-14|Resigned|          New Alexa|\n",
            "|      2428|        Mary Stevens| 55|     Sales|119137| 2022-03-06|On Leave|         Travisport|\n",
            "|      1545|Brittany Christensen| 57|   Finance|119038| 2020-10-25|Resigned|        Matthewside|\n",
            "|      2581|    Alexandria Jones| 34|        IT|119009| 2017-01-22|On Leave|           Toniside|\n",
            "|      5572|     Andrew Harrison| 42|        IT|118992| 2021-12-08|  Active|       West Matthew|\n",
            "|      7459|    Abigail Robinson| 23|     Sales|118959| 2021-09-23|  Active|        Leslieville|\n",
            "|      7431|    Richard Mccarthy| 41|        IT|118682| 2025-02-12|On Leave|          Welchview|\n",
            "|      5998|       Bruce Serrano| 36|        HR|118641| 2019-02-02|  Active|    South Elizabeth|\n",
            "|      9714|          Kevin Reid| 37| Marketing|118584| 2015-10-03|  Active|     New Howardfort|\n",
            "|      1143|     Stacey Schwartz| 55|   Finance|118504| 2022-01-24|  Active|Lake Michaelchester|\n",
            "|      3580|         Jamie Baker| 34| Marketing|118225| 2017-07-20|  Active|        Michaelstad|\n",
            "|      9485|        Dennis Rivas| 43| Marketing|118187| 2019-05-26|On Leave|         South Mark|\n",
            "|      1943|          Roy Willis| 41|        HR|118172| 2016-03-05|  Active|     East Daisystad|\n",
            "|      5755|        Erika Ortega| 42|        IT|117517| 2023-04-16|On Leave|          Kellyfort|\n",
            "|      7350|         Jenna Patel| 50| Marketing|117237| 2016-04-11|On Leave|         Port Brian|\n",
            "+----------+--------------------+---+----------+------+-----------+--------+-------------------+\n",
            "only showing top 20 rows\n",
            "\n"
          ]
        }
      ]
    },
    {
      "cell_type": "markdown",
      "source": [
        "**Aggregation Tasks**"
      ],
      "metadata": {
        "id": "hoFUrU0xKeg-"
      }
    },
    {
      "cell_type": "code",
      "source": [
        "#7Get the average salary by department\n",
        "from pyspark.sql.functions import avg\n",
        "a.groupBy(\"Department\").agg(avg(\"Salary\").alias(\"Average_Salary\")).show()\n",
        "#8.Count of employees by Status\n",
        "a.groupBy(\"Status\").count().show()\n",
        "#9.Highest salary in each city\n",
        "from pyspark.sql.functions import max\n",
        "a.groupBy(\"City\").agg(max(\"Salary\").alias(\"Highest_Salary\")).show()"
      ],
      "metadata": {
        "colab": {
          "base_uri": "https://localhost:8080/"
        },
        "id": "l3UpgXnmKVpC",
        "outputId": "d2e2a2f9-837d-4ae3-cbfa-8a40f0572cd2"
      },
      "execution_count": 11,
      "outputs": [
        {
          "output_type": "stream",
          "name": "stdout",
          "text": [
            "+----------+-----------------+\n",
            "|Department|   Average_Salary|\n",
            "+----------+-----------------+\n",
            "|     Sales|77488.54545454546|\n",
            "|        HR|76091.27450980392|\n",
            "|   Finance|72834.75630252101|\n",
            "| Marketing| 71958.1888888889|\n",
            "|        IT|73116.25555555556|\n",
            "+----------+-----------------+\n",
            "\n",
            "+--------+-----+\n",
            "|  Status|count|\n",
            "+--------+-----+\n",
            "|Resigned|  159|\n",
            "|  Active|  172|\n",
            "|On Leave|  169|\n",
            "+--------+-----+\n",
            "\n",
            "+----------------+--------------+\n",
            "|            City|Highest_Salary|\n",
            "+----------------+--------------+\n",
            "|   Wilsonchester|         67025|\n",
            "|     Bradshawton|        111116|\n",
            "|       Steventon|         32009|\n",
            "|     Lake Alyssa|         84903|\n",
            "|      North Lisa|         57898|\n",
            "|    North Marvin|         66252|\n",
            "|     Jenniferton|         39907|\n",
            "|     Buckleyview|         50109|\n",
            "|     Burtonville|         98492|\n",
            "|    Johnsonmouth|         48799|\n",
            "|    South Joseph|         52456|\n",
            "|  Lindseychester|         90340|\n",
            "|   North Stephen|         91947|\n",
            "|Port Nicoleshire|         57537|\n",
            "|    Jerrychester|         53374|\n",
            "|  North Jennifer|         82486|\n",
            "|      Laurenstad|         44608|\n",
            "|West Brendanbury|         90698|\n",
            "|       Juliaberg|         50170|\n",
            "|       New James|         54378|\n",
            "+----------------+--------------+\n",
            "only showing top 20 rows\n",
            "\n"
          ]
        }
      ]
    },
    {
      "cell_type": "markdown",
      "source": [
        "**GroupBy and Analysis**"
      ],
      "metadata": {
        "id": "C_XcnQ3XLBbZ"
      }
    },
    {
      "cell_type": "code",
      "source": [
        "#10.Total number of employees who joined each year\n",
        "from pyspark.sql.functions import year\n",
        "a.withColumn(\"JoinYear\", year(\"JoiningDate\"))\\\n",
        "  .groupBy(\"JoinYear\")\\\n",
        "  .count()\\\n",
        "  .show()\n",
        "#11.Department-wise count of employees who are currently \"Active\"\n",
        "a.filter(a.Status == \"Active\")\\\n",
        "  .groupBy(\"Department\")\\\n",
        "  .count()\\\n",
        "  .show()\n",
        "#12.Average age of employees per department\n",
        "a.groupBy(\"Department\")\\\n",
        "  .agg(avg(\"Age\").alias(\"Average_Age\"))\\\n",
        "  .show()\n"
      ],
      "metadata": {
        "colab": {
          "base_uri": "https://localhost:8080/"
        },
        "id": "zchCJE2OK-wU",
        "outputId": "8be71b91-4f10-43e1-a480-d59010db9e41"
      },
      "execution_count": 15,
      "outputs": [
        {
          "output_type": "stream",
          "name": "stdout",
          "text": [
            "+--------+-----+\n",
            "|JoinYear|count|\n",
            "+--------+-----+\n",
            "|    2025|   27|\n",
            "|    2018|   52|\n",
            "|    2015|   37|\n",
            "|    2023|   47|\n",
            "|    2022|   49|\n",
            "|    2019|   52|\n",
            "|    2020|   56|\n",
            "|    2016|   49|\n",
            "|    2024|   38|\n",
            "|    2017|   44|\n",
            "|    2021|   49|\n",
            "+--------+-----+\n",
            "\n",
            "+----------+-----+\n",
            "|Department|count|\n",
            "+----------+-----+\n",
            "|     Sales|   32|\n",
            "|        HR|   37|\n",
            "|   Finance|   45|\n",
            "| Marketing|   32|\n",
            "|        IT|   26|\n",
            "+----------+-----+\n",
            "\n",
            "+----------+------------------+\n",
            "|Department|       Average_Age|\n",
            "+----------+------------------+\n",
            "|     Sales|40.535353535353536|\n",
            "|        HR| 41.46078431372549|\n",
            "|   Finance| 39.21008403361345|\n",
            "| Marketing| 41.82222222222222|\n",
            "|        IT| 38.68888888888889|\n",
            "+----------+------------------+\n",
            "\n"
          ]
        }
      ]
    },
    {
      "cell_type": "markdown",
      "source": [
        "**Joining**"
      ],
      "metadata": {
        "id": "qszTUg4hLpv_"
      }
    },
    {
      "cell_type": "code",
      "source": [
        "#13.Create another dataset with City and Region, and join it\n",
        "# Sample city-region mapping\n",
        "from pyspark.sql import Row\n",
        "region_data = [\n",
        "    Row(City=\"New York\", Region=\"East\"),\n",
        "    Row(City=\"San Francisco\", Region=\"West\"),\n",
        "    Row(City=\"Chicago\", Region=\"Midwest\"),\n",
        "    Row(City=\"Los Angeles\", Region=\"West\"),\n",
        "    Row(City=\"Houston\", Region=\"South\"),\n",
        "    Row(City=\"Miami\", Region=\"South\"),\n",
        "    Row(City=\"Seattle\", Region=\"West\"),\n",
        "    Row(City=\"Boston\", Region=\"East\"),\n",
        "    Row(City=\"Dallas\", Region=\"South\"),\n",
        "    Row(City=\"Philadelphia\", Region=\"East\"),\n",
        "    Row(City=\"Phoenix\", Region=\"West\"),\n",
        "    Row(City=\"San Diego\", Region=\"West\"),\n",
        "    Row(City=\"Denver\", Region=\"Midwest\"),\n",
        "    Row(City=\"San Antonio\", Region=\"South\"),\n",
        "    Row(City=\"San Jose\", Region=\"West\"),\n",
        "    Row(City=\"Atlanta\", Region=\"South\"),\n",
        "    Row(City=\"Detroit\", Region=\"Midwest\"),\n",
        "    Row(City=\"Portland\", Region=\"West\"),\n",
        "    Row(City=\"Minneapolis\", Region=\"Midwest\"),\n",
        "    Row(City=\"Orlando\", Region=\"South\"),\n",
        "    Row(City=\"Tampa\", Region=\"South\"),\n",
        "    Row(City=\"Nashville\", Region=\"Midwest\"),\n",
        "    Row(City=\"Sacramento\", Region=\"West\"),\n",
        "    Row(City=\"Kansas City\", Region=\"Midwest\"),\n",
        "    Row(City=\"Charlotte\", Region=\"South\"),\n",
        "]\n",
        "\n",
        "region_df = spark.createDataFrame(region_data)\n",
        "joined_df = a.join(region_df, on=\"City\", how=\"left\")\n",
        "joined_df.show()\n"
      ],
      "metadata": {
        "colab": {
          "base_uri": "https://localhost:8080/"
        },
        "id": "eyNp-iRPLPet",
        "outputId": "6fa17d49-3ba9-4051-cc6d-706387e16ff5"
      },
      "execution_count": 16,
      "outputs": [
        {
          "output_type": "stream",
          "name": "stdout",
          "text": [
            "+-------------------+----------+--------------------+---+----------+------+-----------+--------+------+\n",
            "|               City|EmployeeID|                Name|Age|Department|Salary|JoiningDate|  Status|Region|\n",
            "+-------------------+----------+--------------------+---+----------+------+-----------+--------+------+\n",
            "|        East Robert|      6253|         Steven Lane| 47|   Finance| 64982| 2021-07-25|  Active|  NULL|\n",
            "|          Allentown|      4128|     Charles Johnson| 52|        HR| 64039| 2018-07-07|Resigned|  NULL|\n",
            "|         Tonyamouth|      6406|       Patrick Chung| 27|        HR|116423| 2024-07-05|  Active|  NULL|\n",
            "|       Jenniferfurt|      9146|          Brian Ball| 24|     Sales| 87831| 2015-10-01|Resigned|  NULL|\n",
            "|     North Brittany|      8989|       Scott Burnett| 48|     Sales| 93690| 2016-04-25|Resigned|  NULL|\n",
            "|          Gilesstad|      5883| Mr. Ryan Bowman Jr.| 29|   Finance| 64541| 2025-03-11|On Leave|  NULL|\n",
            "|          Port Mark|      3326|       Michael Brown| 28|        HR| 85122| 2023-10-21|Resigned|  NULL|\n",
            "|        West Ashley|      8520|    Emily Washington| 43|   Finance| 33851| 2021-11-30|Resigned|  NULL|\n",
            "|   South Donnaville|      4676|  Christopher Fuller| 30|        HR| 63042| 2021-04-30|Resigned|  NULL|\n",
            "|           Jillport|      7403|    Johnathan Harmon| 50|        HR| 97666| 2021-03-09|On Leave|  NULL|\n",
            "|     Jimenezborough|      1515|        Micheal Wade| 26|        HR| 41771| 2024-03-29|  Active|  NULL|\n",
            "|       Lake Amystad|      1918|       Angela Hooper| 26|   Finance|108773| 2019-08-14|On Leave|  NULL|\n",
            "|        Anthonyfort|      6094|       Dylan Camacho| 57| Marketing| 34686| 2015-08-25|  Active|  NULL|\n",
            "|        Bennettstad|      2758|       Brittany Kerr| 58|     Sales| 71105| 2019-03-24|  Active|  NULL|\n",
            "|       Mcgeechester|      6640|     Isaiah Martinez| 51| Marketing| 72596| 2021-07-26|On Leave|  NULL|\n",
            "|        Caseborough|      1298|     Valerie Fleming| 42| Marketing| 70137| 2019-12-08|Resigned|  NULL|\n",
            "|North Justinborough|      4136|       Jerome Torres| 30|   Finance| 68213| 2024-11-30|  Active|  NULL|\n",
            "|         Russohaven|      4600|Alexander Johnson...| 45|     Sales| 75671| 2016-04-21|On Leave|  NULL|\n",
            "|         New Thomas|      8278|       Riley Johnson| 49|        HR| 43449| 2015-08-03|Resigned|  NULL|\n",
            "|       West Phillip|      5157|     Tracy Hughes MD| 28|   Finance| 34381| 2020-06-01|  Active|  NULL|\n",
            "+-------------------+----------+--------------------+---+----------+------+-----------+--------+------+\n",
            "only showing top 20 rows\n",
            "\n"
          ]
        }
      ]
    },
    {
      "cell_type": "code",
      "source": [
        "#14.Group salaries by Region after the join\n",
        "joined_df.groupBy(\"Region\")\\\n",
        "  .agg(avg(\"Salary\").alias(\"Average_Salary\"))\\\n",
        "  .show()"
      ],
      "metadata": {
        "colab": {
          "base_uri": "https://localhost:8080/"
        },
        "id": "5ZZTFD8YMBwi",
        "outputId": "df18910e-e3fa-41e3-a6ae-2e5afdd4bd1d"
      },
      "execution_count": 17,
      "outputs": [
        {
          "output_type": "stream",
          "name": "stdout",
          "text": [
            "+------+--------------+\n",
            "|Region|Average_Salary|\n",
            "+------+--------------+\n",
            "|  NULL|     74313.424|\n",
            "+------+--------------+\n",
            "\n"
          ]
        }
      ]
    },
    {
      "cell_type": "markdown",
      "source": [
        "**Date Operations**"
      ],
      "metadata": {
        "id": "ZSkBBj3DMWlt"
      }
    },
    {
      "cell_type": "code",
      "source": [
        "#15.Calculate years of experience for each employee\n",
        "from pyspark.sql.functions import current_date, datediff, col,round\n",
        "exp = a.withColumn(\"Experience_Years\", round(datediff(current_date(), a.JoiningDate)/365, 2))\n",
        "exp.select(\"EmployeeID\", \"Name\", \"Experience_Years\").show()\n",
        "#16.List all employees with more than 5 years of experience\n",
        "exp.filter(exp.Experience_Years > 5).show()"
      ],
      "metadata": {
        "colab": {
          "base_uri": "https://localhost:8080/"
        },
        "id": "mehAohvSMRHM",
        "outputId": "7bc5024c-a302-48b0-e8c3-bc73fa485023"
      },
      "execution_count": 20,
      "outputs": [
        {
          "output_type": "stream",
          "name": "stdout",
          "text": [
            "+----------+--------------------+----------------+\n",
            "|EmployeeID|                Name|Experience_Years|\n",
            "+----------+--------------------+----------------+\n",
            "|      4128|     Charles Johnson|            6.91|\n",
            "|      6094|       Dylan Camacho|            9.78|\n",
            "|      5883| Mr. Ryan Bowman Jr.|            0.23|\n",
            "|      9146|          Brian Ball|            9.68|\n",
            "|      1918|       Angela Hooper|            5.81|\n",
            "|      4600|Alexander Johnson...|            9.12|\n",
            "|      6253|         Steven Lane|            3.86|\n",
            "|      8278|       Riley Johnson|            9.84|\n",
            "|      8520|    Emily Washington|            3.51|\n",
            "|      1298|     Valerie Fleming|            5.49|\n",
            "|      5157|     Tracy Hughes MD|            5.01|\n",
            "|      7403|    Johnathan Harmon|            4.24|\n",
            "|      3326|       Michael Brown|            1.62|\n",
            "|      8989|       Scott Burnett|            9.11|\n",
            "|      4676|  Christopher Fuller|             4.1|\n",
            "|      6598|         Mary Henson|            3.78|\n",
            "|      4136|       Jerome Torres|            0.51|\n",
            "|      6640|     Isaiah Martinez|            3.86|\n",
            "|      6406|       Patrick Chung|            0.91|\n",
            "|      1515|        Micheal Wade|            1.18|\n",
            "+----------+--------------------+----------------+\n",
            "only showing top 20 rows\n",
            "\n",
            "+----------+--------------------+---+----------+------+-----------+--------+-----------------+----------------+\n",
            "|EmployeeID|                Name|Age|Department|Salary|JoiningDate|  Status|             City|Experience_Years|\n",
            "+----------+--------------------+---+----------+------+-----------+--------+-----------------+----------------+\n",
            "|      4128|     Charles Johnson| 52|        HR| 64039| 2018-07-07|Resigned|        Allentown|            6.91|\n",
            "|      6094|       Dylan Camacho| 57| Marketing| 34686| 2015-08-25|  Active|      Anthonyfort|            9.78|\n",
            "|      9146|          Brian Ball| 24|     Sales| 87831| 2015-10-01|Resigned|     Jenniferfurt|            9.68|\n",
            "|      1918|       Angela Hooper| 26|   Finance|108773| 2019-08-14|On Leave|     Lake Amystad|            5.81|\n",
            "|      4600|Alexander Johnson...| 45|     Sales| 75671| 2016-04-21|On Leave|       Russohaven|            9.12|\n",
            "|      8278|       Riley Johnson| 49|        HR| 43449| 2015-08-03|Resigned|       New Thomas|            9.84|\n",
            "|      1298|     Valerie Fleming| 42| Marketing| 70137| 2019-12-08|Resigned|      Caseborough|            5.49|\n",
            "|      5157|     Tracy Hughes MD| 28|   Finance| 34381| 2020-06-01|  Active|     West Phillip|            5.01|\n",
            "|      8989|       Scott Burnett| 48|     Sales| 93690| 2016-04-25|Resigned|   North Brittany|            9.11|\n",
            "|      2758|       Brittany Kerr| 58|     Sales| 71105| 2019-03-24|  Active|      Bennettstad|             6.2|\n",
            "|      1588|         Edwin Burns| 34|     Sales|108208| 2015-09-14|Resigned|      South David|            9.73|\n",
            "|      8729|       Mary Reynolds| 25|     Sales|112515| 2018-07-02|Resigned|    Lake Sethfort|            6.93|\n",
            "|      2039|           Erin Berg| 42| Marketing| 71886| 2018-04-27|On Leave|   Port Elizabeth|            7.11|\n",
            "|      8923|         Jason Hines| 59|   Finance| 38955| 2015-11-30|  Active|       Lindaville|            9.52|\n",
            "|      8423|Christopher Mcdaniel| 59|        HR|116819| 2015-06-03|  Active|     South Joshua|           10.01|\n",
            "|      3841|         April Allen| 36|        HR| 98845| 2020-05-20|  Active|    Rachelchester|            5.04|\n",
            "|      9663|         Glenn Mason| 43|        IT|109189| 2020-03-27|On Leave|     Katelynburgh|            5.19|\n",
            "|      6257|      Victoria Kelly| 57|   Finance| 65204| 2017-10-01|  Active|South Amandamouth|            7.68|\n",
            "|      6706|     Michael Trevino| 24| Marketing| 63953| 2020-05-13|Resigned|        Lisaburgh|            5.06|\n",
            "|      6580|      Heather Nelson| 48|     Sales| 91699| 2015-06-03|Resigned|      Ronaldville|           10.01|\n",
            "+----------+--------------------+---+----------+------+-----------+--------+-----------------+----------------+\n",
            "only showing top 20 rows\n",
            "\n"
          ]
        }
      ]
    },
    {
      "cell_type": "code",
      "source": [],
      "metadata": {
        "id": "qsXUslRpMjRz"
      },
      "execution_count": null,
      "outputs": []
    }
  ]
}