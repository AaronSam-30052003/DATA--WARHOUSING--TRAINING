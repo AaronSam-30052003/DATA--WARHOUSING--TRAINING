{
  "nbformat": 4,
  "nbformat_minor": 0,
  "metadata": {
    "colab": {
      "provenance": [],
      "gpuType": "T4"
    },
    "kernelspec": {
      "name": "python3",
      "display_name": "Python 3"
    },
    "language_info": {
      "name": "python"
    },
    "accelerator": "GPU"
  },
  "cells": [
    {
      "cell_type": "markdown",
      "source": [
        "**Intialize the Saprk Session**"
      ],
      "metadata": {
        "id": "KRb2bHE9_hp-"
      }
    },
    {
      "cell_type": "code",
      "source": [
        "from pyspark.sql import SparkSession\n",
        "spark = (\n",
        "    SparkSession.builder\\\n",
        "    .appName(\"SalesData Analysis\")\\\n",
        "    .getOrCreate()\n",
        ")"
      ],
      "metadata": {
        "id": "4UNgDFWn_lc8"
      },
      "execution_count": 1,
      "outputs": []
    },
    {
      "cell_type": "markdown",
      "source": [
        "**DataFrame Creation and Inspection**"
      ],
      "metadata": {
        "id": "hxMA_v4RABuT"
      }
    },
    {
      "cell_type": "code",
      "source": [
        "#1.Load the CSV using pyspark\n",
        "a=spark.read.csv(\"/content/Sales_Dataset__500_Records_.csv\",header=True,inferSchema=True)\n",
        "a.show()\n",
        "#load the csv using pandas\n",
        "import pandas as pd\n",
        "b=pd.read_csv(\"/content/Sales_Dataset__500_Records_.csv\")\n",
        "b.head()\n",
        "#2.Display first 5 and last 5 records\n",
        "print(\"First five rows:\")\n",
        "a.show(5)\n",
        "print(\"last five rows:\")\n",
        "a.orderBy(a.OrderID.desc()).show(5)\n",
        "#3.Print schema and data types\n",
        "a.printSchema()"
      ],
      "metadata": {
        "colab": {
          "base_uri": "https://localhost:8080/"
        },
        "id": "YszuS6Zu_xYf",
        "outputId": "5e389dac-4d44-4a87-8ea2-e14899e53af5"
      },
      "execution_count": 24,
      "outputs": [
        {
          "output_type": "stream",
          "name": "stdout",
          "text": [
            "+-------+------------------+---------------+------+----------+--------------+--------+-----------------+-----------+-------------+\n",
            "|OrderID|      CustomerName|ProductCategory|Amount| OrderDate|DeliveryStatus|Discount|             City|PaymentMode|CustomerSince|\n",
            "+-------+------------------+---------------+------+----------+--------------+--------+-----------------+-----------+-------------+\n",
            "|   2824|     Donald Walker|          Books|783.04|2024-12-26|      Returned|    0.15|     Lake Joyside|Credit Card|   2020-10-15|\n",
            "|   7912|      Brandon Hall|      Groceries| 905.0|2024-09-12|     Cancelled|    0.03|    New Jamesside|     Wallet|   2022-03-15|\n",
            "|   4611|      Donald Booth|        Fashion|657.96|2025-01-12|      Returned|    0.01|     Lake Roberto|     Wallet|   2021-08-07|\n",
            "|   3547|    Phillip Garcia|        Fashion|606.89|2024-03-24|      Returned|    0.15| West Melanieview|     Wallet|   2020-08-08|\n",
            "|   8527|      Valerie Gray|           Toys| 77.87|2024-08-04|     Delivered|    0.17|        Mariastad|       Cash|   2022-11-15|\n",
            "|   4150|       Amber Perez|          Books|352.37|2024-01-13|     Cancelled|    0.24|  Port Jesseville|       Cash|   2022-01-13|\n",
            "|   5554|        Roy Martin|           Toys|148.33|2024-03-04|     Cancelled|    0.27|      Lake Joseph|       Cash|   2023-04-29|\n",
            "|   2169|    Carolyn Daniel|    Electronics| 14.09|2023-10-07|     Delivered|    0.25|         Grayside|Credit Card|   2021-05-09|\n",
            "|   6313|       Patty Perez|      Groceries| 79.83|2023-06-27|     Cancelled|    0.12|      Richardland|Credit Card|   2021-04-25|\n",
            "|   6155|Jonathan Wilkerson|        Fashion|882.68|2024-10-14|     Cancelled|    0.27|       Thomasberg|       Cash|   2021-06-20|\n",
            "|   9830|       Kevin Hurst|          Books|870.55|2024-04-08|     Delivered|    0.22|      Jeffreyberg|     Wallet|   2022-08-02|\n",
            "|   9085| Anthony Rodriguez|      Groceries|921.73|2024-10-02|     Cancelled|    0.03|        Port Erin|        UPI|   2022-12-15|\n",
            "|   2040|     Kyle Mcdonald|           Toys|327.52|2023-12-15|      Returned|    0.06|Lake Jenniferside|     Wallet|   2021-07-21|\n",
            "|   6573|    Jeffrey Chavez|          Books|676.02|2024-12-14|     Cancelled|    0.19|      Teresaburgh|     Wallet|   2022-07-30|\n",
            "|   2743|  Elizabeth Fowler|    Electronics| 47.06|2024-09-18|     Delivered|    0.13|   East Nathaniel|       Cash|   2021-02-07|\n",
            "|   9837|     Tammy Sellers|          Books| 46.15|2024-09-10|     Cancelled|    0.05|       Tracyville|        UPI|   2021-12-17|\n",
            "|   6038|     David Bradley|        Fashion|348.51|2023-08-03|      Returned|    0.23|    Lake Toddland|        UPI|   2022-09-07|\n",
            "|   3060|       John Pierce|           Toys|362.09|2023-12-25|      Returned|    0.03|       Brandtside|       Cash|   2023-05-09|\n",
            "|   4295|   Jennifer Powers|    Electronics|684.26|2024-03-19|     Cancelled|    0.21|         Lammouth|        UPI|   2020-12-06|\n",
            "|   5061|    George Chapman|    Electronics|251.89|2023-11-28|       Pending|    0.27|       North Chad|       Cash|   2023-02-07|\n",
            "+-------+------------------+---------------+------+----------+--------------+--------+-----------------+-----------+-------------+\n",
            "only showing top 20 rows\n",
            "\n",
            "First five rows:\n",
            "+-------+--------------+---------------+------+----------+--------------+--------+----------------+-----------+-------------+\n",
            "|OrderID|  CustomerName|ProductCategory|Amount| OrderDate|DeliveryStatus|Discount|            City|PaymentMode|CustomerSince|\n",
            "+-------+--------------+---------------+------+----------+--------------+--------+----------------+-----------+-------------+\n",
            "|   2824| Donald Walker|          Books|783.04|2024-12-26|      Returned|    0.15|    Lake Joyside|Credit Card|   2020-10-15|\n",
            "|   7912|  Brandon Hall|      Groceries| 905.0|2024-09-12|     Cancelled|    0.03|   New Jamesside|     Wallet|   2022-03-15|\n",
            "|   4611|  Donald Booth|        Fashion|657.96|2025-01-12|      Returned|    0.01|    Lake Roberto|     Wallet|   2021-08-07|\n",
            "|   3547|Phillip Garcia|        Fashion|606.89|2024-03-24|      Returned|    0.15|West Melanieview|     Wallet|   2020-08-08|\n",
            "|   8527|  Valerie Gray|           Toys| 77.87|2024-08-04|     Delivered|    0.17|       Mariastad|       Cash|   2022-11-15|\n",
            "+-------+--------------+---------------+------+----------+--------------+--------+----------------+-----------+-------------+\n",
            "only showing top 5 rows\n",
            "\n",
            "last five rows:\n",
            "+-------+-----------------+---------------+------+----------+--------------+--------+-----------+-----------+-------------+\n",
            "|OrderID|     CustomerName|ProductCategory|Amount| OrderDate|DeliveryStatus|Discount|       City|PaymentMode|CustomerSince|\n",
            "+-------+-----------------+---------------+------+----------+--------------+--------+-----------+-----------+-------------+\n",
            "|   9996|    Brandon Munoz|           Toys|839.38|2024-09-25|     Delivered|    0.08| Pamelaside|Credit Card|   2021-04-19|\n",
            "|   9992|   Joshua Roberts|          Books|960.97|2023-07-25|       Pending|     0.2| Coreyshire|     Wallet|   2022-06-28|\n",
            "|   9970|Elizabeth Goodman|           Toys|821.02|2025-05-04|     Cancelled|    0.29| Jasonhaven|       Cash|   2021-01-09|\n",
            "|   9962|   Vanessa Morgan|           Toys|701.01|2024-09-21|       Pending|    0.06|Bushchester|       Cash|   2023-03-14|\n",
            "|   9920|       James Hall|           Toys| 280.8|2024-05-25|     Cancelled|    0.28|Ericborough|     Wallet|   2020-11-24|\n",
            "+-------+-----------------+---------------+------+----------+--------------+--------+-----------+-----------+-------------+\n",
            "only showing top 5 rows\n",
            "\n",
            "root\n",
            " |-- OrderID: integer (nullable = true)\n",
            " |-- CustomerName: string (nullable = true)\n",
            " |-- ProductCategory: string (nullable = true)\n",
            " |-- Amount: double (nullable = true)\n",
            " |-- OrderDate: date (nullable = true)\n",
            " |-- DeliveryStatus: string (nullable = true)\n",
            " |-- Discount: double (nullable = true)\n",
            " |-- City: string (nullable = true)\n",
            " |-- PaymentMode: string (nullable = true)\n",
            " |-- CustomerSince: date (nullable = true)\n",
            "\n"
          ]
        }
      ]
    },
    {
      "cell_type": "markdown",
      "source": [
        "**Selection, Renaming, and Filtering**"
      ],
      "metadata": {
        "id": "c3uatM15BHz9"
      }
    },
    {
      "cell_type": "code",
      "source": [
        "#1.Select OrderID, CustomerName, Amount\n",
        "a.select(\"OrderID\", \"CustomerName\", \"Amount\").show()\n",
        "#2.Rename Amount to OrderAmount\n",
        "df_renamed = a.withColumnRenamed(\"Amount\", \"OrderAmount\")\n",
        "df_renamed.select(\"OrderID\", \"OrderAmount\").show()\n",
        "#3.Filter where Amount > 500\n",
        "a.filter(a.Amount > 500).show()\n",
        "#4.Filter by city\n",
        "a.filter(a.City == \"New York\").show()\n",
        "a.filter(a.City == \"Port Erin\").show()"
      ],
      "metadata": {
        "colab": {
          "base_uri": "https://localhost:8080/"
        },
        "id": "pptFVFDlArlo",
        "outputId": "73447fe0-e376-460f-e13f-460c145d67ce"
      },
      "execution_count": 7,
      "outputs": [
        {
          "output_type": "stream",
          "name": "stdout",
          "text": [
            "+-------+------------------+------+\n",
            "|OrderID|      CustomerName|Amount|\n",
            "+-------+------------------+------+\n",
            "|   2824|     Donald Walker|783.04|\n",
            "|   7912|      Brandon Hall| 905.0|\n",
            "|   4611|      Donald Booth|657.96|\n",
            "|   3547|    Phillip Garcia|606.89|\n",
            "|   8527|      Valerie Gray| 77.87|\n",
            "|   4150|       Amber Perez|352.37|\n",
            "|   5554|        Roy Martin|148.33|\n",
            "|   2169|    Carolyn Daniel| 14.09|\n",
            "|   6313|       Patty Perez| 79.83|\n",
            "|   6155|Jonathan Wilkerson|882.68|\n",
            "|   9830|       Kevin Hurst|870.55|\n",
            "|   9085| Anthony Rodriguez|921.73|\n",
            "|   2040|     Kyle Mcdonald|327.52|\n",
            "|   6573|    Jeffrey Chavez|676.02|\n",
            "|   2743|  Elizabeth Fowler| 47.06|\n",
            "|   9837|     Tammy Sellers| 46.15|\n",
            "|   6038|     David Bradley|348.51|\n",
            "|   3060|       John Pierce|362.09|\n",
            "|   4295|   Jennifer Powers|684.26|\n",
            "|   5061|    George Chapman|251.89|\n",
            "+-------+------------------+------+\n",
            "only showing top 20 rows\n",
            "\n",
            "+-------+-----------+\n",
            "|OrderID|OrderAmount|\n",
            "+-------+-----------+\n",
            "|   2824|     783.04|\n",
            "|   7912|      905.0|\n",
            "|   4611|     657.96|\n",
            "|   3547|     606.89|\n",
            "|   8527|      77.87|\n",
            "|   4150|     352.37|\n",
            "|   5554|     148.33|\n",
            "|   2169|      14.09|\n",
            "|   6313|      79.83|\n",
            "|   6155|     882.68|\n",
            "|   9830|     870.55|\n",
            "|   9085|     921.73|\n",
            "|   2040|     327.52|\n",
            "|   6573|     676.02|\n",
            "|   2743|      47.06|\n",
            "|   9837|      46.15|\n",
            "|   6038|     348.51|\n",
            "|   3060|     362.09|\n",
            "|   4295|     684.26|\n",
            "|   5061|     251.89|\n",
            "+-------+-----------+\n",
            "only showing top 20 rows\n",
            "\n",
            "+-------+------------------+---------------+------+----------+--------------+--------+-----------------+-----------+-------------+\n",
            "|OrderID|      CustomerName|ProductCategory|Amount| OrderDate|DeliveryStatus|Discount|             City|PaymentMode|CustomerSince|\n",
            "+-------+------------------+---------------+------+----------+--------------+--------+-----------------+-----------+-------------+\n",
            "|   2824|     Donald Walker|          Books|783.04|2024-12-26|      Returned|    0.15|     Lake Joyside|Credit Card|   2020-10-15|\n",
            "|   7912|      Brandon Hall|      Groceries| 905.0|2024-09-12|     Cancelled|    0.03|    New Jamesside|     Wallet|   2022-03-15|\n",
            "|   4611|      Donald Booth|        Fashion|657.96|2025-01-12|      Returned|    0.01|     Lake Roberto|     Wallet|   2021-08-07|\n",
            "|   3547|    Phillip Garcia|        Fashion|606.89|2024-03-24|      Returned|    0.15| West Melanieview|     Wallet|   2020-08-08|\n",
            "|   6155|Jonathan Wilkerson|        Fashion|882.68|2024-10-14|     Cancelled|    0.27|       Thomasberg|       Cash|   2021-06-20|\n",
            "|   9830|       Kevin Hurst|          Books|870.55|2024-04-08|     Delivered|    0.22|      Jeffreyberg|     Wallet|   2022-08-02|\n",
            "|   9085| Anthony Rodriguez|      Groceries|921.73|2024-10-02|     Cancelled|    0.03|        Port Erin|        UPI|   2022-12-15|\n",
            "|   6573|    Jeffrey Chavez|          Books|676.02|2024-12-14|     Cancelled|    0.19|      Teresaburgh|     Wallet|   2022-07-30|\n",
            "|   4295|   Jennifer Powers|    Electronics|684.26|2024-03-19|     Cancelled|    0.21|         Lammouth|        UPI|   2020-12-06|\n",
            "|   1964|      Taylor Heath|           Toys| 578.5|2023-07-28|     Cancelled|    0.01|   West Elizabeth|       Cash|   2021-04-30|\n",
            "|   9834|    Timothy Duncan|    Electronics|944.55|2024-06-04|     Cancelled|    0.07|      Port Thomas|     Wallet|   2022-02-24|\n",
            "|   3296|     Donald Wright|        Fashion|579.99|2025-05-20|     Cancelled|    0.25|South Lindseyside|     Wallet|   2020-11-01|\n",
            "|   4502|  Stephanie Martin|    Electronics|656.32|2023-06-04|       Pending|     0.2|       Bakermouth|Credit Card|   2021-08-19|\n",
            "|   1931|      Angela Lopez|    Electronics|686.21|2024-09-07|     Cancelled|    0.17|Lake Michellefurt|        UPI|   2020-12-05|\n",
            "|   5033|     Amanda Miller|           Toys|552.76|2024-10-25|       Pending|    0.21|     Sarahborough|     Wallet|   2023-04-08|\n",
            "|   6147|      James Powers|           Toys|561.91|2024-01-22|     Cancelled|    0.05|      Stewartland|Credit Card|   2020-06-16|\n",
            "|   2127|      Jaclyn Moore|      Groceries|933.32|2025-03-11|      Returned|    0.01|      Cherylhaven|       Cash|   2020-06-14|\n",
            "|   5905|   Ashley Humphrey|          Books|844.87|2023-12-25|       Pending|    0.28|  North Juliaberg|       Cash|   2021-07-30|\n",
            "|   2512|   Sandra Williams|           Toys|630.21|2024-02-17|       Pending|    0.08|        Lake Tina|        UPI|   2021-02-08|\n",
            "|   8239|     Jessica Smith|          Books|610.08|2023-07-31|     Delivered|    0.09|        New Barry|        UPI|   2021-12-27|\n",
            "+-------+------------------+---------------+------+----------+--------------+--------+-----------------+-----------+-------------+\n",
            "only showing top 20 rows\n",
            "\n",
            "+-------+------------+---------------+------+---------+--------------+--------+----+-----------+-------------+\n",
            "|OrderID|CustomerName|ProductCategory|Amount|OrderDate|DeliveryStatus|Discount|City|PaymentMode|CustomerSince|\n",
            "+-------+------------+---------------+------+---------+--------------+--------+----+-----------+-------------+\n",
            "+-------+------------+---------------+------+---------+--------------+--------+----+-----------+-------------+\n",
            "\n",
            "+-------+-----------------+---------------+------+----------+--------------+--------+---------+-----------+-------------+\n",
            "|OrderID|     CustomerName|ProductCategory|Amount| OrderDate|DeliveryStatus|Discount|     City|PaymentMode|CustomerSince|\n",
            "+-------+-----------------+---------------+------+----------+--------------+--------+---------+-----------+-------------+\n",
            "|   9085|Anthony Rodriguez|      Groceries|921.73|2024-10-02|     Cancelled|    0.03|Port Erin|        UPI|   2022-12-15|\n",
            "+-------+-----------------+---------------+------+----------+--------------+--------+---------+-----------+-------------+\n",
            "\n"
          ]
        }
      ]
    },
    {
      "cell_type": "markdown",
      "source": [
        "**Data Manipulation**"
      ],
      "metadata": {
        "id": "1wDgFBwbCYmP"
      }
    },
    {
      "cell_type": "code",
      "source": [
        "from pyspark.sql.functions import col,when\n",
        "#1.Drop CustomerSince\n",
        "df_dropped = a.drop(\"CustomerSince\")\n",
        "df_dropped.show()\n",
        "#2.Add FinalAmount = Amount - (Amount * Discount)\n",
        "a = a.withColumn(\"FinalAmount\", col(\"Amount\") - (col(\"Amount\") * col(\"Discount\")))\n",
        "a.show()\n",
        "#3.Sort by FinalAmount descending\n",
        "a.orderBy(col(\"FinalAmount\").desc()).show()\n",
        "#4.Replace \"Cancelled\" with \"Order Cancelled\"\n",
        "df_status_updated = a.withColumn(\"DeliveryStatus\", when(col(\"DeliveryStatus\") == \"Cancelled\", \"Order Cancelled\").otherwise(col(\"DeliveryStatus\")))\n",
        "df_status_updated.select(\"OrderID\", \"DeliveryStatus\").show()\n"
      ],
      "metadata": {
        "colab": {
          "base_uri": "https://localhost:8080/"
        },
        "id": "wNFGJgDhB4R3",
        "outputId": "015a7600-8a93-47cf-9b84-84104998cf27"
      },
      "execution_count": 10,
      "outputs": [
        {
          "output_type": "stream",
          "name": "stdout",
          "text": [
            "+-------+------------------+---------------+------+----------+--------------+--------+-----------------+-----------+------------------+\n",
            "|OrderID|      CustomerName|ProductCategory|Amount| OrderDate|DeliveryStatus|Discount|             City|PaymentMode|       FinalAmount|\n",
            "+-------+------------------+---------------+------+----------+--------------+--------+-----------------+-----------+------------------+\n",
            "|   2824|     Donald Walker|          Books|783.04|2024-12-26|      Returned|    0.15|     Lake Joyside|Credit Card|           665.584|\n",
            "|   7912|      Brandon Hall|      Groceries| 905.0|2024-09-12|     Cancelled|    0.03|    New Jamesside|     Wallet|            877.85|\n",
            "|   4611|      Donald Booth|        Fashion|657.96|2025-01-12|      Returned|    0.01|     Lake Roberto|     Wallet|          651.3804|\n",
            "|   3547|    Phillip Garcia|        Fashion|606.89|2024-03-24|      Returned|    0.15| West Melanieview|     Wallet|          515.8565|\n",
            "|   8527|      Valerie Gray|           Toys| 77.87|2024-08-04|     Delivered|    0.17|        Mariastad|       Cash| 64.63210000000001|\n",
            "|   4150|       Amber Perez|          Books|352.37|2024-01-13|     Cancelled|    0.24|  Port Jesseville|       Cash|          267.8012|\n",
            "|   5554|        Roy Martin|           Toys|148.33|2024-03-04|     Cancelled|    0.27|      Lake Joseph|       Cash|          108.2809|\n",
            "|   2169|    Carolyn Daniel|    Electronics| 14.09|2023-10-07|     Delivered|    0.25|         Grayside|Credit Card|10.567499999999999|\n",
            "|   6313|       Patty Perez|      Groceries| 79.83|2023-06-27|     Cancelled|    0.12|      Richardland|Credit Card|           70.2504|\n",
            "|   6155|Jonathan Wilkerson|        Fashion|882.68|2024-10-14|     Cancelled|    0.27|       Thomasberg|       Cash| 644.3563999999999|\n",
            "|   9830|       Kevin Hurst|          Books|870.55|2024-04-08|     Delivered|    0.22|      Jeffreyberg|     Wallet|           679.029|\n",
            "|   9085| Anthony Rodriguez|      Groceries|921.73|2024-10-02|     Cancelled|    0.03|        Port Erin|        UPI| 894.0781000000001|\n",
            "|   2040|     Kyle Mcdonald|           Toys|327.52|2023-12-15|      Returned|    0.06|Lake Jenniferside|     Wallet|307.86879999999996|\n",
            "|   6573|    Jeffrey Chavez|          Books|676.02|2024-12-14|     Cancelled|    0.19|      Teresaburgh|     Wallet|          547.5762|\n",
            "|   2743|  Elizabeth Fowler|    Electronics| 47.06|2024-09-18|     Delivered|    0.13|   East Nathaniel|       Cash|           40.9422|\n",
            "|   9837|     Tammy Sellers|          Books| 46.15|2024-09-10|     Cancelled|    0.05|       Tracyville|        UPI|           43.8425|\n",
            "|   6038|     David Bradley|        Fashion|348.51|2023-08-03|      Returned|    0.23|    Lake Toddland|        UPI|268.35269999999997|\n",
            "|   3060|       John Pierce|           Toys|362.09|2023-12-25|      Returned|    0.03|       Brandtside|       Cash|351.22729999999996|\n",
            "|   4295|   Jennifer Powers|    Electronics|684.26|2024-03-19|     Cancelled|    0.21|         Lammouth|        UPI|          540.5654|\n",
            "|   5061|    George Chapman|    Electronics|251.89|2023-11-28|       Pending|    0.27|       North Chad|       Cash|183.87969999999999|\n",
            "+-------+------------------+---------------+------+----------+--------------+--------+-----------------+-----------+------------------+\n",
            "only showing top 20 rows\n",
            "\n",
            "+-------+------------------+---------------+------+----------+--------------+--------+-----------------+-----------+-------------+------------------+\n",
            "|OrderID|      CustomerName|ProductCategory|Amount| OrderDate|DeliveryStatus|Discount|             City|PaymentMode|CustomerSince|       FinalAmount|\n",
            "+-------+------------------+---------------+------+----------+--------------+--------+-----------------+-----------+-------------+------------------+\n",
            "|   2824|     Donald Walker|          Books|783.04|2024-12-26|      Returned|    0.15|     Lake Joyside|Credit Card|   2020-10-15|           665.584|\n",
            "|   7912|      Brandon Hall|      Groceries| 905.0|2024-09-12|     Cancelled|    0.03|    New Jamesside|     Wallet|   2022-03-15|            877.85|\n",
            "|   4611|      Donald Booth|        Fashion|657.96|2025-01-12|      Returned|    0.01|     Lake Roberto|     Wallet|   2021-08-07|          651.3804|\n",
            "|   3547|    Phillip Garcia|        Fashion|606.89|2024-03-24|      Returned|    0.15| West Melanieview|     Wallet|   2020-08-08|          515.8565|\n",
            "|   8527|      Valerie Gray|           Toys| 77.87|2024-08-04|     Delivered|    0.17|        Mariastad|       Cash|   2022-11-15| 64.63210000000001|\n",
            "|   4150|       Amber Perez|          Books|352.37|2024-01-13|     Cancelled|    0.24|  Port Jesseville|       Cash|   2022-01-13|          267.8012|\n",
            "|   5554|        Roy Martin|           Toys|148.33|2024-03-04|     Cancelled|    0.27|      Lake Joseph|       Cash|   2023-04-29|          108.2809|\n",
            "|   2169|    Carolyn Daniel|    Electronics| 14.09|2023-10-07|     Delivered|    0.25|         Grayside|Credit Card|   2021-05-09|10.567499999999999|\n",
            "|   6313|       Patty Perez|      Groceries| 79.83|2023-06-27|     Cancelled|    0.12|      Richardland|Credit Card|   2021-04-25|           70.2504|\n",
            "|   6155|Jonathan Wilkerson|        Fashion|882.68|2024-10-14|     Cancelled|    0.27|       Thomasberg|       Cash|   2021-06-20| 644.3563999999999|\n",
            "|   9830|       Kevin Hurst|          Books|870.55|2024-04-08|     Delivered|    0.22|      Jeffreyberg|     Wallet|   2022-08-02|           679.029|\n",
            "|   9085| Anthony Rodriguez|      Groceries|921.73|2024-10-02|     Cancelled|    0.03|        Port Erin|        UPI|   2022-12-15| 894.0781000000001|\n",
            "|   2040|     Kyle Mcdonald|           Toys|327.52|2023-12-15|      Returned|    0.06|Lake Jenniferside|     Wallet|   2021-07-21|307.86879999999996|\n",
            "|   6573|    Jeffrey Chavez|          Books|676.02|2024-12-14|     Cancelled|    0.19|      Teresaburgh|     Wallet|   2022-07-30|          547.5762|\n",
            "|   2743|  Elizabeth Fowler|    Electronics| 47.06|2024-09-18|     Delivered|    0.13|   East Nathaniel|       Cash|   2021-02-07|           40.9422|\n",
            "|   9837|     Tammy Sellers|          Books| 46.15|2024-09-10|     Cancelled|    0.05|       Tracyville|        UPI|   2021-12-17|           43.8425|\n",
            "|   6038|     David Bradley|        Fashion|348.51|2023-08-03|      Returned|    0.23|    Lake Toddland|        UPI|   2022-09-07|268.35269999999997|\n",
            "|   3060|       John Pierce|           Toys|362.09|2023-12-25|      Returned|    0.03|       Brandtside|       Cash|   2023-05-09|351.22729999999996|\n",
            "|   4295|   Jennifer Powers|    Electronics|684.26|2024-03-19|     Cancelled|    0.21|         Lammouth|        UPI|   2020-12-06|          540.5654|\n",
            "|   5061|    George Chapman|    Electronics|251.89|2023-11-28|       Pending|    0.27|       North Chad|       Cash|   2023-02-07|183.87969999999999|\n",
            "+-------+------------------+---------------+------+----------+--------------+--------+-----------------+-----------+-------------+------------------+\n",
            "only showing top 20 rows\n",
            "\n",
            "+-------+-----------------+---------------+------+----------+--------------+--------+-----------------+-----------+-------------+-----------------+\n",
            "|OrderID|     CustomerName|ProductCategory|Amount| OrderDate|DeliveryStatus|Discount|             City|PaymentMode|CustomerSince|      FinalAmount|\n",
            "+-------+-----------------+---------------+------+----------+--------------+--------+-----------------+-----------+-------------+-----------------+\n",
            "|   5573|   Jordan Frazier|          Books|981.05|2025-03-19|     Cancelled|    0.02|      Sheilaville|       Cash|   2021-07-12|          961.429|\n",
            "|   8474|      Heidi Brown|    Electronics|968.91|2023-11-23|     Cancelled|    0.02|       Riverafort|       Cash|   2023-03-19|         949.5318|\n",
            "|   8889|      Karen Garza|          Books| 998.3|2024-10-17|     Cancelled|    0.06|       Johnsonton|Credit Card|   2020-12-17|938.4019999999999|\n",
            "|   2127|     Jaclyn Moore|      Groceries|933.32|2025-03-11|      Returned|    0.01|      Cherylhaven|       Cash|   2020-06-14|         923.9868|\n",
            "|   9806|    Samantha Gill|      Groceries|993.17|2024-11-12|     Cancelled|    0.07|     New Seanstad|     Wallet|   2020-10-01|         923.6481|\n",
            "|   5593|   Kristy Johnson|        Fashion|961.35|2025-05-24|      Returned|    0.05|    Alexisborough|       Cash|   2022-11-30|         913.2825|\n",
            "|   2120| Alejandra Santos|    Electronics|948.84|2024-05-09|      Returned|    0.04|     Jenniferberg|     Wallet|   2022-03-03|         910.8864|\n",
            "|   5949|Dr. Michael Evans|           Toys|918.14|2023-07-29|       Pending|    0.01|   East Scottfort|     Wallet|   2022-05-24|908.9585999999999|\n",
            "|   1422|    Hunter Kramer|          Books| 973.2|2024-09-02|      Returned|    0.07|       Alfredview|       Cash|   2020-08-22|          905.076|\n",
            "|   2904|   Michelle Burns|        Fashion|922.29|2025-05-01|      Returned|    0.02|      Stokesmouth|Credit Card|   2020-12-23|         903.8442|\n",
            "|   7566|    Jesus Houston|        Fashion|899.31|2024-11-19|     Delivered|     0.0|       Marshburgh|Credit Card|   2020-11-24|           899.31|\n",
            "|   7511|      Regina Diaz|           Toys|932.21|2025-02-06|     Cancelled|    0.04|        Smithside|       Cash|   2020-12-10|         894.9216|\n",
            "|   9085|Anthony Rodriguez|      Groceries|921.73|2024-10-02|     Cancelled|    0.03|        Port Erin|        UPI|   2022-12-15|894.0781000000001|\n",
            "|   1436|     James Brooks|      Groceries|978.96|2024-03-28|     Cancelled|    0.09|West Jeffreymouth|Credit Card|   2020-11-02|         890.8536|\n",
            "|   6008|  Brittany Knight|          Books|903.71|2025-02-19|       Pending|    0.02|       Susanburgh|       Cash|   2020-06-09|         885.6358|\n",
            "|   9834|   Timothy Duncan|    Electronics|944.55|2024-06-04|     Cancelled|    0.07|      Port Thomas|     Wallet|   2022-02-24|878.4314999999999|\n",
            "|   8253|  Kevin Patterson|          Books|998.21|2024-08-17|     Cancelled|    0.12|   New Susanville|        UPI|   2021-04-20|         878.4248|\n",
            "|   7912|     Brandon Hall|      Groceries| 905.0|2024-09-12|     Cancelled|    0.03|    New Jamesside|     Wallet|   2022-03-15|           877.85|\n",
            "|   1654|   Frank Williams|          Books|903.78|2025-05-27|     Cancelled|    0.03|       Tracyshire|     Wallet|   2022-10-04|         876.6666|\n",
            "|   9239|    Tracy Montoya|    Electronics|897.41|2025-02-14|     Cancelled|    0.04|        Port John|     Wallet|   2023-02-23|         861.5136|\n",
            "+-------+-----------------+---------------+------+----------+--------------+--------+-----------------+-----------+-------------+-----------------+\n",
            "only showing top 20 rows\n",
            "\n",
            "+-------+---------------+\n",
            "|OrderID| DeliveryStatus|\n",
            "+-------+---------------+\n",
            "|   2824|       Returned|\n",
            "|   7912|Order Cancelled|\n",
            "|   4611|       Returned|\n",
            "|   3547|       Returned|\n",
            "|   8527|      Delivered|\n",
            "|   4150|Order Cancelled|\n",
            "|   5554|Order Cancelled|\n",
            "|   2169|      Delivered|\n",
            "|   6313|Order Cancelled|\n",
            "|   6155|Order Cancelled|\n",
            "|   9830|      Delivered|\n",
            "|   9085|Order Cancelled|\n",
            "|   2040|       Returned|\n",
            "|   6573|Order Cancelled|\n",
            "|   2743|      Delivered|\n",
            "|   9837|Order Cancelled|\n",
            "|   6038|       Returned|\n",
            "|   3060|       Returned|\n",
            "|   4295|Order Cancelled|\n",
            "|   5061|        Pending|\n",
            "+-------+---------------+\n",
            "only showing top 20 rows\n",
            "\n"
          ]
        }
      ]
    },
    {
      "cell_type": "markdown",
      "source": [
        "**Aggregations and GroupBy**"
      ],
      "metadata": {
        "id": "kk2oqAcXDTsx"
      }
    },
    {
      "cell_type": "code",
      "source": [
        "from pyspark.sql.functions import avg, sum\n",
        "#1.Count of orders by DeliveryStatus\n",
        "a.groupBy(\"DeliveryStatus\").count().show()\n",
        "#2.Average Amount by ProductCategory\n",
        "a.groupBy(\"ProductCategory\").agg(avg(\"Amount\").alias(\"AvgAmount\")).show()\n",
        "#3.Total sales by City\n",
        "a.groupBy(\"City\").agg(sum(\"Amount\").alias(\"TotalSales\")).show()\n"
      ],
      "metadata": {
        "colab": {
          "base_uri": "https://localhost:8080/"
        },
        "id": "12ZV4v0eC9yY",
        "outputId": "36dc6a52-449f-4576-ec0d-65557118b17a"
      },
      "execution_count": 11,
      "outputs": [
        {
          "output_type": "stream",
          "name": "stdout",
          "text": [
            "+--------------+-----+\n",
            "|DeliveryStatus|count|\n",
            "+--------------+-----+\n",
            "|      Returned|  117|\n",
            "|     Cancelled|  149|\n",
            "|     Delivered|  119|\n",
            "|       Pending|  115|\n",
            "+--------------+-----+\n",
            "\n",
            "+---------------+------------------+\n",
            "|ProductCategory|         AvgAmount|\n",
            "+---------------+------------------+\n",
            "|        Fashion| 500.6308235294116|\n",
            "|      Groceries|459.51786407766957|\n",
            "|    Electronics|           551.745|\n",
            "|          Books| 568.6003773584907|\n",
            "|           Toys| 534.2837499999999|\n",
            "+---------------+------------------+\n",
            "\n",
            "+----------------+----------+\n",
            "|            City|TotalSales|\n",
            "+----------------+----------+\n",
            "|     Ramseymouth|    761.06|\n",
            "|East Edwardshire|    291.26|\n",
            "|      Thomasberg|    882.68|\n",
            "|     Laurenville|    383.26|\n",
            "| South Colinstad|    786.27|\n",
            "|    Lake Douglas|    975.09|\n",
            "|   Williamsmouth|     10.78|\n",
            "|      Gordonport|    514.99|\n",
            "|  West Dawnmouth|      12.8|\n",
            "|        Seanbury|    814.39|\n",
            "|     Sheilaville|    981.05|\n",
            "|       Mollybury|    222.02|\n",
            "|       Lisaville|     45.69|\n",
            "| Lake Jerrymouth|    404.01|\n",
            "|       Perezfort|    917.55|\n",
            "|Port Nicoleshire|    133.78|\n",
            "|  South Samantha|    229.46|\n",
            "|     Port Willie|    788.13|\n",
            "|     Waltersfort|    552.81|\n",
            "|       Youngbury|    372.95|\n",
            "+----------------+----------+\n",
            "only showing top 20 rows\n",
            "\n"
          ]
        }
      ]
    },
    {
      "cell_type": "markdown",
      "source": [
        "**Null Handling & Update**"
      ],
      "metadata": {
        "id": "UhQQISxgDiML"
      }
    },
    {
      "cell_type": "code",
      "source": [
        "from pyspark.sql.functions import lit\n",
        "import random\n",
        "df_null = a.withColumn(\"City\", when((col(\"OrderID\") % 5 == 0), None).otherwise(col(\"City\")))\n",
        "# Fill nulls\n",
        "filled = df_null.fillna({\"City\": \"Unknown\"})\n",
        "# Drop nulls\n",
        "no_nulls = df_null.dropna(subset=[\"City\"])\n",
        "# Tag high-value customers\n",
        "tagged = a.withColumn(\"CustomerType\", when(col(\"Amount\") > 800, \"High Value\").otherwise(\"Regular\"))\n",
        "tagged.select(\"OrderID\", \"Amount\", \"CustomerType\").show()\n"
      ],
      "metadata": {
        "colab": {
          "base_uri": "https://localhost:8080/"
        },
        "id": "wlqzU_d9DeCq",
        "outputId": "273a9088-8f01-429e-a338-3dec5bfa0cc4"
      },
      "execution_count": 13,
      "outputs": [
        {
          "output_type": "stream",
          "name": "stdout",
          "text": [
            "+-------+------+------------+\n",
            "|OrderID|Amount|CustomerType|\n",
            "+-------+------+------------+\n",
            "|   2824|783.04|     Regular|\n",
            "|   7912| 905.0|  High Value|\n",
            "|   4611|657.96|     Regular|\n",
            "|   3547|606.89|     Regular|\n",
            "|   8527| 77.87|     Regular|\n",
            "|   4150|352.37|     Regular|\n",
            "|   5554|148.33|     Regular|\n",
            "|   2169| 14.09|     Regular|\n",
            "|   6313| 79.83|     Regular|\n",
            "|   6155|882.68|  High Value|\n",
            "|   9830|870.55|  High Value|\n",
            "|   9085|921.73|  High Value|\n",
            "|   2040|327.52|     Regular|\n",
            "|   6573|676.02|     Regular|\n",
            "|   2743| 47.06|     Regular|\n",
            "|   9837| 46.15|     Regular|\n",
            "|   6038|348.51|     Regular|\n",
            "|   3060|362.09|     Regular|\n",
            "|   4295|684.26|     Regular|\n",
            "|   5061|251.89|     Regular|\n",
            "+-------+------+------------+\n",
            "only showing top 20 rows\n",
            "\n"
          ]
        }
      ]
    },
    {
      "cell_type": "markdown",
      "source": [
        " **Date & Time Functions**"
      ],
      "metadata": {
        "id": "GEgsx-fBD87i"
      }
    },
    {
      "cell_type": "code",
      "source": [
        "from pyspark.sql.functions import year, month, current_date, datediff,round\n",
        "#1.Extract year and month from OrderDate\n",
        "a.withColumn(\"OrderYear\", year(\"OrderDate\"))\\\n",
        "  .withColumn(\"OrderMonth\", month(\"OrderDate\"))\\\n",
        "  .select(\"OrderDate\", \"OrderYear\", \"OrderMonth\")\\\n",
        "  .show()\n",
        "#2.Calculate loyalty in years\n",
        "loyalty =a.withColumn(\"LoyaltyYears\", round(datediff(current_date(), col(\"CustomerSince\")) / 365, 2))\n",
        "loyalty.select(\"CustomerName\", \"CustomerSince\", \"LoyaltyYears\").show()\n"
      ],
      "metadata": {
        "colab": {
          "base_uri": "https://localhost:8080/"
        },
        "id": "EpBhy9okD0UM",
        "outputId": "f65cf386-4597-414d-e848-8b63c0850822"
      },
      "execution_count": 15,
      "outputs": [
        {
          "output_type": "stream",
          "name": "stdout",
          "text": [
            "+----------+---------+----------+\n",
            "| OrderDate|OrderYear|OrderMonth|\n",
            "+----------+---------+----------+\n",
            "|2024-12-26|     2024|        12|\n",
            "|2024-09-12|     2024|         9|\n",
            "|2025-01-12|     2025|         1|\n",
            "|2024-03-24|     2024|         3|\n",
            "|2024-08-04|     2024|         8|\n",
            "|2024-01-13|     2024|         1|\n",
            "|2024-03-04|     2024|         3|\n",
            "|2023-10-07|     2023|        10|\n",
            "|2023-06-27|     2023|         6|\n",
            "|2024-10-14|     2024|        10|\n",
            "|2024-04-08|     2024|         4|\n",
            "|2024-10-02|     2024|        10|\n",
            "|2023-12-15|     2023|        12|\n",
            "|2024-12-14|     2024|        12|\n",
            "|2024-09-18|     2024|         9|\n",
            "|2024-09-10|     2024|         9|\n",
            "|2023-08-03|     2023|         8|\n",
            "|2023-12-25|     2023|        12|\n",
            "|2024-03-19|     2024|         3|\n",
            "|2023-11-28|     2023|        11|\n",
            "+----------+---------+----------+\n",
            "only showing top 20 rows\n",
            "\n",
            "+------------------+-------------+------------+\n",
            "|      CustomerName|CustomerSince|LoyaltyYears|\n",
            "+------------------+-------------+------------+\n",
            "|     Donald Walker|   2020-10-15|        4.64|\n",
            "|      Brandon Hall|   2022-03-15|        3.22|\n",
            "|      Donald Booth|   2021-08-07|        3.82|\n",
            "|    Phillip Garcia|   2020-08-08|        4.82|\n",
            "|      Valerie Gray|   2022-11-15|        2.55|\n",
            "|       Amber Perez|   2022-01-13|        3.39|\n",
            "|        Roy Martin|   2023-04-29|         2.1|\n",
            "|    Carolyn Daniel|   2021-05-09|        4.07|\n",
            "|       Patty Perez|   2021-04-25|        4.11|\n",
            "|Jonathan Wilkerson|   2021-06-20|        3.96|\n",
            "|       Kevin Hurst|   2022-08-02|        2.84|\n",
            "| Anthony Rodriguez|   2022-12-15|        2.47|\n",
            "|     Kyle Mcdonald|   2021-07-21|        3.87|\n",
            "|    Jeffrey Chavez|   2022-07-30|        2.85|\n",
            "|  Elizabeth Fowler|   2021-02-07|        4.32|\n",
            "|     Tammy Sellers|   2021-12-17|        3.46|\n",
            "|     David Bradley|   2022-09-07|        2.74|\n",
            "|       John Pierce|   2023-05-09|        2.07|\n",
            "|   Jennifer Powers|   2020-12-06|        4.49|\n",
            "|    George Chapman|   2023-02-07|        2.32|\n",
            "+------------------+-------------+------------+\n",
            "only showing top 20 rows\n",
            "\n"
          ]
        }
      ]
    },
    {
      "cell_type": "markdown",
      "source": [
        "**Joins and Unions**"
      ],
      "metadata": {
        "id": "WLc-vl7TES03"
      }
    },
    {
      "cell_type": "code",
      "source": [
        "from pyspark.sql import Row\n",
        "#1.Region mapping DataFrame\n",
        "region_data = [\n",
        "    Row(City=\"Lake Roberto\", Region=\"East\"),\n",
        "    Row(City=\"Port Jesseville\", Region=\"West\"),\n",
        "    Row(City=\"Grayside\", Region=\"South\"),\n",
        "    Row(City=\"Lake Joseph\", Region=\"North\"),\n",
        "    Row(City=\"Mariastad\", Region=\"West\")\n",
        "]\n",
        "region= spark.createDataFrame(region_data)\n",
        "#2.Inner Join\n",
        "inner_joined = a.join(region, on=\"City\", how=\"inner\")\n",
        "inner_joined.show()\n",
        "#Left Join\n",
        "left_joined = a.join(region, on=\"City\", how=\"left\")\n",
        "left_joined.show()\n",
        "#3.Union 2023 and 2024 orders\n",
        "df_2023 = a.filter(year(\"OrderDate\") == 2023)\n",
        "df_2024 = a.filter(year(\"OrderDate\") == 2024)\n",
        "union_df = df_2023.union(df_2024)\n",
        "union_df.show()\n"
      ],
      "metadata": {
        "colab": {
          "base_uri": "https://localhost:8080/"
        },
        "id": "1y6POzV9ELhf",
        "outputId": "ffcea38c-1b40-45e7-b042-6bf4bdcce15b"
      },
      "execution_count": 17,
      "outputs": [
        {
          "output_type": "stream",
          "name": "stdout",
          "text": [
            "+---------------+-------+--------------+---------------+------+----------+--------------+--------+-----------+-------------+------------------+------+\n",
            "|           City|OrderID|  CustomerName|ProductCategory|Amount| OrderDate|DeliveryStatus|Discount|PaymentMode|CustomerSince|       FinalAmount|Region|\n",
            "+---------------+-------+--------------+---------------+------+----------+--------------+--------+-----------+-------------+------------------+------+\n",
            "|   Lake Roberto|   4611|  Donald Booth|        Fashion|657.96|2025-01-12|      Returned|    0.01|     Wallet|   2021-08-07|          651.3804|  East|\n",
            "|Port Jesseville|   4150|   Amber Perez|          Books|352.37|2024-01-13|     Cancelled|    0.24|       Cash|   2022-01-13|          267.8012|  West|\n",
            "|       Grayside|   2169|Carolyn Daniel|    Electronics| 14.09|2023-10-07|     Delivered|    0.25|Credit Card|   2021-05-09|10.567499999999999| South|\n",
            "|    Lake Joseph|   5554|    Roy Martin|           Toys|148.33|2024-03-04|     Cancelled|    0.27|       Cash|   2023-04-29|          108.2809| North|\n",
            "|      Mariastad|   8527|  Valerie Gray|           Toys| 77.87|2024-08-04|     Delivered|    0.17|       Cash|   2022-11-15| 64.63210000000001|  West|\n",
            "+---------------+-------+--------------+---------------+------+----------+--------------+--------+-----------+-------------+------------------+------+\n",
            "\n",
            "+-----------------+-------+------------------+---------------+------+----------+--------------+--------+-----------+-------------+------------------+------+\n",
            "|             City|OrderID|      CustomerName|ProductCategory|Amount| OrderDate|DeliveryStatus|Discount|PaymentMode|CustomerSince|       FinalAmount|Region|\n",
            "+-----------------+-------+------------------+---------------+------+----------+--------------+--------+-----------+-------------+------------------+------+\n",
            "|       Thomasberg|   6155|Jonathan Wilkerson|        Fashion|882.68|2024-10-14|     Cancelled|    0.27|       Cash|   2021-06-20| 644.3563999999999|  NULL|\n",
            "|   East Nathaniel|   2743|  Elizabeth Fowler|    Electronics| 47.06|2024-09-18|     Delivered|    0.13|       Cash|   2021-02-07|           40.9422|  NULL|\n",
            "|  Port Jesseville|   4150|       Amber Perez|          Books|352.37|2024-01-13|     Cancelled|    0.24|       Cash|   2022-01-13|          267.8012|  West|\n",
            "|       North Chad|   5061|    George Chapman|    Electronics|251.89|2023-11-28|       Pending|    0.27|       Cash|   2023-02-07|183.87969999999999|  NULL|\n",
            "|    Lake Toddland|   6038|     David Bradley|        Fashion|348.51|2023-08-03|      Returned|    0.23|        UPI|   2022-09-07|268.35269999999997|  NULL|\n",
            "|     Lake Joyside|   2824|     Donald Walker|          Books|783.04|2024-12-26|      Returned|    0.15|Credit Card|   2020-10-15|           665.584|  NULL|\n",
            "|       Brandtside|   3060|       John Pierce|           Toys|362.09|2023-12-25|      Returned|    0.03|       Cash|   2023-05-09|351.22729999999996|  NULL|\n",
            "|   West Elizabeth|   1964|      Taylor Heath|           Toys| 578.5|2023-07-28|     Cancelled|    0.01|       Cash|   2021-04-30|           572.715|  NULL|\n",
            "|Lake Jenniferside|   2040|     Kyle Mcdonald|           Toys|327.52|2023-12-15|      Returned|    0.06|     Wallet|   2021-07-21|307.86879999999996|  NULL|\n",
            "|        Port Erin|   9085| Anthony Rodriguez|      Groceries|921.73|2024-10-02|     Cancelled|    0.03|        UPI|   2022-12-15| 894.0781000000001|  NULL|\n",
            "|      Teresaburgh|   6573|    Jeffrey Chavez|          Books|676.02|2024-12-14|     Cancelled|    0.19|     Wallet|   2022-07-30|          547.5762|  NULL|\n",
            "|     Lake Roberto|   4611|      Donald Booth|        Fashion|657.96|2025-01-12|      Returned|    0.01|     Wallet|   2021-08-07|          651.3804|  East|\n",
            "|       Tracyville|   9837|     Tammy Sellers|          Books| 46.15|2024-09-10|     Cancelled|    0.05|        UPI|   2021-12-17|           43.8425|  NULL|\n",
            "|      Jeffreyberg|   9830|       Kevin Hurst|          Books|870.55|2024-04-08|     Delivered|    0.22|     Wallet|   2022-08-02|           679.029|  NULL|\n",
            "|      Lake Joseph|   5554|        Roy Martin|           Toys|148.33|2024-03-04|     Cancelled|    0.27|       Cash|   2023-04-29|          108.2809| North|\n",
            "| West Melanieview|   3547|    Phillip Garcia|        Fashion|606.89|2024-03-24|      Returned|    0.15|     Wallet|   2020-08-08|          515.8565|  NULL|\n",
            "|    New Jamesside|   7912|      Brandon Hall|      Groceries| 905.0|2024-09-12|     Cancelled|    0.03|     Wallet|   2022-03-15|            877.85|  NULL|\n",
            "|         Grayside|   2169|    Carolyn Daniel|    Electronics| 14.09|2023-10-07|     Delivered|    0.25|Credit Card|   2021-05-09|10.567499999999999| South|\n",
            "|        Mariastad|   8527|      Valerie Gray|           Toys| 77.87|2024-08-04|     Delivered|    0.17|       Cash|   2022-11-15| 64.63210000000001|  West|\n",
            "|      Richardland|   6313|       Patty Perez|      Groceries| 79.83|2023-06-27|     Cancelled|    0.12|Credit Card|   2021-04-25|           70.2504|  NULL|\n",
            "+-----------------+-------+------------------+---------------+------+----------+--------------+--------+-----------+-------------+------------------+------+\n",
            "only showing top 20 rows\n",
            "\n",
            "+-------+----------------+---------------+------+----------+--------------+--------+-----------------+-----------+-------------+------------------+\n",
            "|OrderID|    CustomerName|ProductCategory|Amount| OrderDate|DeliveryStatus|Discount|             City|PaymentMode|CustomerSince|       FinalAmount|\n",
            "+-------+----------------+---------------+------+----------+--------------+--------+-----------------+-----------+-------------+------------------+\n",
            "|   2169|  Carolyn Daniel|    Electronics| 14.09|2023-10-07|     Delivered|    0.25|         Grayside|Credit Card|   2021-05-09|10.567499999999999|\n",
            "|   6313|     Patty Perez|      Groceries| 79.83|2023-06-27|     Cancelled|    0.12|      Richardland|Credit Card|   2021-04-25|           70.2504|\n",
            "|   2040|   Kyle Mcdonald|           Toys|327.52|2023-12-15|      Returned|    0.06|Lake Jenniferside|     Wallet|   2021-07-21|307.86879999999996|\n",
            "|   6038|   David Bradley|        Fashion|348.51|2023-08-03|      Returned|    0.23|    Lake Toddland|        UPI|   2022-09-07|268.35269999999997|\n",
            "|   3060|     John Pierce|           Toys|362.09|2023-12-25|      Returned|    0.03|       Brandtside|       Cash|   2023-05-09|351.22729999999996|\n",
            "|   5061|  George Chapman|    Electronics|251.89|2023-11-28|       Pending|    0.27|       North Chad|       Cash|   2023-02-07|183.87969999999999|\n",
            "|   1964|    Taylor Heath|           Toys| 578.5|2023-07-28|     Cancelled|    0.01|   West Elizabeth|       Cash|   2021-04-30|           572.715|\n",
            "|   2612|Nicholas Mcbride|        Fashion|219.05|2023-08-26|     Delivered|    0.27|       East James|        UPI|   2022-04-29|          159.9065|\n",
            "|   1828|  Kimberly Smith|           Toys| 89.01|2023-08-14|     Delivered|    0.04|     East Richard|Credit Card|   2022-06-19|           85.4496|\n",
            "|   4502|Stephanie Martin|    Electronics|656.32|2023-06-04|       Pending|     0.2|       Bakermouth|Credit Card|   2021-08-19|           525.056|\n",
            "|   1958| Kimberly Adkins|    Electronics| 98.66|2023-07-17|     Cancelled|    0.13|  New Thomashaven|     Wallet|   2021-02-01|           85.8342|\n",
            "|   5905| Ashley Humphrey|          Books|844.87|2023-12-25|       Pending|    0.28|  North Juliaberg|       Cash|   2021-07-30| 608.3063999999999|\n",
            "|   8239|   Jessica Smith|          Books|610.08|2023-07-31|     Delivered|    0.09|        New Barry|        UPI|   2021-12-27|          555.1728|\n",
            "|   9379|      Steven Lee|          Books|181.97|2023-07-07|      Returned|    0.22|        Smithside|        UPI|   2023-05-04|          141.9366|\n",
            "|   3851|Elizabeth Kelley|        Fashion|517.15|2023-06-03|     Cancelled|    0.19|    Justinchester|Credit Card|   2022-11-19|418.89149999999995|\n",
            "|   1757|   John Atkinson|          Books|724.04|2023-07-29|      Returned|    0.06|       Perryshire|       Cash|   2021-03-31| 680.5975999999999|\n",
            "|   9486|   Justin Lowery|    Electronics|554.55|2023-09-05|       Pending|    0.24|    Andersonmouth|     Wallet|   2023-04-05|421.45799999999997|\n",
            "|   3607|     Karen Green|          Books|621.24|2023-12-12|     Cancelled|    0.18|       Katiehaven|        UPI|   2022-06-24|          509.4168|\n",
            "|   4919|  Billy Mitchell|    Electronics|653.51|2023-12-31|     Delivered|    0.08|         Luisside|        UPI|   2020-10-05|          601.2292|\n",
            "|   3267| James Hernandez|          Books|593.98|2023-11-16|      Returned|     0.2|   South Rickside|     Wallet|   2022-05-26|           475.184|\n",
            "+-------+----------------+---------------+------+----------+--------------+--------+-----------------+-----------+-------------+------------------+\n",
            "only showing top 20 rows\n",
            "\n"
          ]
        }
      ]
    },
    {
      "cell_type": "markdown",
      "source": [
        "**Complex JSON Simulation**"
      ],
      "metadata": {
        "id": "VhKKPGOSFY0E"
      }
    },
    {
      "cell_type": "code",
      "source": [
        "from pyspark.sql.functions import to_json, struct, from_json, schema_of_json\n",
        "#1.Convert to JSON string\n",
        "sales_json =a.withColumn(\"json_data\", to_json(struct([col(c) for c in a.columns])))\n",
        "sales_json.select(\"json_data\").show(truncate=False)\n",
        "#2.Load back to DataFrame\n",
        "sample_json = sales_json.select(\"json_data\").first()[\"json_data\"]\n",
        "json_schema = schema_of_json(sample_json)\n",
        "df_loaded = sales_json.select(from_json(\"json_data\", json_schema).alias(\"data\")).select(\"data.*\")\n",
        "df_loaded.show()\n",
        "#save the data in json\n",
        "a.write.mode(\"overwrite\").json(\"sales_json\")"
      ],
      "metadata": {
        "colab": {
          "base_uri": "https://localhost:8080/"
        },
        "id": "fRslDuelE97o",
        "outputId": "a537879d-752e-4e29-bf09-d7ad929d88e8"
      },
      "execution_count": 20,
      "outputs": [
        {
          "output_type": "stream",
          "name": "stdout",
          "text": [
            "+---------------------------------------------------------------------------------------------------------------------------------------------------------------------------------------------------------------------------------------------------------------------------------+\n",
            "|json_data                                                                                                                                                                                                                                                                        |\n",
            "+---------------------------------------------------------------------------------------------------------------------------------------------------------------------------------------------------------------------------------------------------------------------------------+\n",
            "|{\"OrderID\":2824,\"CustomerName\":\"Donald Walker\",\"ProductCategory\":\"Books\",\"Amount\":783.04,\"OrderDate\":\"2024-12-26\",\"DeliveryStatus\":\"Returned\",\"Discount\":0.15,\"City\":\"Lake Joyside\",\"PaymentMode\":\"Credit Card\",\"CustomerSince\":\"2020-10-15\",\"FinalAmount\":665.584}              |\n",
            "|{\"OrderID\":7912,\"CustomerName\":\"Brandon Hall\",\"ProductCategory\":\"Groceries\",\"Amount\":905.0,\"OrderDate\":\"2024-09-12\",\"DeliveryStatus\":\"Cancelled\",\"Discount\":0.03,\"City\":\"New Jamesside\",\"PaymentMode\":\"Wallet\",\"CustomerSince\":\"2022-03-15\",\"FinalAmount\":877.85}                |\n",
            "|{\"OrderID\":4611,\"CustomerName\":\"Donald Booth\",\"ProductCategory\":\"Fashion\",\"Amount\":657.96,\"OrderDate\":\"2025-01-12\",\"DeliveryStatus\":\"Returned\",\"Discount\":0.01,\"City\":\"Lake Roberto\",\"PaymentMode\":\"Wallet\",\"CustomerSince\":\"2021-08-07\",\"FinalAmount\":651.3804}                 |\n",
            "|{\"OrderID\":3547,\"CustomerName\":\"Phillip Garcia\",\"ProductCategory\":\"Fashion\",\"Amount\":606.89,\"OrderDate\":\"2024-03-24\",\"DeliveryStatus\":\"Returned\",\"Discount\":0.15,\"City\":\"West Melanieview\",\"PaymentMode\":\"Wallet\",\"CustomerSince\":\"2020-08-08\",\"FinalAmount\":515.8565}           |\n",
            "|{\"OrderID\":8527,\"CustomerName\":\"Valerie Gray\",\"ProductCategory\":\"Toys\",\"Amount\":77.87,\"OrderDate\":\"2024-08-04\",\"DeliveryStatus\":\"Delivered\",\"Discount\":0.17,\"City\":\"Mariastad\",\"PaymentMode\":\"Cash\",\"CustomerSince\":\"2022-11-15\",\"FinalAmount\":64.63210000000001}                |\n",
            "|{\"OrderID\":4150,\"CustomerName\":\"Amber Perez\",\"ProductCategory\":\"Books\",\"Amount\":352.37,\"OrderDate\":\"2024-01-13\",\"DeliveryStatus\":\"Cancelled\",\"Discount\":0.24,\"City\":\"Port Jesseville\",\"PaymentMode\":\"Cash\",\"CustomerSince\":\"2022-01-13\",\"FinalAmount\":267.8012}                  |\n",
            "|{\"OrderID\":5554,\"CustomerName\":\"Roy Martin\",\"ProductCategory\":\"Toys\",\"Amount\":148.33,\"OrderDate\":\"2024-03-04\",\"DeliveryStatus\":\"Cancelled\",\"Discount\":0.27,\"City\":\"Lake Joseph\",\"PaymentMode\":\"Cash\",\"CustomerSince\":\"2023-04-29\",\"FinalAmount\":108.2809}                        |\n",
            "|{\"OrderID\":2169,\"CustomerName\":\"Carolyn Daniel\",\"ProductCategory\":\"Electronics\",\"Amount\":14.09,\"OrderDate\":\"2023-10-07\",\"DeliveryStatus\":\"Delivered\",\"Discount\":0.25,\"City\":\"Grayside\",\"PaymentMode\":\"Credit Card\",\"CustomerSince\":\"2021-05-09\",\"FinalAmount\":10.567499999999999}|\n",
            "|{\"OrderID\":6313,\"CustomerName\":\"Patty Perez\",\"ProductCategory\":\"Groceries\",\"Amount\":79.83,\"OrderDate\":\"2023-06-27\",\"DeliveryStatus\":\"Cancelled\",\"Discount\":0.12,\"City\":\"Richardland\",\"PaymentMode\":\"Credit Card\",\"CustomerSince\":\"2021-04-25\",\"FinalAmount\":70.2504}             |\n",
            "|{\"OrderID\":6155,\"CustomerName\":\"Jonathan Wilkerson\",\"ProductCategory\":\"Fashion\",\"Amount\":882.68,\"OrderDate\":\"2024-10-14\",\"DeliveryStatus\":\"Cancelled\",\"Discount\":0.27,\"City\":\"Thomasberg\",\"PaymentMode\":\"Cash\",\"CustomerSince\":\"2021-06-20\",\"FinalAmount\":644.3563999999999}     |\n",
            "|{\"OrderID\":9830,\"CustomerName\":\"Kevin Hurst\",\"ProductCategory\":\"Books\",\"Amount\":870.55,\"OrderDate\":\"2024-04-08\",\"DeliveryStatus\":\"Delivered\",\"Discount\":0.22,\"City\":\"Jeffreyberg\",\"PaymentMode\":\"Wallet\",\"CustomerSince\":\"2022-08-02\",\"FinalAmount\":679.029}                     |\n",
            "|{\"OrderID\":9085,\"CustomerName\":\"Anthony Rodriguez\",\"ProductCategory\":\"Groceries\",\"Amount\":921.73,\"OrderDate\":\"2024-10-02\",\"DeliveryStatus\":\"Cancelled\",\"Discount\":0.03,\"City\":\"Port Erin\",\"PaymentMode\":\"UPI\",\"CustomerSince\":\"2022-12-15\",\"FinalAmount\":894.0781000000001}      |\n",
            "|{\"OrderID\":2040,\"CustomerName\":\"Kyle Mcdonald\",\"ProductCategory\":\"Toys\",\"Amount\":327.52,\"OrderDate\":\"2023-12-15\",\"DeliveryStatus\":\"Returned\",\"Discount\":0.06,\"City\":\"Lake Jenniferside\",\"PaymentMode\":\"Wallet\",\"CustomerSince\":\"2021-07-21\",\"FinalAmount\":307.86879999999996}    |\n",
            "|{\"OrderID\":6573,\"CustomerName\":\"Jeffrey Chavez\",\"ProductCategory\":\"Books\",\"Amount\":676.02,\"OrderDate\":\"2024-12-14\",\"DeliveryStatus\":\"Cancelled\",\"Discount\":0.19,\"City\":\"Teresaburgh\",\"PaymentMode\":\"Wallet\",\"CustomerSince\":\"2022-07-30\",\"FinalAmount\":547.5762}                 |\n",
            "|{\"OrderID\":2743,\"CustomerName\":\"Elizabeth Fowler\",\"ProductCategory\":\"Electronics\",\"Amount\":47.06,\"OrderDate\":\"2024-09-18\",\"DeliveryStatus\":\"Delivered\",\"Discount\":0.13,\"City\":\"East Nathaniel\",\"PaymentMode\":\"Cash\",\"CustomerSince\":\"2021-02-07\",\"FinalAmount\":40.9422}          |\n",
            "|{\"OrderID\":9837,\"CustomerName\":\"Tammy Sellers\",\"ProductCategory\":\"Books\",\"Amount\":46.15,\"OrderDate\":\"2024-09-10\",\"DeliveryStatus\":\"Cancelled\",\"Discount\":0.05,\"City\":\"Tracyville\",\"PaymentMode\":\"UPI\",\"CustomerSince\":\"2021-12-17\",\"FinalAmount\":43.8425}                        |\n",
            "|{\"OrderID\":6038,\"CustomerName\":\"David Bradley\",\"ProductCategory\":\"Fashion\",\"Amount\":348.51,\"OrderDate\":\"2023-08-03\",\"DeliveryStatus\":\"Returned\",\"Discount\":0.23,\"City\":\"Lake Toddland\",\"PaymentMode\":\"UPI\",\"CustomerSince\":\"2022-09-07\",\"FinalAmount\":268.35269999999997}        |\n",
            "|{\"OrderID\":3060,\"CustomerName\":\"John Pierce\",\"ProductCategory\":\"Toys\",\"Amount\":362.09,\"OrderDate\":\"2023-12-25\",\"DeliveryStatus\":\"Returned\",\"Discount\":0.03,\"City\":\"Brandtside\",\"PaymentMode\":\"Cash\",\"CustomerSince\":\"2023-05-09\",\"FinalAmount\":351.22729999999996}               |\n",
            "|{\"OrderID\":4295,\"CustomerName\":\"Jennifer Powers\",\"ProductCategory\":\"Electronics\",\"Amount\":684.26,\"OrderDate\":\"2024-03-19\",\"DeliveryStatus\":\"Cancelled\",\"Discount\":0.21,\"City\":\"Lammouth\",\"PaymentMode\":\"UPI\",\"CustomerSince\":\"2020-12-06\",\"FinalAmount\":540.5654}                |\n",
            "|{\"OrderID\":5061,\"CustomerName\":\"George Chapman\",\"ProductCategory\":\"Electronics\",\"Amount\":251.89,\"OrderDate\":\"2023-11-28\",\"DeliveryStatus\":\"Pending\",\"Discount\":0.27,\"City\":\"North Chad\",\"PaymentMode\":\"Cash\",\"CustomerSince\":\"2023-02-07\",\"FinalAmount\":183.87969999999999}      |\n",
            "+---------------------------------------------------------------------------------------------------------------------------------------------------------------------------------------------------------------------------------------------------------------------------------+\n",
            "only showing top 20 rows\n",
            "\n",
            "+------+-----------------+------------------+-------------+--------------+--------+------------------+----------+-------+-----------+---------------+\n",
            "|Amount|             City|      CustomerName|CustomerSince|DeliveryStatus|Discount|       FinalAmount| OrderDate|OrderID|PaymentMode|ProductCategory|\n",
            "+------+-----------------+------------------+-------------+--------------+--------+------------------+----------+-------+-----------+---------------+\n",
            "|783.04|     Lake Joyside|     Donald Walker|   2020-10-15|      Returned|    0.15|           665.584|2024-12-26|   2824|Credit Card|          Books|\n",
            "| 905.0|    New Jamesside|      Brandon Hall|   2022-03-15|     Cancelled|    0.03|            877.85|2024-09-12|   7912|     Wallet|      Groceries|\n",
            "|657.96|     Lake Roberto|      Donald Booth|   2021-08-07|      Returned|    0.01|          651.3804|2025-01-12|   4611|     Wallet|        Fashion|\n",
            "|606.89| West Melanieview|    Phillip Garcia|   2020-08-08|      Returned|    0.15|          515.8565|2024-03-24|   3547|     Wallet|        Fashion|\n",
            "| 77.87|        Mariastad|      Valerie Gray|   2022-11-15|     Delivered|    0.17| 64.63210000000001|2024-08-04|   8527|       Cash|           Toys|\n",
            "|352.37|  Port Jesseville|       Amber Perez|   2022-01-13|     Cancelled|    0.24|          267.8012|2024-01-13|   4150|       Cash|          Books|\n",
            "|148.33|      Lake Joseph|        Roy Martin|   2023-04-29|     Cancelled|    0.27|          108.2809|2024-03-04|   5554|       Cash|           Toys|\n",
            "| 14.09|         Grayside|    Carolyn Daniel|   2021-05-09|     Delivered|    0.25|10.567499999999999|2023-10-07|   2169|Credit Card|    Electronics|\n",
            "| 79.83|      Richardland|       Patty Perez|   2021-04-25|     Cancelled|    0.12|           70.2504|2023-06-27|   6313|Credit Card|      Groceries|\n",
            "|882.68|       Thomasberg|Jonathan Wilkerson|   2021-06-20|     Cancelled|    0.27| 644.3563999999999|2024-10-14|   6155|       Cash|        Fashion|\n",
            "|870.55|      Jeffreyberg|       Kevin Hurst|   2022-08-02|     Delivered|    0.22|           679.029|2024-04-08|   9830|     Wallet|          Books|\n",
            "|921.73|        Port Erin| Anthony Rodriguez|   2022-12-15|     Cancelled|    0.03| 894.0781000000001|2024-10-02|   9085|        UPI|      Groceries|\n",
            "|327.52|Lake Jenniferside|     Kyle Mcdonald|   2021-07-21|      Returned|    0.06|307.86879999999996|2023-12-15|   2040|     Wallet|           Toys|\n",
            "|676.02|      Teresaburgh|    Jeffrey Chavez|   2022-07-30|     Cancelled|    0.19|          547.5762|2024-12-14|   6573|     Wallet|          Books|\n",
            "| 47.06|   East Nathaniel|  Elizabeth Fowler|   2021-02-07|     Delivered|    0.13|           40.9422|2024-09-18|   2743|       Cash|    Electronics|\n",
            "| 46.15|       Tracyville|     Tammy Sellers|   2021-12-17|     Cancelled|    0.05|           43.8425|2024-09-10|   9837|        UPI|          Books|\n",
            "|348.51|    Lake Toddland|     David Bradley|   2022-09-07|      Returned|    0.23|268.35269999999997|2023-08-03|   6038|        UPI|        Fashion|\n",
            "|362.09|       Brandtside|       John Pierce|   2023-05-09|      Returned|    0.03|351.22729999999996|2023-12-25|   3060|       Cash|           Toys|\n",
            "|684.26|         Lammouth|   Jennifer Powers|   2020-12-06|     Cancelled|    0.21|          540.5654|2024-03-19|   4295|        UPI|    Electronics|\n",
            "|251.89|       North Chad|    George Chapman|   2023-02-07|       Pending|    0.27|183.87969999999999|2023-11-28|   5061|       Cash|    Electronics|\n",
            "+------+-----------------+------------------+-------------+--------------+--------+------------------+----------+-------+-----------+---------------+\n",
            "only showing top 20 rows\n",
            "\n"
          ]
        }
      ]
    },
    {
      "cell_type": "markdown",
      "source": [
        "**Applying Functions**"
      ],
      "metadata": {
        "id": "efLemyliGSsl"
      }
    },
    {
      "cell_type": "code",
      "source": [
        "from pyspark.sql.functions import udf\n",
        "from pyspark.sql.types import StringType\n",
        "# user defined function\n",
        "def tag_order(amount):\n",
        "    if amount > 800:\n",
        "        return \"Big\"\n",
        "    elif amount > 400:\n",
        "        return \"Medium\"\n",
        "    else:\n",
        "        return \"Small\"\n",
        "order_udf = udf(tag_order, StringType())\n",
        "# Apply User defined function\n",
        "df_tagged = a.withColumn(\"OrderTag\",order_udf(col(\"Amount\")))\n",
        "df_tagged.select(\"OrderID\", \"Amount\", \"OrderTag\").show()\n"
      ],
      "metadata": {
        "colab": {
          "base_uri": "https://localhost:8080/"
        },
        "id": "6eKzxBRgFu1C",
        "outputId": "408a71a0-e426-450c-ea9f-28ae3f162dd4"
      },
      "execution_count": 22,
      "outputs": [
        {
          "output_type": "stream",
          "name": "stdout",
          "text": [
            "+-------+------+--------+\n",
            "|OrderID|Amount|OrderTag|\n",
            "+-------+------+--------+\n",
            "|   2824|783.04|  Medium|\n",
            "|   7912| 905.0|     Big|\n",
            "|   4611|657.96|  Medium|\n",
            "|   3547|606.89|  Medium|\n",
            "|   8527| 77.87|   Small|\n",
            "|   4150|352.37|   Small|\n",
            "|   5554|148.33|   Small|\n",
            "|   2169| 14.09|   Small|\n",
            "|   6313| 79.83|   Small|\n",
            "|   6155|882.68|     Big|\n",
            "|   9830|870.55|     Big|\n",
            "|   9085|921.73|     Big|\n",
            "|   2040|327.52|   Small|\n",
            "|   6573|676.02|  Medium|\n",
            "|   2743| 47.06|   Small|\n",
            "|   9837| 46.15|   Small|\n",
            "|   6038|348.51|   Small|\n",
            "|   3060|362.09|   Small|\n",
            "|   4295|684.26|  Medium|\n",
            "|   5061|251.89|   Small|\n",
            "+-------+------+--------+\n",
            "only showing top 20 rows\n",
            "\n"
          ]
        }
      ]
    },
    {
      "cell_type": "code",
      "source": [
        "!pip install dash"
      ],
      "metadata": {
        "colab": {
          "base_uri": "https://localhost:8080/"
        },
        "id": "WObOwRRzGdR6",
        "outputId": "b0f343fd-73b8-46bf-9068-a5222dcc0f3d"
      },
      "execution_count": 25,
      "outputs": [
        {
          "output_type": "stream",
          "name": "stdout",
          "text": [
            "Collecting dash\n",
            "  Downloading dash-3.0.4-py3-none-any.whl.metadata (10 kB)\n",
            "Collecting Flask<3.1,>=1.0.4 (from dash)\n",
            "  Downloading flask-3.0.3-py3-none-any.whl.metadata (3.2 kB)\n",
            "Collecting Werkzeug<3.1 (from dash)\n",
            "  Downloading werkzeug-3.0.6-py3-none-any.whl.metadata (3.7 kB)\n",
            "Requirement already satisfied: plotly>=5.0.0 in /usr/local/lib/python3.11/dist-packages (from dash) (5.24.1)\n",
            "Requirement already satisfied: importlib-metadata in /usr/local/lib/python3.11/dist-packages (from dash) (8.7.0)\n",
            "Requirement already satisfied: typing-extensions>=4.1.1 in /usr/local/lib/python3.11/dist-packages (from dash) (4.13.2)\n",
            "Requirement already satisfied: requests in /usr/local/lib/python3.11/dist-packages (from dash) (2.32.3)\n",
            "Collecting retrying (from dash)\n",
            "  Downloading retrying-1.3.4-py3-none-any.whl.metadata (6.9 kB)\n",
            "Requirement already satisfied: nest-asyncio in /usr/local/lib/python3.11/dist-packages (from dash) (1.6.0)\n",
            "Requirement already satisfied: setuptools in /usr/local/lib/python3.11/dist-packages (from dash) (75.2.0)\n",
            "Requirement already satisfied: Jinja2>=3.1.2 in /usr/local/lib/python3.11/dist-packages (from Flask<3.1,>=1.0.4->dash) (3.1.6)\n",
            "Requirement already satisfied: itsdangerous>=2.1.2 in /usr/local/lib/python3.11/dist-packages (from Flask<3.1,>=1.0.4->dash) (2.2.0)\n",
            "Requirement already satisfied: click>=8.1.3 in /usr/local/lib/python3.11/dist-packages (from Flask<3.1,>=1.0.4->dash) (8.2.1)\n",
            "Requirement already satisfied: blinker>=1.6.2 in /usr/local/lib/python3.11/dist-packages (from Flask<3.1,>=1.0.4->dash) (1.9.0)\n",
            "Requirement already satisfied: tenacity>=6.2.0 in /usr/local/lib/python3.11/dist-packages (from plotly>=5.0.0->dash) (9.1.2)\n",
            "Requirement already satisfied: packaging in /usr/local/lib/python3.11/dist-packages (from plotly>=5.0.0->dash) (24.2)\n",
            "Requirement already satisfied: MarkupSafe>=2.1.1 in /usr/local/lib/python3.11/dist-packages (from Werkzeug<3.1->dash) (3.0.2)\n",
            "Requirement already satisfied: zipp>=3.20 in /usr/local/lib/python3.11/dist-packages (from importlib-metadata->dash) (3.21.0)\n",
            "Requirement already satisfied: charset-normalizer<4,>=2 in /usr/local/lib/python3.11/dist-packages (from requests->dash) (3.4.2)\n",
            "Requirement already satisfied: idna<4,>=2.5 in /usr/local/lib/python3.11/dist-packages (from requests->dash) (3.10)\n",
            "Requirement already satisfied: urllib3<3,>=1.21.1 in /usr/local/lib/python3.11/dist-packages (from requests->dash) (2.4.0)\n",
            "Requirement already satisfied: certifi>=2017.4.17 in /usr/local/lib/python3.11/dist-packages (from requests->dash) (2025.4.26)\n",
            "Requirement already satisfied: six>=1.7.0 in /usr/local/lib/python3.11/dist-packages (from retrying->dash) (1.17.0)\n",
            "Downloading dash-3.0.4-py3-none-any.whl (7.9 MB)\n",
            "\u001b[2K   \u001b[90m━━━━━━━━━━━━━━━━━━━━━━━━━━━━━━━━━━━━━━━━\u001b[0m \u001b[32m7.9/7.9 MB\u001b[0m \u001b[31m38.8 MB/s\u001b[0m eta \u001b[36m0:00:00\u001b[0m\n",
            "\u001b[?25hDownloading flask-3.0.3-py3-none-any.whl (101 kB)\n",
            "\u001b[2K   \u001b[90m━━━━━━━━━━━━━━━━━━━━━━━━━━━━━━━━━━━━━━━━\u001b[0m \u001b[32m101.7/101.7 kB\u001b[0m \u001b[31m7.7 MB/s\u001b[0m eta \u001b[36m0:00:00\u001b[0m\n",
            "\u001b[?25hDownloading werkzeug-3.0.6-py3-none-any.whl (227 kB)\n",
            "\u001b[2K   \u001b[90m━━━━━━━━━━━━━━━━━━━━━━━━━━━━━━━━━━━━━━━━\u001b[0m \u001b[32m228.0/228.0 kB\u001b[0m \u001b[31m15.8 MB/s\u001b[0m eta \u001b[36m0:00:00\u001b[0m\n",
            "\u001b[?25hDownloading retrying-1.3.4-py3-none-any.whl (11 kB)\n",
            "Installing collected packages: Werkzeug, retrying, Flask, dash\n",
            "  Attempting uninstall: Werkzeug\n",
            "    Found existing installation: Werkzeug 3.1.3\n",
            "    Uninstalling Werkzeug-3.1.3:\n",
            "      Successfully uninstalled Werkzeug-3.1.3\n",
            "  Attempting uninstall: Flask\n",
            "    Found existing installation: Flask 3.1.1\n",
            "    Uninstalling Flask-3.1.1:\n",
            "      Successfully uninstalled Flask-3.1.1\n",
            "Successfully installed Flask-3.0.3 Werkzeug-3.0.6 dash-3.0.4 retrying-1.3.4\n"
          ]
        }
      ]
    },
    {
      "cell_type": "code",
      "source": [],
      "metadata": {
        "id": "ogaUfH7aJJoi"
      },
      "execution_count": null,
      "outputs": []
    }
  ]
}