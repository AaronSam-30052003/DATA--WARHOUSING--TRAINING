{
 "cells": [
  {
   "cell_type": "markdown",
   "metadata": {
    "application/vnd.databricks.v1+cell": {
     "cellMetadata": {},
     "inputWidgets": {},
     "nuid": "a2a4fcf7-244d-4ce4-83fe-fe046e1e6cab",
     "showTitle": false,
     "tableResultSettingsMap": {},
     "title": ""
    }
   },
   "source": [
    "**Intialize the Spark Session**"
   ]
  },
  {
   "cell_type": "code",
   "execution_count": 0,
   "metadata": {
    "application/vnd.databricks.v1+cell": {
     "cellMetadata": {
      "byteLimit": 2048000,
      "rowLimit": 10000
     },
     "inputWidgets": {},
     "nuid": "99c5f278-679b-4c3e-ac99-2c22bb58e738",
     "showTitle": false,
     "tableResultSettingsMap": {},
     "title": ""
    }
   },
   "outputs": [
    {
     "output_type": "execute_result",
     "data": {
      "text/html": [
       "\n",
       "            <div>\n",
       "                <p><b>SparkSession - hive</b></p>\n",
       "                \n",
       "        <div>\n",
       "            <p><b>SparkContext</b></p>\n",
       "\n",
       "            <p><a href=\"/?o=3525126442407722#setting/sparkui/0611-043339-3vb7b9iv/driver-3407856474938293653\">Spark UI</a></p>\n",
       "\n",
       "            <dl>\n",
       "              <dt>Version</dt>\n",
       "                <dd><code>v3.5.0</code></dd>\n",
       "              <dt>Master</dt>\n",
       "                <dd><code>local[*, 4]</code></dd>\n",
       "              <dt>AppName</dt>\n",
       "                <dd><code>Databricks Shell</code></dd>\n",
       "            </dl>\n",
       "        </div>\n",
       "        \n",
       "            </div>\n",
       "        "
      ],
      "text/plain": [
       "<pyspark.sql.session.SparkSession at 0x71f4e23d06d0>"
      ]
     },
     "execution_count": 1,
     "metadata": {},
     "output_type": "execute_result"
    }
   ],
   "source": [
    "from pyspark.sql import SparkSession\n",
    "spark=SparkSession.builder\\\n",
    "      .appName(\"assignment-2\")\\\n",
    "      .getOrCreate()\n",
    "spark"
   ]
  },
  {
   "cell_type": "markdown",
   "metadata": {
    "application/vnd.databricks.v1+cell": {
     "cellMetadata": {},
     "inputWidgets": {},
     "nuid": "e446eacd-76bb-4ccc-92fc-7fc7ad132263",
     "showTitle": false,
     "tableResultSettingsMap": {},
     "title": ""
    }
   },
   "source": [
    "**Basics**"
   ]
  },
  {
   "cell_type": "code",
   "execution_count": 0,
   "metadata": {
    "application/vnd.databricks.v1+cell": {
     "cellMetadata": {
      "byteLimit": 2048000,
      "rowLimit": 10000
     },
     "inputWidgets": {},
     "nuid": "36f8810f-2b81-4ac6-bf8f-95b193c25cee",
     "showTitle": false,
     "tableResultSettingsMap": {},
     "title": ""
    }
   },
   "outputs": [
    {
     "output_type": "stream",
     "name": "stdout",
     "output_type": "stream",
     "text": [
      "root\n |-- TransactionID: string (nullable = true)\n |-- Customer: string (nullable = true)\n |-- City: string (nullable = true)\n |-- Product: string (nullable = true)\n |-- Category: string (nullable = true)\n |-- Quantity: integer (nullable = true)\n |-- UnitPrice: integer (nullable = true)\n |-- TotalPrice: integer (nullable = true)\n |-- TransactionDate: date (nullable = true)\n |-- PaymentMode: string (nullable = true)\n\n+-------------+--------+---------+-------+-----------+--------+---------+----------+---------------+------------+\n|TransactionID|Customer|     City|Product|   Category|Quantity|UnitPrice|TotalPrice|TransactionDate| PaymentMode|\n+-------------+--------+---------+-------+-----------+--------+---------+----------+---------------+------------+\n|        T1001|     Ali|   Mumbai| Laptop|Electronics|       1|    70000|     70000|     2024-01-15|       Card |\n|        T1002|    Neha|Bangalore| Tablet|Electronics|       2|    30000|     60000|     2024-01-20|        UPI |\n|        T1003|    Ravi|Hyderabad|   Desk|  Furniture|       1|    15000|     15000|     2024-02-10|Net Banking |\n|        T1004|    Zoya|    Delhi|  Chair|  Furniture|       4|     5000|     20000|     2024-02-12|       Card |\n|        T1005|   Karan|   Mumbai|  Phone|Electronics|       1|    50000|     50000|     2024-02-15|       Card |\n|        T1006|   Farah|    Delhi|  Mouse|Electronics|       3|     1000|      3000|     2024-02-18|        Cash|\n+-------------+--------+---------+-------+-----------+--------+---------+----------+---------------+------------+\n\n"
     ]
    }
   ],
   "source": [
    "#1.Load data with schema\n",
    "from pyspark.sql.types import StructType, StructField, StringType, IntegerType, DateType\n",
    "schema = StructType([\n",
    "    StructField(\"TransactionID\", StringType(), True),\n",
    "    StructField(\"Customer\", StringType(), True),\n",
    "    StructField(\"City\", StringType(), True),\n",
    "    StructField(\"Product\", StringType(), True),\n",
    "    StructField(\"Category\", StringType(), True),\n",
    "    StructField(\"Quantity\", IntegerType(), True),\n",
    "    StructField(\"UnitPrice\", IntegerType(), True),\n",
    "    StructField(\"TotalPrice\", IntegerType(), True),\n",
    "    StructField(\"TransactionDate\", DateType(), True),\n",
    "    StructField(\"PaymentMode\", StringType(), True)\n",
    "])\n",
    "retail= spark.read.option(\"header\", True).schema(schema).csv(\"file:/Workspace/Shared/retail_data.csv\")\n",
    "retail.printSchema()\n",
    "retail.show()"
   ]
  },
  {
   "cell_type": "markdown",
   "metadata": {
    "application/vnd.databricks.v1+cell": {
     "cellMetadata": {},
     "inputWidgets": {},
     "nuid": "55cf8eb7-3a10-4f6b-a258-656b5afe9f07",
     "showTitle": false,
     "tableResultSettingsMap": {},
     "title": ""
    }
   },
   "source": [
    "**Data Exploration & Filtering**"
   ]
  },
  {
   "cell_type": "code",
   "execution_count": 0,
   "metadata": {
    "application/vnd.databricks.v1+cell": {
     "cellMetadata": {
      "byteLimit": 2048000,
      "rowLimit": 10000
     },
     "inputWidgets": {},
     "nuid": "01afc020-4ffd-4dcd-aae8-88c8c4bdbc5f",
     "showTitle": false,
     "tableResultSettingsMap": {},
     "title": ""
    }
   },
   "outputs": [
    {
     "output_type": "stream",
     "name": "stdout",
     "output_type": "stream",
     "text": [
      "total price > 40000:\n+-------------+--------+---------+-------+-----------+--------+---------+----------+---------------+-----------+\n|TransactionID|Customer|     City|Product|   Category|Quantity|UnitPrice|TotalPrice|TransactionDate|PaymentMode|\n+-------------+--------+---------+-------+-----------+--------+---------+----------+---------------+-----------+\n|        T1001|     Ali|   Mumbai| Laptop|Electronics|       1|    70000|     70000|     2024-01-15|      Card |\n|        T1002|    Neha|Bangalore| Tablet|Electronics|       2|    30000|     60000|     2024-01-20|       UPI |\n|        T1005|   Karan|   Mumbai|  Phone|Electronics|       1|    50000|     50000|     2024-02-15|      Card |\n+-------------+--------+---------+-------+-----------+--------+---------+----------+---------------+-----------+\n\nunique cities:\n+---------+\n|     City|\n+---------+\n|Bangalore|\n|   Mumbai|\n|    Delhi|\n|Hyderabad|\n+---------+\n\ntransactions from Delhi:\n+-------------+--------+-----+-------+-----------+--------+---------+----------+---------------+-----------+\n|TransactionID|Customer| City|Product|   Category|Quantity|UnitPrice|TotalPrice|TransactionDate|PaymentMode|\n+-------------+--------+-----+-------+-----------+--------+---------+----------+---------------+-----------+\n|        T1004|    Zoya|Delhi|  Chair|  Furniture|       4|     5000|     20000|     2024-02-12|      Card |\n|        T1006|   Farah|Delhi|  Mouse|Electronics|       3|     1000|      3000|     2024-02-18|       Cash|\n+-------------+--------+-----+-------+-----------+--------+---------+----------+---------------+-----------+\n\n"
     ]
    }
   ],
   "source": [
    "#3.Filter transactions where TotalPrice > 40000.\n",
    "print(\"total price > 40000:\")\n",
    "retail.filter(retail.TotalPrice > 40000).show()\n",
    "#4.Get unique cities from the dataset.\n",
    "print(\"unique cities:\")\n",
    "retail.select(\"City\").distinct().show()\n",
    "#5.Find all transactions from \"Delhi\" using .filter() and .where().\n",
    "print(\"transactions from Delhi:\")\n",
    "retail.where(retail.City == \"Delhi\").show()"
   ]
  },
  {
   "cell_type": "markdown",
   "metadata": {
    "application/vnd.databricks.v1+cell": {
     "cellMetadata": {},
     "inputWidgets": {},
     "nuid": "e42951bf-972a-43c8-ba27-70fc4a381e22",
     "showTitle": false,
     "tableResultSettingsMap": {},
     "title": ""
    }
   },
   "source": [
    "**Data Manipulation**"
   ]
  },
  {
   "cell_type": "code",
   "execution_count": 0,
   "metadata": {
    "application/vnd.databricks.v1+cell": {
     "cellMetadata": {
      "byteLimit": 2048000,
      "rowLimit": 10000
     },
     "inputWidgets": {},
     "nuid": "7c2d5c74-6462-4470-8a3b-975c07623e87",
     "showTitle": false,
     "tableResultSettingsMap": {},
     "title": ""
    }
   },
   "outputs": [
    {
     "output_type": "stream",
     "name": "stdout",
     "output_type": "stream",
     "text": [
      "+-------------+--------+---------+-------+-----------+--------+---------+----------+---------------+------------+---------------+\n|TransactionID|Customer|     City|Product|   Category|Quantity|UnitPrice|TotalPrice|TransactionDate| PaymentMode|DiscountedPrice|\n+-------------+--------+---------+-------+-----------+--------+---------+----------+---------------+------------+---------------+\n|        T1001|     Ali|   Mumbai| Laptop|Electronics|       1|    70000|     70000|     2024-01-15|       Card |        63000.0|\n|        T1002|    Neha|Bangalore| Tablet|Electronics|       2|    30000|     60000|     2024-01-20|        UPI |        54000.0|\n|        T1003|    Ravi|Hyderabad|   Desk|  Furniture|       1|    15000|     15000|     2024-02-10|Net Banking |        13500.0|\n|        T1004|    Zoya|    Delhi|  Chair|  Furniture|       4|     5000|     20000|     2024-02-12|       Card |        18000.0|\n|        T1005|   Karan|   Mumbai|  Phone|Electronics|       1|    50000|     50000|     2024-02-15|       Card |        45000.0|\n|        T1006|   Farah|    Delhi|  Mouse|Electronics|       3|     1000|      3000|     2024-02-18|        Cash|         2700.0|\n+-------------+--------+---------+-------+-----------+--------+---------+----------+---------------+------------+---------------+\n\n+-------------+--------+---------+-------+-----------+--------+---------+----------+----------+------------+\n|TransactionID|Customer|     City|Product|   Category|Quantity|UnitPrice|TotalPrice|   TxnDate| PaymentMode|\n+-------------+--------+---------+-------+-----------+--------+---------+----------+----------+------------+\n|        T1001|     Ali|   Mumbai| Laptop|Electronics|       1|    70000|     70000|2024-01-15|       Card |\n|        T1002|    Neha|Bangalore| Tablet|Electronics|       2|    30000|     60000|2024-01-20|        UPI |\n|        T1003|    Ravi|Hyderabad|   Desk|  Furniture|       1|    15000|     15000|2024-02-10|Net Banking |\n|        T1004|    Zoya|    Delhi|  Chair|  Furniture|       4|     5000|     20000|2024-02-12|       Card |\n|        T1005|   Karan|   Mumbai|  Phone|Electronics|       1|    50000|     50000|2024-02-15|       Card |\n|        T1006|   Farah|    Delhi|  Mouse|Electronics|       3|     1000|      3000|2024-02-18|        Cash|\n+-------------+--------+---------+-------+-----------+--------+---------+----------+----------+------------+\n\n+-------------+--------+---------+-------+-----------+--------+----------+---------------+------------+\n|TransactionID|Customer|     City|Product|   Category|Quantity|TotalPrice|TransactionDate| PaymentMode|\n+-------------+--------+---------+-------+-----------+--------+----------+---------------+------------+\n|        T1001|     Ali|   Mumbai| Laptop|Electronics|       1|     70000|     2024-01-15|       Card |\n|        T1002|    Neha|Bangalore| Tablet|Electronics|       2|     60000|     2024-01-20|        UPI |\n|        T1003|    Ravi|Hyderabad|   Desk|  Furniture|       1|     15000|     2024-02-10|Net Banking |\n|        T1004|    Zoya|    Delhi|  Chair|  Furniture|       4|     20000|     2024-02-12|       Card |\n|        T1005|   Karan|   Mumbai|  Phone|Electronics|       1|     50000|     2024-02-15|       Card |\n|        T1006|   Farah|    Delhi|  Mouse|Electronics|       3|      3000|     2024-02-18|        Cash|\n+-------------+--------+---------+-------+-----------+--------+----------+---------------+------------+\n\n"
     ]
    }
   ],
   "source": [
    "#6.Add a column DiscountedPrice =TotalPrice - 10%.\n",
    "retail.withColumn(\"DiscountedPrice\", retail.TotalPrice * 0.9).show()\n",
    "#7.Rename TransactionDate to TxnDate.\n",
    "b=retail.withColumnRenamed(\"TransactionDate\", \"TxnDate\").show()\n",
    "#8.Drop the column UnitPrice.\n",
    "retail.drop(\"UnitPrice\").show()"
   ]
  },
  {
   "cell_type": "markdown",
   "metadata": {
    "application/vnd.databricks.v1+cell": {
     "cellMetadata": {},
     "inputWidgets": {},
     "nuid": "16d278b7-a3a6-4234-ab50-00fef090990a",
     "showTitle": false,
     "tableResultSettingsMap": {},
     "title": ""
    }
   },
   "source": [
    "**Aggregations**"
   ]
  },
  {
   "cell_type": "code",
   "execution_count": 0,
   "metadata": {
    "application/vnd.databricks.v1+cell": {
     "cellMetadata": {
      "byteLimit": 2048000,
      "rowLimit": 10000
     },
     "inputWidgets": {},
     "nuid": "4a67188f-ce4e-4eeb-9a22-82ab385b5ef8",
     "showTitle": false,
     "tableResultSettingsMap": {},
     "title": ""
    }
   },
   "outputs": [
    {
     "output_type": "stream",
     "name": "stdout",
     "output_type": "stream",
     "text": [
      "total sales by city:\n+---------+---------------+\n|     City|sum(TotalPrice)|\n+---------+---------------+\n|Bangalore|          60000|\n|   Mumbai|         120000|\n|    Delhi|          23000|\n|Hyderabad|          15000|\n+---------+---------------+\n\naverage unit price by category:\n+-----------+--------------+\n|   Category|avg(UnitPrice)|\n+-----------+--------------+\n|Electronics|       37750.0|\n|  Furniture|       10000.0|\n+-----------+--------------+\n\ncount of transactions grouped by PaymentMode:\n+------------+-----+\n| PaymentMode|count|\n+------------+-----+\n|Net Banking |    1|\n|        Cash|    1|\n|        UPI |    1|\n|       Card |    3|\n+------------+-----+\n\n"
     ]
    }
   ],
   "source": [
    " #9.Get total sales by city.\n",
    " print(\"total sales by city:\")\n",
    " retail.groupBy(\"City\").sum(\"TotalPrice\").show()\n",
    " #10.Get average unit price by category.\n",
    " print(\"average unit price by category:\")\n",
    " retail.groupBy(\"Category\").avg(\"UnitPrice\").show()\n",
    " #11.Count of transactions grouped by PaymentMode.\n",
    " print(\"count of transactions grouped by PaymentMode:\")\n",
    " retail.groupBy(\"PaymentMode\").count().show()"
   ]
  },
  {
   "cell_type": "markdown",
   "metadata": {
    "application/vnd.databricks.v1+cell": {
     "cellMetadata": {},
     "inputWidgets": {},
     "nuid": "360fcf55-7854-4bdb-acbf-b120c86867e9",
     "showTitle": false,
     "tableResultSettingsMap": {},
     "title": ""
    }
   },
   "source": [
    "**Window Functions**"
   ]
  },
  {
   "cell_type": "code",
   "execution_count": 0,
   "metadata": {
    "application/vnd.databricks.v1+cell": {
     "cellMetadata": {
      "byteLimit": 2048000,
      "rowLimit": 10000
     },
     "inputWidgets": {},
     "nuid": "2eb489e8-9c04-4a6f-88ad-a3501d259a4c",
     "showTitle": false,
     "tableResultSettingsMap": {},
     "title": ""
    }
   },
   "outputs": [
    {
     "output_type": "stream",
     "name": "stdout",
     "output_type": "stream",
     "text": [
      "rank transactions by TotalPrice:\n+-------------+--------+---------+-------+-----------+--------+---------+----------+---------------+------------+----+\n|TransactionID|Customer|     City|Product|   Category|Quantity|UnitPrice|TotalPrice|TransactionDate| PaymentMode|rank|\n+-------------+--------+---------+-------+-----------+--------+---------+----------+---------------+------------+----+\n|        T1002|    Neha|Bangalore| Tablet|Electronics|       2|    30000|     60000|     2024-01-20|        UPI |   1|\n|        T1006|   Farah|    Delhi|  Mouse|Electronics|       3|     1000|      3000|     2024-02-18|        Cash|   1|\n|        T1004|    Zoya|    Delhi|  Chair|  Furniture|       4|     5000|     20000|     2024-02-12|       Card |   2|\n|        T1003|    Ravi|Hyderabad|   Desk|  Furniture|       1|    15000|     15000|     2024-02-10|Net Banking |   1|\n|        T1005|   Karan|   Mumbai|  Phone|Electronics|       1|    50000|     50000|     2024-02-15|       Card |   1|\n|        T1001|     Ali|   Mumbai| Laptop|Electronics|       1|    70000|     70000|     2024-01-15|       Card |   2|\n+-------------+--------+---------+-------+-----------+--------+---------+----------+---------------+------------+----+\n\nprevious transaction amount per city:\n+-------------+--------+---------+-------+-----------+--------+---------+----------+---------------+------------+--------+\n|TransactionID|Customer|     City|Product|   Category|Quantity|UnitPrice|TotalPrice|TransactionDate| PaymentMode|prev_txn|\n+-------------+--------+---------+-------+-----------+--------+---------+----------+---------------+------------+--------+\n|        T1002|    Neha|Bangalore| Tablet|Electronics|       2|    30000|     60000|     2024-01-20|        UPI |    NULL|\n|        T1006|   Farah|    Delhi|  Mouse|Electronics|       3|     1000|      3000|     2024-02-18|        Cash|    NULL|\n|        T1004|    Zoya|    Delhi|  Chair|  Furniture|       4|     5000|     20000|     2024-02-12|       Card |    3000|\n|        T1003|    Ravi|Hyderabad|   Desk|  Furniture|       1|    15000|     15000|     2024-02-10|Net Banking |    NULL|\n|        T1005|   Karan|   Mumbai|  Phone|Electronics|       1|    50000|     50000|     2024-02-15|       Card |    NULL|\n|        T1001|     Ali|   Mumbai| Laptop|Electronics|       1|    70000|     70000|     2024-01-15|       Card |   50000|\n+-------------+--------+---------+-------+-----------+--------+---------+----------+---------------+------------+--------+\n\n"
     ]
    }
   ],
   "source": [
    "#12.Use a window partitioned by City to rank transactions by TotalPrice .\n",
    "from pyspark.sql.window import Window\n",
    "from pyspark.sql.functions import row_number, lag\n",
    "w= Window.partitionBy(\"City\").orderBy(\"TotalPrice\")\n",
    "print(\"rank transactions by TotalPrice:\")\n",
    "retail.withColumn(\"rank\", row_number().over(w)).show()  \n",
    "#13.Use lag function to get previous transaction amount per city.\n",
    "print(\"previous transaction amount per city:\")\n",
    "retail.withColumn(\"prev_txn\", lag(\"TotalPrice\").over(w)).show()"
   ]
  },
  {
   "cell_type": "markdown",
   "metadata": {
    "application/vnd.databricks.v1+cell": {
     "cellMetadata": {},
     "inputWidgets": {},
     "nuid": "b5389adc-8441-4740-aabd-5a573f9a5dd3",
     "showTitle": false,
     "tableResultSettingsMap": {},
     "title": ""
    }
   },
   "source": [
    "**Joins**"
   ]
  },
  {
   "cell_type": "code",
   "execution_count": 0,
   "metadata": {
    "application/vnd.databricks.v1+cell": {
     "cellMetadata": {
      "byteLimit": 2048000,
      "rowLimit": 10000
     },
     "inputWidgets": {},
     "nuid": "eca1e199-d043-4952-bdee-0be6f689b715",
     "showTitle": false,
     "tableResultSettingsMap": {},
     "title": ""
    }
   },
   "outputs": [
    {
     "output_type": "stream",
     "name": "stdout",
     "output_type": "stream",
     "text": [
      "joined with cities region:\n+---------+-------------+--------+-------+-----------+--------+---------+----------+---------------+------------+------+\n|     City|TransactionID|Customer|Product|   Category|Quantity|UnitPrice|TotalPrice|TransactionDate| PaymentMode|Region|\n+---------+-------------+--------+-------+-----------+--------+---------+----------+---------------+------------+------+\n|   Mumbai|        T1001|     Ali| Laptop|Electronics|       1|    70000|     70000|     2024-01-15|       Card |  West|\n|Bangalore|        T1002|    Neha| Tablet|Electronics|       2|    30000|     60000|     2024-01-20|        UPI | South|\n|Hyderabad|        T1003|    Ravi|   Desk|  Furniture|       1|    15000|     15000|     2024-02-10|Net Banking | South|\n|    Delhi|        T1004|    Zoya|  Chair|  Furniture|       4|     5000|     20000|     2024-02-12|       Card | North|\n|   Mumbai|        T1005|   Karan|  Phone|Electronics|       1|    50000|     50000|     2024-02-15|       Card |  West|\n|    Delhi|        T1006|   Farah|  Mouse|Electronics|       3|     1000|      3000|     2024-02-18|        Cash| North|\n+---------+-------------+--------+-------+-----------+--------+---------+----------+---------------+------------+------+\n\ntotal sales by region:\n+------+-----------+\n|Region|RegionSales|\n+------+-----------+\n| South|      75000|\n|  West|     120000|\n| North|      23000|\n+------+-----------+\n\n"
     ]
    }
   ],
   "source": [
    "#Join with city-region data\n",
    "from pyspark.sql.functions import col, sum, avg, count, when, rank, lag, year, month, dayofmonth, udf\n",
    "region_data = [(\"Mumbai\", \"West\"), (\"Delhi\", \"North\"), (\"Bangalore\", \"South\"), (\"Hyderabad\", \"South\")]\n",
    "region_df = spark.createDataFrame(region_data, [\"City\", \"Region\"])\n",
    "a= retail.join(region_df, \"City\", \"left\")\n",
    "print(\"joined with cities region:\")\n",
    "a.show()\n",
    "# 15.Join with main DataFrame and group total sales by Region\n",
    "print(\"total sales by region:\")\n",
    "a.groupBy(\"Region\").agg(sum(\"TotalPrice\").alias(\"RegionSales\")).show()"
   ]
  },
  {
   "cell_type": "markdown",
   "metadata": {
    "application/vnd.databricks.v1+cell": {
     "cellMetadata": {},
     "inputWidgets": {},
     "nuid": "f7ed1776-a592-41d4-a0f9-d2c9028b4e57",
     "showTitle": false,
     "tableResultSettingsMap": {},
     "title": ""
    }
   },
   "source": [
    "**Nulls and Data Cleaning data**"
   ]
  },
  {
   "cell_type": "code",
   "execution_count": 0,
   "metadata": {
    "application/vnd.databricks.v1+cell": {
     "cellMetadata": {
      "byteLimit": 2048000,
      "rowLimit": 10000
     },
     "inputWidgets": {},
     "nuid": "5109f27a-30d5-4efa-82f0-fcab727a18d0",
     "showTitle": false,
     "tableResultSettingsMap": {},
     "title": ""
    }
   },
   "outputs": [
    {
     "output_type": "stream",
     "name": "stdout",
     "output_type": "stream",
     "text": [
      "nulls and replace them with default values:\n+---------+-------------+--------+-------+-----------+--------+---------+----------+---------------+------------+------+\n|     City|TransactionID|Customer|Product|   Category|Quantity|UnitPrice|TotalPrice|TransactionDate| PaymentMode|Region|\n+---------+-------------+--------+-------+-----------+--------+---------+----------+---------------+------------+------+\n|   Mumbai|        T1001|     Ali| Laptop|Electronics|       1|    70000|     70000|     2024-01-15|       Card |  West|\n|Bangalore|        T1002|    Neha| Tablet|Electronics|       2|    30000|     60000|     2024-01-20|        UPI | South|\n|Hyderabad|        T1003|    Ravi|   Desk|  Furniture|       1|    15000|     15000|     2024-02-10|Net Banking | South|\n|    Delhi|        T1004|    Zoya|  Chair|  Furniture|       4|     5000|     20000|     2024-02-12|       Card | North|\n|   Mumbai|        T1005|   Karan|  Phone|Electronics|       1|    50000|     50000|     2024-02-15|       Card |  West|\n|    Delhi|        T1006|   Farah|  Mouse|Electronics|       3|     1000|      3000|     2024-02-18|        Cash| North|\n+---------+-------------+--------+-------+-----------+--------+---------+----------+---------------+------------+------+\n\ndroped rows where Quantity is null:\n+---------+-------------+--------+-------+-----------+--------+---------+----------+---------------+------------+------+\n|     City|TransactionID|Customer|Product|   Category|Quantity|UnitPrice|TotalPrice|TransactionDate| PaymentMode|Region|\n+---------+-------------+--------+-------+-----------+--------+---------+----------+---------------+------------+------+\n|   Mumbai|        T1001|     Ali| Laptop|Electronics|       1|    70000|     70000|     2024-01-15|       Card |  West|\n|Bangalore|        T1002|    Neha| Tablet|Electronics|       2|    30000|     60000|     2024-01-20|        UPI | South|\n|Hyderabad|        T1003|    Ravi|   Desk|  Furniture|       1|    15000|     15000|     2024-02-10|Net Banking | South|\n|    Delhi|        T1004|    Zoya|  Chair|  Furniture|       4|     5000|     20000|     2024-02-12|       Card | North|\n|   Mumbai|        T1005|   Karan|  Phone|Electronics|       1|    50000|     50000|     2024-02-15|       Card |  West|\n|    Delhi|        T1006|   Farah|  Mouse|Electronics|       3|     1000|      3000|     2024-02-18|        Cash| North|\n+---------+-------------+--------+-------+-----------+--------+---------+----------+---------------+------------+------+\n\nfilled null PaymentMode with Unknown:\n+---------+-------------+--------+-------+-----------+--------+---------+----------+---------------+------------+------+\n|     City|TransactionID|Customer|Product|   Category|Quantity|UnitPrice|TotalPrice|TransactionDate| PaymentMode|Region|\n+---------+-------------+--------+-------+-----------+--------+---------+----------+---------------+------------+------+\n|   Mumbai|        T1001|     Ali| Laptop|Electronics|       1|    70000|     70000|     2024-01-15|       Card |  West|\n|Bangalore|        T1002|    Neha| Tablet|Electronics|       2|    30000|     60000|     2024-01-20|        UPI | South|\n|Hyderabad|        T1003|    Ravi|   Desk|  Furniture|       1|    15000|     15000|     2024-02-10|Net Banking | South|\n|    Delhi|        T1004|    Zoya|  Chair|  Furniture|       4|     5000|     20000|     2024-02-12|       Card | North|\n|   Mumbai|        T1005|   Karan|  Phone|Electronics|       1|    50000|     50000|     2024-02-15|       Card |  West|\n|    Delhi|        T1006|   Farah|  Mouse|Electronics|       3|     1000|      3000|     2024-02-18|        Cash| North|\n+---------+-------------+--------+-------+-----------+--------+---------+----------+---------------+------------+------+\n\n"
     ]
    }
   ],
   "source": [
    "#16.Introduce some nulls and replace them with default values.\n",
    "print(\"nulls and replace them with default values:\")\n",
    "a.fillna(value=0,subset=[\"Quantity\"]).show()\n",
    "#17.Drop rows where Quantity is null.\n",
    "print(\"droped rows where Quantity is null:\")\n",
    "a.dropna(subset=[\"Quantity\"]).show()\n",
    "#18.Fill null PaymentMode with \"Unknown\".\n",
    "print(\"filled null PaymentMode with Unknown:\")\n",
    "a.fillna(value=\"Unknown\",subset=[\"PaymentMode\"]).show()"
   ]
  },
  {
   "cell_type": "markdown",
   "metadata": {
    "application/vnd.databricks.v1+cell": {
     "cellMetadata": {},
     "inputWidgets": {},
     "nuid": "7b01b690-61c9-4c74-828c-58500b2e9f04",
     "showTitle": false,
     "tableResultSettingsMap": {},
     "title": ""
    }
   },
   "source": [
    "**Custom Functions**"
   ]
  },
  {
   "cell_type": "code",
   "execution_count": 0,
   "metadata": {
    "application/vnd.databricks.v1+cell": {
     "cellMetadata": {
      "byteLimit": 2048000,
      "rowLimit": 10000
     },
     "inputWidgets": {},
     "nuid": "1a52b1b1-bd5d-4d0f-b6d9-def903719e34",
     "showTitle": false,
     "tableResultSettingsMap": {},
     "title": ""
    }
   },
   "outputs": [
    {
     "output_type": "stream",
     "name": "stdout",
     "output_type": "stream",
     "text": [
      "label orders:\n+-------------+--------+---------+-------+-----------+--------+---------+----------+---------------+------------+----------+\n|TransactionID|Customer|     City|Product|   Category|Quantity|UnitPrice|TotalPrice|TransactionDate| PaymentMode|OrderLabel|\n+-------------+--------+---------+-------+-----------+--------+---------+----------+---------------+------------+----------+\n|        T1001|     Ali|   Mumbai| Laptop|Electronics|       1|    70000|     70000|     2024-01-15|       Card |      High|\n|        T1002|    Neha|Bangalore| Tablet|Electronics|       2|    30000|     60000|     2024-01-20|        UPI |      High|\n|        T1003|    Ravi|Hyderabad|   Desk|  Furniture|       1|    15000|     15000|     2024-02-10|Net Banking |       Low|\n|        T1004|    Zoya|    Delhi|  Chair|  Furniture|       4|     5000|     20000|     2024-02-12|       Card |       Low|\n|        T1005|   Karan|   Mumbai|  Phone|Electronics|       1|    50000|     50000|     2024-02-15|       Card |    Medium|\n|        T1006|   Farah|    Delhi|  Mouse|Electronics|       3|     1000|      3000|     2024-02-18|        Cash|       Low|\n+-------------+--------+---------+-------+-----------+--------+---------+----------+---------------+------------+----------+\n\n"
     ]
    }
   ],
   "source": [
    "#19.Write a UDF to label orders\n",
    "@udf(StringType())\n",
    "def label_order(amount):\n",
    "    return \"High\" if amount > 50000 else \"Medium\" if amount >= 30000 else \"Low\"\n",
    "u=retail.withColumn(\"OrderLabel\", label_order(col(\"TotalPrice\")))\n",
    "print(\"label orders:\")\n",
    "u.show()"
   ]
  },
  {
   "cell_type": "markdown",
   "metadata": {
    "application/vnd.databricks.v1+cell": {
     "cellMetadata": {},
     "inputWidgets": {},
     "nuid": "c07b0b77-03d6-4a03-af4e-fea71fca8130",
     "showTitle": false,
     "tableResultSettingsMap": {},
     "title": ""
    }
   },
   "source": [
    "**Date & Time**"
   ]
  },
  {
   "cell_type": "code",
   "execution_count": 0,
   "metadata": {
    "application/vnd.databricks.v1+cell": {
     "cellMetadata": {
      "byteLimit": 2048000,
      "rowLimit": 10000
     },
     "inputWidgets": {},
     "nuid": "910d9abe-c69e-4ea3-9991-a887cef0cb5f",
     "showTitle": false,
     "tableResultSettingsMap": {},
     "title": ""
    }
   },
   "outputs": [
    {
     "output_type": "stream",
     "name": "stdout",
     "output_type": "stream",
     "text": [
      "extract year, month, and day from TransactionDate:\n+-------------+--------+---------+-------+-----------+--------+---------+----------+---------------+------------+----------+----+-----+---+\n|TransactionID|Customer|     City|Product|   Category|Quantity|UnitPrice|TotalPrice|TransactionDate| PaymentMode|OrderLabel|year|month|day|\n+-------------+--------+---------+-------+-----------+--------+---------+----------+---------------+------------+----------+----+-----+---+\n|        T1001|     Ali|   Mumbai| Laptop|Electronics|       1|    70000|     70000|     2024-01-15|       Card |      High|2024|    1| 15|\n|        T1002|    Neha|Bangalore| Tablet|Electronics|       2|    30000|     60000|     2024-01-20|        UPI |      High|2024|    1| 20|\n|        T1003|    Ravi|Hyderabad|   Desk|  Furniture|       1|    15000|     15000|     2024-02-10|Net Banking |       Low|2024|    2| 10|\n|        T1004|    Zoya|    Delhi|  Chair|  Furniture|       4|     5000|     20000|     2024-02-12|       Card |       Low|2024|    2| 12|\n|        T1005|   Karan|   Mumbai|  Phone|Electronics|       1|    50000|     50000|     2024-02-15|       Card |    Medium|2024|    2| 15|\n|        T1006|   Farah|    Delhi|  Mouse|Electronics|       3|     1000|      3000|     2024-02-18|        Cash|       Low|2024|    2| 18|\n+-------------+--------+---------+-------+-----------+--------+---------+----------+---------------+------------+----------+----+-----+---+\n\nfiltered transactions that happened in February:\n+-------------+--------+---------+-------+-----------+--------+---------+----------+---------------+------------+----------+\n|TransactionID|Customer|     City|Product|   Category|Quantity|UnitPrice|TotalPrice|TransactionDate| PaymentMode|OrderLabel|\n+-------------+--------+---------+-------+-----------+--------+---------+----------+---------------+------------+----------+\n|        T1003|    Ravi|Hyderabad|   Desk|  Furniture|       1|    15000|     15000|     2024-02-10|Net Banking |       Low|\n|        T1004|    Zoya|    Delhi|  Chair|  Furniture|       4|     5000|     20000|     2024-02-12|       Card |       Low|\n|        T1005|   Karan|   Mumbai|  Phone|Electronics|       1|    50000|     50000|     2024-02-15|       Card |    Medium|\n|        T1006|   Farah|    Delhi|  Mouse|Electronics|       3|     1000|      3000|     2024-02-18|        Cash|       Low|\n+-------------+--------+---------+-------+-----------+--------+---------+----------+---------------+------------+----------+\n\n"
     ]
    }
   ],
   "source": [
    "#20.Extract year, month, and day from TransactionDate.\n",
    "print(\"extract year, month, and day from TransactionDate:\")\n",
    "u.withColumn(\"year\", year(col(\"TransactionDate\"))).withColumn(\"month\", month(col(\"TransactionDate\"))).withColumn(\"day\", dayofmonth(col(\"TransactionDate\"))).show()\n",
    "#21.Filter transactions that happened in February.\n",
    "print(\"filtered transactions that happened in February:\")\n",
    "u.filter(month(col(\"TransactionDate\")) == 2).show()"
   ]
  },
  {
   "cell_type": "markdown",
   "metadata": {
    "application/vnd.databricks.v1+cell": {
     "cellMetadata": {},
     "inputWidgets": {},
     "nuid": "1d0fc2de-10c3-4e63-b712-2f5b4c4f97d7",
     "showTitle": false,
     "tableResultSettingsMap": {},
     "title": ""
    }
   },
   "source": [
    "**Union & Duplicate Handling**"
   ]
  },
  {
   "cell_type": "code",
   "execution_count": 0,
   "metadata": {
    "application/vnd.databricks.v1+cell": {
     "cellMetadata": {
      "byteLimit": 2048000,
      "rowLimit": 10000
     },
     "inputWidgets": {},
     "nuid": "a81eabd4-fca6-48c5-b437-5c0383993e33",
     "showTitle": false,
     "tableResultSettingsMap": {},
     "title": ""
    }
   },
   "outputs": [
    {
     "output_type": "stream",
     "name": "stdout",
     "output_type": "stream",
     "text": [
      " After duplicated the DataFrame using union() and removed duplicates:\n+-------------+--------+---------+-------+-----------+--------+---------+----------+---------------+------------+----------+\n|TransactionID|Customer|     City|Product|   Category|Quantity|UnitPrice|TotalPrice|TransactionDate| PaymentMode|OrderLabel|\n+-------------+--------+---------+-------+-----------+--------+---------+----------+---------------+------------+----------+\n|        T1003|    Ravi|Hyderabad|   Desk|  Furniture|       1|    15000|     15000|     2024-02-10|Net Banking |       Low|\n|        T1001|     Ali|   Mumbai| Laptop|Electronics|       1|    70000|     70000|     2024-01-15|       Card |      High|\n|        T1004|    Zoya|    Delhi|  Chair|  Furniture|       4|     5000|     20000|     2024-02-12|       Card |       Low|\n|        T1005|   Karan|   Mumbai|  Phone|Electronics|       1|    50000|     50000|     2024-02-15|       Card |    Medium|\n|        T1006|   Farah|    Delhi|  Mouse|Electronics|       3|     1000|      3000|     2024-02-18|        Cash|       Low|\n|        T1002|    Neha|Bangalore| Tablet|Electronics|       2|    30000|     60000|     2024-01-20|        UPI |      High|\n+-------------+--------+---------+-------+-----------+--------+---------+----------+---------------+------------+----------+\n\n"
     ]
    }
   ],
   "source": [
    "#22.Duplicate the DataFrame using union() and remove duplicates.\n",
    "print(\" After duplicated the DataFrame using union() and removed duplicates:\")\n",
    "u.union(u).distinct().show()"
   ]
  },
  {
   "cell_type": "code",
   "execution_count": 0,
   "metadata": {
    "application/vnd.databricks.v1+cell": {
     "cellMetadata": {},
     "inputWidgets": {},
     "nuid": "8c4c34c1-6cd7-4714-bf8e-d5701bd400aa",
     "showTitle": false,
     "tableResultSettingsMap": {},
     "title": ""
    }
   },
   "outputs": [],
   "source": []
  }
 ],
 "metadata": {
  "application/vnd.databricks.v1+notebook": {
   "computePreferences": null,
   "dashboards": [],
   "environmentMetadata": {
    "base_environment": "",
    "environment_version": "2"
   },
   "inputWidgetPreferences": null,
   "language": "python",
   "notebookMetadata": {
    "pythonIndentUnit": 4
   },
   "notebookName": "assignment-2",
   "widgets": {}
  },
  "language_info": {
   "name": "python"
  }
 },
 "nbformat": 4,
 "nbformat_minor": 0
}