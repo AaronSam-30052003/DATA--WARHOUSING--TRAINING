{
 "cells": [
  {
   "cell_type": "markdown",
   "metadata": {
    "application/vnd.databricks.v1+cell": {
     "cellMetadata": {},
     "inputWidgets": {},
     "nuid": "3f410fdc-97ef-4f08-a27f-b0807c0bba57",
     "showTitle": false,
     "tableResultSettingsMap": {},
     "title": ""
    }
   },
   "source": [
    "**Intialize the SparkSession**"
   ]
  },
  {
   "cell_type": "code",
   "execution_count": 0,
   "metadata": {
    "application/vnd.databricks.v1+cell": {
     "cellMetadata": {
      "byteLimit": 2048000,
      "rowLimit": 10000
     },
     "inputWidgets": {},
     "nuid": "448d4301-5ed4-4438-8607-8680067ddcdb",
     "showTitle": false,
     "tableResultSettingsMap": {},
     "title": ""
    }
   },
   "outputs": [
    {
     "output_type": "execute_result",
     "data": {
      "text/html": [
       "\n",
       "            <div>\n",
       "                <p><b>SparkSession - hive</b></p>\n",
       "                \n",
       "        <div>\n",
       "            <p><b>SparkContext</b></p>\n",
       "\n",
       "            <p><a href=\"/?o=3525126442407722#setting/sparkui/0611-043339-3vb7b9iv/driver-5079266641301177846\">Spark UI</a></p>\n",
       "\n",
       "            <dl>\n",
       "              <dt>Version</dt>\n",
       "                <dd><code>v3.5.0</code></dd>\n",
       "              <dt>Master</dt>\n",
       "                <dd><code>local[*, 4]</code></dd>\n",
       "              <dt>AppName</dt>\n",
       "                <dd><code>Databricks Shell</code></dd>\n",
       "            </dl>\n",
       "        </div>\n",
       "        \n",
       "            </div>\n",
       "        "
      ],
      "text/plain": [
       "<pyspark.sql.session.SparkSession at 0x73e4a08586d0>"
      ]
     },
     "execution_count": 1,
     "metadata": {},
     "output_type": "execute_result"
    }
   ],
   "source": [
    "from pyspark.sql import SparkSession\n",
    "spark = SparkSession.builder\\\n",
    "        .appName(\"Agg-Grouping\")\\\n",
    "        .getOrCreate()\n",
    "spark"
   ]
  },
  {
   "cell_type": "markdown",
   "metadata": {
    "application/vnd.databricks.v1+cell": {
     "cellMetadata": {},
     "inputWidgets": {},
     "nuid": "54f007a5-775d-400a-8698-5663429b5ffa",
     "showTitle": false,
     "tableResultSettingsMap": {},
     "title": ""
    }
   },
   "source": [
    "**Create the DataFrames**"
   ]
  },
  {
   "cell_type": "code",
   "execution_count": 0,
   "metadata": {
    "application/vnd.databricks.v1+cell": {
     "cellMetadata": {
      "byteLimit": 2048000,
      "rowLimit": 10000
     },
     "inputWidgets": {},
     "nuid": "4e80f63a-df31-4833-8743-002f58b512ba",
     "showTitle": false,
     "tableResultSettingsMap": {},
     "title": ""
    }
   },
   "outputs": [
    {
     "output_type": "stream",
     "name": "stdout",
     "output_type": "stream",
     "text": [
      "+------+-----------+------+\n|  Name| Department|Salary|\n+------+-----------+------+\n|Ananya|         HR| 52000|\n| Rahul|Engineering| 65000|\n| Priya|Engineering| 60000|\n|  Zoya|  Marketing| 48000|\n| Karan|         HR| 53000|\n|Naveen|Engineering| 70000|\n|Fatima|  Marketing| 45000|\n+------+-----------+------+\n\n+------+----+------+\n|  Name|Year|Rating|\n+------+----+------+\n|Ananya|2023|   4.5|\n| Rahul|2023|   4.9|\n| Priya|2023|   4.3|\n|  Zoya|2023|   3.8|\n| Karan|2023|   4.1|\n|Naveen|2023|   4.7|\n|Fatima|2023|   3.9|\n+------+----+------+\n\n"
     ]
    }
   ],
   "source": [
    "# Employee Data \n",
    "data = [ \n",
    "    (\"Ananya\", \"HR\", 52000), \n",
    "    (\"Rahul\", \"Engineering\", 65000), \n",
    "    (\"Priya\", \"Engineering\", 60000), \n",
    "    (\"Zoya\", \"Marketing\", 48000), \n",
    "    (\"Karan\", \"HR\", 53000), \n",
    "    (\"Naveen\", \"Engineering\", 70000), \n",
    "    (\"Fatima\", \"Marketing\", 45000) \n",
    "]\n",
    "columns = [\"Name\", \"Department\", \"Salary\"]\n",
    "emp = spark.createDataFrame(data, columns)\n",
    "emp.show()\n",
    "# Performance Data\n",
    "performance = [ \n",
    "    (\"Ananya\", 2023, 4.5), \n",
    "    (\"Rahul\", 2023, 4.9), \n",
    "    (\"Priya\", 2023, 4.3), \n",
    "    (\"Zoya\", 2023, 3.8), \n",
    "    (\"Karan\", 2023, 4.1), \n",
    "    (\"Naveen\", 2023, 4.7), \n",
    "    (\"Fatima\", 2023, 3.9) \n",
    "]\n",
    "columns_perf = [\"Name\", \"Year\", \"Rating\"]\n",
    "perf = spark.createDataFrame(performance, columns_perf)\n",
    "perf.show()"
   ]
  },
  {
   "cell_type": "markdown",
   "metadata": {
    "application/vnd.databricks.v1+cell": {
     "cellMetadata": {},
     "inputWidgets": {},
     "nuid": "1aca3c39-ed68-4599-94c2-f83421b37af7",
     "showTitle": false,
     "tableResultSettingsMap": {},
     "title": ""
    }
   },
   "source": [
    "**GroupBy and Aggregations**"
   ]
  },
  {
   "cell_type": "code",
   "execution_count": 0,
   "metadata": {
    "application/vnd.databricks.v1+cell": {
     "cellMetadata": {
      "byteLimit": 2048000,
      "rowLimit": 10000
     },
     "inputWidgets": {},
     "nuid": "ea709744-ad3c-4147-84d1-fe576521218a",
     "showTitle": false,
     "tableResultSettingsMap": {},
     "title": ""
    }
   },
   "outputs": [
    {
     "output_type": "stream",
     "name": "stdout",
     "output_type": "stream",
     "text": [
      "Average Salary by Department\n+-----------+--------------+\n| Department|Average Salary|\n+-----------+--------------+\n|         HR|       52500.0|\n|Engineering|       65000.0|\n|  Marketing|       46500.0|\n+-----------+--------------+\n\nCount of Employees per Department\n+-----------+-------------------+\n| Department|Number of Employees|\n+-----------+-------------------+\n|         HR|                  2|\n|Engineering|                  3|\n|  Marketing|                  2|\n+-----------+-------------------+\n\nMaximum and Minimum Salary in Engineering\n+--------------+--------------+\n|Maximum Salary|Minimum Salary|\n+--------------+--------------+\n|         70000|         60000|\n+--------------+--------------+\n\n"
     ]
    }
   ],
   "source": [
    "#1.Get the average salary by department\n",
    "from pyspark.sql.functions import avg, count, max, min\n",
    "print(\"Average Salary by Department\")\n",
    "avg_salary = emp.groupBy(\"Department\").agg(avg(\"Salary\").alias(\"Average Salary\"))\n",
    "avg_salary.show()\n",
    "#2.Count of employees per department\n",
    "print(\"Count of Employees per Department\")\n",
    "count_employees = emp.groupBy(\"Department\").agg(count(\"Name\").alias(\"Number of Employees\"))\n",
    "count_employees.show()\n",
    "#3.Maximum and minimum salary in Engineering\n",
    "print(\"Maximum and Minimum Salary in Engineering\")\n",
    "max_min_salary = emp.filter(emp.Department == \"Engineering\").agg(max(\"Salary\").alias(\"Maximum Salary\"), min(\"Salary\").alias(\"Minimum Salary\"))\n",
    "max_min_salary.show()"
   ]
  },
  {
   "cell_type": "markdown",
   "metadata": {
    "application/vnd.databricks.v1+cell": {
     "cellMetadata": {},
     "inputWidgets": {},
     "nuid": "198bf8e8-0636-4c14-a46d-944ee7188837",
     "showTitle": false,
     "tableResultSettingsMap": {},
     "title": ""
    }
   },
   "source": [
    "**Joins and Filtering**"
   ]
  },
  {
   "cell_type": "code",
   "execution_count": 0,
   "metadata": {
    "application/vnd.databricks.v1+cell": {
     "cellMetadata": {
      "byteLimit": 2048000,
      "rowLimit": 10000
     },
     "inputWidgets": {},
     "nuid": "54ba592a-cba1-40f3-8430-ee5f9d5ebdf5",
     "showTitle": false,
     "tableResultSettingsMap": {},
     "title": ""
    }
   },
   "outputs": [
    {
     "output_type": "stream",
     "name": "stdout",
     "output_type": "stream",
     "text": [
      "Inner Join between Employee and Performance Data\n+------+-----------+------+----+------+\n|  Name| Department|Salary|Year|Rating|\n+------+-----------+------+----+------+\n|Ananya|         HR| 52000|2023|   4.5|\n|Fatima|  Marketing| 45000|2023|   3.9|\n| Karan|         HR| 53000|2023|   4.1|\n|Naveen|Engineering| 70000|2023|   4.7|\n| Priya|Engineering| 60000|2023|   4.3|\n| Rahul|Engineering| 65000|2023|   4.9|\n|  Zoya|  Marketing| 48000|2023|   3.8|\n+------+-----------+------+----+------+\n\nEmployee Salary and Performance Rating\n+------+------+------+\n|  Name|Salary|Rating|\n+------+------+------+\n|Ananya| 52000|   4.5|\n|Fatima| 45000|   3.9|\n| Karan| 53000|   4.1|\n|Naveen| 70000|   4.7|\n| Priya| 60000|   4.3|\n| Rahul| 65000|   4.9|\n|  Zoya| 48000|   3.8|\n+------+------+------+\n\nEmployees with Rating > 4.5 and Salary > 60000\n+------+-----------+------+----+------+\n|  Name| Department|Salary|Year|Rating|\n+------+-----------+------+----+------+\n|Naveen|Engineering| 70000|2023|   4.7|\n| Rahul|Engineering| 65000|2023|   4.9|\n+------+-----------+------+----+------+\n\n"
     ]
    }
   ],
   "source": [
    "#4.Perform an inner join between employee_data and performance_data on Name \n",
    "print(\"Inner Join between Employee and Performance Data\")\n",
    "joined= emp.join(perf, on=\"Name\", how=\"inner\")\n",
    "joined.show()\n",
    "#5.Show each employee’s salary and performance rating\n",
    "print(\"Employee Salary and Performance Rating\")\n",
    "joined.select(\"Name\", \"Salary\", \"Rating\").show()\n",
    "#6.Filter employees with rating > 4.5 and salary > 60000\n",
    "print(\"Employees with Rating > 4.5 and Salary > 60000\")\n",
    "filtered = joined.filter((joined.Rating > 4.5) & (joined.Salary > 60000))\n",
    "filtered.show()\n"
   ]
  },
  {
   "cell_type": "markdown",
   "metadata": {
    "application/vnd.databricks.v1+cell": {
     "cellMetadata": {},
     "inputWidgets": {},
     "nuid": "09213b0f-5767-4b2d-90eb-b59efefe427a",
     "showTitle": false,
     "tableResultSettingsMap": {},
     "title": ""
    }
   },
   "source": [
    "**Window & Rank**"
   ]
  },
  {
   "cell_type": "code",
   "execution_count": 0,
   "metadata": {
    "application/vnd.databricks.v1+cell": {
     "cellMetadata": {
      "byteLimit": 2048000,
      "rowLimit": 10000
     },
     "inputWidgets": {},
     "nuid": "d134ea70-5bfb-421f-b898-404d171707df",
     "showTitle": false,
     "tableResultSettingsMap": {},
     "title": ""
    }
   },
   "outputs": [
    {
     "output_type": "stream",
     "name": "stdout",
     "output_type": "stream",
     "text": [
      "Rank Employees by Salary within Each Department\n+------+-----------+------+----+\n|  Name| Department|Salary|Rank|\n+------+-----------+------+----+\n| Priya|Engineering| 60000|   1|\n| Rahul|Engineering| 65000|   2|\n|Naveen|Engineering| 70000|   3|\n|Ananya|         HR| 52000|   1|\n| Karan|         HR| 53000|   2|\n|Fatima|  Marketing| 45000|   1|\n|  Zoya|  Marketing| 48000|   2|\n+------+-----------+------+----+\n\nCumulative Salary in Each Department\n+------+-----------+------+-----------------+\n|  Name| Department|Salary|Cumulative Salary|\n+------+-----------+------+-----------------+\n| Priya|Engineering| 60000|            60000|\n| Rahul|Engineering| 65000|           125000|\n|Naveen|Engineering| 70000|           195000|\n|Ananya|         HR| 52000|            52000|\n| Karan|         HR| 53000|           105000|\n|Fatima|  Marketing| 45000|            45000|\n|  Zoya|  Marketing| 48000|            93000|\n+------+-----------+------+-----------------+\n\n"
     ]
    }
   ],
   "source": [
    "from pyspark.sql.window import Window\n",
    "from pyspark.sql.functions import rank, sum as _sum\n",
    "#7.Rank employees by salary within each department\n",
    "print(\"Rank Employees by Salary within Each Department\")\n",
    "window = Window.partitionBy(\"Department\").orderBy(\"Salary\")\n",
    "ranked = emp.withColumn(\"Rank\", rank().over(window))\n",
    "ranked.show()\n",
    "#8.Calculate cumulative salary in each department\n",
    "print(\"Cumulative Salary in Each Department\")\n",
    "window = Window.partitionBy(\"Department\").orderBy(\"Salary\")\n",
    "cumulative_salary = emp.withColumn(\"Cumulative Salary\", _sum(\"Salary\").over(window))\n",
    "cumulative_salary.show()"
   ]
  },
  {
   "cell_type": "markdown",
   "metadata": {
    "application/vnd.databricks.v1+cell": {
     "cellMetadata": {},
     "inputWidgets": {},
     "nuid": "b9b6a585-d469-4b1d-abed-f1721e3ee736",
     "showTitle": false,
     "tableResultSettingsMap": {},
     "title": ""
    }
   },
   "source": [
    "**Date Operations**"
   ]
  },
  {
   "cell_type": "code",
   "execution_count": 0,
   "metadata": {
    "application/vnd.databricks.v1+cell": {
     "cellMetadata": {
      "byteLimit": 2048000,
      "rowLimit": 10000
     },
     "inputWidgets": {},
     "nuid": "c8927c52-5412-480c-9021-cf4944774ccc",
     "showTitle": false,
     "tableResultSettingsMap": {},
     "title": ""
    }
   },
   "outputs": [
    {
     "output_type": "display_data",
     "data": {
      "text/html": [
       "<style scoped>\n",
       "  .table-result-container {\n",
       "    max-height: 300px;\n",
       "    overflow: auto;\n",
       "  }\n",
       "  table, th, td {\n",
       "    border: 1px solid black;\n",
       "    border-collapse: collapse;\n",
       "  }\n",
       "  th, td {\n",
       "    padding: 5px;\n",
       "  }\n",
       "  th {\n",
       "    text-align: left;\n",
       "  }\n",
       "</style><div class='table-result-container'><table class='table-result'><thead style='background-color: white'><tr><th>Name</th><th>Department</th><th>Salary</th><th>JoinDate</th></tr></thead><tbody><tr><td>Ananya</td><td>HR</td><td>52000</td><td>2020-05-10</td></tr><tr><td>Fatima</td><td>Marketing</td><td>45000</td><td>2020-11-09</td></tr><tr><td>Karan</td><td>HR</td><td>53000</td><td>2022-02-04</td></tr><tr><td>Naveen</td><td>Engineering</td><td>70000</td><td>2021-02-02</td></tr><tr><td>Priya</td><td>Engineering</td><td>60000</td><td>2023-08-31</td></tr><tr><td>Rahul</td><td>Engineering</td><td>65000</td><td>2020-07-02</td></tr><tr><td>Zoya</td><td>Marketing</td><td>48000</td><td>2022-01-28</td></tr></tbody></table></div>"
      ]
     },
     "metadata": {
      "application/vnd.databricks.v1+output": {
       "addedWidgets": {},
       "aggData": [],
       "aggError": "",
       "aggOverflow": false,
       "aggSchema": [],
       "aggSeriesLimitReached": false,
       "aggType": "",
       "arguments": {},
       "columnCustomDisplayInfos": {},
       "data": [
        [
         "Ananya",
         "HR",
         52000,
         "2020-05-10"
        ],
        [
         "Fatima",
         "Marketing",
         45000,
         "2020-11-09"
        ],
        [
         "Karan",
         "HR",
         53000,
         "2022-02-04"
        ],
        [
         "Naveen",
         "Engineering",
         70000,
         "2021-02-02"
        ],
        [
         "Priya",
         "Engineering",
         60000,
         "2023-08-31"
        ],
        [
         "Rahul",
         "Engineering",
         65000,
         "2020-07-02"
        ],
        [
         "Zoya",
         "Marketing",
         48000,
         "2022-01-28"
        ]
       ],
       "datasetInfos": [],
       "dbfsResultPath": null,
       "isJsonSchema": true,
       "metadata": {},
       "overflow": false,
       "plotOptions": {
        "customPlotOptions": {},
        "displayType": "table",
        "pivotAggregation": null,
        "pivotColumns": null,
        "xColumns": null,
        "yColumns": null
       },
       "removedWidgets": [],
       "schema": [
        {
         "metadata": "{}",
         "name": "Name",
         "type": "\"string\""
        },
        {
         "metadata": "{}",
         "name": "Department",
         "type": "\"string\""
        },
        {
         "metadata": "{}",
         "name": "Salary",
         "type": "\"long\""
        },
        {
         "metadata": "{}",
         "name": "JoinDate",
         "type": "\"date\""
        }
       ],
       "type": "table"
      }
     },
     "output_type": "display_data"
    },
    {
     "output_type": "display_data",
     "data": {
      "text/html": [
       "<style scoped>\n",
       "  .table-result-container {\n",
       "    max-height: 300px;\n",
       "    overflow: auto;\n",
       "  }\n",
       "  table, th, td {\n",
       "    border: 1px solid black;\n",
       "    border-collapse: collapse;\n",
       "  }\n",
       "  th, td {\n",
       "    padding: 5px;\n",
       "  }\n",
       "  th {\n",
       "    text-align: left;\n",
       "  }\n",
       "</style><div class='table-result-container'><table class='table-result'><thead style='background-color: white'><tr><th>Name</th><th>Department</th><th>Salary</th><th>JoinDate</th><th>YearsWithCompany</th></tr></thead><tbody><tr><td>Ananya</td><td>HR</td><td>52000</td><td>2020-05-10</td><td>5</td></tr><tr><td>Fatima</td><td>Marketing</td><td>45000</td><td>2020-11-09</td><td>4</td></tr><tr><td>Karan</td><td>HR</td><td>53000</td><td>2022-02-04</td><td>3</td></tr><tr><td>Naveen</td><td>Engineering</td><td>70000</td><td>2021-02-02</td><td>4</td></tr><tr><td>Priya</td><td>Engineering</td><td>60000</td><td>2023-08-31</td><td>1</td></tr><tr><td>Rahul</td><td>Engineering</td><td>65000</td><td>2020-07-02</td><td>4</td></tr><tr><td>Zoya</td><td>Marketing</td><td>48000</td><td>2022-01-28</td><td>3</td></tr></tbody></table></div>"
      ]
     },
     "metadata": {
      "application/vnd.databricks.v1+output": {
       "addedWidgets": {},
       "aggData": [],
       "aggError": "",
       "aggOverflow": false,
       "aggSchema": [],
       "aggSeriesLimitReached": false,
       "aggType": "",
       "arguments": {},
       "columnCustomDisplayInfos": {},
       "data": [
        [
         "Ananya",
         "HR",
         52000,
         "2020-05-10",
         5
        ],
        [
         "Fatima",
         "Marketing",
         45000,
         "2020-11-09",
         4
        ],
        [
         "Karan",
         "HR",
         53000,
         "2022-02-04",
         3
        ],
        [
         "Naveen",
         "Engineering",
         70000,
         "2021-02-02",
         4
        ],
        [
         "Priya",
         "Engineering",
         60000,
         "2023-08-31",
         1
        ],
        [
         "Rahul",
         "Engineering",
         65000,
         "2020-07-02",
         4
        ],
        [
         "Zoya",
         "Marketing",
         48000,
         "2022-01-28",
         3
        ]
       ],
       "datasetInfos": [],
       "dbfsResultPath": null,
       "isJsonSchema": true,
       "metadata": {},
       "overflow": false,
       "plotOptions": {
        "customPlotOptions": {},
        "displayType": "table",
        "pivotAggregation": null,
        "pivotColumns": null,
        "xColumns": null,
        "yColumns": null
       },
       "removedWidgets": [],
       "schema": [
        {
         "metadata": "{}",
         "name": "Name",
         "type": "\"string\""
        },
        {
         "metadata": "{}",
         "name": "Department",
         "type": "\"string\""
        },
        {
         "metadata": "{}",
         "name": "Salary",
         "type": "\"long\""
        },
        {
         "metadata": "{}",
         "name": "JoinDate",
         "type": "\"date\""
        },
        {
         "metadata": "{}",
         "name": "YearsWithCompany",
         "type": "\"integer\""
        }
       ],
       "type": "table"
      }
     },
     "output_type": "display_data"
    }
   ],
   "source": [
    "import random\n",
    "from datetime import date, timedelta\n",
    "from pyspark.sql.functions import to_date, col, current_date, datediff\n",
    "from pyspark.sql import SparkSession\n",
    "spark = SparkSession.builder.appName(\"EmployeeData\").getOrCreate()\n",
    "data = [ \n",
    "    (\"Ananya\", \"HR\", 52000), \n",
    "    (\"Rahul\", \"Engineering\", 65000), \n",
    "    (\"Priya\", \"Engineering\", 60000), \n",
    "    (\"Zoya\", \"Marketing\", 48000), \n",
    "    (\"Karan\", \"HR\", 53000), \n",
    "    (\"Naveen\", \"Engineering\", 70000), \n",
    "    (\"Fatima\", \"Marketing\", 45000) \n",
    "]\n",
    "columns = [\"Name\", \"Department\", \"Salary\"]\n",
    "emp = spark.createDataFrame(data, columns)\n",
    "#9.Generate random JoinDate between 2020-2023\n",
    "def random_date():\n",
    "    start = date(2020, 1, 1)\n",
    "    end = date(2023, 12, 31)\n",
    "    delta = end - start\n",
    "    return str(start + timedelta(days=random.randint(0, delta.days)))\n",
    "\n",
    "# Create (Name, JoinDate) pairs\n",
    "join_date_data = [(name, random_date()) for name, _, _ in data]\n",
    "\n",
    "# Create JoinDate DataFrame\n",
    "join_dates_df = spark.createDataFrame(join_date_data, [\"Name\", \"JoinDateStr\"]) \\\n",
    "    .withColumn(\"JoinDate\", to_date(col(\"JoinDateStr\"), \"yyyy-MM-dd\")) \\\n",
    "    .drop(\"JoinDateStr\")\n",
    "# Join employee data with join dates\n",
    "emp_with_dates = emp.join(join_dates_df, on=\"Name\", how=\"inner\")\n",
    "emp_with_dates = emp_with_dates.select(\"Name\", \"Department\", \"Salary\", \"JoinDate\")\n",
    "display(emp_with_dates)\n",
    "#10Add YearsWithCompany column \n",
    "emp_with_dates = emp_with_dates.withColumn(\n",
    "    \"YearsWithCompany\",\n",
    "    (datediff(current_date(), col(\"JoinDate\")) / 365).cast(\"int\")\n",
    ")\n",
    "display(emp_with_dates)"
   ]
  },
  {
   "cell_type": "markdown",
   "metadata": {
    "application/vnd.databricks.v1+cell": {
     "cellMetadata": {},
     "inputWidgets": {},
     "nuid": "3f2f1081-fa29-4869-8088-1fa24cf571ca",
     "showTitle": false,
     "tableResultSettingsMap": {},
     "title": ""
    }
   },
   "source": [
    "**save the data**"
   ]
  },
  {
   "cell_type": "code",
   "execution_count": 0,
   "metadata": {
    "application/vnd.databricks.v1+cell": {
     "cellMetadata": {
      "byteLimit": 2048000,
      "rowLimit": 10000
     },
     "inputWidgets": {},
     "nuid": "0ab29cc8-c989-4147-8a19-a7d64fc6d568",
     "showTitle": false,
     "tableResultSettingsMap": {},
     "title": ""
    }
   },
   "outputs": [],
   "source": [
    "emp_with_dates.write.csv(\"/FileStore/employee_data\", header=True, mode=\"overwrite\")\n",
    "joined.write.parquet(\"/FileStore/employee_perf\", mode=\"overwrite\")"
   ]
  },
  {
   "cell_type": "code",
   "execution_count": 0,
   "metadata": {
    "application/vnd.databricks.v1+cell": {
     "cellMetadata": {
      "byteLimit": 2048000,
      "rowLimit": 10000
     },
     "inputWidgets": {},
     "nuid": "f225a272-61f3-49dd-bbc7-1b00362c8673",
     "showTitle": false,
     "tableResultSettingsMap": {},
     "title": ""
    }
   },
   "outputs": [
    {
     "output_type": "display_data",
     "data": {
      "text/html": [
       "<style scoped>\n",
       "  .table-result-container {\n",
       "    max-height: 300px;\n",
       "    overflow: auto;\n",
       "  }\n",
       "  table, th, td {\n",
       "    border: 1px solid black;\n",
       "    border-collapse: collapse;\n",
       "  }\n",
       "  th, td {\n",
       "    padding: 5px;\n",
       "  }\n",
       "  th {\n",
       "    text-align: left;\n",
       "  }\n",
       "</style><div class='table-result-container'><table class='table-result'><thead style='background-color: white'><tr><th>Name</th><th>Department</th><th>Salary</th><th>JoinDate</th><th>YearsWithCompany</th></tr></thead><tbody><tr><td>Ananya</td><td>HR</td><td>52000</td><td>2021-09-26</td><td>3</td></tr><tr><td>Fatima</td><td>Marketing</td><td>45000</td><td>2020-06-01</td><td>5</td></tr><tr><td>Karan</td><td>HR</td><td>53000</td><td>2020-07-22</td><td>4</td></tr><tr><td>Naveen</td><td>Engineering</td><td>70000</td><td>2022-02-08</td><td>3</td></tr><tr><td>Priya</td><td>Engineering</td><td>60000</td><td>2020-06-25</td><td>4</td></tr><tr><td>Rahul</td><td>Engineering</td><td>65000</td><td>2022-02-24</td><td>3</td></tr><tr><td>Zoya</td><td>Marketing</td><td>48000</td><td>2020-12-24</td><td>4</td></tr></tbody></table></div>"
      ]
     },
     "metadata": {
      "application/vnd.databricks.v1+output": {
       "addedWidgets": {},
       "aggData": [],
       "aggError": "",
       "aggOverflow": false,
       "aggSchema": [],
       "aggSeriesLimitReached": false,
       "aggType": "",
       "arguments": {},
       "columnCustomDisplayInfos": {},
       "data": [
        [
         "Ananya",
         "HR",
         "52000",
         "2021-09-26",
         "3"
        ],
        [
         "Fatima",
         "Marketing",
         "45000",
         "2020-06-01",
         "5"
        ],
        [
         "Karan",
         "HR",
         "53000",
         "2020-07-22",
         "4"
        ],
        [
         "Naveen",
         "Engineering",
         "70000",
         "2022-02-08",
         "3"
        ],
        [
         "Priya",
         "Engineering",
         "60000",
         "2020-06-25",
         "4"
        ],
        [
         "Rahul",
         "Engineering",
         "65000",
         "2022-02-24",
         "3"
        ],
        [
         "Zoya",
         "Marketing",
         "48000",
         "2020-12-24",
         "4"
        ]
       ],
       "datasetInfos": [],
       "dbfsResultPath": null,
       "isJsonSchema": true,
       "metadata": {},
       "overflow": false,
       "plotOptions": {
        "customPlotOptions": {},
        "displayType": "table",
        "pivotAggregation": null,
        "pivotColumns": null,
        "xColumns": null,
        "yColumns": null
       },
       "removedWidgets": [],
       "schema": [
        {
         "metadata": "{}",
         "name": "Name",
         "type": "\"string\""
        },
        {
         "metadata": "{}",
         "name": "Department",
         "type": "\"string\""
        },
        {
         "metadata": "{}",
         "name": "Salary",
         "type": "\"string\""
        },
        {
         "metadata": "{}",
         "name": "JoinDate",
         "type": "\"string\""
        },
        {
         "metadata": "{}",
         "name": "YearsWithCompany",
         "type": "\"string\""
        }
       ],
       "type": "table"
      }
     },
     "output_type": "display_data"
    },
    {
     "output_type": "display_data",
     "data": {
      "text/html": [
       "<style scoped>\n",
       "  .table-result-container {\n",
       "    max-height: 300px;\n",
       "    overflow: auto;\n",
       "  }\n",
       "  table, th, td {\n",
       "    border: 1px solid black;\n",
       "    border-collapse: collapse;\n",
       "  }\n",
       "  th, td {\n",
       "    padding: 5px;\n",
       "  }\n",
       "  th {\n",
       "    text-align: left;\n",
       "  }\n",
       "</style><div class='table-result-container'><table class='table-result'><thead style='background-color: white'><tr><th>Name</th><th>Department</th><th>Salary</th><th>Year</th><th>Rating</th></tr></thead><tbody><tr><td>Ananya</td><td>HR</td><td>52000</td><td>2023</td><td>4.5</td></tr><tr><td>Fatima</td><td>Marketing</td><td>45000</td><td>2023</td><td>3.9</td></tr><tr><td>Karan</td><td>HR</td><td>53000</td><td>2023</td><td>4.1</td></tr><tr><td>Naveen</td><td>Engineering</td><td>70000</td><td>2023</td><td>4.7</td></tr><tr><td>Priya</td><td>Engineering</td><td>60000</td><td>2023</td><td>4.3</td></tr><tr><td>Rahul</td><td>Engineering</td><td>65000</td><td>2023</td><td>4.9</td></tr><tr><td>Zoya</td><td>Marketing</td><td>48000</td><td>2023</td><td>3.8</td></tr></tbody></table></div>"
      ]
     },
     "metadata": {
      "application/vnd.databricks.v1+output": {
       "addedWidgets": {},
       "aggData": [],
       "aggError": "",
       "aggOverflow": false,
       "aggSchema": [],
       "aggSeriesLimitReached": false,
       "aggType": "",
       "arguments": {},
       "columnCustomDisplayInfos": {},
       "data": [
        [
         "Ananya",
         "HR",
         52000,
         2023,
         4.5
        ],
        [
         "Fatima",
         "Marketing",
         45000,
         2023,
         3.9
        ],
        [
         "Karan",
         "HR",
         53000,
         2023,
         4.1
        ],
        [
         "Naveen",
         "Engineering",
         70000,
         2023,
         4.7
        ],
        [
         "Priya",
         "Engineering",
         60000,
         2023,
         4.3
        ],
        [
         "Rahul",
         "Engineering",
         65000,
         2023,
         4.9
        ],
        [
         "Zoya",
         "Marketing",
         48000,
         2023,
         3.8
        ]
       ],
       "datasetInfos": [],
       "dbfsResultPath": null,
       "isJsonSchema": true,
       "metadata": {},
       "overflow": false,
       "plotOptions": {
        "customPlotOptions": {},
        "displayType": "table",
        "pivotAggregation": null,
        "pivotColumns": null,
        "xColumns": null,
        "yColumns": null
       },
       "removedWidgets": [],
       "schema": [
        {
         "metadata": "{}",
         "name": "Name",
         "type": "\"string\""
        },
        {
         "metadata": "{}",
         "name": "Department",
         "type": "\"string\""
        },
        {
         "metadata": "{}",
         "name": "Salary",
         "type": "\"long\""
        },
        {
         "metadata": "{}",
         "name": "Year",
         "type": "\"long\""
        },
        {
         "metadata": "{}",
         "name": "Rating",
         "type": "\"double\""
        }
       ],
       "type": "table"
      }
     },
     "output_type": "display_data"
    }
   ],
   "source": [
    "display(spark.read.csv(\"/FileStore/employee_data\", header=True))\n",
    "display(spark.read.parquet(\"/FileStore/employee_perf\"))"
   ]
  },
  {
   "cell_type": "code",
   "execution_count": 0,
   "metadata": {
    "application/vnd.databricks.v1+cell": {
     "cellMetadata": {},
     "inputWidgets": {},
     "nuid": "e22de57c-1194-424d-969d-795f35eba053",
     "showTitle": false,
     "tableResultSettingsMap": {},
     "title": ""
    }
   },
   "outputs": [],
   "source": []
  }
 ],
 "metadata": {
  "application/vnd.databricks.v1+notebook": {
   "computePreferences": null,
   "dashboards": [],
   "environmentMetadata": {
    "base_environment": "",
    "environment_version": "2"
   },
   "inputWidgetPreferences": null,
   "language": "python",
   "notebookMetadata": {
    "pythonIndentUnit": 4
   },
   "notebookName": "Agg-Grouping",
   "widgets": {}
  },
  "language_info": {
   "name": "python"
  }
 },
 "nbformat": 4,
 "nbformat_minor": 0
}