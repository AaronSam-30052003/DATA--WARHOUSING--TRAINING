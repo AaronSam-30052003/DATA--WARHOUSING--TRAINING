{
  "nbformat": 4,
  "nbformat_minor": 0,
  "metadata": {
    "colab": {
      "provenance": [],
      "gpuType": "T4"
    },
    "kernelspec": {
      "name": "python3",
      "display_name": "Python 3"
    },
    "language_info": {
      "name": "python"
    },
    "accelerator": "GPU"
  },
  "cells": [
    {
      "cell_type": "markdown",
      "source": [
        "**intialize the Spark Session**"
      ],
      "metadata": {
        "id": "5e1KMuGbYikJ"
      }
    },
    {
      "cell_type": "code",
      "source": [
        "from pyspark.sql import SparkSession\n",
        "spark = (\n",
        "    SparkSession.builder\\\n",
        "    .appName(\"Customer-order-analysis\")\\\n",
        "    .getOrCreate()\n",
        ")"
      ],
      "metadata": {
        "id": "qwAP0ltDYoN1"
      },
      "execution_count": null,
      "outputs": []
    },
    {
      "cell_type": "markdown",
      "source": [
        "**Load the datasets**"
      ],
      "metadata": {
        "id": "FqlkwZirY1J3"
      }
    },
    {
      "cell_type": "code",
      "source": [
        "customer=spark.read.csv(\"/content/customers.csv\",header=True,inferSchema=True)\n",
        "customer.show()\n",
        "order=spark.read.csv(\"/content/orders.csv\",header=True,inferSchema=True)\n",
        "order.show()"
      ],
      "metadata": {
        "colab": {
          "base_uri": "https://localhost:8080/"
        },
        "id": "ChjSHW9iYpNz",
        "outputId": "00a662e6-ba50-4699-dfc6-8c3972b0acbd"
      },
      "execution_count": null,
      "outputs": [
        {
          "output_type": "stream",
          "name": "stdout",
          "text": [
            "+-----------+---------+--------------------+-------------+\n",
            "|customer_id|     name|               email|       region|\n",
            "+-----------+---------+--------------------+-------------+\n",
            "|          1|    Aaron|     aaron@gmail.com|         East|\n",
            "|          2|      Sam|       sam@gmail.com|         East|\n",
            "|          3|    Choki|     choki@gmail.com|         East|\n",
            "|          4|   Mickey|    mickey@gmail.com|         West|\n",
            "|          5|    Tomie|     tomie@gmail.com|        North|\n",
            "|          6|     dudu|      dudu@gmail.com|        South|\n",
            "|          7|    samie|     samie@gmail.com|         West|\n",
            "|          8|     bubu|      bubu@gmail.com|         West|\n",
            "|          9|samyuktha|samyukatha@gmail.com|         East|\n",
            "|         10|     love|      love@gmail.com|         East|\n",
            "|         11|    Kiara|     kiara@gmail.com|South-Central|\n",
            "|         12|      Sai|       sai@gmail.com|   North-East|\n",
            "|         13|  Shaurya|   shaurya@gmail.com|South-Central|\n",
            "|         14|      Ira|       ira@gmail.com|    East-West|\n",
            "|         15|  Krishna|   krishna@gmail.com|   West-North|\n",
            "|         16|   Ishaan|    ishaan@gmail.com|    East-West|\n",
            "|         17|    Anika|     anika@gmail.com|   West-North|\n",
            "|         18|   Ishaan|    ishaan@gmail.com|   West-North|\n",
            "|         19|      Ira|       ira@gmail.com|   West-North|\n",
            "|         20|  Reyansh|   reyansh@gmail.com|   West-North|\n",
            "+-----------+---------+--------------------+-------------+\n",
            "only showing top 20 rows\n",
            "\n",
            "+--------+-----------+----------+-------------+----------------------+----------+----------+\n",
            "|order_id|customer_id|order_date|delivery_date|expected_delivery_date|delay_days|    status|\n",
            "+--------+-----------+----------+-------------+----------------------+----------+----------+\n",
            "|    1001|         33|2025-05-22|   2025-05-25|            2025-05-27|         0| Delivered|\n",
            "|    1002|         35|2025-05-18|   2025-05-27|            2025-05-23|         4|In Transit|\n",
            "|    1003|        100|2025-05-01|   2025-05-05|            2025-05-06|         0| Delivered|\n",
            "|    1004|         21|2025-05-24|   2025-05-25|            2025-05-29|         0| Delivered|\n",
            "|    1005|        100|2025-05-07|   2025-05-16|            2025-05-12|         4|   Pending|\n",
            "|    1006|         18|2025-05-17|   2025-05-22|            2025-05-22|         0| Delivered|\n",
            "|    1007|         11|2025-05-24|   2025-05-26|            2025-05-29|         0| Delivered|\n",
            "|    1008|         23|2025-05-21|   2025-05-31|            2025-05-26|         5|In Transit|\n",
            "|    1009|         83|2025-05-03|   2025-05-06|            2025-05-08|         0| Delivered|\n",
            "|    1010|         72|2025-05-24|   2025-05-26|            2025-05-29|         0| Delivered|\n",
            "|    1011|         40|2025-05-27|   2025-05-31|            2025-06-01|         0| Delivered|\n",
            "|    1012|         28|2025-05-25|   2025-05-26|            2025-05-30|         0| Delivered|\n",
            "|    1013|         29|2025-05-19|   2025-05-21|            2025-05-24|         0| Delivered|\n",
            "|    1014|         92|2025-05-16|   2025-05-17|            2025-05-21|         0| Delivered|\n",
            "|    1015|         89|2025-05-27|   2025-06-02|            2025-06-01|         1| Delivered|\n",
            "|    1016|         91|2025-05-06|   2025-05-12|            2025-05-11|         1| Delivered|\n",
            "|    1017|         32|2025-05-16|   2025-05-18|            2025-05-21|         0| Delivered|\n",
            "|    1018|          9|2025-05-15|   2025-05-20|            2025-05-20|         0| Delivered|\n",
            "|    1019|         43|2025-05-17|   2025-05-27|            2025-05-22|         5|   Pending|\n",
            "|    1020|         89|2025-05-15|   2025-05-22|            2025-05-20|         2| Delivered|\n",
            "+--------+-----------+----------+-------------+----------------------+----------+----------+\n",
            "only showing top 20 rows\n",
            "\n"
          ]
        }
      ]
    },
    {
      "cell_type": "markdown",
      "source": [
        "**Data Preprocessing**"
      ],
      "metadata": {
        "id": "Fcr27C1WZa2d"
      }
    },
    {
      "cell_type": "code",
      "source": [
        "from pyspark.sql.functions import col, to_date\n",
        "# Convert delivery_date and order_date to date type\n",
        "orders_df = order.withColumn(\"order_date\", to_date(col(\"order_date\"))) \\\n",
        "                     .withColumn(\"delivery_date\", to_date(col(\"delivery_date\")))\n",
        "# Cast customer_id to int for both tables\n",
        "customers_df = customer.withColumn(\"customer_id\", col(\"customer_id\").cast(\"int\"))\n",
        "orders_df = orders_df.withColumn(\"customer_id\", col(\"customer_id\").cast(\"int\"))"
      ],
      "metadata": {
        "id": "G6QHynV0ZCXj"
      },
      "execution_count": null,
      "outputs": []
    },
    {
      "cell_type": "markdown",
      "source": [
        "**Join customers and orders**"
      ],
      "metadata": {
        "id": "y9zmGcnoZh-w"
      }
    },
    {
      "cell_type": "code",
      "source": [
        "#Join customers and orders on customer_id\n",
        "joined_df = orders_df.join(customers_df, on=\"customer_id\", how=\"inner\")\n",
        "joined_df.show()"
      ],
      "metadata": {
        "colab": {
          "base_uri": "https://localhost:8080/"
        },
        "id": "Cs-taVl6ZQav",
        "outputId": "6e237688-469b-4551-ab9e-8a19b8d83db2"
      },
      "execution_count": null,
      "outputs": [
        {
          "output_type": "stream",
          "name": "stdout",
          "text": [
            "+-----------+--------+----------+-------------+----------------------+----------+----------+---------+--------------------+-------------+\n",
            "|customer_id|order_id|order_date|delivery_date|expected_delivery_date|delay_days|    status|     name|               email|       region|\n",
            "+-----------+--------+----------+-------------+----------------------+----------+----------+---------+--------------------+-------------+\n",
            "|         33|    1001|2025-05-22|   2025-05-25|            2025-05-27|         0| Delivered|   Ishaan|    ishaan@gmail.com|   West-North|\n",
            "|         35|    1002|2025-05-18|   2025-05-27|            2025-05-23|         4|In Transit|    Kiara|     kiara@gmail.com|   North-East|\n",
            "|        100|    1003|2025-05-01|   2025-05-05|            2025-05-06|         0| Delivered| Reyanshi|  reyanshi@gmail.com|   North-East|\n",
            "|         21|    1004|2025-05-24|   2025-05-25|            2025-05-29|         0| Delivered|  Reyansh|   reyansh@gmail.com| Central-East|\n",
            "|        100|    1005|2025-05-07|   2025-05-16|            2025-05-12|         4|   Pending| Reyanshi|  reyanshi@gmail.com|   North-East|\n",
            "|         18|    1006|2025-05-17|   2025-05-22|            2025-05-22|         0| Delivered|   Ishaan|    ishaan@gmail.com|   West-North|\n",
            "|         11|    1007|2025-05-24|   2025-05-26|            2025-05-29|         0| Delivered|    Kiara|     kiara@gmail.com|South-Central|\n",
            "|         23|    1008|2025-05-21|   2025-05-31|            2025-05-26|         5|In Transit|      Sai|       sai@gmail.com|   North-East|\n",
            "|         83|    1009|2025-05-03|   2025-05-06|            2025-05-08|         0| Delivered|   Vihaan|    vihaan@gmail.com|   North-East|\n",
            "|         72|    1010|2025-05-24|   2025-05-26|            2025-05-29|         0| Delivered|      sai|       sai@gmail.com| Central-East|\n",
            "|         40|    1011|2025-05-27|   2025-05-31|            2025-06-01|         0| Delivered|   Saanvi|    saanvi@gmail.com| Central-East|\n",
            "|         28|    1012|2025-05-25|   2025-05-26|            2025-05-30|         0| Delivered|    Kiara|     kiara@gmail.com|South-Central|\n",
            "|         29|    1013|2025-05-19|   2025-05-21|            2025-05-24|         0| Delivered|   Saanvi|    saanvi@gmail.com|   North-East|\n",
            "|         92|    1014|2025-05-16|   2025-05-17|            2025-05-21|         0| Delivered|     Myra|      myra@gmail.com|    East-West|\n",
            "|         89|    1015|2025-05-27|   2025-06-02|            2025-06-01|         1| Delivered|    Aarav|     aarav@gmail.com|South-Central|\n",
            "|         91|    1016|2025-05-06|   2025-05-12|            2025-05-11|         1| Delivered|    Navya|     navya@gmail.com|    East-West|\n",
            "|         32|    1017|2025-05-16|   2025-05-18|            2025-05-21|         0| Delivered|   Aadhya|    aadhya@gmail.com|    East-West|\n",
            "|          9|    1018|2025-05-15|   2025-05-20|            2025-05-20|         0| Delivered|samyuktha|samyukatha@gmail.com|         East|\n",
            "|         43|    1019|2025-05-17|   2025-05-27|            2025-05-22|         5|   Pending|      Ira|       ira@gmail.com|South-Central|\n",
            "|         89|    1020|2025-05-15|   2025-05-22|            2025-05-20|         2| Delivered|    Aarav|     aarav@gmail.com|South-Central|\n",
            "+-----------+--------+----------+-------------+----------------------+----------+----------+---------+--------------------+-------------+\n",
            "only showing top 20 rows\n",
            "\n"
          ]
        }
      ]
    },
    {
      "cell_type": "markdown",
      "source": [
        "**save the joined data**"
      ],
      "metadata": {
        "id": "xpScU1IYb-TE"
      }
    },
    {
      "cell_type": "code",
      "source": [
        "joined_df.coalesce(1).write.option(\"header\", True).csv(\"/content/customer_orders\")"
      ],
      "metadata": {
        "id": "68SzsTH9cB_o"
      },
      "execution_count": null,
      "outputs": []
    },
    {
      "cell_type": "code",
      "source": [
        "from pyspark.sql.functions import datediff\n",
        "#Add delay column and Consider delay if delivery is more than 3 days after order\n",
        "joined_df = joined_df.withColumn(\"delayed\", (datediff(col(\"delivery_date\"), col(\"order_date\")) > 3))\n",
        "joined_df.show()"
      ],
      "metadata": {
        "colab": {
          "base_uri": "https://localhost:8080/"
        },
        "id": "EspLGXEgZ5pa",
        "outputId": "c1073ee0-6953-4aed-dbc7-be889f752ca2"
      },
      "execution_count": null,
      "outputs": [
        {
          "output_type": "stream",
          "name": "stdout",
          "text": [
            "+-----------+--------+----------+-------------+----------------------+----------+----------+---------+--------------------+-------------+-------+\n",
            "|customer_id|order_id|order_date|delivery_date|expected_delivery_date|delay_days|    status|     name|               email|       region|delayed|\n",
            "+-----------+--------+----------+-------------+----------------------+----------+----------+---------+--------------------+-------------+-------+\n",
            "|         33|    1001|2025-05-22|   2025-05-25|            2025-05-27|         0| Delivered|   Ishaan|    ishaan@gmail.com|   West-North|  false|\n",
            "|         35|    1002|2025-05-18|   2025-05-27|            2025-05-23|         4|In Transit|    Kiara|     kiara@gmail.com|   North-East|   true|\n",
            "|        100|    1003|2025-05-01|   2025-05-05|            2025-05-06|         0| Delivered| Reyanshi|  reyanshi@gmail.com|   North-East|   true|\n",
            "|         21|    1004|2025-05-24|   2025-05-25|            2025-05-29|         0| Delivered|  Reyansh|   reyansh@gmail.com| Central-East|  false|\n",
            "|        100|    1005|2025-05-07|   2025-05-16|            2025-05-12|         4|   Pending| Reyanshi|  reyanshi@gmail.com|   North-East|   true|\n",
            "|         18|    1006|2025-05-17|   2025-05-22|            2025-05-22|         0| Delivered|   Ishaan|    ishaan@gmail.com|   West-North|   true|\n",
            "|         11|    1007|2025-05-24|   2025-05-26|            2025-05-29|         0| Delivered|    Kiara|     kiara@gmail.com|South-Central|  false|\n",
            "|         23|    1008|2025-05-21|   2025-05-31|            2025-05-26|         5|In Transit|      Sai|       sai@gmail.com|   North-East|   true|\n",
            "|         83|    1009|2025-05-03|   2025-05-06|            2025-05-08|         0| Delivered|   Vihaan|    vihaan@gmail.com|   North-East|  false|\n",
            "|         72|    1010|2025-05-24|   2025-05-26|            2025-05-29|         0| Delivered|      sai|       sai@gmail.com| Central-East|  false|\n",
            "|         40|    1011|2025-05-27|   2025-05-31|            2025-06-01|         0| Delivered|   Saanvi|    saanvi@gmail.com| Central-East|   true|\n",
            "|         28|    1012|2025-05-25|   2025-05-26|            2025-05-30|         0| Delivered|    Kiara|     kiara@gmail.com|South-Central|  false|\n",
            "|         29|    1013|2025-05-19|   2025-05-21|            2025-05-24|         0| Delivered|   Saanvi|    saanvi@gmail.com|   North-East|  false|\n",
            "|         92|    1014|2025-05-16|   2025-05-17|            2025-05-21|         0| Delivered|     Myra|      myra@gmail.com|    East-West|  false|\n",
            "|         89|    1015|2025-05-27|   2025-06-02|            2025-06-01|         1| Delivered|    Aarav|     aarav@gmail.com|South-Central|   true|\n",
            "|         91|    1016|2025-05-06|   2025-05-12|            2025-05-11|         1| Delivered|    Navya|     navya@gmail.com|    East-West|   true|\n",
            "|         32|    1017|2025-05-16|   2025-05-18|            2025-05-21|         0| Delivered|   Aadhya|    aadhya@gmail.com|    East-West|  false|\n",
            "|          9|    1018|2025-05-15|   2025-05-20|            2025-05-20|         0| Delivered|samyuktha|samyukatha@gmail.com|         East|   true|\n",
            "|         43|    1019|2025-05-17|   2025-05-27|            2025-05-22|         5|   Pending|      Ira|       ira@gmail.com|South-Central|   true|\n",
            "|         89|    1020|2025-05-15|   2025-05-22|            2025-05-20|         2| Delivered|    Aarav|     aarav@gmail.com|South-Central|   true|\n",
            "+-----------+--------+----------+-------------+----------------------+----------+----------+---------+--------------------+-------------+-------+\n",
            "only showing top 20 rows\n",
            "\n"
          ]
        }
      ]
    },
    {
      "cell_type": "markdown",
      "source": [
        "**Group by region and count delays**"
      ],
      "metadata": {
        "id": "OkFP36nlaoAR"
      }
    },
    {
      "cell_type": "code",
      "source": [
        "from pyspark.sql import functions as F\n",
        "result_df = joined_df.groupBy(\"region\") \\\n",
        "                     .agg(F.sum(F.col(\"delayed\").cast(\"int\")).alias(\"delay_count\"))\n",
        "result_df.show()\n"
      ],
      "metadata": {
        "colab": {
          "base_uri": "https://localhost:8080/"
        },
        "id": "IoRxTL6nZ1GY",
        "outputId": "4fbea0bd-2b0e-4416-950a-d7d670b0ec6d"
      },
      "execution_count": null,
      "outputs": [
        {
          "output_type": "stream",
          "name": "stdout",
          "text": [
            "+-------------+-----------+\n",
            "|       region|delay_count|\n",
            "+-------------+-----------+\n",
            "|    East-West|         13|\n",
            "|   North-East|          9|\n",
            "|        South|          1|\n",
            "|South-Central|         11|\n",
            "|   West-North|         12|\n",
            "|         East|          9|\n",
            "|         West|          0|\n",
            "| Central-East|         11|\n",
            "+-------------+-----------+\n",
            "\n"
          ]
        }
      ]
    },
    {
      "cell_type": "markdown",
      "source": [
        "**Save result to CSV**"
      ],
      "metadata": {
        "id": "GUvW4C1cbWOn"
      }
    },
    {
      "cell_type": "code",
      "source": [
        "result_df.coalesce(1).write.option(\"header\", True).csv(\"/content/delay_by_region\")"
      ],
      "metadata": {
        "id": "LvIJbF4Lawq5"
      },
      "execution_count": null,
      "outputs": []
    },
    {
      "cell_type": "code",
      "source": [],
      "metadata": {
        "id": "4qT5JhnYdM4l"
      },
      "execution_count": null,
      "outputs": []
    }
  ]
}