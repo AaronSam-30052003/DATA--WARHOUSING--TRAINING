{
  "nbformat": 4,
  "nbformat_minor": 0,
  "metadata": {
    "colab": {
      "provenance": [],
      "gpuType": "T4"
    },
    "kernelspec": {
      "name": "python3",
      "display_name": "Python 3"
    },
    "language_info": {
      "name": "python"
    },
    "accelerator": "GPU"
  },
  "cells": [
    {
      "cell_type": "code",
      "execution_count": 1,
      "metadata": {
        "colab": {
          "base_uri": "https://localhost:8080/",
          "height": 219
        },
        "id": "AmcjOAPkgO2P",
        "outputId": "fb3fd45c-2b11-4aef-af52-504a85c39588"
      },
      "outputs": [
        {
          "output_type": "execute_result",
          "data": {
            "text/plain": [
              "<pyspark.sql.session.SparkSession at 0x7951ee193d90>"
            ],
            "text/html": [
              "\n",
              "            <div>\n",
              "                <p><b>SparkSession - in-memory</b></p>\n",
              "                \n",
              "        <div>\n",
              "            <p><b>SparkContext</b></p>\n",
              "\n",
              "            <p><a href=\"http://56609e258e5e:4040\">Spark UI</a></p>\n",
              "\n",
              "            <dl>\n",
              "              <dt>Version</dt>\n",
              "                <dd><code>v3.5.1</code></dd>\n",
              "              <dt>Master</dt>\n",
              "                <dd><code>local[*]</code></dd>\n",
              "              <dt>AppName</dt>\n",
              "                <dd><code>CustomerAnalysis-Pipeline</code></dd>\n",
              "            </dl>\n",
              "        </div>\n",
              "        \n",
              "            </div>\n",
              "        "
            ]
          },
          "metadata": {},
          "execution_count": 1
        }
      ],
      "source": [
        "from pyspark.sql import SparkSession\n",
        "spark = SparkSession.builder \\\n",
        "    .appName(\"CustomerAnalysis-Pipeline\") \\\n",
        "    .getOrCreate()\n",
        "spark"
      ]
    },
    {
      "cell_type": "markdown",
      "source": [
        "**Upload CSV and Load Data**"
      ],
      "metadata": {
        "id": "oTOq-oEbgxbz"
      }
    },
    {
      "cell_type": "code",
      "source": [
        "df = spark.read.csv(\"/content/customer_orders.csv\", header=True, inferSchema=True)\n",
        "df.show()"
      ],
      "metadata": {
        "colab": {
          "base_uri": "https://localhost:8080/"
        },
        "id": "_xn3pHORhWYr",
        "outputId": "d6462730-27cd-45a8-f40d-810e2953cec7"
      },
      "execution_count": 3,
      "outputs": [
        {
          "output_type": "stream",
          "name": "stdout",
          "text": [
            "+-----------+--------+----------+-------------+----------------------+----------+----------+---------+--------------------+-------------+-------+\n",
            "|customer_id|order_id|order_date|delivery_date|expected_delivery_date|delay_days|    status|     name|               email|       region|delayed|\n",
            "+-----------+--------+----------+-------------+----------------------+----------+----------+---------+--------------------+-------------+-------+\n",
            "|         33|    1001|2025-05-22|   2025-05-25|            2025-05-27|         0| Delivered|   Ishaan|    ishaan@gmail.com|   West-North|  false|\n",
            "|         35|    1002|2025-05-18|   2025-05-27|            2025-05-23|         4|In Transit|    Kiara|     kiara@gmail.com|   North-East|   true|\n",
            "|        100|    1003|2025-05-01|   2025-05-05|            2025-05-06|         0| Delivered| Reyanshi|  reyanshi@gmail.com|   North-East|   true|\n",
            "|         21|    1004|2025-05-24|   2025-05-25|            2025-05-29|         0| Delivered|  Reyansh|   reyansh@gmail.com| Central-East|  false|\n",
            "|        100|    1005|2025-05-07|   2025-05-16|            2025-05-12|         4|   Pending| Reyanshi|  reyanshi@gmail.com|   North-East|   true|\n",
            "|         18|    1006|2025-05-17|   2025-05-22|            2025-05-22|         0| Delivered|   Ishaan|    ishaan@gmail.com|   West-North|   true|\n",
            "|         11|    1007|2025-05-24|   2025-05-26|            2025-05-29|         0| Delivered|    Kiara|     kiara@gmail.com|South-Central|  false|\n",
            "|         23|    1008|2025-05-21|   2025-05-31|            2025-05-26|         5|In Transit|      Sai|       sai@gmail.com|   North-East|   true|\n",
            "|         83|    1009|2025-05-03|   2025-05-06|            2025-05-08|         0| Delivered|   Vihaan|    vihaan@gmail.com|   North-East|  false|\n",
            "|         72|    1010|2025-05-24|   2025-05-26|            2025-05-29|         0| Delivered|      sai|       sai@gmail.com| Central-East|  false|\n",
            "|         40|    1011|2025-05-27|   2025-05-31|            2025-06-01|         0| Delivered|   Saanvi|    saanvi@gmail.com| Central-East|   true|\n",
            "|         28|    1012|2025-05-25|   2025-05-26|            2025-05-30|         0| Delivered|    Kiara|     kiara@gmail.com|South-Central|  false|\n",
            "|         29|    1013|2025-05-19|   2025-05-21|            2025-05-24|         0| Delivered|   Saanvi|    saanvi@gmail.com|   North-East|  false|\n",
            "|         92|    1014|2025-05-16|   2025-05-17|            2025-05-21|         0| Delivered|     Myra|      myra@gmail.com|    East-West|  false|\n",
            "|         89|    1015|2025-05-27|   2025-06-02|            2025-06-01|         1| Delivered|    Aarav|     aarav@gmail.com|South-Central|   true|\n",
            "|         91|    1016|2025-05-06|   2025-05-12|            2025-05-11|         1| Delivered|    Navya|     navya@gmail.com|    East-West|   true|\n",
            "|         32|    1017|2025-05-16|   2025-05-18|            2025-05-21|         0| Delivered|   Aadhya|    aadhya@gmail.com|    East-West|  false|\n",
            "|          9|    1018|2025-05-15|   2025-05-20|            2025-05-20|         0| Delivered|samyuktha|samyukatha@gmail.com|         East|   true|\n",
            "|         43|    1019|2025-05-17|   2025-05-27|            2025-05-22|         5|   Pending|      Ira|       ira@gmail.com|South-Central|   true|\n",
            "|         89|    1020|2025-05-15|   2025-05-22|            2025-05-20|         2| Delivered|    Aarav|     aarav@gmail.com|South-Central|   true|\n",
            "+-----------+--------+----------+-------------+----------------------+----------+----------+---------+--------------------+-------------+-------+\n",
            "only showing top 20 rows\n",
            "\n"
          ]
        }
      ]
    },
    {
      "cell_type": "markdown",
      "source": [
        "**Update delivery status**"
      ],
      "metadata": {
        "id": "c0-RincDhtR2"
      }
    },
    {
      "cell_type": "code",
      "source": [
        "from pyspark.sql.functions import when, col, current_date\n",
        "updated_df = df.withColumn(\"delivery_status\",\n",
        "    when(col(\"delivery_date\").isNull() & (col(\"expected_delivery_date\") < current_date()), \"Delayed\")\n",
        "    .when(col(\"delivery_date\").isNotNull(), \"Delivered\")\n",
        "    .otherwise(\"Pending\")\n",
        ")\n",
        "print(\"Updated DataFrame:\")\n",
        "updated_df.show()"
      ],
      "metadata": {
        "colab": {
          "base_uri": "https://localhost:8080/"
        },
        "id": "uQzfRSlqhknk",
        "outputId": "b8b64d2a-8830-4bae-9836-8fd63d7b632f"
      },
      "execution_count": 4,
      "outputs": [
        {
          "output_type": "stream",
          "name": "stdout",
          "text": [
            "Updated DataFrame:\n",
            "+-----------+--------+----------+-------------+----------------------+----------+----------+---------+--------------------+-------------+-------+---------------+\n",
            "|customer_id|order_id|order_date|delivery_date|expected_delivery_date|delay_days|    status|     name|               email|       region|delayed|delivery_status|\n",
            "+-----------+--------+----------+-------------+----------------------+----------+----------+---------+--------------------+-------------+-------+---------------+\n",
            "|         33|    1001|2025-05-22|   2025-05-25|            2025-05-27|         0| Delivered|   Ishaan|    ishaan@gmail.com|   West-North|  false|      Delivered|\n",
            "|         35|    1002|2025-05-18|   2025-05-27|            2025-05-23|         4|In Transit|    Kiara|     kiara@gmail.com|   North-East|   true|      Delivered|\n",
            "|        100|    1003|2025-05-01|   2025-05-05|            2025-05-06|         0| Delivered| Reyanshi|  reyanshi@gmail.com|   North-East|   true|      Delivered|\n",
            "|         21|    1004|2025-05-24|   2025-05-25|            2025-05-29|         0| Delivered|  Reyansh|   reyansh@gmail.com| Central-East|  false|      Delivered|\n",
            "|        100|    1005|2025-05-07|   2025-05-16|            2025-05-12|         4|   Pending| Reyanshi|  reyanshi@gmail.com|   North-East|   true|      Delivered|\n",
            "|         18|    1006|2025-05-17|   2025-05-22|            2025-05-22|         0| Delivered|   Ishaan|    ishaan@gmail.com|   West-North|   true|      Delivered|\n",
            "|         11|    1007|2025-05-24|   2025-05-26|            2025-05-29|         0| Delivered|    Kiara|     kiara@gmail.com|South-Central|  false|      Delivered|\n",
            "|         23|    1008|2025-05-21|   2025-05-31|            2025-05-26|         5|In Transit|      Sai|       sai@gmail.com|   North-East|   true|      Delivered|\n",
            "|         83|    1009|2025-05-03|   2025-05-06|            2025-05-08|         0| Delivered|   Vihaan|    vihaan@gmail.com|   North-East|  false|      Delivered|\n",
            "|         72|    1010|2025-05-24|   2025-05-26|            2025-05-29|         0| Delivered|      sai|       sai@gmail.com| Central-East|  false|      Delivered|\n",
            "|         40|    1011|2025-05-27|   2025-05-31|            2025-06-01|         0| Delivered|   Saanvi|    saanvi@gmail.com| Central-East|   true|      Delivered|\n",
            "|         28|    1012|2025-05-25|   2025-05-26|            2025-05-30|         0| Delivered|    Kiara|     kiara@gmail.com|South-Central|  false|      Delivered|\n",
            "|         29|    1013|2025-05-19|   2025-05-21|            2025-05-24|         0| Delivered|   Saanvi|    saanvi@gmail.com|   North-East|  false|      Delivered|\n",
            "|         92|    1014|2025-05-16|   2025-05-17|            2025-05-21|         0| Delivered|     Myra|      myra@gmail.com|    East-West|  false|      Delivered|\n",
            "|         89|    1015|2025-05-27|   2025-06-02|            2025-06-01|         1| Delivered|    Aarav|     aarav@gmail.com|South-Central|   true|      Delivered|\n",
            "|         91|    1016|2025-05-06|   2025-05-12|            2025-05-11|         1| Delivered|    Navya|     navya@gmail.com|    East-West|   true|      Delivered|\n",
            "|         32|    1017|2025-05-16|   2025-05-18|            2025-05-21|         0| Delivered|   Aadhya|    aadhya@gmail.com|    East-West|  false|      Delivered|\n",
            "|          9|    1018|2025-05-15|   2025-05-20|            2025-05-20|         0| Delivered|samyuktha|samyukatha@gmail.com|         East|   true|      Delivered|\n",
            "|         43|    1019|2025-05-17|   2025-05-27|            2025-05-22|         5|   Pending|      Ira|       ira@gmail.com|South-Central|   true|      Delivered|\n",
            "|         89|    1020|2025-05-15|   2025-05-22|            2025-05-20|         2| Delivered|    Aarav|     aarav@gmail.com|South-Central|   true|      Delivered|\n",
            "+-----------+--------+----------+-------------+----------------------+----------+----------+---------+--------------------+-------------+-------+---------------+\n",
            "only showing top 20 rows\n",
            "\n"
          ]
        }
      ]
    },
    {
      "cell_type": "markdown",
      "source": [
        "**Save the results as Delta or CSV**"
      ],
      "metadata": {
        "id": "9w8sNTRsiQF-"
      }
    },
    {
      "cell_type": "code",
      "source": [
        "output_dir = \"/content/customer_orders_updated\"\n",
        "output_file = \"/content/customer_orders_updated.csv\"\n",
        "updated_df.coalesce(1).write.option(\"header\", True).mode(\"overwrite\").csv(output_dir)"
      ],
      "metadata": {
        "id": "a9G1Ql9Gh3cQ"
      },
      "execution_count": 5,
      "outputs": []
    },
    {
      "cell_type": "markdown",
      "source": [
        "**Sql Queries**"
      ],
      "metadata": {
        "id": "WY9amNFQqP8h"
      }
    },
    {
      "cell_type": "code",
      "source": [
        "#create temp view\n",
        "updated_df.createOrReplaceTempView(\"latest_orders\")\n",
        "#show top 5 delayed customers\n",
        "top_delayed_customers = spark.sql(\"\"\"\n",
        "    SELECT customer_id, COUNT(*) AS delayed_orders\n",
        "    FROM latest_orders\n",
        "    WHERE delivery_status = 'Delayed'\n",
        "    GROUP BY customer_id\n",
        "    ORDER BY delayed_orders DESC\n",
        "    LIMIT 5\n",
        "\"\"\")\n",
        "print(\"Top 5 delayed customers:\")\n",
        "top_delayed_customers.show()"
      ],
      "metadata": {
        "id": "WYFwvON1inI0",
        "colab": {
          "base_uri": "https://localhost:8080/"
        },
        "outputId": "74c65a39-58ab-4090-8707-64c3e04b8b5e"
      },
      "execution_count": 6,
      "outputs": [
        {
          "output_type": "stream",
          "name": "stdout",
          "text": [
            "Top 5 delayed customers:\n",
            "+-----------+--------------+\n",
            "|customer_id|delayed_orders|\n",
            "+-----------+--------------+\n",
            "+-----------+--------------+\n",
            "\n"
          ]
        }
      ]
    },
    {
      "cell_type": "code",
      "source": [],
      "metadata": {
        "id": "ZlUecWHhqqTV"
      },
      "execution_count": null,
      "outputs": []
    }
  ]
}