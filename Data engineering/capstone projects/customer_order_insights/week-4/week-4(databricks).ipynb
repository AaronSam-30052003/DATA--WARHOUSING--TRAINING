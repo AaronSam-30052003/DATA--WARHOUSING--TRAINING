{
 "cells": [
  {
   "cell_type": "markdown",
   "metadata": {
    "application/vnd.databricks.v1+cell": {
     "cellMetadata": {},
     "inputWidgets": {},
     "nuid": "5f6b3ab5-f635-476d-a6b7-bb82f8fa7d93",
     "showTitle": false,
     "tableResultSettingsMap": {},
     "title": ""
    }
   },
   "source": [
    "**Intialize the SparkSession**"
   ]
  },
  {
   "cell_type": "code",
   "execution_count": 0,
   "metadata": {
    "application/vnd.databricks.v1+cell": {
     "cellMetadata": {
      "byteLimit": 2048000,
      "rowLimit": 10000
     },
     "inputWidgets": {},
     "nuid": "c4f834e8-e0a0-4d47-91ce-c7ad4d356dfd",
     "showTitle": false,
     "tableResultSettingsMap": {},
     "title": ""
    }
   },
   "outputs": [
    {
     "output_type": "execute_result",
     "data": {
      "text/html": [
       "\n",
       "            <div>\n",
       "                <p><b>SparkSession - hive</b></p>\n",
       "                \n",
       "        <div>\n",
       "            <p><b>SparkContext</b></p>\n",
       "\n",
       "            <p><a href=\"/?o=3525126442407722#setting/sparkui/0611-043339-3vb7b9iv/driver-7369537978014957595\">Spark UI</a></p>\n",
       "\n",
       "            <dl>\n",
       "              <dt>Version</dt>\n",
       "                <dd><code>v3.5.0</code></dd>\n",
       "              <dt>Master</dt>\n",
       "                <dd><code>local[*, 4]</code></dd>\n",
       "              <dt>AppName</dt>\n",
       "                <dd><code>Databricks Shell</code></dd>\n",
       "            </dl>\n",
       "        </div>\n",
       "        \n",
       "            </div>\n",
       "        "
      ],
      "text/plain": [
       "<pyspark.sql.session.SparkSession at 0x7d6de8bc9510>"
      ]
     },
     "execution_count": 1,
     "metadata": {},
     "output_type": "execute_result"
    }
   ],
   "source": [
    "from pyspark.sql import SparkSession\n",
    "spark=SparkSession.builder\\\n",
    "      .appName(\"Customer_orders Analysis\")\\\n",
    "      .getOrCreate()\n",
    "spark"
   ]
  },
  {
   "cell_type": "markdown",
   "metadata": {
    "application/vnd.databricks.v1+cell": {
     "cellMetadata": {},
     "inputWidgets": {},
     "nuid": "0b2141f3-ca66-441c-a707-cd0e600fd256",
     "showTitle": false,
     "tableResultSettingsMap": {},
     "title": ""
    }
   },
   "source": [
    "**Load cleaned order data**"
   ]
  },
  {
   "cell_type": "code",
   "execution_count": 0,
   "metadata": {
    "application/vnd.databricks.v1+cell": {
     "cellMetadata": {
      "byteLimit": 2048000,
      "rowLimit": 10000
     },
     "inputWidgets": {},
     "nuid": "23ed8c9e-3926-4747-8466-8d09b1518de2",
     "showTitle": false,
     "tableResultSettingsMap": {},
     "title": ""
    }
   },
   "outputs": [
    {
     "output_type": "stream",
     "name": "stdout",
     "output_type": "stream",
     "text": [
      "+-----------+--------+----------+-------------+----------------------+----------+----------+---------+--------------------+-------------+-------+\n|customer_id|order_id|order_date|delivery_date|expected_delivery_date|delay_days|    status|     name|               email|       region|delayed|\n+-----------+--------+----------+-------------+----------------------+----------+----------+---------+--------------------+-------------+-------+\n|         33|    1001|2025-05-22|   2025-05-25|            2025-05-27|         0| Delivered|   Ishaan|    ishaan@gmail.com|   West-North|  false|\n|         35|    1002|2025-05-18|   2025-05-27|            2025-05-23|         4|In Transit|    Kiara|     kiara@gmail.com|   North-East|   true|\n|        100|    1003|2025-05-01|   2025-05-05|            2025-05-06|         0| Delivered| Reyanshi|  reyanshi@gmail.com|   North-East|   true|\n|         21|    1004|2025-05-24|   2025-05-25|            2025-05-29|         0| Delivered|  Reyansh|   reyansh@gmail.com| Central-East|  false|\n|        100|    1005|2025-05-07|   2025-05-16|            2025-05-12|         4|   Pending| Reyanshi|  reyanshi@gmail.com|   North-East|   true|\n|         18|    1006|2025-05-17|   2025-05-22|            2025-05-22|         0| Delivered|   Ishaan|    ishaan@gmail.com|   West-North|   true|\n|         11|    1007|2025-05-24|   2025-05-26|            2025-05-29|         0| Delivered|    Kiara|     kiara@gmail.com|South-Central|  false|\n|         23|    1008|2025-05-21|   2025-05-31|            2025-05-26|         5|In Transit|      Sai|       sai@gmail.com|   North-East|   true|\n|         83|    1009|2025-05-03|   2025-05-06|            2025-05-08|         0| Delivered|   Vihaan|    vihaan@gmail.com|   North-East|  false|\n|         72|    1010|2025-05-24|   2025-05-26|            2025-05-29|         0| Delivered|      sai|       sai@gmail.com| Central-East|  false|\n|         40|    1011|2025-05-27|   2025-05-31|            2025-06-01|         0| Delivered|   Saanvi|    saanvi@gmail.com| Central-East|   true|\n|         28|    1012|2025-05-25|   2025-05-26|            2025-05-30|         0| Delivered|    Kiara|     kiara@gmail.com|South-Central|  false|\n|         29|    1013|2025-05-19|   2025-05-21|            2025-05-24|         0| Delivered|   Saanvi|    saanvi@gmail.com|   North-East|  false|\n|         92|    1014|2025-05-16|   2025-05-17|            2025-05-21|         0| Delivered|     Myra|      myra@gmail.com|    East-West|  false|\n|         89|    1015|2025-05-27|   2025-06-02|            2025-06-01|         1| Delivered|    Aarav|     aarav@gmail.com|South-Central|   true|\n|         91|    1016|2025-05-06|   2025-05-12|            2025-05-11|         1| Delivered|    Navya|     navya@gmail.com|    East-West|   true|\n|         32|    1017|2025-05-16|   2025-05-18|            2025-05-21|         0| Delivered|   Aadhya|    aadhya@gmail.com|    East-West|  false|\n|          9|    1018|2025-05-15|   2025-05-20|            2025-05-20|         0| Delivered|samyuktha|samyukatha@gmail.com|         East|   true|\n|         43|    1019|2025-05-17|   2025-05-27|            2025-05-22|         5|   Pending|      Ira|       ira@gmail.com|South-Central|   true|\n|         89|    1020|2025-05-15|   2025-05-22|            2025-05-20|         2| Delivered|    Aarav|     aarav@gmail.com|South-Central|   true|\n+-----------+--------+----------+-------------+----------------------+----------+----------+---------+--------------------+-------------+-------+\nonly showing top 20 rows\n\nroot\n |-- customer_id: integer (nullable = true)\n |-- order_id: integer (nullable = true)\n |-- order_date: date (nullable = true)\n |-- delivery_date: date (nullable = true)\n |-- expected_delivery_date: date (nullable = true)\n |-- delay_days: integer (nullable = true)\n |-- status: string (nullable = true)\n |-- name: string (nullable = true)\n |-- email: string (nullable = true)\n |-- region: string (nullable = true)\n |-- delayed: boolean (nullable = true)\n\n"
     ]
    }
   ],
   "source": [
    "#Load the data\n",
    "df=spark.read.option(\"header\",True).option(\"inferSchema\",True)\\\n",
    "    .csv(\"file:/Workspace/Shared/customer_orders.csv\")\n",
    "df.show()\n",
    "df.printSchema()                                                                        "
   ]
  },
  {
   "cell_type": "markdown",
   "metadata": {
    "application/vnd.databricks.v1+cell": {
     "cellMetadata": {},
     "inputWidgets": {},
     "nuid": "314e60b8-fd75-4097-af66-ade2ab7fe234",
     "showTitle": false,
     "tableResultSettingsMap": {},
     "title": ""
    }
   },
   "source": [
    "**Pipeline to Update Latest Delivery Status**"
   ]
  },
  {
   "cell_type": "code",
   "execution_count": 0,
   "metadata": {
    "application/vnd.databricks.v1+cell": {
     "cellMetadata": {
      "byteLimit": 2048000,
      "rowLimit": 10000
     },
     "inputWidgets": {},
     "nuid": "103b73e6-497b-4ad5-b298-17f434e99b2b",
     "showTitle": false,
     "tableResultSettingsMap": {},
     "title": ""
    }
   },
   "outputs": [
    {
     "output_type": "stream",
     "name": "stdout",
     "output_type": "stream",
     "text": [
      "Latest delivery status per order:\n+-----------+--------+----------+-------------+----------------------+----------+----------+--------+------------------+------------+-------+---------------+\n|customer_id|order_id|order_date|delivery_date|expected_delivery_date|delay_days|    status|    name|             email|      region|delayed|delivery_status|\n+-----------+--------+----------+-------------+----------------------+----------+----------+--------+------------------+------------+-------+---------------+\n|         33|    1001|2025-05-22|   2025-05-25|            2025-05-27|         0| Delivered|  Ishaan|  ishaan@gmail.com|  West-North|  false|      Delivered|\n|         35|    1002|2025-05-18|   2025-05-27|            2025-05-23|         4|In Transit|   Kiara|   kiara@gmail.com|  North-East|   true|      Delivered|\n|        100|    1003|2025-05-01|   2025-05-05|            2025-05-06|         0| Delivered|Reyanshi|reyanshi@gmail.com|  North-East|   true|      Delivered|\n|         21|    1004|2025-05-24|   2025-05-25|            2025-05-29|         0| Delivered| Reyansh| reyansh@gmail.com|Central-East|  false|      Delivered|\n|        100|    1005|2025-05-07|   2025-05-16|            2025-05-12|         4|   Pending|Reyanshi|reyanshi@gmail.com|  North-East|   true|      Delivered|\n+-----------+--------+----------+-------------+----------------------+----------+----------+--------+------------------+------------+-------+---------------+\nonly showing top 5 rows\n\n"
     ]
    }
   ],
   "source": [
    "from pyspark.sql.functions import when, col, current_date, row_number\n",
    "from pyspark.sql.window import Window\n",
    "status = df.withColumn(\"delivery_status\",\n",
    "    when(col(\"delivery_date\").isNotNull(), \"Delivered\")\n",
    "    .when(col(\"delivery_date\").isNull() & (col(\"expected_delivery_date\") < current_date()), \"Delayed\")\n",
    "    .otherwise(\"Pending\")\n",
    ")\n",
    "w = Window.partitionBy(\"order_id\").orderBy(col(\"delivery_date\").desc())\n",
    "latest=status.withColumn(\"row_num\", row_number().over(w)) \\\n",
    "                                       .filter(col(\"row_num\") == 1) \\\n",
    "                                       .drop(\"row_num\")\n",
    "\n",
    "print(\"Latest delivery status per order:\")\n",
    "latest.show(5)"
   ]
  },
  {
   "cell_type": "markdown",
   "metadata": {
    "application/vnd.databricks.v1+cell": {
     "cellMetadata": {},
     "inputWidgets": {},
     "nuid": "f822f4ea-e873-4709-a67d-c1cb80bb6768",
     "showTitle": false,
     "tableResultSettingsMap": {},
     "title": ""
    }
   },
   "source": [
    "**Save the Result as CSV**"
   ]
  },
  {
   "cell_type": "code",
   "execution_count": 0,
   "metadata": {
    "application/vnd.databricks.v1+cell": {
     "cellMetadata": {
      "byteLimit": 2048000,
      "rowLimit": 10000
     },
     "inputWidgets": {},
     "nuid": "2a812729-3d9a-4fd8-b3e2-b281f2b45730",
     "showTitle": false,
     "tableResultSettingsMap": {},
     "title": ""
    }
   },
   "outputs": [],
   "source": [
    "latest.write.mode(\"overwrite\").option(\"header\", True).csv(\"file:/Workspace/Shared/latest_delivery_status\")"
   ]
  },
  {
   "cell_type": "markdown",
   "metadata": {
    "application/vnd.databricks.v1+cell": {
     "cellMetadata": {},
     "inputWidgets": {},
     "nuid": "fa82b7f5-3e8f-4bd8-bdaf-1eebc6b261b9",
     "showTitle": false,
     "tableResultSettingsMap": {},
     "title": ""
    }
   },
   "source": [
    "**SQL Query**"
   ]
  },
  {
   "cell_type": "code",
   "execution_count": 0,
   "metadata": {
    "application/vnd.databricks.v1+cell": {
     "cellMetadata": {
      "byteLimit": 2048000,
      "rowLimit": 10000
     },
     "inputWidgets": {},
     "nuid": "00931d42-3f6f-412a-904c-136b9d718ac3",
     "showTitle": false,
     "tableResultSettingsMap": {},
     "title": ""
    }
   },
   "outputs": [
    {
     "output_type": "stream",
     "name": "stdout",
     "output_type": "stream",
     "text": [
      "Top 5 delayed customers:\n+-----------+--------------+\n|customer_id|delayed_orders|\n+-----------+--------------+\n+-----------+--------------+\n\n"
     ]
    }
   ],
   "source": [
    "#create temp view\n",
    "status.createOrReplaceTempView(\"latest_orders\")\n",
    "#show top 5 delayed customers\n",
    "top_delayed_customers = spark.sql(\"\"\"\n",
    "    SELECT customer_id, COUNT(*) AS delayed_orders\n",
    "    FROM latest_orders\n",
    "    WHERE delivery_status = 'Delayed'\n",
    "    GROUP BY customer_id\n",
    "    ORDER BY delayed_orders DESC\n",
    "    LIMIT 5\n",
    "\"\"\")\n",
    "print(\"Top 5 delayed customers:\")\n",
    "top_delayed_customers.show()"
   ]
  },
  {
   "cell_type": "code",
   "execution_count": 0,
   "metadata": {
    "application/vnd.databricks.v1+cell": {
     "cellMetadata": {},
     "inputWidgets": {},
     "nuid": "5ba7923c-13af-483f-90d5-bb1d46a46800",
     "showTitle": false,
     "tableResultSettingsMap": {},
     "title": ""
    }
   },
   "outputs": [],
   "source": []
  }
 ],
 "metadata": {
  "application/vnd.databricks.v1+notebook": {
   "computePreferences": null,
   "dashboards": [],
   "environmentMetadata": {
    "base_environment": "",
    "environment_version": "2"
   },
   "inputWidgetPreferences": null,
   "language": "python",
   "notebookMetadata": {
    "pythonIndentUnit": 4
   },
   "notebookName": "week-4",
   "widgets": {}
  },
  "language_info": {
   "name": "python"
  }
 },
 "nbformat": 4,
 "nbformat_minor": 0
}
