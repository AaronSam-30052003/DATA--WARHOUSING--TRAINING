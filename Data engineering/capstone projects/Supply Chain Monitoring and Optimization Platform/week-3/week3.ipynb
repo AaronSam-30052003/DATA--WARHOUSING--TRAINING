{
  "nbformat": 4,
  "nbformat_minor": 0,
  "metadata": {
    "colab": {
      "provenance": [],
      "gpuType": "T4"
    },
    "kernelspec": {
      "name": "python3",
      "display_name": "Python 3"
    },
    "language_info": {
      "name": "python"
    },
    "accelerator": "GPU"
  },
  "cells": [
    {
      "cell_type": "code",
      "execution_count": null,
      "metadata": {
        "colab": {
          "base_uri": "https://localhost:8080/"
        },
        "id": "-RITD2k7QPwt",
        "outputId": "18b98762-b956-46e4-e488-b5dc72a3774e"
      },
      "outputs": [
        {
          "output_type": "stream",
          "name": "stdout",
          "text": [
            "Requirement already satisfied: pyspark==3.5.1 in /usr/local/lib/python3.11/dist-packages (3.5.1)\n",
            "Requirement already satisfied: py4j==0.10.9.7 in /usr/local/lib/python3.11/dist-packages (from pyspark==3.5.1) (0.10.9.7)\n"
          ]
        }
      ],
      "source": [
        "!pip install pyspark==3.5.1"
      ]
    },
    {
      "cell_type": "code",
      "source": [
        "from pyspark.sql import SparkSession\n",
        "from pyspark.sql.functions import col, when, datediff\n",
        "\n",
        "# Initialize Spark session\n",
        "spark = SparkSession.builder \\\n",
        "    .appName(\"SupplyChainDelayAnalysis\") \\\n",
        "    .getOrCreate()\n",
        "\n",
        "# Load the CSV file\n",
        "df = spark.read.csv(\"/content/processed_supply_chain_report.csv\", header=True, inferSchema=True)\n",
        "\n",
        "# Convert dates to proper format if not already\n",
        "df = df.withColumn(\"orderdate\", col(\"orderdate\").cast(\"date\")) \\\n",
        "       .withColumn(\"deliverydate\", col(\"deliverydate\").cast(\"date\"))\n",
        "\n",
        "# Calculate delay in days\n",
        "df = df.withColumn(\"delay_days\", datediff(col(\"deliverydate\"), col(\"orderdate\")))\n",
        "\n",
        "# Create a new column to indicate delay status\n",
        "df = df.withColumn(\"is_delayed\", when(col(\"delay_days\") > 0, 1).otherwise(0))\n",
        "\n",
        "# Filter delayed shipments\n",
        "delayed_df = df.filter(col(\"delay_days\") > 0)\n",
        "\n",
        "# Show some delayed shipment results\n",
        "print(\"Delayed Shipments:\")\n",
        "delayed_df.select(\"orderid\", \"itemid\", \"orderdate\", \"deliverydate\", \"delay_days\", \"is_delayed\").show(10)\n",
        "\n",
        "# Task 3: Group by supplierid and suppliername and count delayed orders\n",
        "delayed_count_df = delayed_df.groupBy(\"supplierid\", \"suppliername\").count()\n",
        "\n",
        "print(\"Delayed orders count by supplier:\")\n",
        "delayed_count_df.show()\n",
        "\n",
        "# Save the processed data with delay info\n",
        "df.coalesce(1).write.csv(\"processed_supply_chain_report_with_delays\", header=True, mode=\"overwrite\")\n",
        "\n",
        "# Save the aggregated delayed orders count\n",
        "delayed_count_df.coalesce(1).write.csv(\"delayed_orders_count_by_supplier\", header=True, mode=\"overwrite\")\n",
        "\n",
        "# Stop Spark session\n",
        "spark.stop()\n"
      ],
      "metadata": {
        "colab": {
          "base_uri": "https://localhost:8080/"
        },
        "id": "kjIo-gH_Y6zP",
        "outputId": "016841a4-7f83-4893-9b39-d68d32d67fdf"
      },
      "execution_count": null,
      "outputs": [
        {
          "output_type": "stream",
          "name": "stdout",
          "text": [
            "Delayed Shipments:\n",
            "+-------+------+----------+------------+----------+----------+\n",
            "|orderid|itemid| orderdate|deliverydate|delay_days|is_delayed|\n",
            "+-------+------+----------+------------+----------+----------+\n",
            "|      1|     1|2025-05-01|  2025-05-10|         9|         1|\n",
            "|      2|     2|2025-05-03|  2025-05-08|         5|         1|\n",
            "|      3|     3|2025-05-05|  2025-05-18|        13|         1|\n",
            "|      4|     4|2025-05-06|  2025-05-12|         6|         1|\n",
            "|      5|     5|2025-05-08|  2025-06-15|        38|         1|\n",
            "|      6|     1|2025-05-10|  2025-05-22|        12|         1|\n",
            "|      7|     6|2025-05-11|  2025-05-20|         9|         1|\n",
            "|      8|     3|2025-05-12|  2025-05-16|         4|         1|\n",
            "|      9|     6|2025-05-13|  2025-05-17|         4|         1|\n",
            "|     11|     2|2025-06-01|  2025-06-10|         9|         1|\n",
            "+-------+------+----------+------------+----------+----------+\n",
            "\n",
            "Delayed orders count by supplier:\n",
            "+----------+-----------------+-----+\n",
            "|supplierid|     suppliername|count|\n",
            "+----------+-----------------+-----+\n",
            "|         4|LogiPro Solutions|    1|\n",
            "|         2|      Mickeychoki|    3|\n",
            "|         1|         bubududu|    4|\n",
            "|         3|           tomie.|    2|\n",
            "+----------+-----------------+-----+\n",
            "\n"
          ]
        }
      ]
    },
    {
      "cell_type": "code",
      "source": [],
      "metadata": {
        "id": "nKPhdYjzSS4d"
      },
      "execution_count": null,
      "outputs": []
    }
  ]
}