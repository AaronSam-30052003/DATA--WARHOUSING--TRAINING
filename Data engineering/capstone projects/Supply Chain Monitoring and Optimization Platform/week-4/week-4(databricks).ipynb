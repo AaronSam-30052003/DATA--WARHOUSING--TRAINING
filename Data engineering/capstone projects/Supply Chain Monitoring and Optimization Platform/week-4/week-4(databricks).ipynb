{
 "cells": [
  {
   "cell_type": "markdown",
   "metadata": {
    "application/vnd.databricks.v1+cell": {
     "cellMetadata": {},
     "inputWidgets": {},
     "nuid": "5c48490b-0def-432c-bb5c-0602fc918626",
     "showTitle": false,
     "tableResultSettingsMap": {},
     "title": ""
    }
   },
   "source": [
    "**Initialize the SparkSession**"
   ]
  },
  {
   "cell_type": "code",
   "execution_count": 0,
   "metadata": {
    "application/vnd.databricks.v1+cell": {
     "cellMetadata": {
      "byteLimit": 2048000,
      "rowLimit": 10000
     },
     "inputWidgets": {},
     "nuid": "3927fbab-0208-43e5-8801-b9c0105e97a2",
     "showTitle": false,
     "tableResultSettingsMap": {},
     "title": ""
    }
   },
   "outputs": [
    {
     "output_type": "execute_result",
     "data": {
      "text/html": [
       "\n",
       "            <div>\n",
       "                <p><b>SparkSession - hive</b></p>\n",
       "                \n",
       "        <div>\n",
       "            <p><b>SparkContext</b></p>\n",
       "\n",
       "            <p><a href=\"/?o=3525126442407722#setting/sparkui/0611-043339-3vb7b9iv/driver-7369537978014957595\">Spark UI</a></p>\n",
       "\n",
       "            <dl>\n",
       "              <dt>Version</dt>\n",
       "                <dd><code>v3.5.0</code></dd>\n",
       "              <dt>Master</dt>\n",
       "                <dd><code>local[*, 4]</code></dd>\n",
       "              <dt>AppName</dt>\n",
       "                <dd><code>Databricks Shell</code></dd>\n",
       "            </dl>\n",
       "        </div>\n",
       "        \n",
       "            </div>\n",
       "        "
      ],
      "text/plain": [
       "<pyspark.sql.session.SparkSession at 0x7618846c8810>"
      ]
     },
     "execution_count": 4,
     "metadata": {},
     "output_type": "execute_result"
    }
   ],
   "source": [
    "import findspark\n",
    "findspark.init()\n",
    "from pyspark.sql import SparkSession\n",
    "spark = SparkSession.builder \\\n",
    "    .appName(\"Supply-chain\") \\\n",
    "    .getOrCreate()\n",
    "spark\n"
   ]
  },
  {
   "cell_type": "markdown",
   "metadata": {
    "application/vnd.databricks.v1+cell": {
     "cellMetadata": {},
     "inputWidgets": {},
     "nuid": "a86d4924-0409-4118-8a4b-6272186b3972",
     "showTitle": false,
     "tableResultSettingsMap": {},
     "title": ""
    }
   },
   "source": [
    "**Upload CSV and Load the data** "
   ]
  },
  {
   "cell_type": "code",
   "execution_count": 0,
   "metadata": {
    "application/vnd.databricks.v1+cell": {
     "cellMetadata": {
      "byteLimit": 2048000,
      "rowLimit": 10000
     },
     "inputWidgets": {},
     "nuid": "a6ed0d2d-09d8-4abc-ab6e-51fc91cc032f",
     "showTitle": false,
     "tableResultSettingsMap": {},
     "title": ""
    }
   },
   "outputs": [
    {
     "output_type": "stream",
     "name": "stdout",
     "output_type": "stream",
     "text": [
      "+-------+----------+-----------------+------+--------------+----------+------------+----------+----------+-------+\n|orderid|supplierid|     suppliername|itemid|      itemname| orderdate|deliverydate|delay_days|is_delayed|delayed|\n+-------+----------+-----------------+------+--------------+----------+------------+----------+----------+-------+\n|      1|         1|         bubududu|     1|      Widget A|2025-05-01|  2025-05-10|         9|         1|      1|\n|      2|         2|      Mickeychoki|     2|      Widget B|2025-05-03|  2025-05-08|         5|         1|      1|\n|      3|         3|           tomie.|     3|      Gadget X|2025-05-05|  2025-05-18|        13|         1|      1|\n|      4|         1|         bubududu|     4|        Part Z|2025-05-06|  2025-05-12|         6|         1|      1|\n|      5|         2|      Mickeychoki|     5|Assembly Kit 9|2025-05-08|  2025-06-15|        38|         0|      1|\n|      6|         4|LogiPro Solutions|     1|      Widget A|2025-05-10|  2025-05-22|        12|         1|      1|\n|      7|         3|           tomie.|     6|      Gadget A|2025-05-11|  2025-05-20|         9|         1|      1|\n|      8|         1|         bubududu|     3|      Gadget X|2025-05-12|  2025-05-16|         4|         1|      1|\n|      9|         2|      Mickeychoki|     6|      Gadget A|2025-05-13|  2025-05-17|         4|         1|      1|\n|     11|         1|         bubududu|     2|      Widget B|2025-06-01|  2025-06-10|         9|         0|      1|\n+-------+----------+-----------------+------+--------------+----------+------------+----------+----------+-------+\n\nroot\n |-- orderid: integer (nullable = true)\n |-- supplierid: integer (nullable = true)\n |-- suppliername: string (nullable = true)\n |-- itemid: integer (nullable = true)\n |-- itemname: string (nullable = true)\n |-- orderdate: date (nullable = true)\n |-- deliverydate: date (nullable = true)\n |-- delay_days: integer (nullable = true)\n |-- is_delayed: integer (nullable = true)\n |-- delayed: integer (nullable = true)\n\n"
     ]
    }
   ],
   "source": [
    "#load using shared folder\n",
    "df=spark.read.option(\"header\",True).option(\"inferSchema\",True)\\\n",
    "    .csv(\"file:/Workspace/Shared/supply_chain_report.csv\")\n",
    "df.show()\n",
    "df.printSchema()"
   ]
  },
  {
   "cell_type": "code",
   "execution_count": 0,
   "metadata": {
    "application/vnd.databricks.v1+cell": {
     "cellMetadata": {
      "byteLimit": 2048000,
      "rowLimit": 10000
     },
     "inputWidgets": {},
     "nuid": "6476952f-82ca-4c78-8c99-eda1946a8eef",
     "showTitle": false,
     "tableResultSettingsMap": {},
     "title": ""
    }
   },
   "outputs": [
    {
     "output_type": "stream",
     "name": "stdout",
     "output_type": "stream",
     "text": [
      "+-------+----------+-----------------+------+--------------+----------+------------+----------+----------+-------+\n|orderid|supplierid|     suppliername|itemid|      itemname| orderdate|deliverydate|delay_days|is_delayed|delayed|\n+-------+----------+-----------------+------+--------------+----------+------------+----------+----------+-------+\n|      1|         1|         bubududu|     1|      Widget A|2025-05-01|  2025-05-10|         9|         1|      1|\n|      2|         2|      Mickeychoki|     2|      Widget B|2025-05-03|  2025-05-08|         5|         1|      1|\n|      3|         3|           tomie.|     3|      Gadget X|2025-05-05|  2025-05-18|        13|         1|      1|\n|      4|         1|         bubududu|     4|        Part Z|2025-05-06|  2025-05-12|         6|         1|      1|\n|      5|         2|      Mickeychoki|     5|Assembly Kit 9|2025-05-08|  2025-06-15|        38|         0|      1|\n|      6|         4|LogiPro Solutions|     1|      Widget A|2025-05-10|  2025-05-22|        12|         1|      1|\n|      7|         3|           tomie.|     6|      Gadget A|2025-05-11|  2025-05-20|         9|         1|      1|\n|      8|         1|         bubududu|     3|      Gadget X|2025-05-12|  2025-05-16|         4|         1|      1|\n|      9|         2|      Mickeychoki|     6|      Gadget A|2025-05-13|  2025-05-17|         4|         1|      1|\n|     11|         1|         bubududu|     2|      Widget B|2025-06-01|  2025-06-10|         9|         0|      1|\n+-------+----------+-----------------+------+--------------+----------+------------+----------+----------+-------+\n\nroot\n |-- orderid: integer (nullable = true)\n |-- supplierid: integer (nullable = true)\n |-- suppliername: string (nullable = true)\n |-- itemid: integer (nullable = true)\n |-- itemname: string (nullable = true)\n |-- orderdate: date (nullable = true)\n |-- deliverydate: date (nullable = true)\n |-- delay_days: integer (nullable = true)\n |-- is_delayed: integer (nullable = true)\n |-- delayed: integer (nullable = true)\n\n"
     ]
    }
   ],
   "source": [
    "#Load using container\n",
    "spark.conf.set(\n",
    "  \"fs.azure.account.key.hexastore3004.blob.core.windows.net\",\n",
    "  \"(your-Acess-key)\"\n",
    ")\n",
    " \n",
    "df = spark.read.option(\"header\", True).option(\"inferSchema\", True).csv(\n",
    "  \"wasbs://supply-chain@hexastore3004.blob.core.windows.net/supply_chain_report.csv\"\n",
    ")\n",
    " \n",
    "df.show()\n",
    "df.printSchema()"
   ]
  },
  {
   "cell_type": "markdown",
   "metadata": {
    "application/vnd.databricks.v1+cell": {
     "cellMetadata": {},
     "inputWidgets": {},
     "nuid": "e6158e85-cd82-45a8-8fcf-113387773a32",
     "showTitle": false,
     "tableResultSettingsMap": {},
     "title": ""
    }
   },
   "source": [
    "**Clean and Filter Data**"
   ]
  },
  {
   "cell_type": "code",
   "execution_count": 0,
   "metadata": {
    "application/vnd.databricks.v1+cell": {
     "cellMetadata": {
      "byteLimit": 2048000,
      "rowLimit": 10000
     },
     "inputWidgets": {},
     "nuid": "a16eb0a1-c130-4e6f-a669-3305cc7307c6",
     "showTitle": false,
     "tableResultSettingsMap": {},
     "title": ""
    }
   },
   "outputs": [
    {
     "output_type": "stream",
     "name": "stdout",
     "output_type": "stream",
     "text": [
      "Number of delayed shipments: 10\n+-------+----------+------------+------+--------------+----------+------------+----------+----------+-------+\n|orderid|supplierid|suppliername|itemid|      itemname| orderdate|deliverydate|delay_days|is_delayed|delayed|\n+-------+----------+------------+------+--------------+----------+------------+----------+----------+-------+\n|      1|         1|    bubududu|     1|      Widget A|2025-05-01|  2025-05-10|         9|         1|      1|\n|      2|         2| Mickeychoki|     2|      Widget B|2025-05-03|  2025-05-08|         5|         1|      1|\n|      3|         3|      tomie.|     3|      Gadget X|2025-05-05|  2025-05-18|        13|         1|      1|\n|      4|         1|    bubududu|     4|        Part Z|2025-05-06|  2025-05-12|         6|         1|      1|\n|      5|         2| Mickeychoki|     5|Assembly Kit 9|2025-05-08|  2025-06-15|        38|         1|      1|\n+-------+----------+------------+------+--------------+----------+------------+----------+----------+-------+\nonly showing top 5 rows\n\n"
     ]
    }
   ],
   "source": [
    "from pyspark.sql.functions import col, when, datediff\n",
    "df = df.withColumn(\"orderdate\", col(\"orderdate\").cast(\"date\")) \\\n",
    "       .withColumn(\"deliverydate\", col(\"deliverydate\").cast(\"date\"))\n",
    "\n",
    "df = df.withColumn(\"delay_days\", datediff(col(\"deliverydate\"), col(\"orderdate\")))\n",
    "df = df.withColumn(\"is_delayed\", when(col(\"delay_days\") > 0, 1).otherwise(0))\n",
    "# Filter delayed shipments only\n",
    "delayed_df = df.filter(col(\"delay_days\") > 0)\n",
    "print(\"Number of delayed shipments:\", delayed_df.count())\n",
    "delayed_df.show(5)\n"
   ]
  },
  {
   "cell_type": "markdown",
   "metadata": {
    "application/vnd.databricks.v1+cell": {
     "cellMetadata": {},
     "inputWidgets": {},
     "nuid": "a5ddf00f-01db-4442-89ee-e349b5a05875",
     "showTitle": false,
     "tableResultSettingsMap": {},
     "title": ""
    }
   },
   "source": [
    "**Save Cleaned Data**"
   ]
  },
  {
   "cell_type": "code",
   "execution_count": 0,
   "metadata": {
    "application/vnd.databricks.v1+cell": {
     "cellMetadata": {
      "byteLimit": 2048000,
      "rowLimit": 10000
     },
     "inputWidgets": {},
     "nuid": "d9c5d6f4-a082-4931-8ae1-bc82f7bddb65",
     "showTitle": false,
     "tableResultSettingsMap": {},
     "title": ""
    }
   },
   "outputs": [],
   "source": [
    "delayed_df.write.mode(\"overwrite\").option(\"header\", True).csv(\"file:/Workspace/Shared/delayed_shipments\")"
   ]
  },
  {
   "cell_type": "markdown",
   "metadata": {
    "application/vnd.databricks.v1+cell": {
     "cellMetadata": {},
     "inputWidgets": {},
     "nuid": "50d6a523-8492-4acf-865c-652ebe251f3d",
     "showTitle": false,
     "tableResultSettingsMap": {},
     "title": ""
    }
   },
   "source": [
    "**Run Basic Analysis Queries**"
   ]
  },
  {
   "cell_type": "code",
   "execution_count": 0,
   "metadata": {
    "application/vnd.databricks.v1+cell": {
     "cellMetadata": {
      "byteLimit": 2048000,
      "rowLimit": 10000
     },
     "inputWidgets": {},
     "nuid": "6508b690-d7a3-421c-83cd-ba406d63a03b",
     "showTitle": false,
     "tableResultSettingsMap": {},
     "title": ""
    }
   },
   "outputs": [
    {
     "output_type": "stream",
     "name": "stdout",
     "output_type": "stream",
     "text": [
      "+--------------------+\n|total_delayed_orders|\n+--------------------+\n|                  10|\n+--------------------+\n\n+----------+-----------------+--------------------+\n|supplierid|     suppliername|delayed_orders_count|\n+----------+-----------------+--------------------+\n|         1|         bubududu|                   4|\n|         2|      Mickeychoki|                   3|\n|         3|           tomie.|                   2|\n|         4|LogiPro Solutions|                   1|\n+----------+-----------------+--------------------+\n\n+----------+-----------------+------------------+\n|supplierid|     suppliername|    avg_delay_days|\n+----------+-----------------+------------------+\n|         2|      Mickeychoki|15.666666666666666|\n|         4|LogiPro Solutions|              12.0|\n|         3|           tomie.|              11.0|\n|         1|         bubududu|               7.0|\n+----------+-----------------+------------------+\n\n+-------+-----------------+--------------+----------+\n|orderid|     suppliername|      itemname|delay_days|\n+-------+-----------------+--------------+----------+\n|      5|      Mickeychoki|Assembly Kit 9|        38|\n|      3|           tomie.|      Gadget X|        13|\n|      6|LogiPro Solutions|      Widget A|        12|\n+-------+-----------------+--------------+----------+\n\n+----+-----+-------------+\n|year|month|delayed_count|\n+----+-----+-------------+\n|2025|    5|            9|\n|2025|    6|            1|\n+----+-----+-------------+\n\n+----------+------------+\n|supplierid|suppliername|\n+----------+------------+\n+----------+------------+\n\n+------+--------------+-----------+\n|itemid|      itemname|delay_count|\n+------+--------------+-----------+\n|     3|      Gadget X|          2|\n|     6|      Gadget A|          2|\n|     1|      Widget A|          2|\n|     2|      Widget B|          2|\n|     5|Assembly Kit 9|          1|\n+------+--------------+-----------+\n\n+----------+-----------------+---------+\n|supplierid|     suppliername|max_delay|\n+----------+-----------------+---------+\n|         2|      Mickeychoki|       38|\n|         3|           tomie.|       13|\n|         4|LogiPro Solutions|       12|\n|         1|         bubududu|        9|\n+----------+-----------------+---------+\n\n+----------+-----------------+------------------+\n|supplierid|     suppliername|  delay_percentage|\n+----------+-----------------+------------------+\n|         4|LogiPro Solutions|100.00000000000000|\n|         2|      Mickeychoki|100.00000000000000|\n|         1|         bubududu|100.00000000000000|\n|         3|           tomie.|100.00000000000000|\n+----------+-----------------+------------------+\n\n+----------+-----------+\n|is_delayed|order_count|\n+----------+-----------+\n|         1|         10|\n+----------+-----------+\n\n"
     ]
    }
   ],
   "source": [
    "# Register your DataFrame as a temp SQL view\n",
    "delayed_df.createOrReplaceTempView(\"delayed_orders\")\n",
    "# 1. Count total delayed orders\n",
    "result1 = spark.sql(\"\"\"\n",
    "    SELECT COUNT(*) AS total_delayed_orders\n",
    "    FROM delayed_orders\n",
    "    WHERE is_delayed = 1\n",
    "\"\"\")\n",
    "result1.show()\n",
    "# 2. Count delayed orders by each supplier\n",
    "result2 = spark.sql(\"\"\"\n",
    "    SELECT supplierid, suppliername, COUNT(*) AS delayed_orders_count\n",
    "    FROM delayed_orders\n",
    "    WHERE is_delayed = 1\n",
    "    GROUP BY supplierid, suppliername\n",
    "    ORDER BY delayed_orders_count DESC\n",
    "\"\"\")\n",
    "result2.show()\n",
    "# 3. Average delay days per supplier\n",
    "result3 = spark.sql(\"\"\"\n",
    "    SELECT supplierid, suppliername, AVG(delay_days) AS avg_delay_days\n",
    "    FROM delayed_orders\n",
    "    WHERE is_delayed = 1\n",
    "    GROUP BY supplierid, suppliername\n",
    "    ORDER BY avg_delay_days DESC\n",
    "\"\"\")\n",
    "result3.show()\n",
    "# 4. List all delayed orders with delay greater than 10 days\n",
    "result4 = spark.sql(\"\"\"\n",
    "    SELECT orderid, suppliername, itemname, delay_days\n",
    "    FROM delayed_orders\n",
    "    WHERE delay_days > 10\n",
    "    ORDER BY delay_days DESC\n",
    "\"\"\")\n",
    "result4.show()\n",
    "# 5. Count delayed orders per month (based on orderdate)\n",
    "result5 = spark.sql(\"\"\"\n",
    "    SELECT YEAR(orderdate) AS year, MONTH(orderdate) AS month, COUNT(*) AS delayed_count\n",
    "    FROM delayed_orders\n",
    "    WHERE is_delayed = 1\n",
    "    GROUP BY YEAR(orderdate), MONTH(orderdate)\n",
    "    ORDER BY year, month\n",
    "\"\"\")\n",
    "result5.show()\n",
    "# 6. Suppliers with no delayed orders\n",
    "result6 = spark.sql(\"\"\"\n",
    "    SELECT DISTINCT supplierid, suppliername\n",
    "    FROM delayed_orders\n",
    "    WHERE supplierid NOT IN (\n",
    "      SELECT DISTINCT supplierid\n",
    "      FROM delayed_orders\n",
    "      WHERE is_delayed = 1\n",
    "    )\n",
    "\"\"\")\n",
    "result6.show()\n",
    "# 7. Top 5 items with the most delays\n",
    "result7 = spark.sql(\"\"\"\n",
    "    SELECT itemid, itemname, COUNT(*) AS delay_count\n",
    "    FROM delayed_orders\n",
    "    WHERE is_delayed = 1\n",
    "    GROUP BY itemid, itemname\n",
    "    ORDER BY delay_count DESC\n",
    "    LIMIT 5\n",
    "\"\"\")\n",
    "result7.show()\n",
    "# 8. Maximum delay for each supplier\n",
    "result8 = spark.sql(\"\"\"\n",
    "    SELECT supplierid, suppliername, MAX(delay_days) AS max_delay\n",
    "    FROM delayed_orders\n",
    "    GROUP BY supplierid, suppliername\n",
    "    ORDER BY max_delay DESC\n",
    "\"\"\")\n",
    "result8.show()\n",
    "# 9. Percentage of delayed orders per supplier\n",
    "result9 = spark.sql(\"\"\"\n",
    "    SELECT\n",
    "      supplierid,\n",
    "      suppliername,\n",
    "      COUNT(CASE WHEN is_delayed = 1 THEN 1 END) * 100.0 / COUNT(*) AS delay_percentage\n",
    "    FROM delayed_orders\n",
    "    GROUP BY supplierid, suppliername\n",
    "    ORDER BY delay_percentage DESC\n",
    "\"\"\")\n",
    "result9.show()\n",
    "# 10. Count of delayed vs non-delayed orders overall\n",
    "result10 = spark.sql(\"\"\"\n",
    "    SELECT is_delayed, COUNT(*) AS order_count\n",
    "    FROM delayed_orders\n",
    "    GROUP BY is_delayed\n",
    "\"\"\")\n",
    "result10.show()"
   ]
  },
  {
   "cell_type": "code",
   "execution_count": 0,
   "metadata": {
    "application/vnd.databricks.v1+cell": {
     "cellMetadata": {},
     "inputWidgets": {},
     "nuid": "baa9197c-2682-4669-9018-8e243a397b17",
     "showTitle": false,
     "tableResultSettingsMap": {},
     "title": ""
    }
   },
   "outputs": [],
   "source": []
  }
 ],
 "metadata": {
  "application/vnd.databricks.v1+notebook": {
   "computePreferences": null,
   "dashboards": [],
   "environmentMetadata": {
    "base_environment": "",
    "environment_version": "2"
   },
   "inputWidgetPreferences": null,
   "language": "python",
   "notebookMetadata": {
    "pythonIndentUnit": 4
   },
   "notebookName": "week-4(databricks)",
   "widgets": {}
  },
  "language_info": {
   "name": "python"
  }
 },
 "nbformat": 4,
 "nbformat_minor": 0
}
