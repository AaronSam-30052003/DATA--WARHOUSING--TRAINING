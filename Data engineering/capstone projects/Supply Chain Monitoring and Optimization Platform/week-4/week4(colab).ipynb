{
  "nbformat": 4,
  "nbformat_minor": 0,
  "metadata": {
    "colab": {
      "provenance": [],
      "gpuType": "T4"
    },
    "kernelspec": {
      "name": "python3",
      "display_name": "Python 3"
    },
    "language_info": {
      "name": "python"
    },
    "accelerator": "GPU"
  },
  "cells": [
    {
      "cell_type": "markdown",
      "source": [
        "**Initialize SparkSession**"
      ],
      "metadata": {
        "id": "hpx1g7wbc7We"
      }
    },
    {
      "cell_type": "code",
      "source": [
        "!pip install findspark"
      ],
      "metadata": {
        "colab": {
          "base_uri": "https://localhost:8080/"
        },
        "id": "UW5ztvo_ekbJ",
        "outputId": "27ee2f69-e4b7-4aa1-d1fe-79d352479d57"
      },
      "execution_count": null,
      "outputs": [
        {
          "output_type": "stream",
          "name": "stdout",
          "text": [
            "Collecting findspark\n",
            "  Downloading findspark-2.0.1-py2.py3-none-any.whl.metadata (352 bytes)\n",
            "Downloading findspark-2.0.1-py2.py3-none-any.whl (4.4 kB)\n",
            "Installing collected packages: findspark\n",
            "Successfully installed findspark-2.0.1\n"
          ]
        }
      ]
    },
    {
      "cell_type": "code",
      "source": [
        "import findspark\n",
        "findspark.init()\n",
        "\n",
        "from pyspark.sql import SparkSession\n",
        "\n",
        "spark = SparkSession.builder \\\n",
        "    .appName(\"DatabricksEmulationInColab\") \\\n",
        "    .getOrCreate()\n"
      ],
      "metadata": {
        "id": "Vesoi-Mbc9-m"
      },
      "execution_count": null,
      "outputs": []
    },
    {
      "cell_type": "markdown",
      "source": [
        "**Upload CSV to Colab and Load Data**"
      ],
      "metadata": {
        "id": "o9MO8G9bdYec"
      }
    },
    {
      "cell_type": "code",
      "source": [
        "df = spark.read.csv(\"/content/processed_supply_chain_report.csv\", header=True, inferSchema=True)\n",
        "df.show()"
      ],
      "metadata": {
        "colab": {
          "base_uri": "https://localhost:8080/"
        },
        "id": "ZBHi97SidQqv",
        "outputId": "0f30e22d-24af-4a71-b132-011b3b031d44"
      },
      "execution_count": null,
      "outputs": [
        {
          "output_type": "stream",
          "name": "stdout",
          "text": [
            "+-------+----------+-----------------+------+--------------+----------+------------+----------+----------+-------+\n",
            "|orderid|supplierid|     suppliername|itemid|      itemname| orderdate|deliverydate|delay_days|is_delayed|delayed|\n",
            "+-------+----------+-----------------+------+--------------+----------+------------+----------+----------+-------+\n",
            "|      1|         1|         bubududu|     1|      Widget A|2025-05-01|  2025-05-10|         9|         1|      1|\n",
            "|      2|         2|      Mickeychoki|     2|      Widget B|2025-05-03|  2025-05-08|         5|         1|      1|\n",
            "|      3|         3|           tomie.|     3|      Gadget X|2025-05-05|  2025-05-18|        13|         1|      1|\n",
            "|      4|         1|         bubududu|     4|        Part Z|2025-05-06|  2025-05-12|         6|         1|      1|\n",
            "|      5|         2|      Mickeychoki|     5|Assembly Kit 9|2025-05-08|  2025-06-15|        38|         0|      1|\n",
            "|      6|         4|LogiPro Solutions|     1|      Widget A|2025-05-10|  2025-05-22|        12|         1|      1|\n",
            "|      7|         3|           tomie.|     6|      Gadget A|2025-05-11|  2025-05-20|         9|         1|      1|\n",
            "|      8|         1|         bubududu|     3|      Gadget X|2025-05-12|  2025-05-16|         4|         1|      1|\n",
            "|      9|         2|      Mickeychoki|     6|      Gadget A|2025-05-13|  2025-05-17|         4|         1|      1|\n",
            "|     11|         1|         bubududu|     2|      Widget B|2025-06-01|  2025-06-10|         9|         0|      1|\n",
            "+-------+----------+-----------------+------+--------------+----------+------------+----------+----------+-------+\n",
            "\n"
          ]
        }
      ]
    },
    {
      "cell_type": "markdown",
      "source": [
        "**Clean and Filter Data**"
      ],
      "metadata": {
        "id": "Z37cF7VCeWZS"
      }
    },
    {
      "cell_type": "code",
      "source": [
        "from pyspark.sql.functions import col, when, datediff\n",
        "\n",
        "df = df.withColumn(\"orderdate\", col(\"orderdate\").cast(\"date\")) \\\n",
        "       .withColumn(\"deliverydate\", col(\"deliverydate\").cast(\"date\"))\n",
        "\n",
        "df = df.withColumn(\"delay_days\", datediff(col(\"deliverydate\"), col(\"orderdate\")))\n",
        "df = df.withColumn(\"is_delayed\", when(col(\"delay_days\") > 0, 1).otherwise(0))\n",
        "\n",
        "# Filter delayed shipments only\n",
        "delayed_df = df.filter(col(\"delay_days\") > 0)\n",
        "\n",
        "delayed_df.show(5)\n"
      ],
      "metadata": {
        "colab": {
          "base_uri": "https://localhost:8080/"
        },
        "id": "yjjFwmdZeCPh",
        "outputId": "8e1006b9-229a-47cf-c2b6-2a4f3e571016"
      },
      "execution_count": null,
      "outputs": [
        {
          "output_type": "stream",
          "name": "stdout",
          "text": [
            "+-------+----------+------------+------+--------------+----------+------------+----------+----------+-------+\n",
            "|orderid|supplierid|suppliername|itemid|      itemname| orderdate|deliverydate|delay_days|is_delayed|delayed|\n",
            "+-------+----------+------------+------+--------------+----------+------------+----------+----------+-------+\n",
            "|      1|         1|    bubududu|     1|      Widget A|2025-05-01|  2025-05-10|         9|         1|      1|\n",
            "|      2|         2| Mickeychoki|     2|      Widget B|2025-05-03|  2025-05-08|         5|         1|      1|\n",
            "|      3|         3|      tomie.|     3|      Gadget X|2025-05-05|  2025-05-18|        13|         1|      1|\n",
            "|      4|         1|    bubududu|     4|        Part Z|2025-05-06|  2025-05-12|         6|         1|      1|\n",
            "|      5|         2| Mickeychoki|     5|Assembly Kit 9|2025-05-08|  2025-06-15|        38|         1|      1|\n",
            "+-------+----------+------------+------+--------------+----------+------------+----------+----------+-------+\n",
            "only showing top 5 rows\n",
            "\n"
          ]
        }
      ]
    },
    {
      "cell_type": "markdown",
      "source": [
        "**Save Cleaned Data**"
      ],
      "metadata": {
        "id": "m4Z-DZJYekCz"
      }
    },
    {
      "cell_type": "code",
      "source": [
        "delayed_df.coalesce(1).write.csv(\"cleaned_delayed_orders\", header=True, mode=\"overwrite\")"
      ],
      "metadata": {
        "id": "Rp3IbdezedB6"
      },
      "execution_count": null,
      "outputs": []
    },
    {
      "cell_type": "markdown",
      "source": [
        "**Run Basic Analysis Queries**"
      ],
      "metadata": {
        "id": "5l11BofGe0P6"
      }
    },
    {
      "cell_type": "code",
      "source": [
        "# Register your DataFrame as a temp SQL view\n",
        "delayed_df.createOrReplaceTempView(\"delayed_orders\")\n",
        "# 1. Count total delayed orders\n",
        "result1 = spark.sql(\"\"\"\n",
        "    SELECT COUNT(*) AS total_delayed_orders\n",
        "    FROM delayed_orders\n",
        "    WHERE is_delayed = 1\n",
        "\"\"\")\n",
        "result1.show()\n",
        "# 2. Count delayed orders by each supplier\n",
        "result2 = spark.sql(\"\"\"\n",
        "    SELECT supplierid, suppliername, COUNT(*) AS delayed_orders_count\n",
        "    FROM delayed_orders\n",
        "    WHERE is_delayed = 1\n",
        "    GROUP BY supplierid, suppliername\n",
        "    ORDER BY delayed_orders_count DESC\n",
        "\"\"\")\n",
        "result2.show()\n",
        "# 3. Average delay days per supplier\n",
        "result3 = spark.sql(\"\"\"\n",
        "    SELECT supplierid, suppliername, AVG(delay_days) AS avg_delay_days\n",
        "    FROM delayed_orders\n",
        "    WHERE is_delayed = 1\n",
        "    GROUP BY supplierid, suppliername\n",
        "    ORDER BY avg_delay_days DESC\n",
        "\"\"\")\n",
        "result3.show()\n",
        "# 4. List all delayed orders with delay greater than 10 days\n",
        "result4 = spark.sql(\"\"\"\n",
        "    SELECT orderid, suppliername, itemname, delay_days\n",
        "    FROM delayed_orders\n",
        "    WHERE delay_days > 10\n",
        "    ORDER BY delay_days DESC\n",
        "\"\"\")\n",
        "result4.show()\n",
        "# 5. Count delayed orders per month (based on orderdate)\n",
        "result5 = spark.sql(\"\"\"\n",
        "    SELECT YEAR(orderdate) AS year, MONTH(orderdate) AS month, COUNT(*) AS delayed_count\n",
        "    FROM delayed_orders\n",
        "    WHERE is_delayed = 1\n",
        "    GROUP BY YEAR(orderdate), MONTH(orderdate)\n",
        "    ORDER BY year, month\n",
        "\"\"\")\n",
        "result5.show()\n",
        "# 6. Suppliers with no delayed orders\n",
        "result6 = spark.sql(\"\"\"\n",
        "    SELECT DISTINCT supplierid, suppliername\n",
        "    FROM delayed_orders\n",
        "    WHERE supplierid NOT IN (\n",
        "      SELECT DISTINCT supplierid\n",
        "      FROM delayed_orders\n",
        "      WHERE is_delayed = 1\n",
        "    )\n",
        "\"\"\")\n",
        "result6.show()\n",
        "# 7. Top 5 items with the most delays\n",
        "result7 = spark.sql(\"\"\"\n",
        "    SELECT itemid, itemname, COUNT(*) AS delay_count\n",
        "    FROM delayed_orders\n",
        "    WHERE is_delayed = 1\n",
        "    GROUP BY itemid, itemname\n",
        "    ORDER BY delay_count DESC\n",
        "    LIMIT 5\n",
        "\"\"\")\n",
        "result7.show()\n",
        "# 8. Maximum delay for each supplier\n",
        "result8 = spark.sql(\"\"\"\n",
        "    SELECT supplierid, suppliername, MAX(delay_days) AS max_delay\n",
        "    FROM delayed_orders\n",
        "    GROUP BY supplierid, suppliername\n",
        "    ORDER BY max_delay DESC\n",
        "\"\"\")\n",
        "result8.show()\n",
        "# 9. Percentage of delayed orders per supplier\n",
        "result9 = spark.sql(\"\"\"\n",
        "    SELECT\n",
        "      supplierid,\n",
        "      suppliername,\n",
        "      COUNT(CASE WHEN is_delayed = 1 THEN 1 END) * 100.0 / COUNT(*) AS delay_percentage\n",
        "    FROM delayed_orders\n",
        "    GROUP BY supplierid, suppliername\n",
        "    ORDER BY delay_percentage DESC\n",
        "\"\"\")\n",
        "result9.show()\n",
        "# 10. Count of delayed vs non-delayed orders overall\n",
        "result10 = spark.sql(\"\"\"\n",
        "    SELECT is_delayed, COUNT(*) AS order_count\n",
        "    FROM delayed_orders\n",
        "    GROUP BY is_delayed\n",
        "\"\"\")\n",
        "result10.show()"
      ],
      "metadata": {
        "colab": {
          "base_uri": "https://localhost:8080/"
        },
        "id": "a7vkQKwpe4nP",
        "outputId": "2faf4d53-fa7d-4ae8-9b90-d34b3fca9884"
      },
      "execution_count": null,
      "outputs": [
        {
          "output_type": "stream",
          "name": "stdout",
          "text": [
            "+--------------------+\n",
            "|total_delayed_orders|\n",
            "+--------------------+\n",
            "|                  10|\n",
            "+--------------------+\n",
            "\n",
            "+----------+-----------------+--------------------+\n",
            "|supplierid|     suppliername|delayed_orders_count|\n",
            "+----------+-----------------+--------------------+\n",
            "|         1|         bubududu|                   4|\n",
            "|         2|      Mickeychoki|                   3|\n",
            "|         3|           tomie.|                   2|\n",
            "|         4|LogiPro Solutions|                   1|\n",
            "+----------+-----------------+--------------------+\n",
            "\n",
            "+----------+-----------------+------------------+\n",
            "|supplierid|     suppliername|    avg_delay_days|\n",
            "+----------+-----------------+------------------+\n",
            "|         2|      Mickeychoki|15.666666666666666|\n",
            "|         4|LogiPro Solutions|              12.0|\n",
            "|         3|           tomie.|              11.0|\n",
            "|         1|         bubududu|               7.0|\n",
            "+----------+-----------------+------------------+\n",
            "\n",
            "+-------+-----------------+--------------+----------+\n",
            "|orderid|     suppliername|      itemname|delay_days|\n",
            "+-------+-----------------+--------------+----------+\n",
            "|      5|      Mickeychoki|Assembly Kit 9|        38|\n",
            "|      3|           tomie.|      Gadget X|        13|\n",
            "|      6|LogiPro Solutions|      Widget A|        12|\n",
            "+-------+-----------------+--------------+----------+\n",
            "\n",
            "+----+-----+-------------+\n",
            "|year|month|delayed_count|\n",
            "+----+-----+-------------+\n",
            "|2025|    5|            9|\n",
            "|2025|    6|            1|\n",
            "+----+-----+-------------+\n",
            "\n",
            "+----------+------------+\n",
            "|supplierid|suppliername|\n",
            "+----------+------------+\n",
            "+----------+------------+\n",
            "\n",
            "+------+--------------+-----------+\n",
            "|itemid|      itemname|delay_count|\n",
            "+------+--------------+-----------+\n",
            "|     2|      Widget B|          2|\n",
            "|     6|      Gadget A|          2|\n",
            "|     3|      Gadget X|          2|\n",
            "|     1|      Widget A|          2|\n",
            "|     5|Assembly Kit 9|          1|\n",
            "+------+--------------+-----------+\n",
            "\n",
            "+----------+-----------------+---------+\n",
            "|supplierid|     suppliername|max_delay|\n",
            "+----------+-----------------+---------+\n",
            "|         2|      Mickeychoki|       38|\n",
            "|         3|           tomie.|       13|\n",
            "|         4|LogiPro Solutions|       12|\n",
            "|         1|         bubududu|        9|\n",
            "+----------+-----------------+---------+\n",
            "\n",
            "+----------+-----------------+------------------+\n",
            "|supplierid|     suppliername|  delay_percentage|\n",
            "+----------+-----------------+------------------+\n",
            "|         4|LogiPro Solutions|100.00000000000000|\n",
            "|         2|      Mickeychoki|100.00000000000000|\n",
            "|         1|         bubududu|100.00000000000000|\n",
            "|         3|           tomie.|100.00000000000000|\n",
            "+----------+-----------------+------------------+\n",
            "\n",
            "+----------+-----------+\n",
            "|is_delayed|order_count|\n",
            "+----------+-----------+\n",
            "|         1|         10|\n",
            "+----------+-----------+\n",
            "\n",
            "+----------+-----------------+-------------------+\n",
            "|supplierid|     suppliername|delayed_order_count|\n",
            "+----------+-----------------+-------------------+\n",
            "|         1|         bubududu|                  4|\n",
            "|         2|      Mickeychoki|                  3|\n",
            "|         3|           tomie.|                  2|\n",
            "|         4|LogiPro Solutions|                  1|\n",
            "+----------+-----------------+-------------------+\n",
            "\n"
          ]
        }
      ]
    },
    {
      "cell_type": "code",
      "source": [],
      "metadata": {
        "id": "qQA38pEXfnbn"
      },
      "execution_count": null,
      "outputs": []
    }
  ]
}