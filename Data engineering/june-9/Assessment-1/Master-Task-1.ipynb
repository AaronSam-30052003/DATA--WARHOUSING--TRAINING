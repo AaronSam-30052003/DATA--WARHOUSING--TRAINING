{
  "nbformat": 4,
  "nbformat_minor": 0,
  "metadata": {
    "colab": {
      "provenance": [],
      "gpuType": "T4"
    },
    "kernelspec": {
      "name": "python3",
      "display_name": "Python 3"
    },
    "language_info": {
      "name": "python"
    },
    "accelerator": "GPU"
  },
  "cells": [
    {
      "cell_type": "markdown",
      "source": [
        "**Intialize the Spark Session**"
      ],
      "metadata": {
        "id": "xpQnInJa5tC0"
      }
    },
    {
      "cell_type": "code",
      "source": [
        "from pyspark.sql import SparkSession\n",
        "spark = (\n",
        "    SparkSession.builder\\\n",
        "    .appName(\"Master-Task-Set1\")\\\n",
        "    .getOrCreate()\n",
        ")\n",
        "spark"
      ],
      "metadata": {
        "colab": {
          "base_uri": "https://localhost:8080/",
          "height": 219
        },
        "id": "QW_DgG9M5ytF",
        "outputId": "66e62db5-3740-41b0-d2c4-76eb2f40be41"
      },
      "execution_count": 1,
      "outputs": [
        {
          "output_type": "execute_result",
          "data": {
            "text/plain": [
              "<pyspark.sql.session.SparkSession at 0x78b17d9ea250>"
            ],
            "text/html": [
              "\n",
              "            <div>\n",
              "                <p><b>SparkSession - in-memory</b></p>\n",
              "                \n",
              "        <div>\n",
              "            <p><b>SparkContext</b></p>\n",
              "\n",
              "            <p><a href=\"http://1a54a08e7058:4040\">Spark UI</a></p>\n",
              "\n",
              "            <dl>\n",
              "              <dt>Version</dt>\n",
              "                <dd><code>v3.5.1</code></dd>\n",
              "              <dt>Master</dt>\n",
              "                <dd><code>local[*]</code></dd>\n",
              "              <dt>AppName</dt>\n",
              "                <dd><code>Master-Task-Set1</code></dd>\n",
              "            </dl>\n",
              "        </div>\n",
              "        \n",
              "            </div>\n",
              "        "
            ]
          },
          "metadata": {},
          "execution_count": 1
        }
      ]
    },
    {
      "cell_type": "markdown",
      "source": [
        "**Load the Data**"
      ],
      "metadata": {
        "id": "m-0ezRjY6zSd"
      }
    },
    {
      "cell_type": "code",
      "source": [
        "customers = spark.read.option(\"header\", True).option(\"inferSchema\", True).csv(\"/content/customers.csv\")\n",
        "orders = spark.read.option(\"header\", True).option(\"inferSchema\", True).csv(\"/content/orders.csv\")\n",
        "customers.show()\n",
        "orders.show()"
      ],
      "metadata": {
        "colab": {
          "base_uri": "https://localhost:8080/"
        },
        "id": "0K03e2-z6x-y",
        "outputId": "2732621c-b44a-43fd-bb51-296cbdcd97c5"
      },
      "execution_count": 2,
      "outputs": [
        {
          "output_type": "stream",
          "name": "stdout",
          "text": [
            "+----------+-----+-----------------+---------+-------------------+\n",
            "|CustomerID| Name|            Email|     City|        SignupDate |\n",
            "+----------+-----+-----------------+---------+-------------------+\n",
            "|       101|  Ali|    ali@gmail.com|   Mumbai|2022-05-10 00:00:00|\n",
            "|       102| Neha|   neha@yahoo.com|    Delhi|2023-01-15 00:00:00|\n",
            "|       103| Ravi| ravi@hotmail.com|Bangalore|2021-11-01 00:00:00|\n",
            "|       104|Sneha|sneha@outlook.com|Hyderabad|2020-07-22 00:00:00|\n",
            "|       105| Amit|   amit@gmail.com|  Chennai|2023-03-10 00:00:00|\n",
            "+----------+-----+-----------------+---------+-------------------+\n",
            "\n",
            "+--------+----------+---------+-----------+--------+-------+-------------------+\n",
            "| OrderID|CustomerID|  Product|   Category|Quantity|  Price|         OrderDate |\n",
            "+--------+----------+---------+-----------+--------+-------+-------------------+\n",
            "|       1|       101|   Laptop|Electronics|       2|50000.0|2024-01-10 00:00:00|\n",
            "|       2|       101|    Mouse|Electronics|       1| 1200.0|2024-01-15 00:00:00|\n",
            "|       3|       102|   Tablet|Electronics|       1|20000.0|2024-02-01 00:00:00|\n",
            "|       4|       103|Bookshelf|  Furniture|       1| 3500.0|2024-02-10 00:00:00|\n",
            "|       5|       104|    Mixer| Appliances|       1| 5000.0|2024-02-15 00:00:00|\n",
            "|       6|       105| Notebook| Stationery|       5|  500.0|2024-03-01 00:00:00|\n",
            "|       7|       102|    Phone|Electronics|       1|30000.0|2024-03-02 00:00:00|\n",
            "+--------+----------+---------+-----------+--------+-------+-------------------+\n",
            "\n"
          ]
        }
      ]
    },
    {
      "cell_type": "markdown",
      "source": [
        "**Data Ingestion & Exploration**"
      ],
      "metadata": {
        "id": "rkCP2zCp7bB_"
      }
    },
    {
      "cell_type": "code",
      "source": [
        "# Schema\n",
        "customers.printSchema()\n",
        "orders.printSchema()\n",
        "# Count records\n",
        "print(\"Total Customers:\", customers.count())\n",
        "print(\"Total Orders:\", orders.count())\n",
        "# Distinct cities\n",
        "customers.select(\"City\").distinct().show()"
      ],
      "metadata": {
        "colab": {
          "base_uri": "https://localhost:8080/"
        },
        "id": "zPWLFCek7LjT",
        "outputId": "1d462fa5-bf90-4bec-f264-5897236f7214"
      },
      "execution_count": 3,
      "outputs": [
        {
          "output_type": "stream",
          "name": "stdout",
          "text": [
            "root\n",
            " |-- CustomerID: integer (nullable = true)\n",
            " |-- Name: string (nullable = true)\n",
            " |-- Email: string (nullable = true)\n",
            " |-- City: string (nullable = true)\n",
            " |-- SignupDate : timestamp (nullable = true)\n",
            "\n",
            "root\n",
            " |--  OrderID: integer (nullable = true)\n",
            " |-- CustomerID: integer (nullable = true)\n",
            " |-- Product: string (nullable = true)\n",
            " |-- Category: string (nullable = true)\n",
            " |-- Quantity: integer (nullable = true)\n",
            " |-- Price: double (nullable = true)\n",
            " |-- OrderDate : timestamp (nullable = true)\n",
            "\n",
            "Total Customers: 5\n",
            "Total Orders: 7\n",
            "+---------+\n",
            "|     City|\n",
            "+---------+\n",
            "|Bangalore|\n",
            "|  Chennai|\n",
            "|   Mumbai|\n",
            "|    Delhi|\n",
            "|Hyderabad|\n",
            "+---------+\n",
            "\n"
          ]
        }
      ]
    },
    {
      "cell_type": "markdown",
      "source": [
        "**DataFrame Transformations**"
      ],
      "metadata": {
        "id": "72mlQmLl7kPn"
      }
    },
    {
      "cell_type": "code",
      "source": [
        "#1.Add a column TotalAmount = Price * Quantity\n",
        "orders = orders.withColumn(\"TotalAmount\", orders[\"Price\"] * orders[\"Quantity\"])\n",
        "orders.show()\n",
        "#2.Create a new column OrderYear from OrderDate\n",
        "from pyspark.sql.functions import year\n",
        "# Rename the column to remove the trailing space\n",
        "orders = orders.withColumnRenamed(\"OrderDate \", \"OrderDate\")\n",
        "orders = orders.withColumn(\"OrderYear\", year(orders[\"OrderDate\"]))\n",
        "orders.show()\n",
        "#3.Filter orders with TotalAmount > 10,000\n",
        "orders = orders.filter(orders[\"TotalAmount\"] > 10000)\n",
        "orders.show()\n",
        "#3.Drop the Email column from customers\n",
        "customers = customers.drop(\"Email\")\n",
        "customers.show()"
      ],
      "metadata": {
        "colab": {
          "base_uri": "https://localhost:8080/"
        },
        "id": "vdudX0UL7hyB",
        "outputId": "9210df1b-9d9e-4909-8360-a7a33db073c4"
      },
      "execution_count": 29,
      "outputs": [
        {
          "output_type": "stream",
          "name": "stdout",
          "text": [
            "+--------+----------+-------+-----------+--------+-------+-------------------+-----------+---------+\n",
            "| OrderID|CustomerID|Product|   Category|Quantity|  Price|         OrderDate |TotalAmount|OrderType|\n",
            "+--------+----------+-------+-----------+--------+-------+-------------------+-----------+---------+\n",
            "|       1|       101| Laptop|Electronics|       2|50000.0|2024-01-10 00:00:00|   100000.0|     High|\n",
            "|       3|       102| Tablet|Electronics|       1|20000.0|2024-02-01 00:00:00|    20000.0|     High|\n",
            "|       7|       102|  Phone|Electronics|       1|30000.0|2024-03-02 00:00:00|    30000.0|     High|\n",
            "+--------+----------+-------+-----------+--------+-------+-------------------+-----------+---------+\n",
            "\n",
            "+--------+----------+-------+-----------+--------+-------+-------------------+-----------+---------+---------+\n",
            "| OrderID|CustomerID|Product|   Category|Quantity|  Price|          OrderDate|TotalAmount|OrderType|OrderYear|\n",
            "+--------+----------+-------+-----------+--------+-------+-------------------+-----------+---------+---------+\n",
            "|       1|       101| Laptop|Electronics|       2|50000.0|2024-01-10 00:00:00|   100000.0|     High|     2024|\n",
            "|       3|       102| Tablet|Electronics|       1|20000.0|2024-02-01 00:00:00|    20000.0|     High|     2024|\n",
            "|       7|       102|  Phone|Electronics|       1|30000.0|2024-03-02 00:00:00|    30000.0|     High|     2024|\n",
            "+--------+----------+-------+-----------+--------+-------+-------------------+-----------+---------+---------+\n",
            "\n",
            "+--------+----------+-------+-----------+--------+-------+-------------------+-----------+---------+---------+\n",
            "| OrderID|CustomerID|Product|   Category|Quantity|  Price|          OrderDate|TotalAmount|OrderType|OrderYear|\n",
            "+--------+----------+-------+-----------+--------+-------+-------------------+-----------+---------+---------+\n",
            "|       1|       101| Laptop|Electronics|       2|50000.0|2024-01-10 00:00:00|   100000.0|     High|     2024|\n",
            "|       3|       102| Tablet|Electronics|       1|20000.0|2024-02-01 00:00:00|    20000.0|     High|     2024|\n",
            "|       7|       102|  Phone|Electronics|       1|30000.0|2024-03-02 00:00:00|    30000.0|     High|     2024|\n",
            "+--------+----------+-------+-----------+--------+-------+-------------------+-----------+---------+---------+\n",
            "\n",
            "+----------+-----+---------+-------------------+------------+\n",
            "|CustomerID| Name|     City|         SignupDate|CustomerType|\n",
            "+----------+-----+---------+-------------------+------------+\n",
            "|       101|  Ali|   Mumbai|2022-05-10 00:00:00|         New|\n",
            "|       102| Neha|    Delhi|2023-01-15 00:00:00|         New|\n",
            "|       103| Ravi|Bangalore|2021-11-01 00:00:00|       Loyal|\n",
            "|       104|Sneha|Hyderabad|2020-07-22 00:00:00|       Loyal|\n",
            "|       105| Amit|  Unknown|2023-03-10 00:00:00|         New|\n",
            "+----------+-----+---------+-------------------+------------+\n",
            "\n"
          ]
        }
      ]
    },
    {
      "cell_type": "markdown",
      "source": [
        "**Handling Nulls & Conditionals**"
      ],
      "metadata": {
        "id": "3FLcQ21R-Rsr"
      }
    },
    {
      "cell_type": "code",
      "source": [
        "from pyspark.sql.functions import when, col\n",
        "#1.Simulate and fill nulls\n",
        "customers = customers.withColumn(\"City\", when(col(\"CustomerID\") == 105, None).otherwise(col(\"City\")))\n",
        "customers = customers.fillna({\"City\": \"Unknown\"})\n",
        "customers.show()\n",
        "#Rename the column to remove the trailing space\n",
        "customers = customers.withColumnRenamed(\"SignupDate \", \"SignupDate\")\n",
        "customers.show()\n",
        "#2.Label customers by SignupDate\n",
        "customers = customers.withColumn(\"CustomerType\", when(col(\"SignupDate\") < \"2022-01-01\", \"Loyal\").otherwise(\"New\"))\n",
        "customers.show()\n",
        "#3.OrderType by TotalAmount\n",
        "orders = orders.withColumn(\"OrderType\", when(col(\"TotalAmount\") < 5000, \"Low\").otherwise(\"High\"))\n",
        "orders.show()"
      ],
      "metadata": {
        "colab": {
          "base_uri": "https://localhost:8080/"
        },
        "id": "LulVMXCl708h",
        "outputId": "c707126c-36e3-4090-a0fd-9790b5707758"
      },
      "execution_count": 27,
      "outputs": [
        {
          "output_type": "stream",
          "name": "stdout",
          "text": [
            "+----------+-----+---------+-------------------+------------+\n",
            "|CustomerID| Name|     City|         SignupDate|CustomerType|\n",
            "+----------+-----+---------+-------------------+------------+\n",
            "|       101|  Ali|   Mumbai|2022-05-10 00:00:00|         New|\n",
            "|       102| Neha|    Delhi|2023-01-15 00:00:00|         New|\n",
            "|       103| Ravi|Bangalore|2021-11-01 00:00:00|       Loyal|\n",
            "|       104|Sneha|Hyderabad|2020-07-22 00:00:00|       Loyal|\n",
            "|       105| Amit|  Unknown|2023-03-10 00:00:00|         New|\n",
            "+----------+-----+---------+-------------------+------------+\n",
            "\n",
            "+----------+-----+---------+-------------------+------------+\n",
            "|CustomerID| Name|     City|         SignupDate|CustomerType|\n",
            "+----------+-----+---------+-------------------+------------+\n",
            "|       101|  Ali|   Mumbai|2022-05-10 00:00:00|         New|\n",
            "|       102| Neha|    Delhi|2023-01-15 00:00:00|         New|\n",
            "|       103| Ravi|Bangalore|2021-11-01 00:00:00|       Loyal|\n",
            "|       104|Sneha|Hyderabad|2020-07-22 00:00:00|       Loyal|\n",
            "|       105| Amit|  Unknown|2023-03-10 00:00:00|         New|\n",
            "+----------+-----+---------+-------------------+------------+\n",
            "\n",
            "+----------+-----+---------+-------------------+------------+\n",
            "|CustomerID| Name|     City|         SignupDate|CustomerType|\n",
            "+----------+-----+---------+-------------------+------------+\n",
            "|       101|  Ali|   Mumbai|2022-05-10 00:00:00|         New|\n",
            "|       102| Neha|    Delhi|2023-01-15 00:00:00|         New|\n",
            "|       103| Ravi|Bangalore|2021-11-01 00:00:00|       Loyal|\n",
            "|       104|Sneha|Hyderabad|2020-07-22 00:00:00|       Loyal|\n",
            "|       105| Amit|  Unknown|2023-03-10 00:00:00|         New|\n",
            "+----------+-----+---------+-------------------+------------+\n",
            "\n",
            "+--------+----------+-------+-----------+--------+-------+-------------------+-----------+---------+\n",
            "| OrderID|CustomerID|Product|   Category|Quantity|  Price|         OrderDate |TotalAmount|OrderType|\n",
            "+--------+----------+-------+-----------+--------+-------+-------------------+-----------+---------+\n",
            "|       1|       101| Laptop|Electronics|       2|50000.0|2024-01-10 00:00:00|   100000.0|     High|\n",
            "|       3|       102| Tablet|Electronics|       1|20000.0|2024-02-01 00:00:00|    20000.0|     High|\n",
            "|       7|       102|  Phone|Electronics|       1|30000.0|2024-03-02 00:00:00|    30000.0|     High|\n",
            "+--------+----------+-------+-----------+--------+-------+-------------------+-----------+---------+\n",
            "\n"
          ]
        }
      ]
    },
    {
      "cell_type": "markdown",
      "source": [
        "**Joins & Aggregations**"
      ],
      "metadata": {
        "id": "Sq5-UoQbAfbN"
      }
    },
    {
      "cell_type": "code",
      "source": [
        "#1.Join customers and orders on CustomerID\n",
        "joined_df = customers.join(orders, on=\"CustomerID\", how=\"inner\")\n",
        "joined_df.show()\n",
        "# Rename the ' OrderID' column to 'OrderID' after the join\n",
        "joined_df = joined_df.withColumnRenamed(\" OrderID\", \"OrderID\")\n",
        "#2.Get total orders and revenue per city\n",
        "revenue = joined_df.groupBy(\"City\").agg({\"TotalAmount\": \"sum\", \"OrderID\": \"count\"})\n",
        "revenue\n",
        "#3.Show top 3 customers by total spend\n",
        "top_customers = joined_df.groupBy(\"CustomerID\").agg({\"TotalAmount\": \"sum\"}).orderBy(\"sum(TotalAmount)\", ascending=False).limit(3)\n",
        "top_customers.show()\n",
        "#4.Count how many products each category has sold\n",
        "product_sales = joined_df.groupBy(\"Category\").agg({\"Quantity\": \"sum\"})\n",
        "product_sales.show()"
      ],
      "metadata": {
        "colab": {
          "base_uri": "https://localhost:8080/"
        },
        "id": "XINk2hpP_jCw",
        "outputId": "d4165546-741a-441d-ebaf-812d6481083a"
      },
      "execution_count": 31,
      "outputs": [
        {
          "output_type": "stream",
          "name": "stdout",
          "text": [
            "+----------+----+------+-------------------+------------+--------+-------+-----------+--------+-------+-------------------+-----------+---------+---------+\n",
            "|CustomerID|Name|  City|         SignupDate|CustomerType| OrderID|Product|   Category|Quantity|  Price|          OrderDate|TotalAmount|OrderType|OrderYear|\n",
            "+----------+----+------+-------------------+------------+--------+-------+-----------+--------+-------+-------------------+-----------+---------+---------+\n",
            "|       101| Ali|Mumbai|2022-05-10 00:00:00|         New|       1| Laptop|Electronics|       2|50000.0|2024-01-10 00:00:00|   100000.0|     High|     2024|\n",
            "|       102|Neha| Delhi|2023-01-15 00:00:00|         New|       3| Tablet|Electronics|       1|20000.0|2024-02-01 00:00:00|    20000.0|     High|     2024|\n",
            "|       102|Neha| Delhi|2023-01-15 00:00:00|         New|       7|  Phone|Electronics|       1|30000.0|2024-03-02 00:00:00|    30000.0|     High|     2024|\n",
            "+----------+----+------+-------------------+------------+--------+-------+-----------+--------+-------+-------------------+-----------+---------+---------+\n",
            "\n",
            "+----------+----------------+\n",
            "|CustomerID|sum(TotalAmount)|\n",
            "+----------+----------------+\n",
            "|       101|        100000.0|\n",
            "|       102|         50000.0|\n",
            "+----------+----------------+\n",
            "\n",
            "+-----------+-------------+\n",
            "|   Category|sum(Quantity)|\n",
            "+-----------+-------------+\n",
            "|Electronics|            4|\n",
            "+-----------+-------------+\n",
            "\n"
          ]
        }
      ]
    },
    {
      "cell_type": "markdown",
      "source": [
        "**Spark SQL Tasks**"
      ],
      "metadata": {
        "id": "-RSv3vyHBKeD"
      }
    },
    {
      "cell_type": "code",
      "source": [
        "#1.Create sales DB and set context\n",
        "spark.sql(\"CREATE DATABASE IF NOT EXISTS sales\")\n",
        "spark.catalog.setCurrentDatabase(\"sales\")\n",
        "#2.Save tables\n",
        "customers.write.mode(\"overwrite\").saveAsTable(\"sales.customers\")\n",
        "orders.write.mode(\"overwrite\").saveAsTable(\"sales.orders\")\n",
        "#3.SQL Queries\n",
        "spark.sql(\"\"\"\n",
        "    SELECT * FROM sales.orders o\n",
        "    JOIN sales.customers c ON o.CustomerID = c.CustomerID\n",
        "    WHERE c.City = 'Delhi'\n",
        "\"\"\").show()\n",
        "\n",
        "spark.sql(\"\"\"\n",
        "    SELECT Category, AVG(Price * Quantity) AS AvgValue\n",
        "    FROM sales.orders\n",
        "    GROUP BY Category\n",
        "\"\"\").show()\n",
        "\n",
        "#Create monthly view\n",
        "from pyspark.sql.functions import month, sum\n",
        "orders.withColumn(\"Month\", month(\"OrderDate\")) \\\n",
        "      .groupBy(\"Month\") \\\n",
        "      .agg(sum(\"TotalAmount\").alias(\"MonthlyTotal\")) \\\n",
        "      .createOrReplaceTempView(\"monthly_orders\")\n",
        "\n",
        "spark.sql(\"SELECT * FROM monthly_orders\").show()\n"
      ],
      "metadata": {
        "colab": {
          "base_uri": "https://localhost:8080/"
        },
        "id": "zTcu9n6N-yRy",
        "outputId": "e84dafe4-0c53-47d8-dab8-2af44bb5a87b"
      },
      "execution_count": 34,
      "outputs": [
        {
          "output_type": "stream",
          "name": "stdout",
          "text": [
            "+--------+----------+-------+-----------+--------+-------+-------------------+-----------+---------+---------+----------+----+-----+-------------------+------------+\n",
            "| OrderID|CustomerID|Product|   Category|Quantity|  Price|          OrderDate|TotalAmount|OrderType|OrderYear|CustomerID|Name| City|         SignupDate|CustomerType|\n",
            "+--------+----------+-------+-----------+--------+-------+-------------------+-----------+---------+---------+----------+----+-----+-------------------+------------+\n",
            "|       3|       102| Tablet|Electronics|       1|20000.0|2024-02-01 00:00:00|    20000.0|     High|     2024|       102|Neha|Delhi|2023-01-15 00:00:00|         New|\n",
            "|       7|       102|  Phone|Electronics|       1|30000.0|2024-03-02 00:00:00|    30000.0|     High|     2024|       102|Neha|Delhi|2023-01-15 00:00:00|         New|\n",
            "+--------+----------+-------+-----------+--------+-------+-------------------+-----------+---------+---------+----------+----+-----+-------------------+------------+\n",
            "\n",
            "+-----------+--------+\n",
            "|   Category|AvgValue|\n",
            "+-----------+--------+\n",
            "|Electronics| 50000.0|\n",
            "+-----------+--------+\n",
            "\n",
            "+-----+------------+\n",
            "|Month|MonthlyTotal|\n",
            "+-----+------------+\n",
            "|    1|    100000.0|\n",
            "|    3|     30000.0|\n",
            "|    2|     20000.0|\n",
            "+-----+------------+\n",
            "\n"
          ]
        }
      ]
    },
    {
      "cell_type": "markdown",
      "source": [
        "**String & Date Functions**"
      ],
      "metadata": {
        "id": "VUdsmDnhBovV"
      }
    },
    {
      "cell_type": "code",
      "source": [
        "# Reload to get Email again\n",
        "from pyspark.sql.functions import regexp_replace, concat_ws, col, lit, to_date, current_date, datediff, date_format\n",
        "customers = spark.read.option(\"header\", True).option(\"inferSchema\", True).csv(\"customers.csv\")\n",
        "customers.show\n",
        "# Rename the column to remove the trailing space after reloading\n",
        "customers = customers.withColumnRenamed(\"SignupDate \", \"SignupDate\")\n",
        "customers.show()\n",
        "#1.Mask email using regex\n",
        "customers = customers.withColumn(\"MaskedEmail\", regexp_replace(\"Email\", \"(.).+(@.+)\", \"$1***$2\"))\n",
        "customers.show()\n",
        "#2.Concatenate label\n",
        "customers = customers.withColumn(\"Label\", concat_ws(\" \", col(\"Name\"), lit(\"from\"), col(\"City\")))\n",
        "customers.show()\n",
        "#3.Calculate customer age in days\n",
        "customers = customers.withColumn(\"SignupDate\", to_date(\"SignupDate\")) \\\n",
        "                     .withColumn(\"CustomerAgeDays\", datediff(current_date(), col(\"SignupDate\")))\n",
        "customers.show()\n",
        "#4.Month name from OrderDate\n",
        "orders = orders.withColumn(\"OrderMonth\", date_format(\"OrderDate\", \"MMMM\"))\n",
        "orders.show()"
      ],
      "metadata": {
        "colab": {
          "base_uri": "https://localhost:8080/"
        },
        "id": "R8YGO7-KBe-S",
        "outputId": "0164dea2-6654-46d0-d9da-14d1d907973e"
      },
      "execution_count": 41,
      "outputs": [
        {
          "output_type": "stream",
          "name": "stdout",
          "text": [
            "+----------+-----+-----------------+---------+-------------------+\n",
            "|CustomerID| Name|            Email|     City|         SignupDate|\n",
            "+----------+-----+-----------------+---------+-------------------+\n",
            "|       101|  Ali|    ali@gmail.com|   Mumbai|2022-05-10 00:00:00|\n",
            "|       102| Neha|   neha@yahoo.com|    Delhi|2023-01-15 00:00:00|\n",
            "|       103| Ravi| ravi@hotmail.com|Bangalore|2021-11-01 00:00:00|\n",
            "|       104|Sneha|sneha@outlook.com|Hyderabad|2020-07-22 00:00:00|\n",
            "|       105| Amit|   amit@gmail.com|  Chennai|2023-03-10 00:00:00|\n",
            "+----------+-----+-----------------+---------+-------------------+\n",
            "\n",
            "+----------+-----+-----------------+---------+-------------------+----------------+\n",
            "|CustomerID| Name|            Email|     City|         SignupDate|     MaskedEmail|\n",
            "+----------+-----+-----------------+---------+-------------------+----------------+\n",
            "|       101|  Ali|    ali@gmail.com|   Mumbai|2022-05-10 00:00:00|  a***@gmail.com|\n",
            "|       102| Neha|   neha@yahoo.com|    Delhi|2023-01-15 00:00:00|  n***@yahoo.com|\n",
            "|       103| Ravi| ravi@hotmail.com|Bangalore|2021-11-01 00:00:00|r***@hotmail.com|\n",
            "|       104|Sneha|sneha@outlook.com|Hyderabad|2020-07-22 00:00:00|s***@outlook.com|\n",
            "|       105| Amit|   amit@gmail.com|  Chennai|2023-03-10 00:00:00|  a***@gmail.com|\n",
            "+----------+-----+-----------------+---------+-------------------+----------------+\n",
            "\n",
            "+----------+-----+-----------------+---------+-------------------+----------------+--------------------+\n",
            "|CustomerID| Name|            Email|     City|         SignupDate|     MaskedEmail|               Label|\n",
            "+----------+-----+-----------------+---------+-------------------+----------------+--------------------+\n",
            "|       101|  Ali|    ali@gmail.com|   Mumbai|2022-05-10 00:00:00|  a***@gmail.com|     Ali from Mumbai|\n",
            "|       102| Neha|   neha@yahoo.com|    Delhi|2023-01-15 00:00:00|  n***@yahoo.com|     Neha from Delhi|\n",
            "|       103| Ravi| ravi@hotmail.com|Bangalore|2021-11-01 00:00:00|r***@hotmail.com| Ravi from Bangalore|\n",
            "|       104|Sneha|sneha@outlook.com|Hyderabad|2020-07-22 00:00:00|s***@outlook.com|Sneha from Hyderabad|\n",
            "|       105| Amit|   amit@gmail.com|  Chennai|2023-03-10 00:00:00|  a***@gmail.com|   Amit from Chennai|\n",
            "+----------+-----+-----------------+---------+-------------------+----------------+--------------------+\n",
            "\n",
            "+----------+-----+-----------------+---------+----------+----------------+--------------------+---------------+\n",
            "|CustomerID| Name|            Email|     City|SignupDate|     MaskedEmail|               Label|CustomerAgeDays|\n",
            "+----------+-----+-----------------+---------+----------+----------------+--------------------+---------------+\n",
            "|       101|  Ali|    ali@gmail.com|   Mumbai|2022-05-10|  a***@gmail.com|     Ali from Mumbai|           1126|\n",
            "|       102| Neha|   neha@yahoo.com|    Delhi|2023-01-15|  n***@yahoo.com|     Neha from Delhi|            876|\n",
            "|       103| Ravi| ravi@hotmail.com|Bangalore|2021-11-01|r***@hotmail.com| Ravi from Bangalore|           1316|\n",
            "|       104|Sneha|sneha@outlook.com|Hyderabad|2020-07-22|s***@outlook.com|Sneha from Hyderabad|           1783|\n",
            "|       105| Amit|   amit@gmail.com|  Chennai|2023-03-10|  a***@gmail.com|   Amit from Chennai|            822|\n",
            "+----------+-----+-----------------+---------+----------+----------------+--------------------+---------------+\n",
            "\n",
            "+--------+----------+-------+-----------+--------+-------+-------------------+-----------+---------+---------+----------+\n",
            "| OrderID|CustomerID|Product|   Category|Quantity|  Price|          OrderDate|TotalAmount|OrderType|OrderYear|OrderMonth|\n",
            "+--------+----------+-------+-----------+--------+-------+-------------------+-----------+---------+---------+----------+\n",
            "|       1|       101| Laptop|Electronics|       2|50000.0|2024-01-10 00:00:00|   100000.0|     High|     2024|   January|\n",
            "|       3|       102| Tablet|Electronics|       1|20000.0|2024-02-01 00:00:00|    20000.0|     High|     2024|  February|\n",
            "|       7|       102|  Phone|Electronics|       1|30000.0|2024-03-02 00:00:00|    30000.0|     High|     2024|     March|\n",
            "+--------+----------+-------+-----------+--------+-------+-------------------+-----------+---------+---------+----------+\n",
            "\n"
          ]
        }
      ]
    },
    {
      "cell_type": "markdown",
      "source": [
        "**UDFs and Complex Logic**"
      ],
      "metadata": {
        "id": "XZ5Fb1LSDK7g"
      }
    },
    {
      "cell_type": "code",
      "source": [
        "from pyspark.sql.types import StringType\n",
        "from pyspark.sql.functions import udf\n",
        "# UDF to tag customers\n",
        "def tag_customer(spend):\n",
        "    if spend is None: return \"None\"\n",
        "    elif spend > 50000: return \"Gold\"\n",
        "    elif spend >= 10000: return \"Silver\"\n",
        "    else: return \"Bronze\"\n",
        "tag_udf = udf(tag_customer, StringType())\n",
        "# UDF to shorten product names\n",
        "def shorten_product(name):\n",
        "    return name[:3] + \"...\" if name else \"\"\n",
        "shorten_udf = udf(shorten_product, StringType())\n",
        "# Compute spend per customer and apply tag\n",
        "customer_spend = orders.groupBy(\"CustomerID\").agg(sum(\"TotalAmount\").alias(\"TotalSpend\"))\n",
        "customers = customers.join(customer_spend, on=\"CustomerID\", how=\"left\") \\\n",
        "                     .withColumn(\"Tier\", tag_udf(\"TotalSpend\"))\n",
        "customers.show()\n",
        "# Shorten product names\n",
        "orders = orders.withColumn(\"ShortProduct\", shorten_udf(\"Product\"))\n",
        "orders.show()\n"
      ],
      "metadata": {
        "colab": {
          "base_uri": "https://localhost:8080/"
        },
        "id": "EvjwhPaJCHjA",
        "outputId": "56f05130-4d12-441a-905b-6d745cf85e7f"
      },
      "execution_count": 42,
      "outputs": [
        {
          "output_type": "stream",
          "name": "stdout",
          "text": [
            "+----------+-----+-----------------+---------+----------+----------------+--------------------+---------------+----------+------+\n",
            "|CustomerID| Name|            Email|     City|SignupDate|     MaskedEmail|               Label|CustomerAgeDays|TotalSpend|  Tier|\n",
            "+----------+-----+-----------------+---------+----------+----------------+--------------------+---------------+----------+------+\n",
            "|       101|  Ali|    ali@gmail.com|   Mumbai|2022-05-10|  a***@gmail.com|     Ali from Mumbai|           1126|  100000.0|  Gold|\n",
            "|       102| Neha|   neha@yahoo.com|    Delhi|2023-01-15|  n***@yahoo.com|     Neha from Delhi|            876|   50000.0|Silver|\n",
            "|       103| Ravi| ravi@hotmail.com|Bangalore|2021-11-01|r***@hotmail.com| Ravi from Bangalore|           1316|      NULL|  None|\n",
            "|       104|Sneha|sneha@outlook.com|Hyderabad|2020-07-22|s***@outlook.com|Sneha from Hyderabad|           1783|      NULL|  None|\n",
            "|       105| Amit|   amit@gmail.com|  Chennai|2023-03-10|  a***@gmail.com|   Amit from Chennai|            822|      NULL|  None|\n",
            "+----------+-----+-----------------+---------+----------+----------------+--------------------+---------------+----------+------+\n",
            "\n",
            "+--------+----------+-------+-----------+--------+-------+-------------------+-----------+---------+---------+----------+------------+\n",
            "| OrderID|CustomerID|Product|   Category|Quantity|  Price|          OrderDate|TotalAmount|OrderType|OrderYear|OrderMonth|ShortProduct|\n",
            "+--------+----------+-------+-----------+--------+-------+-------------------+-----------+---------+---------+----------+------------+\n",
            "|       1|       101| Laptop|Electronics|       2|50000.0|2024-01-10 00:00:00|   100000.0|     High|     2024|   January|      Lap...|\n",
            "|       3|       102| Tablet|Electronics|       1|20000.0|2024-02-01 00:00:00|    20000.0|     High|     2024|  February|      Tab...|\n",
            "|       7|       102|  Phone|Electronics|       1|30000.0|2024-03-02 00:00:00|    30000.0|     High|     2024|     March|      Pho...|\n",
            "+--------+----------+-------+-----------+--------+-------+-------------------+-----------+---------+---------+----------+------------+\n",
            "\n"
          ]
        }
      ]
    },
    {
      "cell_type": "markdown",
      "source": [
        "**Parquet & Views**"
      ],
      "metadata": {
        "id": "48KxhTPpDluy"
      }
    },
    {
      "cell_type": "code",
      "source": [
        "# Save as Parquet\n",
        "joined_df.write.mode(\"overwrite\").parquet(\"/tmp/joined_orders\")\n",
        "# Read back\n",
        "parquet_df = spark.read.parquet(\"/tmp/joined_orders\")\n",
        "parquet_df.printSchema()\n",
        "# Global temp view\n",
        "parquet_df.createOrReplaceGlobalTempView(\"global_joined\")\n",
        "spark.sql(\"SELECT * FROM global_temp.global_joined\").show()\n",
        "# Compare performance between CSV read and Parquet read\n",
        "parquet_df.explain()\n",
        "customers.explain()\n",
        "import time\n",
        "start_csv = time.time()\n",
        "_ = spark.read.option(\"header\", True).csv(\"orders.csv\").count()\n",
        "end_csv = time.time()\n",
        "start_parquet = time.time()\n",
        "_ = spark.read.parquet(\"/tmp/joined_orders\").count()\n",
        "end_parquet = time.time()\n",
        "print(\"CSV Read Time:\", end_csv - start_csv)\n",
        "print(\"Parquet Read Time:\", end_parquet - start_parquet)"
      ],
      "metadata": {
        "colab": {
          "base_uri": "https://localhost:8080/"
        },
        "id": "eH9DpvMfDgyQ",
        "outputId": "2aecc09f-c4c1-4796-ee8e-c4c120a63fcb"
      },
      "execution_count": 46,
      "outputs": [
        {
          "output_type": "stream",
          "name": "stdout",
          "text": [
            "root\n",
            " |-- CustomerID: integer (nullable = true)\n",
            " |-- Name: string (nullable = true)\n",
            " |-- City: string (nullable = true)\n",
            " |-- SignupDate: timestamp (nullable = true)\n",
            " |-- CustomerType: string (nullable = true)\n",
            " |-- OrderID: integer (nullable = true)\n",
            " |-- Product: string (nullable = true)\n",
            " |-- Category: string (nullable = true)\n",
            " |-- Quantity: integer (nullable = true)\n",
            " |-- Price: double (nullable = true)\n",
            " |-- OrderDate: timestamp (nullable = true)\n",
            " |-- TotalAmount: double (nullable = true)\n",
            " |-- OrderType: string (nullable = true)\n",
            " |-- OrderYear: integer (nullable = true)\n",
            "\n",
            "+----------+----+------+-------------------+------------+-------+-------+-----------+--------+-------+-------------------+-----------+---------+---------+\n",
            "|CustomerID|Name|  City|         SignupDate|CustomerType|OrderID|Product|   Category|Quantity|  Price|          OrderDate|TotalAmount|OrderType|OrderYear|\n",
            "+----------+----+------+-------------------+------------+-------+-------+-----------+--------+-------+-------------------+-----------+---------+---------+\n",
            "|       101| Ali|Mumbai|2022-05-10 00:00:00|         New|      1| Laptop|Electronics|       2|50000.0|2024-01-10 00:00:00|   100000.0|     High|     2024|\n",
            "|       102|Neha| Delhi|2023-01-15 00:00:00|         New|      3| Tablet|Electronics|       1|20000.0|2024-02-01 00:00:00|    20000.0|     High|     2024|\n",
            "|       102|Neha| Delhi|2023-01-15 00:00:00|         New|      7|  Phone|Electronics|       1|30000.0|2024-03-02 00:00:00|    30000.0|     High|     2024|\n",
            "+----------+----+------+-------------------+------------+-------+-------+-----------+--------+-------+-------------------+-----------+---------+---------+\n",
            "\n",
            "== Physical Plan ==\n",
            "*(1) ColumnarToRow\n",
            "+- FileScan parquet [CustomerID#2937,Name#2938,City#2939,SignupDate#2940,CustomerType#2941,OrderID#2942,Product#2943,Category#2944,Quantity#2945,Price#2946,OrderDate#2947,TotalAmount#2948,OrderType#2949,OrderYear#2950] Batched: true, DataFilters: [], Format: Parquet, Location: InMemoryFileIndex(1 paths)[file:/tmp/joined_orders], PartitionFilters: [], PushedFilters: [], ReadSchema: struct<CustomerID:int,Name:string,City:string,SignupDate:timestamp,CustomerType:string,OrderID:in...\n",
            "\n",
            "\n",
            "== Physical Plan ==\n",
            "AdaptiveSparkPlan isFinalPlan=false\n",
            "+- Project [CustomerID#2293, Name#2294, Email#2295, City#2296, SignupDate#2415, MaskedEmail#2336, Label#2373, CustomerAgeDays#2423, TotalSpend#2546, pythonUDF0#2821 AS Tier#2559]\n",
            "   +- BatchEvalPython [tag_customer(TotalSpend#2546)#2558], [pythonUDF0#2821]\n",
            "      +- Project [CustomerID#2293, Name#2294, Email#2295, City#2296, SignupDate#2415, MaskedEmail#2336, Label#2373, CustomerAgeDays#2423, TotalSpend#2546]\n",
            "         +- BroadcastHashJoin [CustomerID#2293], [CustomerID#45], LeftOuter, BuildRight, false\n",
            "            :- Project [CustomerID#2293, Name#2294, Email#2295, City#2296, SignupDate#2415, MaskedEmail#2336, Label#2373, datediff(2025-06-09, SignupDate#2415) AS CustomerAgeDays#2423]\n",
            "            :  +- Project [CustomerID#2293, Name#2294, Email#2295, City#2296, cast(SignupDate #2297 as date) AS SignupDate#2415, regexp_replace(Email#2295, (.).+(@.+), $1***$2, 1) AS MaskedEmail#2336, concat_ws( , Name#2294, from, City#2296) AS Label#2373]\n",
            "            :     +- FileScan csv [CustomerID#2293,Name#2294,Email#2295,City#2296,SignupDate #2297] Batched: false, DataFilters: [], Format: CSV, Location: InMemoryFileIndex(1 paths)[file:/content/customers.csv], PartitionFilters: [], PushedFilters: [], ReadSchema: struct<CustomerID:int,Name:string,Email:string,City:string,SignupDate :timestamp>\n",
            "            +- BroadcastExchange HashedRelationBroadcastMode(List(cast(input[0, int, true] as bigint)),false), [plan_id=1950]\n",
            "               +- HashAggregate(keys=[CustomerID#45], functions=[sum(TotalAmount#1322)])\n",
            "                  +- Exchange hashpartitioning(CustomerID#45, 200), ENSURE_REQUIREMENTS, [plan_id=1947]\n",
            "                     +- HashAggregate(keys=[CustomerID#45], functions=[partial_sum(TotalAmount#1322)])\n",
            "                        +- Project [CustomerID#45, (Price#49 * cast(Quantity#48 as double)) AS TotalAmount#1322]\n",
            "                           +- Filter (((isnotnull(Price#49) AND isnotnull(Quantity#48)) AND ((Price#49 * cast(Quantity#48 as double)) > 10000.0)) AND isnotnull(CustomerID#45))\n",
            "                              +- FileScan csv [CustomerID#45,Quantity#48,Price#49] Batched: false, DataFilters: [isnotnull(Price#49), isnotnull(Quantity#48), ((Price#49 * cast(Quantity#48 as double)) > 10000.0..., Format: CSV, Location: InMemoryFileIndex(1 paths)[file:/content/orders.csv], PartitionFilters: [], PushedFilters: [IsNotNull(Price), IsNotNull(Quantity), IsNotNull(CustomerID)], ReadSchema: struct<CustomerID:int,Quantity:int,Price:double>\n",
            "\n",
            "\n",
            "CSV Read Time: 0.5636920928955078\n",
            "Parquet Read Time: 0.5446858406066895\n"
          ]
        }
      ]
    },
    {
      "cell_type": "code",
      "source": [],
      "metadata": {
        "id": "NH-Q8LzvES4k"
      },
      "execution_count": null,
      "outputs": []
    }
  ]
}