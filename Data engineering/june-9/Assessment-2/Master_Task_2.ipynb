{
  "nbformat": 4,
  "nbformat_minor": 0,
  "metadata": {
    "colab": {
      "provenance": []
    },
    "kernelspec": {
      "name": "python3",
      "display_name": "Python 3"
    },
    "language_info": {
      "name": "python"
    }
  },
  "cells": [
    {
      "cell_type": "markdown",
      "source": [
        "**Intialize the Saprk Session**"
      ],
      "metadata": {
        "id": "9omr5xDkFWri"
      }
    },
    {
      "cell_type": "code",
      "source": [
        "from pyspark.sql import SparkSession\n",
        "spark = (\n",
        "    SparkSession.builder\\\n",
        "    .appName(\"Master-Task-Set2\")\\\n",
        "    .getOrCreate()\n",
        ")\n",
        "spark"
      ],
      "metadata": {
        "colab": {
          "base_uri": "https://localhost:8080/",
          "height": 219
        },
        "id": "0unIr73jFZ9v",
        "outputId": "5f1744fc-28ae-4742-fe1f-3959cf685212"
      },
      "execution_count": 84,
      "outputs": [
        {
          "output_type": "execute_result",
          "data": {
            "text/plain": [
              "<pyspark.sql.session.SparkSession at 0x7ceea8188910>"
            ],
            "text/html": [
              "\n",
              "            <div>\n",
              "                <p><b>SparkSession - in-memory</b></p>\n",
              "                \n",
              "        <div>\n",
              "            <p><b>SparkContext</b></p>\n",
              "\n",
              "            <p><a href=\"http://6ac1c5430c5f:4040\">Spark UI</a></p>\n",
              "\n",
              "            <dl>\n",
              "              <dt>Version</dt>\n",
              "                <dd><code>v3.5.1</code></dd>\n",
              "              <dt>Master</dt>\n",
              "                <dd><code>local[*]</code></dd>\n",
              "              <dt>AppName</dt>\n",
              "                <dd><code>Master-Task-Set2</code></dd>\n",
              "            </dl>\n",
              "        </div>\n",
              "        \n",
              "            </div>\n",
              "        "
            ]
          },
          "metadata": {},
          "execution_count": 84
        }
      ]
    },
    {
      "cell_type": "markdown",
      "source": [
        "**Ingestion & Exploration**"
      ],
      "metadata": {
        "id": "pNonyzxHFyL4"
      }
    },
    {
      "cell_type": "code",
      "source": [
        "from pyspark.sql.functions import *\n",
        "from pyspark.sql.types import StringType, IntegerType, DateType, FloatType, StructType, StructField\n",
        "#Load data\n",
        "employees = spark.read.option(\"header\", True).option(\"inferSchema\", True).csv(\"/content/employees.csv\")\n",
        "attendance = spark.read.option(\"header\", True).option(\"inferSchema\", True).csv(\"/content/attendance.csv\")\n",
        "bonuses = spark.read.option(\"multiline\", True).json(\"/content/bonuses.json\")\n",
        "#Show schemas and data\n",
        "employees.printSchema()\n",
        "attendance.printSchema()\n",
        "bonuses.printSchema()\n",
        "#Display the data\n",
        "employees.show()\n",
        "attendance.show()\n",
        "bonuses.show()\n",
        "#Distinct departments\n",
        "employees.select(\"Department\").distinct().show()\n"
      ],
      "metadata": {
        "colab": {
          "base_uri": "https://localhost:8080/"
        },
        "id": "ELmT5KH2Fdoi",
        "outputId": "66447445-0f06-4d89-a154-aef897b7de73"
      },
      "execution_count": 85,
      "outputs": [
        {
          "output_type": "stream",
          "name": "stdout",
          "text": [
            "root\n",
            " |--  EmpID: integer (nullable = true)\n",
            " |-- Name: string (nullable = true)\n",
            " |-- Department: string (nullable = true)\n",
            " |-- JoinDate: date (nullable = true)\n",
            " |-- Salary: integer (nullable = true)\n",
            " |-- ManagerID : string (nullable = true)\n",
            "\n",
            "root\n",
            " |-- EmpID: integer (nullable = true)\n",
            " |-- Date: date (nullable = true)\n",
            " |-- Status : string (nullable = true)\n",
            "\n",
            "root\n",
            " |-- Bonus: long (nullable = true)\n",
            " |-- EmpID: long (nullable = true)\n",
            " |-- Year: long (nullable = true)\n",
            "\n",
            "+------+------+-----------+----------+------+----------+\n",
            "| EmpID|  Name| Department|  JoinDate|Salary|ManagerID |\n",
            "+------+------+-----------+----------+------+----------+\n",
            "|     1| Anita|         HR|2021-05-01| 55000|          |\n",
            "|     2|   Raj|Engineering|2020-03-15| 80000|        1 |\n",
            "|     3|Simran|Engineering|2022-07-10| 75000|        1 |\n",
            "|     4| Aamir|  Marketing|2019-11-20| 60000|        1 |\n",
            "|     5| Nisha|         HR|2023-01-05| 50000|         1|\n",
            "+------+------+-----------+----------+------+----------+\n",
            "\n",
            "+-----+----------+--------+\n",
            "|EmpID|      Date| Status |\n",
            "+-----+----------+--------+\n",
            "|    1|2024-04-01|Present |\n",
            "|    1|2024-04-02|Present |\n",
            "|    2|2024-04-01| Absent |\n",
            "|    2|2024-04-02|Present |\n",
            "|    3|2024-04-01|Present |\n",
            "|    3|2024-04-02|Present |\n",
            "|    4|2024-04-01| Absent |\n",
            "|    4|2024-04-02| Absent |\n",
            "|    5|2024-04-01|Present |\n",
            "|    5|2024-04-02| Present|\n",
            "+-----+----------+--------+\n",
            "\n",
            "+-----+-----+----+\n",
            "|Bonus|EmpID|Year|\n",
            "+-----+-----+----+\n",
            "| 5000|    1|2023|\n",
            "| 7000|    2|2023|\n",
            "| 6500|    3|2023|\n",
            "| 6000|    4|2023|\n",
            "| 4000|    5|2023|\n",
            "+-----+-----+----+\n",
            "\n",
            "+-----------+\n",
            "| Department|\n",
            "+-----------+\n",
            "|Engineering|\n",
            "|         HR|\n",
            "|  Marketing|\n",
            "+-----------+\n",
            "\n"
          ]
        }
      ]
    },
    {
      "cell_type": "markdown",
      "source": [
        "**DataFrame Operations**"
      ],
      "metadata": {
        "id": "oQePKW3OGYDx"
      }
    },
    {
      "cell_type": "code",
      "source": [
        "#1.Add a column TenureYears using datediff() and round()\n",
        "employees = employees.withColumn(\"JoinDate\", to_date(col(\"JoinDate\")))\n",
        "employees = employees.withColumn(\"TenureYears\", round(datediff(current_date(), col(\"JoinDate\")) / 365, 2))\n",
        "employees.show()\n",
        "#2.Calculate TotalCompensation = Salary + Bonus\n",
        "# Rename the column to remove the leading space before joining\n",
        "employees = employees.withColumnRenamed(\" EmpID\", \"EmpID\")\n",
        "emp_bonus = employees.join(bonuses, \"EmpID\").withColumn(\"TotalCompensation\", col(\"Salary\") + col(\"Bonus\"))\n",
        "#3.Filter employees with more than 2 years in the company\n",
        "emp_bonus.filter(col(\"TenureYears\") > 2).show()\n",
        "#4.Show employees who report to a manager (ManagerID is not null)\n",
        "# It also appears ManagerID has a trailing space, let's fix that too\n",
        "employees = employees.withColumnRenamed(\"ManagerID \", \"ManagerID\")\n",
        "employees.filter(col(\"ManagerID\").isNotNull()).show()"
      ],
      "metadata": {
        "colab": {
          "base_uri": "https://localhost:8080/"
        },
        "id": "pOy5qCRNGLgy",
        "outputId": "f2e6643e-6547-43e2-a663-65a6f12984c0"
      },
      "execution_count": 86,
      "outputs": [
        {
          "output_type": "stream",
          "name": "stdout",
          "text": [
            "+------+------+-----------+----------+------+----------+-----------+\n",
            "| EmpID|  Name| Department|  JoinDate|Salary|ManagerID |TenureYears|\n",
            "+------+------+-----------+----------+------+----------+-----------+\n",
            "|     1| Anita|         HR|2021-05-01| 55000|          |       4.11|\n",
            "|     2|   Raj|Engineering|2020-03-15| 80000|        1 |       5.24|\n",
            "|     3|Simran|Engineering|2022-07-10| 75000|        1 |       2.92|\n",
            "|     4| Aamir|  Marketing|2019-11-20| 60000|        1 |       5.56|\n",
            "|     5| Nisha|         HR|2023-01-05| 50000|         1|       2.43|\n",
            "+------+------+-----------+----------+------+----------+-----------+\n",
            "\n",
            "+-----+------+-----------+----------+------+----------+-----------+-----+----+-----------------+\n",
            "|EmpID|  Name| Department|  JoinDate|Salary|ManagerID |TenureYears|Bonus|Year|TotalCompensation|\n",
            "+-----+------+-----------+----------+------+----------+-----------+-----+----+-----------------+\n",
            "|    1| Anita|         HR|2021-05-01| 55000|          |       4.11| 5000|2023|            60000|\n",
            "|    2|   Raj|Engineering|2020-03-15| 80000|        1 |       5.24| 7000|2023|            87000|\n",
            "|    3|Simran|Engineering|2022-07-10| 75000|        1 |       2.92| 6500|2023|            81500|\n",
            "|    4| Aamir|  Marketing|2019-11-20| 60000|        1 |       5.56| 6000|2023|            66000|\n",
            "|    5| Nisha|         HR|2023-01-05| 50000|         1|       2.43| 4000|2023|            54000|\n",
            "+-----+------+-----------+----------+------+----------+-----------+-----+----+-----------------+\n",
            "\n",
            "+-----+------+-----------+----------+------+---------+-----------+\n",
            "|EmpID|  Name| Department|  JoinDate|Salary|ManagerID|TenureYears|\n",
            "+-----+------+-----------+----------+------+---------+-----------+\n",
            "|    1| Anita|         HR|2021-05-01| 55000|         |       4.11|\n",
            "|    2|   Raj|Engineering|2020-03-15| 80000|       1 |       5.24|\n",
            "|    3|Simran|Engineering|2022-07-10| 75000|       1 |       2.92|\n",
            "|    4| Aamir|  Marketing|2019-11-20| 60000|       1 |       5.56|\n",
            "|    5| Nisha|         HR|2023-01-05| 50000|        1|       2.43|\n",
            "+-----+------+-----------+----------+------+---------+-----------+\n",
            "\n"
          ]
        }
      ]
    },
    {
      "cell_type": "markdown",
      "source": [
        "**Aggregation**"
      ],
      "metadata": {
        "id": "0VNn7YqPHJCW"
      }
    },
    {
      "cell_type": "code",
      "source": [
        "#1.Average salary per department\n",
        "employees.groupBy(\"Department\").agg(avg(\"Salary\").alias(\"AvgSalary\")).show()\n",
        "#2.Number of employees under each manager\n",
        "employees.groupBy(\"ManagerID\").count().withColumnRenamed(\"count\", \"NumEmployees\").show()\n",
        "#3.Count of absences per employee\n",
        "attendance = attendance.withColumnRenamed(\"Status \", \"Status\")\n",
        "attendance.filter(col(\"Status\") == \"Absent\").groupBy(\"EmpID\").count().withColumnRenamed(\"count\", \"Absences\").show()"
      ],
      "metadata": {
        "colab": {
          "base_uri": "https://localhost:8080/"
        },
        "id": "JdcLPwRgG1YA",
        "outputId": "624d347e-2019-4e42-b6c4-74c16f19ae2b"
      },
      "execution_count": 87,
      "outputs": [
        {
          "output_type": "stream",
          "name": "stdout",
          "text": [
            "+-----------+---------+\n",
            "| Department|AvgSalary|\n",
            "+-----------+---------+\n",
            "|Engineering|  77500.0|\n",
            "|         HR|  52500.0|\n",
            "|  Marketing|  60000.0|\n",
            "+-----------+---------+\n",
            "\n",
            "+---------+------------+\n",
            "|ManagerID|NumEmployees|\n",
            "+---------+------------+\n",
            "|       1 |           3|\n",
            "|        1|           1|\n",
            "|         |           1|\n",
            "+---------+------------+\n",
            "\n",
            "+-----+--------+\n",
            "|EmpID|Absences|\n",
            "+-----+--------+\n",
            "+-----+--------+\n",
            "\n"
          ]
        }
      ]
    },
    {
      "cell_type": "markdown",
      "source": [
        "**Joins**"
      ],
      "metadata": {
        "id": "HYtsjlNhHz_V"
      }
    },
    {
      "cell_type": "code",
      "source": [
        "#1.Attendance %\n",
        "attendance_summary = attendance.groupBy(\"EmpID\") \\\n",
        "    .agg(count(\"*\").alias(\"TotalDays\"),\n",
        "         sum(when(col(\"Status\") == \"Present\", 1).otherwise(0)).alias(\"PresentDays\")) \\\n",
        "    .withColumn(\"AttendancePercent\", round(col(\"PresentDays\") / col(\"TotalDays\") * 100, 2))\n",
        "attendance_summary.show()\n",
        "#2.Join with bonus for Top 3 TotalCompensation\n",
        "comp_df = employees.join(bonuses, \"EmpID\").withColumn(\"TotalCompensation\", col(\"Salary\") + col(\"Bonus\"))\n",
        "comp_df.orderBy(desc(\"TotalCompensation\")).select(\"EmpID\", \"Name\", \"TotalCompensation\").show(3)\n",
        "#3.Multi-level join\n",
        "employees.join(bonuses, \"EmpID\").join(attendance_summary, \"EmpID\").show()\n"
      ],
      "metadata": {
        "colab": {
          "base_uri": "https://localhost:8080/"
        },
        "id": "YBw-y7xfHYhP",
        "outputId": "b01801af-7d6e-4cb7-b200-f241be3ef466"
      },
      "execution_count": 88,
      "outputs": [
        {
          "output_type": "stream",
          "name": "stdout",
          "text": [
            "+-----+---------+-----------+-----------------+\n",
            "|EmpID|TotalDays|PresentDays|AttendancePercent|\n",
            "+-----+---------+-----------+-----------------+\n",
            "|    1|        2|          0|              0.0|\n",
            "|    3|        2|          0|              0.0|\n",
            "|    5|        2|          1|             50.0|\n",
            "|    4|        2|          0|              0.0|\n",
            "|    2|        2|          0|              0.0|\n",
            "+-----+---------+-----------+-----------------+\n",
            "\n",
            "+-----+------+-----------------+\n",
            "|EmpID|  Name|TotalCompensation|\n",
            "+-----+------+-----------------+\n",
            "|    2|   Raj|            87000|\n",
            "|    3|Simran|            81500|\n",
            "|    4| Aamir|            66000|\n",
            "+-----+------+-----------------+\n",
            "only showing top 3 rows\n",
            "\n",
            "+-----+------+-----------+----------+------+---------+-----------+-----+----+---------+-----------+-----------------+\n",
            "|EmpID|  Name| Department|  JoinDate|Salary|ManagerID|TenureYears|Bonus|Year|TotalDays|PresentDays|AttendancePercent|\n",
            "+-----+------+-----------+----------+------+---------+-----------+-----+----+---------+-----------+-----------------+\n",
            "|    1| Anita|         HR|2021-05-01| 55000|         |       4.11| 5000|2023|        2|          0|              0.0|\n",
            "|    2|   Raj|Engineering|2020-03-15| 80000|       1 |       5.24| 7000|2023|        2|          0|              0.0|\n",
            "|    3|Simran|Engineering|2022-07-10| 75000|       1 |       2.92| 6500|2023|        2|          0|              0.0|\n",
            "|    4| Aamir|  Marketing|2019-11-20| 60000|       1 |       5.56| 6000|2023|        2|          0|              0.0|\n",
            "|    5| Nisha|         HR|2023-01-05| 50000|        1|       2.43| 4000|2023|        2|          1|             50.0|\n",
            "+-----+------+-----------+----------+------+---------+-----------+-----+----+---------+-----------+-----------------+\n",
            "\n"
          ]
        }
      ]
    },
    {
      "cell_type": "markdown",
      "source": [
        "**String, Date Functions**"
      ],
      "metadata": {
        "id": "8wSiywHpIDgX"
      }
    },
    {
      "cell_type": "code",
      "source": [
        "#Extract year and month from JoinDate\n",
        "employees = employees.withColumn(\"JoinYear\", year(\"JoinDate\")).withColumn(\"JoinMonth\", month(\"JoinDate\"))\n",
        "employees.show()\n",
        "# Mask employee names using regex\n",
        "employees = employees.withColumn(\"MaskedName\", regexp_replace(\"Name\", \"(.).+\", \"$1***\"))\n",
        "employees.show()\n",
        "#Use substring() to create EmpCode like \"EMP001\".\n",
        "employees = employees.withColumn(\"EmpCode\", concat(lit(\"EMP\"), lpad(col(\"EmpID\").cast(\"string\"), 3, \"0\")))\n",
        "employees.show()"
      ],
      "metadata": {
        "colab": {
          "base_uri": "https://localhost:8080/"
        },
        "id": "e86U_23wIAPy",
        "outputId": "5b6b414d-ba7f-454c-a10e-1e23dff3deb2"
      },
      "execution_count": 89,
      "outputs": [
        {
          "output_type": "stream",
          "name": "stdout",
          "text": [
            "+-----+------+-----------+----------+------+---------+-----------+--------+---------+\n",
            "|EmpID|  Name| Department|  JoinDate|Salary|ManagerID|TenureYears|JoinYear|JoinMonth|\n",
            "+-----+------+-----------+----------+------+---------+-----------+--------+---------+\n",
            "|    1| Anita|         HR|2021-05-01| 55000|         |       4.11|    2021|        5|\n",
            "|    2|   Raj|Engineering|2020-03-15| 80000|       1 |       5.24|    2020|        3|\n",
            "|    3|Simran|Engineering|2022-07-10| 75000|       1 |       2.92|    2022|        7|\n",
            "|    4| Aamir|  Marketing|2019-11-20| 60000|       1 |       5.56|    2019|       11|\n",
            "|    5| Nisha|         HR|2023-01-05| 50000|        1|       2.43|    2023|        1|\n",
            "+-----+------+-----------+----------+------+---------+-----------+--------+---------+\n",
            "\n",
            "+-----+------+-----------+----------+------+---------+-----------+--------+---------+----------+\n",
            "|EmpID|  Name| Department|  JoinDate|Salary|ManagerID|TenureYears|JoinYear|JoinMonth|MaskedName|\n",
            "+-----+------+-----------+----------+------+---------+-----------+--------+---------+----------+\n",
            "|    1| Anita|         HR|2021-05-01| 55000|         |       4.11|    2021|        5|      A***|\n",
            "|    2|   Raj|Engineering|2020-03-15| 80000|       1 |       5.24|    2020|        3|      R***|\n",
            "|    3|Simran|Engineering|2022-07-10| 75000|       1 |       2.92|    2022|        7|      S***|\n",
            "|    4| Aamir|  Marketing|2019-11-20| 60000|       1 |       5.56|    2019|       11|      A***|\n",
            "|    5| Nisha|         HR|2023-01-05| 50000|        1|       2.43|    2023|        1|      N***|\n",
            "+-----+------+-----------+----------+------+---------+-----------+--------+---------+----------+\n",
            "\n",
            "+-----+------+-----------+----------+------+---------+-----------+--------+---------+----------+-------+\n",
            "|EmpID|  Name| Department|  JoinDate|Salary|ManagerID|TenureYears|JoinYear|JoinMonth|MaskedName|EmpCode|\n",
            "+-----+------+-----------+----------+------+---------+-----------+--------+---------+----------+-------+\n",
            "|    1| Anita|         HR|2021-05-01| 55000|         |       4.11|    2021|        5|      A***| EMP001|\n",
            "|    2|   Raj|Engineering|2020-03-15| 80000|       1 |       5.24|    2020|        3|      R***| EMP002|\n",
            "|    3|Simran|Engineering|2022-07-10| 75000|       1 |       2.92|    2022|        7|      S***| EMP003|\n",
            "|    4| Aamir|  Marketing|2019-11-20| 60000|       1 |       5.56|    2019|       11|      A***| EMP004|\n",
            "|    5| Nisha|         HR|2023-01-05| 50000|        1|       2.43|    2023|        1|      N***| EMP005|\n",
            "+-----+------+-----------+----------+------+---------+-----------+--------+---------+----------+-------+\n",
            "\n"
          ]
        }
      ]
    },
    {
      "cell_type": "markdown",
      "source": [
        "**Conditional & Null Handling**"
      ],
      "metadata": {
        "id": "uefBUK6kIla_"
      }
    },
    {
      "cell_type": "code",
      "source": [
        "#Use when/otherwise to label performance\n",
        "bonuses = bonuses.withColumn(\"PerformanceLabel\",\n",
        "    when(col(\"Bonus\") > 6000, \"High\")\n",
        "    .when(col(\"Bonus\").between(4000, 6000), \"Medium\")\n",
        "    .otherwise(\"Low\"))\n",
        "# Handle missing ManagerID using fillna(\"No Manager\")\n",
        "employees = employees.withColumn(\"JoinDate\", to_date(\"JoinDate\"))\n",
        "# Rename the ManagerID column to remove the trailing space after reloading\n",
        "employees = employees.withColumnRenamed(\"ManagerID \", \"ManagerID\")\n",
        "# Fix null ManagerID using the correct column name\n",
        "employees = employees.fillna({\"ManagerID\": \"No Manager\"})\n",
        "employees.show()"
      ],
      "metadata": {
        "colab": {
          "base_uri": "https://localhost:8080/"
        },
        "id": "VWE5CT8xIfE6",
        "outputId": "74304c70-5175-4851-9ef0-9760d3c9bec0"
      },
      "execution_count": 90,
      "outputs": [
        {
          "output_type": "stream",
          "name": "stdout",
          "text": [
            "+-----+------+-----------+----------+------+---------+-----------+--------+---------+----------+-------+\n",
            "|EmpID|  Name| Department|  JoinDate|Salary|ManagerID|TenureYears|JoinYear|JoinMonth|MaskedName|EmpCode|\n",
            "+-----+------+-----------+----------+------+---------+-----------+--------+---------+----------+-------+\n",
            "|    1| Anita|         HR|2021-05-01| 55000|         |       4.11|    2021|        5|      A***| EMP001|\n",
            "|    2|   Raj|Engineering|2020-03-15| 80000|       1 |       5.24|    2020|        3|      R***| EMP002|\n",
            "|    3|Simran|Engineering|2022-07-10| 75000|       1 |       2.92|    2022|        7|      S***| EMP003|\n",
            "|    4| Aamir|  Marketing|2019-11-20| 60000|       1 |       5.56|    2019|       11|      A***| EMP004|\n",
            "|    5| Nisha|         HR|2023-01-05| 50000|        1|       2.43|    2023|        1|      N***| EMP005|\n",
            "+-----+------+-----------+----------+------+---------+-----------+--------+---------+----------+-------+\n",
            "\n"
          ]
        }
      ]
    },
    {
      "cell_type": "markdown",
      "source": [
        "**Spark SQL**"
      ],
      "metadata": {
        "id": "TscgGCQ3JAzV"
      }
    },
    {
      "cell_type": "code",
      "source": [
        "#create and use database hr\n",
        "spark.sql(\"CREATE DATABASE IF NOT EXISTS hr\")\n",
        "spark.catalog.setCurrentDatabase(\"hr\")\n",
        "# Save all DataFrames as tables: employees, attendance, bonuses\n",
        "attendance.write.mode(\"overwrite\").saveAsTable(\"hr.attendance\")\n",
        "bonuses.write.mode(\"overwrite\").saveAsTable(\"hr.bonuses\")\n",
        "employees.write.mode(\"overwrite\").saveAsTable(\"hr.employees\")\n",
        "# Queries\n",
        "# Top paid employee in each department\n",
        "spark.sql(\"\"\"\n",
        "SELECT e.Department, e.Name, e.Salary\n",
        "FROM hr.employees e\n",
        "JOIN (\n",
        "    SELECT Department, MAX(Salary) AS MaxSal\n",
        "    FROM hr.employees\n",
        "    GROUP BY Department\n",
        ") x\n",
        "ON e.Department = x.Department AND e.Salary = x.MaxSal\n",
        "\"\"\").show()\n",
        "# Attendance rate by department\n",
        "spark.sql(\"\"\"\n",
        "SELECT e.Department, ROUND(SUM(CASE WHEN a.Status = 'Present' THEN 1 ELSE 0 END)/COUNT(*) * 100, 2) AS AttendanceRate\n",
        "FROM hr.employees e\n",
        "JOIN hr.attendance a ON e.EmpID = a.EmpID\n",
        "GROUP BY e.Department\n",
        "\"\"\").show()\n",
        "#Employees joined after 2021 with salary > 70,000\n",
        "spark.sql(\"SELECT * FROM hr.employees WHERE JoinDate > '2021-01-01' AND Salary > 70000\").show()"
      ],
      "metadata": {
        "colab": {
          "base_uri": "https://localhost:8080/"
        },
        "id": "4tDbMuknI7eJ",
        "outputId": "712d4e14-f98a-471f-e7a0-84fac9e7a4b5"
      },
      "execution_count": 91,
      "outputs": [
        {
          "output_type": "stream",
          "name": "stdout",
          "text": [
            "+-----------+-----+------+\n",
            "| Department| Name|Salary|\n",
            "+-----------+-----+------+\n",
            "|         HR|Anita| 55000|\n",
            "|Engineering|  Raj| 80000|\n",
            "|  Marketing|Aamir| 60000|\n",
            "+-----------+-----+------+\n",
            "\n",
            "+-----------+--------------+\n",
            "| Department|AttendanceRate|\n",
            "+-----------+--------------+\n",
            "|Engineering|           0.0|\n",
            "|         HR|          25.0|\n",
            "|  Marketing|           0.0|\n",
            "+-----------+--------------+\n",
            "\n",
            "+-----+------+-----------+----------+------+---------+-----------+--------+---------+----------+-------+\n",
            "|EmpID|  Name| Department|  JoinDate|Salary|ManagerID|TenureYears|JoinYear|JoinMonth|MaskedName|EmpCode|\n",
            "+-----+------+-----------+----------+------+---------+-----------+--------+---------+----------+-------+\n",
            "|    3|Simran|Engineering|2022-07-10| 75000|       1 |       2.92|    2022|        7|      S***| EMP003|\n",
            "+-----+------+-----------+----------+------+---------+-----------+--------+---------+----------+-------+\n",
            "\n"
          ]
        }
      ]
    },
    {
      "cell_type": "markdown",
      "source": [
        "**Advanced**"
      ],
      "metadata": {
        "id": "YAqdUkSBOdhz"
      }
    },
    {
      "cell_type": "code",
      "source": [
        "# UDF: classify department\n",
        "def classify_dept(dept):\n",
        "    return \"Tech\" if dept in [\"Engineering\", \"IT\"] else \"Non-Tech\"\n",
        "from pyspark.sql.types import StringType\n",
        "classify_udf = udf(classify_dept, StringType())\n",
        "employees = employees.withColumn(\"DeptType\", classify_udf(col(\"Department\")))\n",
        "# Create view & save\n",
        "emp_attendance_summary = employees.join(attendance_summary, \"EmpID\")\n",
        "emp_attendance_summary.createOrReplaceTempView(\"emp_attendance_summary\")\n",
        "# Save as Parquet partitioned by department\n",
        "emp_attendance_summary.write.mode(\"overwrite\").partitionBy(\"Department\").parquet(\"/content/emp_attendance_summary.parquet\")\n"
      ],
      "metadata": {
        "id": "_1hFXv0iLJvU"
      },
      "execution_count": 92,
      "outputs": []
    },
    {
      "cell_type": "code",
      "source": [],
      "metadata": {
        "id": "KDl4QcMHOqJF"
      },
      "execution_count": null,
      "outputs": []
    }
  ]
}