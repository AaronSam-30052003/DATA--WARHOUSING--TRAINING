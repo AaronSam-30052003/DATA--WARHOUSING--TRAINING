{
 "cells": [
  {
   "cell_type": "markdown",
   "metadata": {
    "application/vnd.databricks.v1+cell": {
     "cellMetadata": {},
     "inputWidgets": {},
     "nuid": "4e27b03e-6528-4bfa-8b48-728b8b1cc542",
     "showTitle": false,
     "tableResultSettingsMap": {},
     "title": ""
    }
   },
   "source": [
    "**Intialize the SparkSession**"
   ]
  },
  {
   "cell_type": "code",
   "execution_count": 0,
   "metadata": {
    "application/vnd.databricks.v1+cell": {
     "cellMetadata": {
      "byteLimit": 2048000,
      "rowLimit": 10000
     },
     "inputWidgets": {},
     "nuid": "43327950-4af0-40af-af96-b49b67bf75c6",
     "showTitle": false,
     "tableResultSettingsMap": {},
     "title": ""
    }
   },
   "outputs": [
    {
     "output_type": "execute_result",
     "data": {
      "text/html": [
       "\n",
       "            <div>\n",
       "                <p><b>SparkSession - hive</b></p>\n",
       "                \n",
       "        <div>\n",
       "            <p><b>SparkContext</b></p>\n",
       "\n",
       "            <p><a href=\"/?o=3525126442407722#setting/sparkui/0611-043339-3vb7b9iv/driver-2404666304674668943\">Spark UI</a></p>\n",
       "\n",
       "            <dl>\n",
       "              <dt>Version</dt>\n",
       "                <dd><code>v3.5.0</code></dd>\n",
       "              <dt>Master</dt>\n",
       "                <dd><code>local[*, 4]</code></dd>\n",
       "              <dt>AppName</dt>\n",
       "                <dd><code>Databricks Shell</code></dd>\n",
       "            </dl>\n",
       "        </div>\n",
       "        \n",
       "            </div>\n",
       "        "
      ],
      "text/plain": [
       "<pyspark.sql.session.SparkSession at 0x7c52e8424790>"
      ]
     },
     "execution_count": 1,
     "metadata": {},
     "output_type": "execute_result"
    }
   ],
   "source": [
    "from pyspark.sql import SparkSession\n",
    "spark=SparkSession.builder\\\n",
    "      .appName(\"web-traffic\")\\\n",
    "      .getOrCreate()\n",
    "spark"
   ]
  },
  {
   "cell_type": "markdown",
   "metadata": {
    "application/vnd.databricks.v1+cell": {
     "cellMetadata": {},
     "inputWidgets": {},
     "nuid": "c6b39c21-420c-442a-a443-becc0df4ab6a",
     "showTitle": false,
     "tableResultSettingsMap": {},
     "title": ""
    }
   },
   "source": [
    "**Create Dataframe**"
   ]
  },
  {
   "cell_type": "code",
   "execution_count": 0,
   "metadata": {
    "application/vnd.databricks.v1+cell": {
     "cellMetadata": {
      "byteLimit": 2048000,
      "rowLimit": 10000
     },
     "inputWidgets": {},
     "nuid": "1053b638-426b-4446-84ca-2550685681e5",
     "showTitle": false,
     "tableResultSettingsMap": {},
     "title": ""
    }
   },
   "outputs": [
    {
     "output_type": "stream",
     "name": "stdout",
     "output_type": "stream",
     "text": [
      "+------+--------+-------------------+--------+-------+-------+\n|UserID|Page    |Timestamp          |Duration|Device |Country|\n+------+--------+-------------------+--------+-------+-------+\n|1     |Home    |2024-04-10 10:00:00|35      |Mobile |India  |\n|2     |Products|2024-04-10 10:02:00|120     |Desktop|USA    |\n|3     |Cart    |2024-04-10 10:05:00|45      |Tablet |UK     |\n|1     |Checkout|2024-04-10 10:08:00|60      |Mobile |India  |\n|4     |Home    |2024-04-10 10:10:00|15      |Mobile |Canada |\n|2     |Contact |2024-04-10 10:15:00|25      |Desktop|USA    |\n|5     |Products|2024-04-10 10:20:00|90      |Desktop|India  |\n+------+--------+-------------------+--------+-------+-------+\n\nroot\n |-- UserID: long (nullable = true)\n |-- Page: string (nullable = true)\n |-- Timestamp: string (nullable = true)\n |-- Duration: long (nullable = true)\n |-- Device: string (nullable = true)\n |-- Country: string (nullable = true)\n\n"
     ]
    }
   ],
   "source": [
    "from pyspark.sql import Row\n",
    "web_data = [\n",
    "    Row(UserID=1, Page=\"Home\", Timestamp=\"2024-04-10 10:00:00\", Duration=35, Device=\"Mobile\", Country=\"India\"),\n",
    "    Row(UserID=2, Page=\"Products\", Timestamp=\"2024-04-10 10:02:00\", Duration=120, Device=\"Desktop\", Country=\"USA\"),\n",
    "    Row(UserID=3, Page=\"Cart\", Timestamp=\"2024-04-10 10:05:00\", Duration=45, Device=\"Tablet\", Country=\"UK\"),\n",
    "    Row(UserID=1, Page=\"Checkout\", Timestamp=\"2024-04-10 10:08:00\", Duration=60, Device=\"Mobile\", Country=\"India\"),\n",
    "    Row(UserID=4, Page=\"Home\", Timestamp=\"2024-04-10 10:10:00\", Duration=15, Device=\"Mobile\", Country=\"Canada\"),\n",
    "    Row(UserID=2, Page=\"Contact\", Timestamp=\"2024-04-10 10:15:00\", Duration=25, Device=\"Desktop\", Country=\"USA\"),\n",
    "    Row(UserID=5, Page=\"Products\", Timestamp=\"2024-04-10 10:20:00\", Duration=90, Device=\"Desktop\", Country=\"India\"),\n",
    "]\n",
    "df_web = spark.createDataFrame(web_data)\n",
    "df_web.show(truncate=False)\n",
    "df_web.printSchema()"
   ]
  },
  {
   "cell_type": "markdown",
   "metadata": {
    "application/vnd.databricks.v1+cell": {
     "cellMetadata": {},
     "inputWidgets": {},
     "nuid": "c68f3156-1f9c-48c9-9837-b56c741d5100",
     "showTitle": false,
     "tableResultSettingsMap": {},
     "title": ""
    }
   },
   "source": [
    "**Data Exploration & Preparation**"
   ]
  },
  {
   "cell_type": "code",
   "execution_count": 0,
   "metadata": {
    "application/vnd.databricks.v1+cell": {
     "cellMetadata": {
      "byteLimit": 2048000,
      "rowLimit": 10000
     },
     "inputWidgets": {},
     "nuid": "baaf5f87-9b3a-40cb-9e16-441a5cfa3635",
     "showTitle": false,
     "tableResultSettingsMap": {},
     "title": ""
    }
   },
   "outputs": [
    {
     "output_type": "stream",
     "name": "stdout",
     "output_type": "stream",
     "text": [
      "schema of web traffic:\nroot\n |-- UserID: long (nullable = true)\n |-- Page: string (nullable = true)\n |-- Timestamp: string (nullable = true)\n |-- Duration: long (nullable = true)\n |-- Device: string (nullable = true)\n |-- Country: string (nullable = true)\n\nroot\n |-- UserID: long (nullable = true)\n |-- Page: string (nullable = true)\n |-- Timestamp: timestamp (nullable = true)\n |-- Duration: long (nullable = true)\n |-- Device: string (nullable = true)\n |-- Country: string (nullable = true)\n\n+------+--------+-------------------+-------------+\n|UserID|    Page|          Timestamp|SessionMinute|\n+------+--------+-------------------+-------------+\n|     1|    Home|2024-04-10 10:00:00|            0|\n|     2|Products|2024-04-10 10:02:00|            2|\n|     3|    Cart|2024-04-10 10:05:00|            5|\n|     1|Checkout|2024-04-10 10:08:00|            8|\n|     4|    Home|2024-04-10 10:10:00|           10|\n|     2| Contact|2024-04-10 10:15:00|           15|\n|     5|Products|2024-04-10 10:20:00|           20|\n+------+--------+-------------------+-------------+\n\n"
     ]
    }
   ],
   "source": [
    "#1.Display the schema\n",
    "print(\"schema of web traffic:\")\n",
    "df_web.printSchema()\n",
    "#2.Convert Timestamp to proper timestamp type\n",
    "from pyspark.sql.functions import to_timestamp,minute\n",
    "df_web = df_web.withColumn(\"Timestamp\", to_timestamp(\"Timestamp\", \"yyyy-MM-dd HH:mm:ss\"))\n",
    "df_web.printSchema()\n",
    "#3.Add SessionMinute column\n",
    "df_web = df_web.withColumn(\"SessionMinute\", minute(\"Timestamp\"))\n",
    "df_web.select(\"UserID\", \"Page\", \"Timestamp\", \"SessionMinute\").show()"
   ]
  },
  {
   "cell_type": "markdown",
   "metadata": {
    "application/vnd.databricks.v1+cell": {
     "cellMetadata": {},
     "inputWidgets": {},
     "nuid": "1e36937b-a4e5-45d4-b1e5-bccf2d630eb3",
     "showTitle": false,
     "tableResultSettingsMap": {},
     "title": ""
    }
   },
   "source": [
    "**Filtering and Conditions**"
   ]
  },
  {
   "cell_type": "code",
   "execution_count": 0,
   "metadata": {
    "application/vnd.databricks.v1+cell": {
     "cellMetadata": {
      "byteLimit": 2048000,
      "rowLimit": 10000
     },
     "inputWidgets": {},
     "nuid": "9c92f570-40fc-4200-8493-03e9e5c2e503",
     "showTitle": false,
     "tableResultSettingsMap": {},
     "title": ""
    }
   },
   "outputs": [
    {
     "output_type": "stream",
     "name": "stdout",
     "output_type": "stream",
     "text": [
      "Mobile users who visited the Checkout page:\n+------+--------+-------------------+--------+------+-------+-------------+\n|UserID|    Page|          Timestamp|Duration|Device|Country|SessionMinute|\n+------+--------+-------------------+--------+------+-------+-------------+\n|     1|Checkout|2024-04-10 10:08:00|      60|Mobile|  India|            8|\n+------+--------+-------------------+--------+------+-------+-------------+\n\nEntries with a Duration greater than 60 seconds:\n+------+--------+-------------------+--------+-------+-------+-------------+\n|UserID|    Page|          Timestamp|Duration| Device|Country|SessionMinute|\n+------+--------+-------------------+--------+-------+-------+-------------+\n|     2|Products|2024-04-10 10:02:00|     120|Desktop|    USA|            2|\n|     5|Products|2024-04-10 10:20:00|      90|Desktop|  India|           20|\n+------+--------+-------------------+--------+-------+-------+-------------+\n\nUsers from India who visited the Products page:\n+------+--------+-------------------+--------+-------+-------+-------------+\n|UserID|    Page|          Timestamp|Duration| Device|Country|SessionMinute|\n+------+--------+-------------------+--------+-------+-------+-------------+\n|     5|Products|2024-04-10 10:20:00|      90|Desktop|  India|           20|\n+------+--------+-------------------+--------+-------+-------+-------------+\n\n"
     ]
    }
   ],
   "source": [
    "#4.Filter users who used a \"Mobile\" device and visited the \"Checkout\" page\n",
    "from pyspark.sql.functions import col\n",
    "print(\"Mobile users who visited the Checkout page:\")\n",
    "df_web.filter((col(\"Device\") == \"Mobile\") & (col(\"Page\") == \"Checkout\")).show()\n",
    "#5.Show all entries with a Duration greater than 60 seconds\n",
    "print(\"Entries with a Duration greater than 60 seconds:\")\n",
    "df_web.filter(col(\"Duration\") > 60).show()\n",
    "#6.Find all users from India who visited the \"Products\" page\n",
    "print(\"Users from India who visited the Products page:\")\n",
    "df_web.filter((col(\"Country\") == \"India\") & (col(\"Page\") == \"Products\")).show()"
   ]
  },
  {
   "cell_type": "markdown",
   "metadata": {
    "application/vnd.databricks.v1+cell": {
     "cellMetadata": {},
     "inputWidgets": {},
     "nuid": "8a264eda-d57f-4ad6-9737-7ce184fa4e75",
     "showTitle": false,
     "tableResultSettingsMap": {},
     "title": ""
    }
   },
   "source": [
    "**Aggregation and Grouping**"
   ]
  },
  {
   "cell_type": "code",
   "execution_count": 0,
   "metadata": {
    "application/vnd.databricks.v1+cell": {
     "cellMetadata": {
      "byteLimit": 2048000,
      "rowLimit": 10000
     },
     "inputWidgets": {},
     "nuid": "8b24739e-0e60-46b3-abfa-e742af1feddd",
     "showTitle": false,
     "tableResultSettingsMap": {},
     "title": ""
    }
   },
   "outputs": [
    {
     "output_type": "stream",
     "name": "stdout",
     "output_type": "stream",
     "text": [
      "Average duration per device type:\n+-------+------------------+\n| Device|   AverageDuration|\n+-------+------------------+\n| Mobile|36.666666666666664|\n| Tablet|              45.0|\n|Desktop| 78.33333333333333|\n+-------+------------------+\n\nNumber of sessions per country:\n+-------+--------+\n|Country|Sessions|\n+-------+--------+\n|  India|       2|\n|    USA|       1|\n|     UK|       1|\n| Canada|       1|\n+-------+--------+\n\nMost visited page overall:\n+----+-----+\n|Page|count|\n+----+-----+\n|Home|    2|\n+----+-----+\n\n"
     ]
    }
   ],
   "source": [
    "#7.Get the average duration per device type\n",
    "from pyspark.sql.functions import avg\n",
    "print(\"Average duration per device type:\")\n",
    "df_web.groupBy(\"Device\").agg(avg(\"Duration\").alias(\"AverageDuration\")).show()\n",
    "#8.Count the number of sessions per country\n",
    "from pyspark.sql.functions import countDistinct\n",
    "print(\"Number of sessions per country:\")\n",
    "df_web.groupBy(\"Country\").agg(countDistinct(\"UserID\").alias(\"Sessions\")).show()\n",
    "#9.Find the most visited page overall\n",
    "from pyspark.sql.functions import desc\n",
    "print(\"Most visited page overall:\")\n",
    "df_web.groupBy(\"Page\").count().orderBy(desc(\"count\")).limit(1).show()"
   ]
  },
  {
   "cell_type": "markdown",
   "metadata": {
    "application/vnd.databricks.v1+cell": {
     "cellMetadata": {},
     "inputWidgets": {},
     "nuid": "6ff8b0ba-27bc-4410-b8b6-be03ac1babc8",
     "showTitle": false,
     "tableResultSettingsMap": {},
     "title": ""
    }
   },
   "source": [
    "**Window Functions**"
   ]
  },
  {
   "cell_type": "code",
   "execution_count": 0,
   "metadata": {
    "application/vnd.databricks.v1+cell": {
     "cellMetadata": {
      "byteLimit": 2048000,
      "rowLimit": 10000
     },
     "inputWidgets": {},
     "nuid": "d9d765a1-4558-4c44-a353-2c5ec7c2592d",
     "showTitle": false,
     "tableResultSettingsMap": {},
     "title": ""
    }
   },
   "outputs": [
    {
     "output_type": "stream",
     "name": "stdout",
     "output_type": "stream",
     "text": [
      "Ranked pages by timestamp:\n+------+--------+-------------------+--------+\n|UserID|    Page|          Timestamp|PageRank|\n+------+--------+-------------------+--------+\n|     1|    Home|2024-04-10 10:00:00|       1|\n|     1|Checkout|2024-04-10 10:08:00|       2|\n|     2|Products|2024-04-10 10:02:00|       1|\n|     2| Contact|2024-04-10 10:15:00|       2|\n|     3|    Cart|2024-04-10 10:05:00|       1|\n|     4|    Home|2024-04-10 10:10:00|       1|\n|     5|Products|2024-04-10 10:20:00|       1|\n+------+--------+-------------------+--------+\n\nTotal duration of all sessions per user:\n+------+-------------+\n|UserID|TotalDuration|\n+------+-------------+\n|     1|           95|\n|     3|           45|\n|     2|          145|\n|     4|           15|\n|     5|           90|\n+------+-------------+\n\n"
     ]
    }
   ],
   "source": [
    "#10.Rank each user’s pages by timestamp (oldest to newest)\n",
    "from pyspark.sql.functions import dense_rank\n",
    "from pyspark.sql.window import Window\n",
    "w= Window.partitionBy(\"UserID\").orderBy(\"Timestamp\")\n",
    "ranked = df_web.withColumn(\"PageRank\", dense_rank().over(w))\n",
    "print(\"Ranked pages by timestamp:\")\n",
    "ranked.select(\"UserID\", \"Page\", \"Timestamp\", \"PageRank\").show()\n",
    "#11.Find the total duration of all sessions per user using groupBy\n",
    "print(\"Total duration of all sessions per user:\")\n",
    "df_web.groupBy(\"UserID\").sum(\"Duration\").withColumnRenamed(\"sum(Duration)\", \"TotalDuration\").show()"
   ]
  },
  {
   "cell_type": "markdown",
   "metadata": {
    "application/vnd.databricks.v1+cell": {
     "cellMetadata": {},
     "inputWidgets": {},
     "nuid": "7687c0e1-5f20-4c55-8c79-dec7af023b03",
     "showTitle": false,
     "tableResultSettingsMap": {},
     "title": ""
    }
   },
   "source": [
    "**Spark SQL Tasks**"
   ]
  },
  {
   "cell_type": "code",
   "execution_count": 0,
   "metadata": {
    "application/vnd.databricks.v1+cell": {
     "cellMetadata": {
      "byteLimit": 2048000,
      "rowLimit": 10000
     },
     "inputWidgets": {},
     "nuid": "b060b92d-cd2c-43f0-95af-7d3be420eb50",
     "showTitle": false,
     "tableResultSettingsMap": {},
     "title": ""
    }
   },
   "outputs": [
    {
     "output_type": "stream",
     "name": "stdout",
     "output_type": "stream",
     "text": [
      "Top 2 longest sessions by duration:\n+------+--------+-------------------+--------+-------+-------+-------------+----+\n|UserID|    Page|          Timestamp|Duration| Device|Country|SessionMinute|rank|\n+------+--------+-------------------+--------+-------+-------+-------------+----+\n|     2|Products|2024-04-10 10:02:00|     120|Desktop|    USA|            2|   1|\n|     5|Products|2024-04-10 10:20:00|      90|Desktop|  India|           20|   2|\n+------+--------+-------------------+--------+-------+-------+-------------+----+\n\nNumber of unique users per page:\n+--------+-----------+\n|    Page|UniqueUsers|\n+--------+-----------+\n|    Cart|          1|\n|    Home|          2|\n|Checkout|          1|\n|Products|          2|\n| Contact|          1|\n+--------+-----------+\n\n"
     ]
    }
   ],
   "source": [
    "#12.Create a temporary view called traffic_view\n",
    "df_web.createOrReplaceTempView(\"traffic_view\")\n",
    "#13.Write a SQL query to get the top 2 longest sessions by duration\n",
    "print(\"Top 2 longest sessions by duration:\")\n",
    "spark.sql(\"\"\"\n",
    "SELECT * FROM (\n",
    "  SELECT *, DENSE_RANK() OVER (ORDER BY Duration DESC) as rank\n",
    "  FROM traffic_view\n",
    ") WHERE rank <= 2\n",
    "\"\"\").show()\n",
    "#14.Get the number of unique users per page using SQL\n",
    "print(\"Number of unique users per page:\") \n",
    "spark.sql(\"SELECT Page, COUNT(DISTINCT UserID) AS UniqueUsers FROM traffic_view GROUP BY Page\").show()"
   ]
  },
  {
   "cell_type": "markdown",
   "metadata": {
    "application/vnd.databricks.v1+cell": {
     "cellMetadata": {},
     "inputWidgets": {},
     "nuid": "18f35fbd-8498-49a0-b739-5775e6780210",
     "showTitle": false,
     "tableResultSettingsMap": {},
     "title": ""
    }
   },
   "source": [
    "**Export & Save**"
   ]
  },
  {
   "cell_type": "code",
   "execution_count": 0,
   "metadata": {
    "application/vnd.databricks.v1+cell": {
     "cellMetadata": {
      "byteLimit": 2048000,
      "rowLimit": 10000
     },
     "inputWidgets": {},
     "nuid": "172952e5-570f-4663-8db6-726e73c32949",
     "showTitle": false,
     "tableResultSettingsMap": {},
     "title": ""
    }
   },
   "outputs": [],
   "source": [
    "#15.Save the final DataFrame to CSV\n",
    "df_web.write.mode(\"overwrite\").option(\"header\", True).csv(\"/mnt/csv/web_traffic_output\")\n",
    "#16.Save partitioned by Country in Parquet format\n",
    "df_web.write.mode(\"overwrite\").partitionBy(\"Country\").parquet(\"/mnt/parquet/web_traffic_partitioned\")"
   ]
  },
  {
   "cell_type": "code",
   "execution_count": 0,
   "metadata": {
    "application/vnd.databricks.v1+cell": {
     "cellMetadata": {
      "byteLimit": 2048000,
      "rowLimit": 10000
     },
     "inputWidgets": {},
     "nuid": "ae2ac84f-cac0-42ea-a290-aad519602614",
     "showTitle": false,
     "tableResultSettingsMap": {},
     "title": ""
    }
   },
   "outputs": [
    {
     "output_type": "display_data",
     "data": {
      "text/html": [
       "<style scoped>\n",
       "  .table-result-container {\n",
       "    max-height: 300px;\n",
       "    overflow: auto;\n",
       "  }\n",
       "  table, th, td {\n",
       "    border: 1px solid black;\n",
       "    border-collapse: collapse;\n",
       "  }\n",
       "  th, td {\n",
       "    padding: 5px;\n",
       "  }\n",
       "  th {\n",
       "    text-align: left;\n",
       "  }\n",
       "</style><div class='table-result-container'><table class='table-result'><thead style='background-color: white'><tr><th>path</th><th>name</th><th>size</th><th>modificationTime</th></tr></thead><tbody><tr><td>dbfs:/mnt/csv/web_traffic_output/_SUCCESS</td><td>_SUCCESS</td><td>0</td><td>1749703513000</td></tr><tr><td>dbfs:/mnt/csv/web_traffic_output/_committed_4489892982662196564</td><td>_committed_4489892982662196564</td><td>380</td><td>1749703513000</td></tr><tr><td>dbfs:/mnt/csv/web_traffic_output/_started_4489892982662196564</td><td>_started_4489892982662196564</td><td>0</td><td>1749703513000</td></tr><tr><td>dbfs:/mnt/csv/web_traffic_output/part-00000-tid-4489892982662196564-ed2806e8-e133-44fd-aef6-cf1e640d39e2-191-1-c000.csv</td><td>part-00000-tid-4489892982662196564-ed2806e8-e133-44fd-aef6-cf1e640d39e2-191-1-c000.csv</td><td>110</td><td>1749703513000</td></tr><tr><td>dbfs:/mnt/csv/web_traffic_output/part-00001-tid-4489892982662196564-ed2806e8-e133-44fd-aef6-cf1e640d39e2-192-1-c000.csv</td><td>part-00001-tid-4489892982662196564-ed2806e8-e133-44fd-aef6-cf1e640d39e2-192-1-c000.csv</td><td>161</td><td>1749703513000</td></tr><tr><td>dbfs:/mnt/csv/web_traffic_output/part-00002-tid-4489892982662196564-ed2806e8-e133-44fd-aef6-cf1e640d39e2-193-1-c000.csv</td><td>part-00002-tid-4489892982662196564-ed2806e8-e133-44fd-aef6-cf1e640d39e2-193-1-c000.csv</td><td>166</td><td>1749703513000</td></tr><tr><td>dbfs:/mnt/csv/web_traffic_output/part-00003-tid-4489892982662196564-ed2806e8-e133-44fd-aef6-cf1e640d39e2-194-1-c000.csv</td><td>part-00003-tid-4489892982662196564-ed2806e8-e133-44fd-aef6-cf1e640d39e2-194-1-c000.csv</td><td>169</td><td>1749703513000</td></tr></tbody></table></div>"
      ]
     },
     "metadata": {
      "application/vnd.databricks.v1+output": {
       "addedWidgets": {},
       "aggData": [],
       "aggError": "",
       "aggOverflow": false,
       "aggSchema": [],
       "aggSeriesLimitReached": false,
       "aggType": "",
       "arguments": {},
       "columnCustomDisplayInfos": {},
       "data": [
        [
         "dbfs:/mnt/csv/web_traffic_output/_SUCCESS",
         "_SUCCESS",
         0,
         1749703513000
        ],
        [
         "dbfs:/mnt/csv/web_traffic_output/_committed_4489892982662196564",
         "_committed_4489892982662196564",
         380,
         1749703513000
        ],
        [
         "dbfs:/mnt/csv/web_traffic_output/_started_4489892982662196564",
         "_started_4489892982662196564",
         0,
         1749703513000
        ],
        [
         "dbfs:/mnt/csv/web_traffic_output/part-00000-tid-4489892982662196564-ed2806e8-e133-44fd-aef6-cf1e640d39e2-191-1-c000.csv",
         "part-00000-tid-4489892982662196564-ed2806e8-e133-44fd-aef6-cf1e640d39e2-191-1-c000.csv",
         110,
         1749703513000
        ],
        [
         "dbfs:/mnt/csv/web_traffic_output/part-00001-tid-4489892982662196564-ed2806e8-e133-44fd-aef6-cf1e640d39e2-192-1-c000.csv",
         "part-00001-tid-4489892982662196564-ed2806e8-e133-44fd-aef6-cf1e640d39e2-192-1-c000.csv",
         161,
         1749703513000
        ],
        [
         "dbfs:/mnt/csv/web_traffic_output/part-00002-tid-4489892982662196564-ed2806e8-e133-44fd-aef6-cf1e640d39e2-193-1-c000.csv",
         "part-00002-tid-4489892982662196564-ed2806e8-e133-44fd-aef6-cf1e640d39e2-193-1-c000.csv",
         166,
         1749703513000
        ],
        [
         "dbfs:/mnt/csv/web_traffic_output/part-00003-tid-4489892982662196564-ed2806e8-e133-44fd-aef6-cf1e640d39e2-194-1-c000.csv",
         "part-00003-tid-4489892982662196564-ed2806e8-e133-44fd-aef6-cf1e640d39e2-194-1-c000.csv",
         169,
         1749703513000
        ]
       ],
       "datasetInfos": [],
       "dbfsResultPath": null,
       "isJsonSchema": true,
       "metadata": {},
       "overflow": false,
       "plotOptions": {
        "customPlotOptions": {},
        "displayType": "table",
        "pivotAggregation": null,
        "pivotColumns": null,
        "xColumns": null,
        "yColumns": null
       },
       "removedWidgets": [],
       "schema": [
        {
         "metadata": "{}",
         "name": "path",
         "type": "\"string\""
        },
        {
         "metadata": "{}",
         "name": "name",
         "type": "\"string\""
        },
        {
         "metadata": "{}",
         "name": "size",
         "type": "\"long\""
        },
        {
         "metadata": "{}",
         "name": "modificationTime",
         "type": "\"long\""
        }
       ],
       "type": "table"
      }
     },
     "output_type": "display_data"
    },
    {
     "output_type": "display_data",
     "data": {
      "text/html": [
       "<style scoped>\n",
       "  .table-result-container {\n",
       "    max-height: 300px;\n",
       "    overflow: auto;\n",
       "  }\n",
       "  table, th, td {\n",
       "    border: 1px solid black;\n",
       "    border-collapse: collapse;\n",
       "  }\n",
       "  th, td {\n",
       "    padding: 5px;\n",
       "  }\n",
       "  th {\n",
       "    text-align: left;\n",
       "  }\n",
       "</style><div class='table-result-container'><table class='table-result'><thead style='background-color: white'><tr><th>path</th><th>name</th><th>size</th><th>modificationTime</th></tr></thead><tbody><tr><td>dbfs:/mnt/parquet/web_traffic_partitioned/Country=Canada/</td><td>Country=Canada/</td><td>0</td><td>1749703514000</td></tr><tr><td>dbfs:/mnt/parquet/web_traffic_partitioned/Country=India/</td><td>Country=India/</td><td>0</td><td>1749703513000</td></tr><tr><td>dbfs:/mnt/parquet/web_traffic_partitioned/Country=UK/</td><td>Country=UK/</td><td>0</td><td>1749703513000</td></tr><tr><td>dbfs:/mnt/parquet/web_traffic_partitioned/Country=USA/</td><td>Country=USA/</td><td>0</td><td>1749703513000</td></tr><tr><td>dbfs:/mnt/parquet/web_traffic_partitioned/_SUCCESS</td><td>_SUCCESS</td><td>0</td><td>1749703514000</td></tr></tbody></table></div>"
      ]
     },
     "metadata": {
      "application/vnd.databricks.v1+output": {
       "addedWidgets": {},
       "aggData": [],
       "aggError": "",
       "aggOverflow": false,
       "aggSchema": [],
       "aggSeriesLimitReached": false,
       "aggType": "",
       "arguments": {},
       "columnCustomDisplayInfos": {},
       "data": [
        [
         "dbfs:/mnt/parquet/web_traffic_partitioned/Country=Canada/",
         "Country=Canada/",
         0,
         1749703514000
        ],
        [
         "dbfs:/mnt/parquet/web_traffic_partitioned/Country=India/",
         "Country=India/",
         0,
         1749703513000
        ],
        [
         "dbfs:/mnt/parquet/web_traffic_partitioned/Country=UK/",
         "Country=UK/",
         0,
         1749703513000
        ],
        [
         "dbfs:/mnt/parquet/web_traffic_partitioned/Country=USA/",
         "Country=USA/",
         0,
         1749703513000
        ],
        [
         "dbfs:/mnt/parquet/web_traffic_partitioned/_SUCCESS",
         "_SUCCESS",
         0,
         1749703514000
        ]
       ],
       "datasetInfos": [],
       "dbfsResultPath": null,
       "isJsonSchema": true,
       "metadata": {},
       "overflow": false,
       "plotOptions": {
        "customPlotOptions": {},
        "displayType": "table",
        "pivotAggregation": null,
        "pivotColumns": null,
        "xColumns": null,
        "yColumns": null
       },
       "removedWidgets": [],
       "schema": [
        {
         "metadata": "{}",
         "name": "path",
         "type": "\"string\""
        },
        {
         "metadata": "{}",
         "name": "name",
         "type": "\"string\""
        },
        {
         "metadata": "{}",
         "name": "size",
         "type": "\"long\""
        },
        {
         "metadata": "{}",
         "name": "modificationTime",
         "type": "\"long\""
        }
       ],
       "type": "table"
      }
     },
     "output_type": "display_data"
    }
   ],
   "source": [
    "#diaplay the saved file\n",
    "display(dbutils.fs.ls(\"/mnt/csv/web_traffic_output\"))\n",
    "display(dbutils.fs.ls(\"/mnt/parquet/web_traffic_partitioned\"))"
   ]
  },
  {
   "cell_type": "code",
   "execution_count": 0,
   "metadata": {
    "application/vnd.databricks.v1+cell": {
     "cellMetadata": {},
     "inputWidgets": {},
     "nuid": "20c62a5c-f274-4459-87c6-6bf40f05897a",
     "showTitle": false,
     "tableResultSettingsMap": {},
     "title": ""
    }
   },
   "outputs": [],
   "source": []
  }
 ],
 "metadata": {
  "application/vnd.databricks.v1+notebook": {
   "computePreferences": null,
   "dashboards": [],
   "environmentMetadata": {
    "base_environment": "",
    "environment_version": "2"
   },
   "inputWidgetPreferences": null,
   "language": "python",
   "notebookMetadata": {
    "pythonIndentUnit": 4
   },
   "notebookName": "june12(set-2)",
   "widgets": {}
  },
  "language_info": {
   "name": "python"
  }
 },
 "nbformat": 4,
 "nbformat_minor": 0
}