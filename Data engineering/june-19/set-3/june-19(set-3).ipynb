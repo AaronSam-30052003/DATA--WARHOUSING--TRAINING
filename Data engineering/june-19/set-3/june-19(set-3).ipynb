{
 "cells": [
  {
   "cell_type": "markdown",
   "metadata": {
    "application/vnd.databricks.v1+cell": {
     "cellMetadata": {
      "byteLimit": 2048000,
      "rowLimit": 10000
     },
     "inputWidgets": {},
     "nuid": "fc04c710-4882-4aec-acbc-885c7522db2f",
     "showTitle": false,
     "tableResultSettingsMap": {},
     "title": ""
    }
   },
   "source": [
    "**Intialize the Spark Session**"
   ]
  },
  {
   "cell_type": "code",
   "execution_count": 0,
   "metadata": {
    "application/vnd.databricks.v1+cell": {
     "cellMetadata": {
      "byteLimit": 2048000,
      "rowLimit": 10000
     },
     "inputWidgets": {},
     "nuid": "8d597e49-4bca-4a86-8ed0-0c3513af3c0f",
     "showTitle": false,
     "tableResultSettingsMap": {},
     "title": ""
    }
   },
   "outputs": [
    {
     "output_type": "execute_result",
     "data": {
      "text/html": [
       "\n",
       "            <div>\n",
       "                <p><b>SparkSession - hive</b></p>\n",
       "                \n",
       "        <div>\n",
       "            <p><b>SparkContext</b></p>\n",
       "\n",
       "            <p><a href=\"/?o=3525126442407722#setting/sparkui/0611-043339-3vb7b9iv/driver-9097877764254449765\">Spark UI</a></p>\n",
       "\n",
       "            <dl>\n",
       "              <dt>Version</dt>\n",
       "                <dd><code>v3.5.0</code></dd>\n",
       "              <dt>Master</dt>\n",
       "                <dd><code>local[*, 4]</code></dd>\n",
       "              <dt>AppName</dt>\n",
       "                <dd><code>Databricks Shell</code></dd>\n",
       "            </dl>\n",
       "        </div>\n",
       "        \n",
       "            </div>\n",
       "        "
      ],
      "text/plain": [
       "<pyspark.sql.session.SparkSession at 0x7594c3f14790>"
      ]
     },
     "execution_count": 51,
     "metadata": {},
     "output_type": "execute_result"
    }
   ],
   "source": [
    "from pyspark.sql import SparkSession\n",
    "spark=SparkSession.builder\\\n",
    "      .appName(\"Inventory-supply\")\\\n",
    "      .getOrCreate()\n",
    "spark"
   ]
  },
  {
   "cell_type": "markdown",
   "metadata": {
    "application/vnd.databricks.v1+cell": {
     "cellMetadata": {
      "byteLimit": 2048000,
      "rowLimit": 10000
     },
     "inputWidgets": {},
     "nuid": "3a2bd429-0ef4-4431-a3e2-f353ba7f20af",
     "showTitle": false,
     "tableResultSettingsMap": {},
     "title": ""
    }
   },
   "source": [
    "**Inventory Alerting System**"
   ]
  },
  {
   "cell_type": "markdown",
   "metadata": {
    "application/vnd.databricks.v1+cell": {
     "cellMetadata": {
      "byteLimit": 2048000,
      "rowLimit": 10000
     },
     "inputWidgets": {},
     "nuid": "23487af8-2923-4e2d-8777-4fc48b718a22",
     "showTitle": false,
     "tableResultSettingsMap": {},
     "title": ""
    }
   },
   "source": [
    "Tasks:\n",
    " 1. Load the data using PySpark.\n",
    " 2. Create a new column \n",
    "NeedsReorder = StockQty < ReorderLevel .\n",
    " 3. Create a view of all items that need restocking.\n",
    " 4. Highlight warehouses with more than 2 such items."
   ]
  },
  {
   "cell_type": "code",
   "execution_count": 0,
   "metadata": {
    "application/vnd.databricks.v1+cell": {
     "cellMetadata": {
      "byteLimit": 2048000,
      "rowLimit": 10000
     },
     "inputWidgets": {},
     "nuid": "7e775856-5b8e-4957-a66f-2f3c48d2b6a8",
     "showTitle": false,
     "tableResultSettingsMap": {},
     "title": ""
    }
   },
   "outputs": [
    {
     "output_type": "stream",
     "name": "stdout",
     "output_type": "stream",
     "text": [
      "root\n |-- ItemID: string (nullable = true)\n |-- ItemName: string (nullable = true)\n |-- Category: string (nullable = true)\n |-- Warehouse: string (nullable = true)\n |-- StockQty: integer (nullable = true)\n |-- ReorderLevel: integer (nullable = true)\n |-- LastRestocked: date (nullable = true)\n |-- UnitPrice: integer (nullable = true)\n |-- Supplier: string (nullable = true)\n\n+------+------------+-----------+----------+--------+------------+-------------+---------+---------+\n|ItemID|    ItemName|   Category| Warehouse|StockQty|ReorderLevel|LastRestocked|UnitPrice| Supplier|\n+------+------------+-----------+----------+--------+------------+-------------+---------+---------+\n|  I001|      LED TV|Electronics|WarehouseA|      50|          20|   2024-03-15|    30000|   AVTech|\n|  I002|      Laptop|Electronics|WarehouseB|      10|          15|   2024-04-01|    70000|TechWorld|\n|  I003|Office Chair|  Furniture|WarehouseA|      40|          10|   2024-03-25|     6000|  ChairCo|\n|  I004|Refrigerator| Appliances|WarehouseC|       5|          10|   2024-02-20|    25000| FreezeIt|\n|  I005|     Printer|Electronics|WarehouseB|       3|           5|   2024-03-30|     8000|PrintFast|\n+------+------------+-----------+----------+--------+------------+-------------+---------+---------+\n\n+------+------------+-----------+----------+--------+------------+-------------+---------+---------+------------+\n|ItemID|    ItemName|   Category| Warehouse|StockQty|ReorderLevel|LastRestocked|UnitPrice| Supplier|NeedsReorder|\n+------+------------+-----------+----------+--------+------------+-------------+---------+---------+------------+\n|  I002|      Laptop|Electronics|WarehouseB|      10|          15|   2024-04-01|    70000|TechWorld|        true|\n|  I004|Refrigerator| Appliances|WarehouseC|       5|          10|   2024-02-20|    25000| FreezeIt|        true|\n|  I005|     Printer|Electronics|WarehouseB|       3|           5|   2024-03-30|     8000|PrintFast|        true|\n+------+------------+-----------+----------+--------+------------+-------------+---------+---------+------------+\n\n+---------+-----------------+\n|Warehouse|ItemsUnderReorder|\n+---------+-----------------+\n+---------+-----------------+\n\n"
     ]
    }
   ],
   "source": [
    "from pyspark.sql.functions import *\n",
    "#1.\n",
    "df=spark.read.option(\"header\",True).option(\"inferSchema\",True) \\\n",
    "    .csv(\"file:/Workspace/Shared/inventory_supply.csv\")\n",
    "df.printSchema()\n",
    "df.show()\n",
    "#2.\n",
    "df=df.withColumn(\"NeedsReorder\", col(\"StockQty\") < col(\"ReorderLevel\"))\n",
    "#3.\n",
    "df.createOrReplaceTempView(\"needs_reorder\")\n",
    "#4.\n",
    "spark.sql(\"SELECT * FROM needs_reorder WHERE NeedsReorder = true\").show()\n",
    "spark.sql(\"\"\"\n",
    "SELECT Warehouse, COUNT(*) AS ItemsUnderReorder\n",
    "FROM needs_reorder\n",
    "WHERE NeedsReorder = true\n",
    "GROUP BY Warehouse\n",
    "HAVING COUNT(*) > 2\n",
    "\"\"\").show()"
   ]
  },
  {
   "cell_type": "markdown",
   "metadata": {
    "application/vnd.databricks.v1+cell": {
     "cellMetadata": {
      "byteLimit": 2048000,
      "rowLimit": 10000
     },
     "inputWidgets": {},
     "nuid": "8ad93ca2-0bd1-471d-8b0f-d241cd540fac",
     "showTitle": false,
     "tableResultSettingsMap": {},
     "title": ""
    }
   },
   "source": [
    "**Supplier Price Optimization**"
   ]
  },
  {
   "cell_type": "markdown",
   "metadata": {
    "application/vnd.databricks.v1+cell": {
     "cellMetadata": {
      "byteLimit": 2048000,
      "rowLimit": 10000
     },
     "inputWidgets": {},
     "nuid": "e191c42f-3fc4-421e-bab0-8441f66930a0",
     "showTitle": false,
     "tableResultSettingsMap": {},
     "title": ""
    }
   },
   "source": [
    " Tasks:\n",
    " 1. Group items by Supplier and compute average price.\n",
    " 2. Find which suppliers offer items below average price in their category.\n",
    " 3. Tag suppliers with \n",
    "Good Deal if >50% of their items are below market average"
   ]
  },
  {
   "cell_type": "code",
   "execution_count": 0,
   "metadata": {
    "application/vnd.databricks.v1+cell": {
     "cellMetadata": {
      "byteLimit": 2048000,
      "rowLimit": 10000
     },
     "inputWidgets": {},
     "nuid": "3a28d27f-a914-4a86-96a2-1cc122c3f1c5",
     "showTitle": false,
     "tableResultSettingsMap": {},
     "title": ""
    }
   },
   "outputs": [
    {
     "output_type": "stream",
     "name": "stdout",
     "output_type": "stream",
     "text": [
      "Avg price by supplier:\n+-----------+---------+------+------------+----------+--------+------------+-------------+---------+------------+------------------+------------------+\n|   Category| Supplier|ItemID|    ItemName| Warehouse|StockQty|ReorderLevel|LastRestocked|UnitPrice|NeedsReorder|AvgPriceBySupplier|AvgPriceByCategory|\n+-----------+---------+------+------------+----------+--------+------------+-------------+---------+------------+------------------+------------------+\n|Electronics|   AVTech|  I001|      LED TV|WarehouseA|      50|          20|   2024-03-15|    30000|       false|           30000.0|           36000.0|\n|Electronics|TechWorld|  I002|      Laptop|WarehouseB|      10|          15|   2024-04-01|    70000|        true|           70000.0|           36000.0|\n|Electronics|PrintFast|  I005|     Printer|WarehouseB|       3|           5|   2024-03-30|     8000|        true|            8000.0|           36000.0|\n| Appliances| FreezeIt|  I004|Refrigerator|WarehouseC|       5|          10|   2024-02-20|    25000|        true|           25000.0|           25000.0|\n|  Furniture|  ChairCo|  I003|Office Chair|WarehouseA|      40|          10|   2024-03-25|     6000|       false|            6000.0|            6000.0|\n+-----------+---------+------+------------+----------+--------+------------+-------------+---------+------------+------------------+------------------+\n\nBelow market average:\n+-----------+---------+------+------------+----------+--------+------------+-------------+---------+------------+------------------+------------------+-----------+\n|   Category| Supplier|ItemID|    ItemName| Warehouse|StockQty|ReorderLevel|LastRestocked|UnitPrice|NeedsReorder|AvgPriceBySupplier|AvgPriceByCategory|BelowMarket|\n+-----------+---------+------+------------+----------+--------+------------+-------------+---------+------------+------------------+------------------+-----------+\n|Electronics|   AVTech|  I001|      LED TV|WarehouseA|      50|          20|   2024-03-15|    30000|       false|           30000.0|           36000.0|       true|\n|Electronics|TechWorld|  I002|      Laptop|WarehouseB|      10|          15|   2024-04-01|    70000|        true|           70000.0|           36000.0|      false|\n|  Furniture|  ChairCo|  I003|Office Chair|WarehouseA|      40|          10|   2024-03-25|     6000|       false|            6000.0|            6000.0|      false|\n| Appliances| FreezeIt|  I004|Refrigerator|WarehouseC|       5|          10|   2024-02-20|    25000|        true|           25000.0|           25000.0|      false|\n|Electronics|PrintFast|  I005|     Printer|WarehouseB|       3|           5|   2024-03-30|     8000|        true|            8000.0|           36000.0|       true|\n+-----------+---------+------+------------+----------+--------+------------+-------------+---------+------------+------------------+------------------+-----------+\n\nGood deals:\n+---------+--------+--------+\n| Supplier|BelowPct|GoodDeal|\n+---------+--------+--------+\n|   AVTech|     1.0|    true|\n|TechWorld|     0.0|   false|\n|PrintFast|     1.0|    true|\n| FreezeIt|     0.0|   false|\n|  ChairCo|     0.0|   false|\n+---------+--------+--------+\n\n"
     ]
    }
   ],
   "source": [
    "#1.\n",
    "supplier_avg = df.groupBy(\"Supplier\").agg(avg(\"UnitPrice\").alias(\"AvgPriceBySupplier\"))\n",
    "s=df.join(supplier_avg, \"Supplier\")\n",
    "market_avg = df.groupBy(\"Category\").agg(avg(\"UnitPrice\").alias(\"AvgPriceByCategory\"))\n",
    "s= s.join(market_avg, \"Category\")\n",
    "print(\"Avg price by supplier:\")\n",
    "s.show()\n",
    "#2.\n",
    "print(\"Below market average:\")\n",
    "s=s.withColumn(\"BelowMarket\", col(\"UnitPrice\") < col(\"AvgPriceByCategory\"))\n",
    "s.show()\n",
    "#3.\n",
    "score = s.groupBy(\"Supplier\").agg(\n",
    "    (sum(col(\"BelowMarket\").cast(\"int\")) / count(\"*\")).alias(\"BelowPct\")\n",
    ")\n",
    "good_deals = score.withColumn(\"GoodDeal\", col(\"BelowPct\") > 0.5)\n",
    "print(\"Good deals:\")\n",
    "good_deals.show()\n"
   ]
  },
  {
   "cell_type": "markdown",
   "metadata": {
    "application/vnd.databricks.v1+cell": {
     "cellMetadata": {
      "byteLimit": 2048000,
      "rowLimit": 10000
     },
     "inputWidgets": {},
     "nuid": "905fad28-028d-4b49-86e7-ac10c315f17f",
     "showTitle": false,
     "tableResultSettingsMap": {},
     "title": ""
    }
   },
   "source": [
    "**Cost Forecasting**"
   ]
  },
  {
   "cell_type": "markdown",
   "metadata": {
    "application/vnd.databricks.v1+cell": {
     "cellMetadata": {
      "byteLimit": 2048000,
      "rowLimit": 10000
     },
     "inputWidgets": {},
     "nuid": "f1a3eb13-e762-42ee-a558-6ea3495481c0",
     "showTitle": false,
     "tableResultSettingsMap": {},
     "title": ""
    }
   },
   "source": [
    " Tasks:\n",
    " 1. Calculate \n",
    "TotalStockValue = StockQty * UnitPrice .\n",
    " 2. Identify top 3 highest-value items.\n",
    " 3. Export the result as a Parquet file partitioned by \n",
    "Warehouse."
   ]
  },
  {
   "cell_type": "code",
   "execution_count": 0,
   "metadata": {
    "application/vnd.databricks.v1+cell": {
     "cellMetadata": {
      "byteLimit": 2048000,
      "rowLimit": 10000
     },
     "inputWidgets": {},
     "nuid": "fce24f2c-18fa-44d0-8ed3-d7208484b889",
     "showTitle": false,
     "tableResultSettingsMap": {},
     "title": ""
    }
   },
   "outputs": [
    {
     "output_type": "stream",
     "name": "stdout",
     "output_type": "stream",
     "text": [
      "Total stock value by warehouse:\n+----------+---------------+\n| Warehouse|TotalStockValue|\n+----------+---------------+\n|WarehouseA|        1740000|\n|WarehouseC|         125000|\n|WarehouseB|         724000|\n+----------+---------------+\n\nTop 3 warehouses by stock value:\n+------+------------+-----------+----------+--------+------------+-------------+---------+---------+------------+---------------+\n|ItemID|    ItemName|   Category| Warehouse|StockQty|ReorderLevel|LastRestocked|UnitPrice| Supplier|NeedsReorder|TotalStockValue|\n+------+------------+-----------+----------+--------+------------+-------------+---------+---------+------------+---------------+\n|  I001|      LED TV|Electronics|WarehouseA|      50|          20|   2024-03-15|    30000|   AVTech|       false|        1500000|\n|  I002|      Laptop|Electronics|WarehouseB|      10|          15|   2024-04-01|    70000|TechWorld|        true|         700000|\n|  I003|Office Chair|  Furniture|WarehouseA|      40|          10|   2024-03-25|     6000|  ChairCo|       false|         240000|\n+------+------------+-----------+----------+--------+------------+-------------+---------+---------+------------+---------------+\n\n"
     ]
    }
   ],
   "source": [
    "#1.\n",
    "print(\"Total stock value by warehouse:\")\n",
    "df = df.withColumn(\"TotalStockValue\", col(\"StockQty\") * col(\"UnitPrice\"))\n",
    "df.groupBy(\"Warehouse\").agg(sum(\"TotalStockValue\").alias(\"TotalStockValue\")).show()\n",
    "#2.\n",
    "print(\"Top 3 warehouses by stock value:\")\n",
    "df.orderBy(col(\"TotalStockValue\").desc()).limit(3).show()\n",
    "#3.\n",
    "df.write.mode(\"overwrite\").parquet(\"file:/Workspace/Shared/stock_by_warehouse\", partitionBy=\"Warehouse\")"
   ]
  },
  {
   "cell_type": "markdown",
   "metadata": {
    "application/vnd.databricks.v1+cell": {
     "cellMetadata": {
      "byteLimit": 2048000,
      "rowLimit": 10000
     },
     "inputWidgets": {},
     "nuid": "fb94671e-4e29-40b9-8e5d-80249f0d94b0",
     "showTitle": false,
     "tableResultSettingsMap": {},
     "title": ""
    }
   },
   "source": [
    "**Warehouse Utilization**"
   ]
  },
  {
   "cell_type": "markdown",
   "metadata": {
    "application/vnd.databricks.v1+cell": {
     "cellMetadata": {
      "byteLimit": 2048000,
      "rowLimit": 10000
     },
     "inputWidgets": {},
     "nuid": "8b3765d1-5e9a-4c1b-80e2-1755eb579405",
     "showTitle": false,
     "tableResultSettingsMap": {},
     "title": ""
    }
   },
   "source": [
    " Tasks:\n",
    " 1. Count items stored per warehouse.\n",
    " 2. Average stock per category in each warehouse.\n",
    " 3. Determine underutilized warehouses (\n",
    " total stock < 100 )."
   ]
  },
  {
   "cell_type": "code",
   "execution_count": 0,
   "metadata": {
    "application/vnd.databricks.v1+cell": {
     "cellMetadata": {
      "byteLimit": 2048000,
      "rowLimit": 10000
     },
     "inputWidgets": {},
     "nuid": "5894320b-33f3-458e-a33b-b7c9242b8132",
     "showTitle": false,
     "tableResultSettingsMap": {},
     "title": ""
    }
   },
   "outputs": [
    {
     "output_type": "stream",
     "name": "stdout",
     "output_type": "stream",
     "text": [
      "Stock counts:\n+----------+---------+\n| Warehouse|ItemCount|\n+----------+---------+\n|WarehouseA|        2|\n|WarehouseC|        1|\n|WarehouseB|        2|\n+----------+---------+\n\nAverage stock:\n+----------+-----------+--------+\n| Warehouse|   Category|AvgStock|\n+----------+-----------+--------+\n|WarehouseB|Electronics|     6.5|\n|WarehouseA|  Furniture|    40.0|\n|WarehouseC| Appliances|     5.0|\n|WarehouseA|Electronics|    50.0|\n+----------+-----------+--------+\n\nUnderutilized warehouses:\n+----------+---------+----------+\n| Warehouse|ItemCount|TotalStock|\n+----------+---------+----------+\n|WarehouseA|        2|        90|\n|WarehouseC|        1|         5|\n|WarehouseB|        2|        13|\n+----------+---------+----------+\n\n"
     ]
    }
   ],
   "source": [
    "#1.\n",
    "stock_counts=df.groupBy(\"Warehouse\").count().withColumnRenamed(\"count\", \"ItemCount\")\n",
    "print(\"Stock counts:\")\n",
    "stock_counts.show()\n",
    "#3.\n",
    "avg_stock=df.groupBy(\"Warehouse\",\"Category\").agg(avg(\"StockQty\").alias(\"AvgStock\"))\n",
    "print(\"Average stock:\")\n",
    "avg_stock.show()\n",
    "#3.\n",
    "underutilized=stock_counts.join(df.groupBy(\"Warehouse\").agg(expr(\"sum(StockQty)\").alias(\"TotalStock\")), \"Warehouse\") \\\n",
    "    .filter(col(\"TotalStock\") < 100)\n",
    "print(\"Underutilized warehouses:\")\n",
    "underutilized.show()"
   ]
  },
  {
   "cell_type": "markdown",
   "metadata": {
    "application/vnd.databricks.v1+cell": {
     "cellMetadata": {
      "byteLimit": 2048000,
      "rowLimit": 10000
     },
     "inputWidgets": {},
     "nuid": "06716512-fab5-44ce-bb70-aebb6653e22b",
     "showTitle": false,
     "tableResultSettingsMap": {},
     "title": ""
    }
   },
   "source": [
    "**Delta Audit Trail**"
   ]
  },
  {
   "cell_type": "markdown",
   "metadata": {
    "application/vnd.databricks.v1+cell": {
     "cellMetadata": {
      "byteLimit": 2048000,
      "rowLimit": 10000
     },
     "inputWidgets": {},
     "nuid": "d4ff0b98-2746-41d2-a262-d40f5ab5c696",
     "showTitle": false,
     "tableResultSettingsMap": {},
     "title": ""
    }
   },
   "source": [
    " Tasks:\n",
    "1. Save as Delta table \n",
    "retail_inventory .\n",
    " 2. Update stock of 'Laptop' to 20.\n",
    " 3. Delete any item with \n",
    "StockQty = 0 .\n",
    " 4. Run \n",
    "DESCRIBE HISTORY and query \n",
    "VERSION AS OF previous state."
   ]
  },
  {
   "cell_type": "code",
   "execution_count": 0,
   "metadata": {
    "application/vnd.databricks.v1+cell": {
     "cellMetadata": {
      "byteLimit": 2048000,
      "rowLimit": 10000
     },
     "inputWidgets": {},
     "nuid": "062f2fdf-6e2f-4ec2-9e19-42111c3b7396",
     "showTitle": false,
     "tableResultSettingsMap": {},
     "title": ""
    }
   },
   "outputs": [
    {
     "output_type": "stream",
     "name": "stdout",
     "output_type": "stream",
     "text": [
      "+-------+--------------------+----------------+--------------------+---------+--------------------+----+------------------+--------------------+-----------+-----------------+-------------+--------------------+------------+--------------------+\n|version|           timestamp|          userId|            userName|operation| operationParameters| job|          notebook|           clusterId|readVersion|   isolationLevel|isBlindAppend|    operationMetrics|userMetadata|          engineInfo|\n+-------+--------------------+----------------+--------------------+---------+--------------------+----+------------------+--------------------+-----------+-----------------+-------------+--------------------+------------+--------------------+\n|     19|2025-06-19 06:20:...|4833629471493945|azuser3545_mml.lo...| OPTIMIZE|{predicate -> [],...|NULL|{1093877947262588}|0611-043339-3vb7b9iv|         17|SnapshotIsolation|        false|{numRemovedFiles ...|        NULL|Databricks-Runtim...|\n|     18|2025-06-19 06:20:...|4833629471493945|azuser3545_mml.lo...|   DELETE|{predicate -> [\"(...|NULL|{1093877947262588}|0611-043339-3vb7b9iv|         17|WriteSerializable|        false|{numRemovedFiles ...|        NULL|Databricks-Runtim...|\n|     17|2025-06-19 06:20:...|4833629471493945|azuser3545_mml.lo...|   UPDATE|{predicate -> [\"(...|NULL|{1093877947262588}|0611-043339-3vb7b9iv|         16|WriteSerializable|        false|{numRemovedFiles ...|        NULL|Databricks-Runtim...|\n|     16|2025-06-19 06:20:...|4833629471493945|azuser3545_mml.lo...|    WRITE|{mode -> Overwrit...|NULL|{1093877947262588}|0611-043339-3vb7b9iv|         15|WriteSerializable|        false|{numFiles -> 1, n...|        NULL|Databricks-Runtim...|\n|     15|2025-06-19 06:20:...|4833629471493945|azuser3545_mml.lo...|    MERGE|{predicate -> [\"(...|NULL|{1093877947262588}|0611-043339-3vb7b9iv|         14|WriteSerializable|        false|{numTargetRowsCop...|        NULL|Databricks-Runtim...|\n|     14|2025-06-19 06:20:...|4833629471493945|azuser3545_mml.lo...| OPTIMIZE|{predicate -> [],...|NULL|{1093877947262588}|0611-043339-3vb7b9iv|         12|SnapshotIsolation|        false|{numRemovedFiles ...|        NULL|Databricks-Runtim...|\n|     13|2025-06-19 06:20:...|4833629471493945|azuser3545_mml.lo...|   DELETE|{predicate -> [\"(...|NULL|{1093877947262588}|0611-043339-3vb7b9iv|         12|WriteSerializable|        false|{numRemovedFiles ...|        NULL|Databricks-Runtim...|\n|     12|2025-06-19 06:20:...|4833629471493945|azuser3545_mml.lo...|   UPDATE|{predicate -> [\"(...|NULL|{1093877947262588}|0611-043339-3vb7b9iv|         11|WriteSerializable|        false|{numRemovedFiles ...|        NULL|Databricks-Runtim...|\n|     11|2025-06-19 06:20:...|4833629471493945|azuser3545_mml.lo...|    WRITE|{mode -> Overwrit...|NULL|{1093877947262588}|0611-043339-3vb7b9iv|         10|WriteSerializable|        false|{numFiles -> 1, n...|        NULL|Databricks-Runtim...|\n|     10|2025-06-19 06:20:...|4833629471493945|azuser3545_mml.lo...|    MERGE|{predicate -> [\"(...|NULL|{1093877947262588}|0611-043339-3vb7b9iv|          9|WriteSerializable|        false|{numTargetRowsCop...|        NULL|Databricks-Runtim...|\n|      9|2025-06-19 06:20:...|4833629471493945|azuser3545_mml.lo...|    MERGE|{predicate -> [\"(...|NULL|{1093877947262588}|0611-043339-3vb7b9iv|          8|WriteSerializable|        false|{numTargetRowsCop...|        NULL|Databricks-Runtim...|\n|      8|2025-06-19 06:20:...|4833629471493945|azuser3545_mml.lo...|    WRITE|{mode -> Overwrit...|NULL|{1093877947262588}|0611-043339-3vb7b9iv|          7|WriteSerializable|        false|{numFiles -> 1, n...|        NULL|Databricks-Runtim...|\n|      7|2025-06-19 06:20:...|4833629471493945|azuser3545_mml.lo...| OPTIMIZE|{predicate -> [],...|NULL|{1093877947262588}|0611-043339-3vb7b9iv|          5|SnapshotIsolation|        false|{numRemovedFiles ...|        NULL|Databricks-Runtim...|\n|      6|2025-06-19 06:20:...|4833629471493945|azuser3545_mml.lo...|   DELETE|{predicate -> [\"(...|NULL|{1093877947262588}|0611-043339-3vb7b9iv|          5|WriteSerializable|        false|{numRemovedFiles ...|        NULL|Databricks-Runtim...|\n|      5|2025-06-19 06:20:...|4833629471493945|azuser3545_mml.lo...|   UPDATE|{predicate -> [\"(...|NULL|{1093877947262588}|0611-043339-3vb7b9iv|          4|WriteSerializable|        false|{numRemovedFiles ...|        NULL|Databricks-Runtim...|\n|      4|2025-06-19 06:20:...|4833629471493945|azuser3545_mml.lo...|    WRITE|{mode -> Overwrit...|NULL|{1093877947262588}|0611-043339-3vb7b9iv|          3|WriteSerializable|        false|{numFiles -> 1, n...|        NULL|Databricks-Runtim...|\n|      3|2025-06-19 06:20:...|4833629471493945|azuser3545_mml.lo...| OPTIMIZE|{predicate -> [],...|NULL|{1093877947262588}|0611-043339-3vb7b9iv|          1|SnapshotIsolation|        false|{numRemovedFiles ...|        NULL|Databricks-Runtim...|\n|      2|2025-06-19 06:20:...|4833629471493945|azuser3545_mml.lo...|   DELETE|{predicate -> [\"(...|NULL|{1093877947262588}|0611-043339-3vb7b9iv|          1|WriteSerializable|        false|{numRemovedFiles ...|        NULL|Databricks-Runtim...|\n|      1|2025-06-19 06:20:...|4833629471493945|azuser3545_mml.lo...|   UPDATE|{predicate -> [\"(...|NULL|{1093877947262588}|0611-043339-3vb7b9iv|          0|WriteSerializable|        false|{numRemovedFiles ...|        NULL|Databricks-Runtim...|\n|      0|2025-06-19 06:20:...|4833629471493945|azuser3545_mml.lo...|    WRITE|{mode -> Overwrit...|NULL|{1093877947262588}|0611-043339-3vb7b9iv|       NULL|WriteSerializable|        false|{numFiles -> 1, n...|        NULL|Databricks-Runtim...|\n+-------+--------------------+----------------+--------------------+---------+--------------------+----+------------------+--------------------+-----------+-----------------+-------------+--------------------+------------+--------------------+\n\n+------+------------+-----------+----------+--------+------------+-------------+---------+---------+------------+---------------+\n|ItemID|    ItemName|   Category| Warehouse|StockQty|ReorderLevel|LastRestocked|UnitPrice| Supplier|NeedsReorder|TotalStockValue|\n+------+------------+-----------+----------+--------+------------+-------------+---------+---------+------------+---------------+\n|  I001|      LED TV|Electronics|WarehouseA|      50|          20|   2024-03-15|    30000|   AVTech|       false|        1500000|\n|  I002|      Laptop|Electronics|WarehouseB|      10|          15|   2024-04-01|    70000|TechWorld|        true|         700000|\n|  I003|Office Chair|  Furniture|WarehouseA|      40|          10|   2024-03-25|     6000|  ChairCo|       false|         240000|\n|  I004|Refrigerator| Appliances|WarehouseC|       5|          10|   2024-02-20|    25000| FreezeIt|        true|         125000|\n|  I005|     Printer|Electronics|WarehouseB|       3|           5|   2024-03-30|     8000|PrintFast|        true|          24000|\n+------+------------+-----------+----------+--------+------------+-------------+---------+---------+------------+---------------+\n\n"
     ]
    }
   ],
   "source": [
    "from delta.tables import DeltaTable\n",
    "#1.\n",
    "df.write.format(\"delta\").mode(\"overwrite\").save(\"file:/Workspace/Shared/retail_inventory\")\n",
    "delta = DeltaTable.forPath(spark, \"file:/Workspace/Shared/retail_inventory\")\n",
    "#2.\n",
    "delta.update(condition=\"ItemName='Laptop'\", set={\"StockQty\": \"20\"})\n",
    "#3.\n",
    "delta.delete(\"StockQty = 0\")\n",
    "#4.\n",
    "spark.sql(\"DESCRIBE HISTORY delta.`file:/Workspace/Shared/retail_inventory`\").show()\n",
    "spark.read.format(\"delta\").option(\"versionAsOf\", 0).load(\"file:/Workspace/Shared/retail_inventory\").show()"
   ]
  },
  {
   "cell_type": "markdown",
   "metadata": {
    "application/vnd.databricks.v1+cell": {
     "cellMetadata": {
      "byteLimit": 2048000,
      "rowLimit": 10000
     },
     "inputWidgets": {},
     "nuid": "acaee723-f231-447c-a9e0-e9b81b48d7ee",
     "showTitle": false,
     "tableResultSettingsMap": {},
     "title": ""
    }
   },
   "source": [
    "**Alerts from Restock Logs(join tasks)**"
   ]
  },
  {
   "cell_type": "markdown",
   "metadata": {
    "application/vnd.databricks.v1+cell": {
     "cellMetadata": {
      "byteLimit": 2048000,
      "rowLimit": 10000
     },
     "inputWidgets": {},
     "nuid": "e50fe26e-36e0-4065-aba0-390920dea5db",
     "showTitle": false,
     "tableResultSettingsMap": {},
     "title": ""
    }
   },
   "source": [
    " Tasks:\n",
    " 1. Join with inventory table to update StockQty.\n",
    " 2. Calculate new stock and flag \n",
    "RestockedRecently = true for updated items.\n",
    " 3. Use \n",
    "MERGE INTO to update in Delta."
   ]
  },
  {
   "cell_type": "code",
   "execution_count": 0,
   "metadata": {
    "application/vnd.databricks.v1+cell": {
     "cellMetadata": {
      "byteLimit": 2048000,
      "rowLimit": 10000
     },
     "inputWidgets": {},
     "nuid": "5727287d-503b-4c98-9c44-65e97aaf2a56",
     "showTitle": false,
     "tableResultSettingsMap": {},
     "title": ""
    }
   },
   "outputs": [],
   "source": [
    "from delta.tables import DeltaTable\n",
    "#1.\n",
    "logs = spark.read.option(\"header\", True).csv(\"file:/Workspace/Shared/restock_logs.csv\") \\\n",
    "    .withColumnRenamed(\"QuantityAdded \", \"QuantityAdded\") \\\n",
    "    .withColumn(\"RestockDate\", to_date(\"RestockDate\", \"yyyy-MM-dd\"))\n",
    "#Load inventory Delta table\n",
    "df = spark.read.format(\"delta\").load(\"file:/Workspace/Shared/retail_inventory\")\n",
    "#add the missing column to Delta\n",
    "if 'RestockedRecently' not in df.columns:\n",
    "    df = df.withColumn(\"RestockedRecently\", col(\"StockQty\") * 0 == 1)  \n",
    "    df.write.format(\"delta\").mode(\"overwrite\").option(\"overwriteSchema\", \"true\").save(\"file:/Workspace/Shared/retail_inventory\")\n",
    "#reload of delta data\n",
    "delta = DeltaTable.forPath(spark, \"file:/Workspace/Shared/retail_inventory\")\n",
    "#2\n",
    "updated = df.alias(\"i\").join(logs.alias(\"r\"), \"ItemID\", \"left\") \\\n",
    "    .withColumn(\"NewStockQty\", col(\"StockQty\") + col(\"QuantityAdded\")) \\\n",
    "    .withColumn(\"RestockedRecently\", col(\"QuantityAdded\").isNotNull())\n",
    "#3\n",
    "delta.alias(\"t\").merge(\n",
    "    updated.select(\"ItemID\", \"NewStockQty\", \"RestockedRecently\").alias(\"s\"),\n",
    "    \"t.ItemID = s.ItemID\"\n",
    ").whenMatchedUpdate(set={\n",
    "    \"StockQty\": \"s.NewStockQty\",\n",
    "    \"RestockedRecently\": \"s.RestockedRecently\"\n",
    "}).execute()"
   ]
  },
  {
   "cell_type": "markdown",
   "metadata": {
    "application/vnd.databricks.v1+cell": {
     "cellMetadata": {
      "byteLimit": 2048000,
      "rowLimit": 10000
     },
     "inputWidgets": {},
     "nuid": "d921bd17-9ad8-4328-940d-c852fb8a0eaf",
     "showTitle": false,
     "tableResultSettingsMap": {},
     "title": ""
    }
   },
   "source": [
    "**Report Generation with SQL Views**"
   ]
  },
  {
   "cell_type": "markdown",
   "metadata": {
    "application/vnd.databricks.v1+cell": {
     "cellMetadata": {
      "byteLimit": 2048000,
      "rowLimit": 10000
     },
     "inputWidgets": {},
     "nuid": "cadaeb54-feb2-4b53-a205-513a46bd31ea",
     "showTitle": false,
     "tableResultSettingsMap": {},
     "title": ""
    }
   },
   "source": [
    " Tasks:\n",
    " 1. Create SQL view \n",
    "inventory_summary with:\n",
    " ItemName, Category, StockQty, NeedsReorder, TotalStockValue\n",
    " 2. Create view \n",
    "supplier_leaderboard sorted by average price"
   ]
  },
  {
   "cell_type": "code",
   "execution_count": 0,
   "metadata": {
    "application/vnd.databricks.v1+cell": {
     "cellMetadata": {
      "byteLimit": 2048000,
      "rowLimit": 10000
     },
     "inputWidgets": {},
     "nuid": "95e8b626-c906-41ff-b169-31ce39c3073b",
     "showTitle": false,
     "tableResultSettingsMap": {},
     "title": ""
    }
   },
   "outputs": [
    {
     "output_type": "execute_result",
     "data": {
      "text/plain": [
       "DataFrame[]"
      ]
     },
     "execution_count": 58,
     "metadata": {},
     "output_type": "execute_result"
    }
   ],
   "source": [
    "#1.\n",
    "spark.sql(\"\"\"\n",
    "CREATE OR REPLACE TEMP VIEW inventory_summary AS\n",
    "SELECT ItemName, Category, StockQty, NeedsReorder, StockQty*UnitPrice AS TotalStockValue\n",
    "FROM delta.`file:/Workspace/Shared/retail_inventory`\n",
    "\"\"\")\n",
    "#2.\n",
    "spark.sql(\"\"\"\n",
    "CREATE OR REPLACE TEMP VIEW supplier_leaderboard AS\n",
    "SELECT Supplier, AVG(UnitPrice) AS AvgPrice\n",
    "FROM delta.`file:/Workspace/Shared/retail_inventory`\n",
    "GROUP BY Supplier\n",
    "ORDER BY AvgPrice\n",
    "\"\"\")\n"
   ]
  },
  {
   "cell_type": "markdown",
   "metadata": {
    "application/vnd.databricks.v1+cell": {
     "cellMetadata": {
      "byteLimit": 2048000,
      "rowLimit": 10000
     },
     "inputWidgets": {},
     "nuid": "371a6ecc-1ccd-4a7d-870e-94073897d718",
     "showTitle": false,
     "tableResultSettingsMap": {},
     "title": ""
    }
   },
   "source": [
    "**Advanced Filtering**"
   ]
  },
  {
   "cell_type": "markdown",
   "metadata": {
    "application/vnd.databricks.v1+cell": {
     "cellMetadata": {
      "byteLimit": 2048000,
      "rowLimit": 10000
     },
     "inputWidgets": {},
     "nuid": "fef7655d-4e18-454c-9576-168f9462e5e6",
     "showTitle": false,
     "tableResultSettingsMap": {},
     "title": ""
    }
   },
   "source": [
    " Tasks:\n",
    " 1. Use \n",
    "when /\n",
    " otherwise to categorize items:\n",
    " \"Overstocked\" (>2x ReorderLevel)\n",
    " \"LowStock\"\n",
    " 2. Use \n",
    ".filter() and \n",
    ".where() for the same and compare."
   ]
  },
  {
   "cell_type": "code",
   "execution_count": 0,
   "metadata": {
    "application/vnd.databricks.v1+cell": {
     "cellMetadata": {
      "byteLimit": 2048000,
      "rowLimit": 10000
     },
     "inputWidgets": {},
     "nuid": "4d55c019-e0e6-48cf-815b-ccbd82ead087",
     "showTitle": false,
     "tableResultSettingsMap": {},
     "title": ""
    }
   },
   "outputs": [
    {
     "output_type": "stream",
     "name": "stdout",
     "output_type": "stream",
     "text": [
      "+--------+--------+--------+------------+---------------+-------------+------------+-----------+\n|ItemName|Category|StockQty|ReorderLevel|TotalStockValue|LastRestocked|NeedsReorder|StockStatus|\n+--------+--------+--------+------------+---------------+-------------+------------+-----------+\n+--------+--------+--------+------------+---------------+-------------+------------+-----------+\n\n+--------+--------+--------+------------+---------------+-------------+------------+-----------+\n|ItemName|Category|StockQty|ReorderLevel|TotalStockValue|LastRestocked|NeedsReorder|StockStatus|\n+--------+--------+--------+------------+---------------+-------------+------------+-----------+\n+--------+--------+--------+------------+---------------+-------------+------------+-----------+\n\n"
     ]
    }
   ],
   "source": [
    "df=df.select(\n",
    "    \"ItemName\", \"Category\", \"StockQty\", \"ReorderLevel\", \"TotalStockValue\",\"LastRestocked\"\n",
    ").withColumn(\n",
    "    \"NeedsReorder\", col(\"StockQty\") < col(\"ReorderLevel\")\n",
    ")\n",
    "df.createOrReplaceTempView(\"inventory_summary\")\n",
    "#1.\n",
    "df = spark.table(\"inventory_summary\").withColumn(\"StockStatus\",\n",
    "    when(col(\"StockQty\") > 2 * col(\"ReorderLevel\"), \"Overstocked\")\n",
    "    .when(col(\"StockQty\") < col(\"ReorderLevel\"), \"LowStock\")\n",
    "    .otherwise(\"OK\")\n",
    ")\n",
    "#2.\n",
    "df.filter(col(\"StockQty\") < col(\"ReorderLevel\")).show()\n",
    "df.where(\"StockQty < ReorderLevel\").show()"
   ]
  },
  {
   "cell_type": "markdown",
   "metadata": {
    "application/vnd.databricks.v1+cell": {
     "cellMetadata": {
      "byteLimit": 2048000,
      "rowLimit": 10000
     },
     "inputWidgets": {},
     "nuid": "4dbb6c75-d31a-40df-967d-15af592d24e6",
     "showTitle": false,
     "tableResultSettingsMap": {},
     "title": ""
    }
   },
   "source": [
    "**Feature Engineering**"
   ]
  },
  {
   "cell_type": "markdown",
   "metadata": {
    "application/vnd.databricks.v1+cell": {
     "cellMetadata": {
      "byteLimit": 2048000,
      "rowLimit": 10000
     },
     "inputWidgets": {},
     "nuid": "9d651b9f-657f-4a5e-8937-52acf42c6cf4",
     "showTitle": false,
     "tableResultSettingsMap": {},
     "title": ""
    }
   },
   "source": [
    " Tasks:\n",
    " 1. Extract \n",
    "RestockMonth from \n",
    "LastRestocked .\n",
    " 2. Create feature: \n",
    "StockAge = CURRENT_DATE - LastRestocked\n",
    " 3. Bucket StockAge into: New, Moderate, Stale"
   ]
  },
  {
   "cell_type": "code",
   "execution_count": 0,
   "metadata": {
    "application/vnd.databricks.v1+cell": {
     "cellMetadata": {
      "byteLimit": 2048000,
      "rowLimit": 10000
     },
     "inputWidgets": {},
     "nuid": "cf377570-99c0-47dd-9736-8b3ccb106b0e",
     "showTitle": false,
     "tableResultSettingsMap": {},
     "title": ""
    }
   },
   "outputs": [
    {
     "output_type": "stream",
     "name": "stdout",
     "output_type": "stream",
     "text": [
      "+------------+------------+--------+--------------+\n|    ItemName|RestockMonth|StockAge|StockAgeBucket|\n+------------+------------+--------+--------------+\n|      Laptop|           4|     444|         Stale|\n|      LED TV|           3|     461|         Stale|\n|Office Chair|           3|     451|         Stale|\n|Refrigerator|           2|     485|         Stale|\n|     Printer|           3|     446|         Stale|\n+------------+------------+--------+--------------+\n\n"
     ]
    }
   ],
   "source": [
    "df = spark.table(\"inventory_summary\")\n",
    "df = df.withColumn(\"RestockMonth\", month(\"LastRestocked\")) \\\n",
    "       .withColumn(\"StockAge\", datediff(current_date(), col(\"LastRestocked\"))) \\\n",
    "       .withColumn(\"StockAgeBucket\",\n",
    "           when(col(\"StockAge\") < 30, \"New\")\n",
    "           .when(col(\"StockAge\") < 90, \"Moderate\")\n",
    "           .otherwise(\"Stale\"))\n",
    "df.select(\"ItemName\", \"RestockMonth\", \"StockAge\", \"StockAgeBucket\").show()"
   ]
  },
  {
   "cell_type": "markdown",
   "metadata": {
    "application/vnd.databricks.v1+cell": {
     "cellMetadata": {},
     "inputWidgets": {},
     "nuid": "a3be0874-f3b6-403c-8304-fde2dc13e639",
     "showTitle": false,
     "tableResultSettingsMap": {},
     "title": ""
    }
   },
   "source": [
    "**Export Options**"
   ]
  },
  {
   "cell_type": "markdown",
   "metadata": {
    "application/vnd.databricks.v1+cell": {
     "cellMetadata": {},
     "inputWidgets": {},
     "nuid": "e102eace-6572-4157-ad7d-98b6da59ffef",
     "showTitle": false,
     "tableResultSettingsMap": {},
     "title": ""
    }
   },
   "source": [
    " Tasks:\n",
    " 1. Write full DataFrame to:\n",
    "CSV for analysts\n",
    " JSON for integration\n",
    " Delta for pipelines\n",
    " 2. Save with meaningful file and partition names like\n",
    " /export/inventory/stale_items"
   ]
  },
  {
   "cell_type": "code",
   "execution_count": 0,
   "metadata": {
    "application/vnd.databricks.v1+cell": {
     "cellMetadata": {
      "byteLimit": 2048000,
      "rowLimit": 10000
     },
     "inputWidgets": {},
     "nuid": "d327e788-a61f-4610-9097-e4c3c3236f70",
     "showTitle": false,
     "tableResultSettingsMap": {},
     "title": ""
    }
   },
   "outputs": [],
   "source": [
    "df.write.mode(\"overwrite\").option(\"header\",True) \\\n",
    "   .csv(\"file:/Workspace/Shared/export/inventory/all_items_csv\")\n",
    "df.write.mode(\"overwrite\").json(\"file:/Workspace/Shared/export/inventory/all_items_json\")\n",
    "df.write.mode(\"overwrite\").format(\"delta\") \\\n",
    "   .save(\"file:/Workspace/Shared/export/inventory/all_items_delta\")"
   ]
  },
  {
   "cell_type": "code",
   "execution_count": 0,
   "metadata": {
    "application/vnd.databricks.v1+cell": {
     "cellMetadata": {},
     "inputWidgets": {},
     "nuid": "a8d2fffb-6159-4f47-9eb1-0e4d534a49e0",
     "showTitle": false,
     "tableResultSettingsMap": {},
     "title": ""
    }
   },
   "outputs": [],
   "source": []
  }
 ],
 "metadata": {
  "application/vnd.databricks.v1+notebook": {
   "computePreferences": null,
   "dashboards": [],
   "environmentMetadata": {
    "base_environment": "",
    "environment_version": "2"
   },
   "inputWidgetPreferences": null,
   "language": "python",
   "notebookMetadata": {
    "pythonIndentUnit": 4
   },
   "notebookName": "june-19(set-3)",
   "widgets": {}
  },
  "language_info": {
   "name": "python"
  }
 },
 "nbformat": 4,
 "nbformat_minor": 0
}