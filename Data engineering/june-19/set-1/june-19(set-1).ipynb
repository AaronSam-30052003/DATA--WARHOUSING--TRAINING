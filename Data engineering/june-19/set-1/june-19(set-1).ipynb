{
 "cells": [
  {
   "cell_type": "markdown",
   "metadata": {
    "application/vnd.databricks.v1+cell": {
     "cellMetadata": {
      "byteLimit": 2048000,
      "rowLimit": 10000
     },
     "inputWidgets": {},
     "nuid": "e1c77e83-cdde-48ce-bfb4-1047b7295bbf",
     "showTitle": false,
     "tableResultSettingsMap": {},
     "title": ""
    }
   },
   "source": [
    "**Intialize the SparkSession**"
   ]
  },
  {
   "cell_type": "code",
   "execution_count": 0,
   "metadata": {
    "application/vnd.databricks.v1+cell": {
     "cellMetadata": {
      "byteLimit": 2048000,
      "rowLimit": 10000
     },
     "inputWidgets": {},
     "nuid": "01ca2338-38fc-46a5-94fd-cc42949d939f",
     "showTitle": false,
     "tableResultSettingsMap": {},
     "title": ""
    }
   },
   "outputs": [
    {
     "data": {
      "text/html": [
       "\n",
       "            <div>\n",
       "                <p><b>SparkSession - hive</b></p>\n",
       "                \n",
       "        <div>\n",
       "            <p><b>SparkContext</b></p>\n",
       "\n",
       "            <p><a href=\"/?o=3525126442407722#setting/sparkui/0611-043339-3vb7b9iv/driver-9097877764254449765\">Spark UI</a></p>\n",
       "\n",
       "            <dl>\n",
       "              <dt>Version</dt>\n",
       "                <dd><code>v3.5.0</code></dd>\n",
       "              <dt>Master</dt>\n",
       "                <dd><code>local[*, 4]</code></dd>\n",
       "              <dt>AppName</dt>\n",
       "                <dd><code>Databricks Shell</code></dd>\n",
       "            </dl>\n",
       "        </div>\n",
       "        \n",
       "            </div>\n",
       "        "
      ],
      "text/plain": [
       "<pyspark.sql.session.SparkSession at 0x751fdd1c1550>"
      ]
     },
     "execution_count": 33,
     "metadata": {},
     "output_type": "execute_result"
    }
   ],
   "source": [
    "from pyspark.sql import SparkSession\n",
    "spark=SparkSession.builder\\\n",
    "      .appName(\"Traffic-log analysis\")\\\n",
    "      .getOrCreate()\n",
    "spark"
   ]
  },
  {
   "cell_type": "markdown",
   "metadata": {
    "application/vnd.databricks.v1+cell": {
     "cellMetadata": {
      "byteLimit": 2048000,
      "rowLimit": 10000
     },
     "inputWidgets": {},
     "nuid": "02e928a3-1447-4fc9-ac6a-d4b0076e7693",
     "showTitle": false,
     "tableResultSettingsMap": {},
     "title": ""
    }
   },
   "source": [
    "**Data Ingestion & Schema Analysis**"
   ]
  },
  {
   "cell_type": "code",
   "execution_count": 0,
   "metadata": {
    "application/vnd.databricks.v1+cell": {
     "cellMetadata": {
      "byteLimit": 2048000,
      "rowLimit": 10000
     },
     "inputWidgets": {},
     "nuid": "659b4bfd-287b-4651-8594-08a0b0f612c1",
     "showTitle": false,
     "tableResultSettingsMap": {},
     "title": ""
    }
   },
   "outputs": [
    {
     "name": "stdout",
     "output_type": "stream",
     "text": [
      "root\n",
      " |-- LogID: string (nullable = true)\n",
      " |-- VehicleID: string (nullable = true)\n",
      " |-- EntryPoint: string (nullable = true)\n",
      " |-- ExitPoint: string (nullable = true)\n",
      " |-- EntryTime: timestamp (nullable = true)\n",
      " |-- ExitTime: timestamp (nullable = true)\n",
      " |-- VehicleType: string (nullable = true)\n",
      " |-- SpeedKMH: integer (nullable = true)\n",
      " |-- TollPaid : double (nullable = true)\n",
      "\n",
      "+-----+---------+----------+---------+-------------------+-------------------+-----------+--------+---------+\n",
      "|LogID|VehicleID|EntryPoint|ExitPoint|          EntryTime|           ExitTime|VehicleType|SpeedKMH|TollPaid |\n",
      "+-----+---------+----------+---------+-------------------+-------------------+-----------+--------+---------+\n",
      "| L001|     V001|     GateA|    GateC|2024-05-01 08:01:00|2024-05-01 08:20:00|        Car|      60|     50.0|\n",
      "| L002|     V002|     GateB|    GateC|2024-05-01 08:10:00|2024-05-01 08:45:00|      Truck|      45|    100.0|\n",
      "| L003|     V003|     GateA|    GateD|2024-05-01 09:00:00|2024-05-01 09:18:00|       Bike|      55|     30.0|\n",
      "| L004|     V004|     GateC|    GateD|2024-05-01 09:15:00|2024-05-01 09:35:00|        Car|      80|     50.0|\n",
      "| L005|     V005|     GateB|    GateA|2024-05-01 10:05:00|2024-05-01 10:40:00|        Bus|      40|     70.0|\n",
      "+-----+---------+----------+---------+-------------------+-------------------+-----------+--------+---------+\n",
      "\n",
      "root\n",
      " |-- LogID: string (nullable = true)\n",
      " |-- VehicleID: string (nullable = true)\n",
      " |-- EntryPoint: string (nullable = true)\n",
      " |-- ExitPoint: string (nullable = true)\n",
      " |-- EntryTime: timestamp (nullable = true)\n",
      " |-- ExitTime: timestamp (nullable = true)\n",
      " |-- VehicleType: string (nullable = true)\n",
      " |-- SpeedKMH: double (nullable = true)\n",
      " |-- TollPaid: double (nullable = true)\n",
      "\n",
      "+-----+---------+----------+---------+-------------------+-------------------+-----------+--------+--------+\n",
      "|LogID|VehicleID|EntryPoint|ExitPoint|          EntryTime|           ExitTime|VehicleType|SpeedKMH|TollPaid|\n",
      "+-----+---------+----------+---------+-------------------+-------------------+-----------+--------+--------+\n",
      "| L001|     V001|     GateA|    GateC|2024-05-01 08:01:00|2024-05-01 08:20:00|        Car|    60.0|    50.0|\n",
      "| L002|     V002|     GateB|    GateC|2024-05-01 08:10:00|2024-05-01 08:45:00|      Truck|    45.0|   100.0|\n",
      "| L003|     V003|     GateA|    GateD|2024-05-01 09:00:00|2024-05-01 09:18:00|       Bike|    55.0|    30.0|\n",
      "| L004|     V004|     GateC|    GateD|2024-05-01 09:15:00|2024-05-01 09:35:00|        Car|    80.0|    50.0|\n",
      "| L005|     V005|     GateB|    GateA|2024-05-01 10:05:00|2024-05-01 10:40:00|        Bus|    40.0|    70.0|\n",
      "+-----+---------+----------+---------+-------------------+-------------------+-----------+--------+--------+\n",
      "\n"
     ]
    }
   ],
   "source": [
    "#Load CSV using PySpark with schema inference\n",
    "a= spark.read.option(\"header\", True).option(\"inferSchema\", True).csv(\"file:/Workspace/Shared/traffic_logs.csv\")\n",
    "a.printSchema()\n",
    "a.show()\n",
    "#Manually define schema and compare\n",
    "from pyspark.sql.types import StructType, StructField, StringType, TimestampType, DoubleType\n",
    "schema = StructType([\n",
    "    StructField(\"LogID\", StringType(), True),\n",
    "    StructField(\"VehicleID\", StringType(), True),\n",
    "    StructField(\"EntryPoint\", StringType(), True),\n",
    "    StructField(\"ExitPoint\", StringType(), True),\n",
    "    StructField(\"EntryTime\", TimestampType(), True),\n",
    "    StructField(\"ExitTime\", TimestampType(), True),\n",
    "    StructField(\"VehicleType\", StringType(), True),\n",
    "    StructField(\"SpeedKMH\", DoubleType(), True),\n",
    "    StructField(\"TollPaid\", DoubleType(), True),\n",
    "])\n",
    "df=spark.read.option(\"header\", True).schema(schema).csv(\"file:/Workspace/Shared/traffic_logs.csv\")\n",
    "df.printSchema()\n",
    "df.show()"
   ]
  },
  {
   "cell_type": "markdown",
   "metadata": {
    "application/vnd.databricks.v1+cell": {
     "cellMetadata": {},
     "inputWidgets": {},
     "nuid": "ec45f16b-e10a-4cdd-9e77-cd453c46fd86",
     "showTitle": false,
     "tableResultSettingsMap": {},
     "title": ""
    }
   },
   "source": [
    "**Derived Column Creation**"
   ]
  },
  {
   "cell_type": "code",
   "execution_count": 0,
   "metadata": {
    "application/vnd.databricks.v1+cell": {
     "cellMetadata": {
      "byteLimit": 2048000,
      "rowLimit": 10000
     },
     "inputWidgets": {},
     "nuid": "ab443f2e-a147-4a90-877c-924b1b535732",
     "showTitle": false,
     "tableResultSettingsMap": {},
     "title": ""
    }
   },
   "outputs": [
    {
     "name": "stdout",
     "output_type": "stream",
     "text": [
      "+-------------------+-------------------+-------------------+-----------+\n",
      "|          EntryTime|           ExitTime|TripDurationMinutes|IsOverspeed|\n",
      "+-------------------+-------------------+-------------------+-----------+\n",
      "|2024-05-01 08:01:00|2024-05-01 08:20:00|               19.0|      false|\n",
      "|2024-05-01 08:10:00|2024-05-01 08:45:00|               35.0|      false|\n",
      "|2024-05-01 09:00:00|2024-05-01 09:18:00|               18.0|      false|\n",
      "|2024-05-01 09:15:00|2024-05-01 09:35:00|               20.0|       true|\n",
      "|2024-05-01 10:05:00|2024-05-01 10:40:00|               35.0|      false|\n",
      "+-------------------+-------------------+-------------------+-----------+\n",
      "\n"
     ]
    }
   ],
   "source": [
    "#Calculate TripDurationMinutes = ExitTime - EntryTime\n",
    "#Add IsOverspeed = SpeedKMH > 60\n",
    "from pyspark.sql.functions import col\n",
    "df = df.withColumn(\n",
    "    \"TripDurationMinutes\",\n",
    "    (col(\"ExitTime\").cast(\"long\") - col(\"EntryTime\").cast(\"long\")) / 60\n",
    ").withColumn(\n",
    "    \"IsOverspeed\",\n",
    "    col(\"SpeedKMH\") > 60\n",
    ")\n",
    "df.select(\"EntryTime\",\"ExitTime\",\"TripDurationMinutes\", \"IsOverspeed\").show()"
   ]
  },
  {
   "cell_type": "markdown",
   "metadata": {
    "application/vnd.databricks.v1+cell": {
     "cellMetadata": {},
     "inputWidgets": {},
     "nuid": "68c122f0-59c9-45cc-b946-2c008eaa6d4f",
     "showTitle": false,
     "tableResultSettingsMap": {},
     "title": ""
    }
   },
   "source": [
    "**Vehicle Behavior Aggregations**"
   ]
  },
  {
   "cell_type": "code",
   "execution_count": 0,
   "metadata": {
    "application/vnd.databricks.v1+cell": {
     "cellMetadata": {
      "byteLimit": 2048000,
      "rowLimit": 10000
     },
     "inputWidgets": {},
     "nuid": "16c00d63-d764-494f-97e1-785a7f9f05ca",
     "showTitle": false,
     "tableResultSettingsMap": {},
     "title": ""
    }
   },
   "outputs": [
    {
     "name": "stdout",
     "output_type": "stream",
     "text": [
      "Average speed per VehicleType\n",
      "+-----------+--------+\n",
      "|VehicleType|AvgSpeed|\n",
      "+-----------+--------+\n",
      "|       Bike|    55.0|\n",
      "|        Car|    70.0|\n",
      "|      Truck|    45.0|\n",
      "|        Bus|    40.0|\n",
      "+-----------+--------+\n",
      "\n",
      "Total toll collected per gate (EntryPoint)\n",
      "+----------+---------+\n",
      "|EntryPoint|TotalToll|\n",
      "+----------+---------+\n",
      "|     GateA|     80.0|\n",
      "|     GateB|    170.0|\n",
      "|     GateC|     50.0|\n",
      "+----------+---------+\n",
      "\n",
      "Most used ExitPoint\n",
      "+---------+-----+\n",
      "|ExitPoint|count|\n",
      "+---------+-----+\n",
      "|    GateD|    2|\n",
      "+---------+-----+\n",
      "only showing top 1 row\n",
      "\n"
     ]
    }
   ],
   "source": [
    "#Average speed per VehicleType\n",
    "from pyspark.sql.functions import *\n",
    "print(\"Average speed per VehicleType\")\n",
    "df.groupBy(\"VehicleType\").agg(avg(\"SpeedKMH\").alias(\"AvgSpeed\")).show()\n",
    "#Total toll collected per gate (EntryPoint)\n",
    "print(\"Total toll collected per gate (EntryPoint)\")\n",
    "df.groupBy(\"EntryPoint\").agg(sum(\"TollPaid\").alias(\"TotalToll\")).show()\n",
    "#Most used ExitPoint\n",
    "print(\"Most used ExitPoint\")\n",
    "df.groupBy(\"ExitPoint\").count().orderBy(desc(\"count\")).show(1)"
   ]
  },
  {
   "cell_type": "markdown",
   "metadata": {
    "application/vnd.databricks.v1+cell": {
     "cellMetadata": {},
     "inputWidgets": {},
     "nuid": "627a08f1-5324-4e65-b3f3-56f03150d1a0",
     "showTitle": false,
     "tableResultSettingsMap": {},
     "title": ""
    }
   },
   "source": [
    "**Window Functions**"
   ]
  },
  {
   "cell_type": "code",
   "execution_count": 0,
   "metadata": {
    "application/vnd.databricks.v1+cell": {
     "cellMetadata": {
      "byteLimit": 2048000,
      "rowLimit": 10000
     },
     "inputWidgets": {},
     "nuid": "276c25d5-29d8-4985-97d1-550ded5a1523",
     "showTitle": false,
     "tableResultSettingsMap": {},
     "title": ""
    }
   },
   "outputs": [
    {
     "name": "stdout",
     "output_type": "stream",
     "text": [
      "Rank vehicles by speed within VehicleType\n",
      "+---------+-----------+--------+---------+\n",
      "|VehicleID|VehicleType|SpeedKMH|SpeedRank|\n",
      "+---------+-----------+--------+---------+\n",
      "|     V003|       Bike|    55.0|        1|\n",
      "|     V005|        Bus|    40.0|        1|\n",
      "|     V004|        Car|    80.0|        1|\n",
      "|     V001|        Car|    60.0|        2|\n",
      "|     V002|      Truck|    45.0|        1|\n",
      "+---------+-----------+--------+---------+\n",
      "\n",
      "Last exit time for each vehicle\n",
      "+---------+-------------------+------------+\n",
      "|VehicleID|           ExitTime|LastExitTime|\n",
      "+---------+-------------------+------------+\n",
      "|     V001|2024-05-01 08:20:00|        NULL|\n",
      "|     V002|2024-05-01 08:45:00|        NULL|\n",
      "|     V003|2024-05-01 09:18:00|        NULL|\n",
      "|     V004|2024-05-01 09:35:00|        NULL|\n",
      "|     V005|2024-05-01 10:40:00|        NULL|\n",
      "+---------+-------------------+------------+\n",
      "\n"
     ]
    }
   ],
   "source": [
    "#Rank vehicles by speed within VehicleType\n",
    "from pyspark.sql.window import Window\n",
    "from pyspark.sql.functions import rank, lag\n",
    "print(\"Rank vehicles by speed within VehicleType\")\n",
    "w=Window.partitionBy(\"VehicleType\").orderBy(col(\"SpeedKMH\").desc())\n",
    "df=df.withColumn(\"SpeedRank\", rank().over(w))\n",
    "df.select(\"VehicleID\",\"VehicleType\",\"SpeedKMH\",\"SpeedRank\").show()\n",
    "#Find last exit time for each vehicle using lag()\n",
    "print(\"Last exit time for each vehicle\")\n",
    "w2=Window.partitionBy(\"VehicleID\").orderBy(\"ExitTime\")\n",
    "df=df.withColumn(\"LastExitTime\", lag(\"ExitTime\").over(w2))\n",
    "df.select(\"VehicleID\",\"ExitTime\",\"LastExitTime\").show()"
   ]
  },
  {
   "cell_type": "markdown",
   "metadata": {
    "application/vnd.databricks.v1+cell": {
     "cellMetadata": {},
     "inputWidgets": {},
     "nuid": "2482bde2-96b9-4031-ac1f-e3f2374e4cee",
     "showTitle": false,
     "tableResultSettingsMap": {},
     "title": ""
    }
   },
   "source": [
    "**Session Segmentation**"
   ]
  },
  {
   "cell_type": "code",
   "execution_count": 0,
   "metadata": {
    "application/vnd.databricks.v1+cell": {
     "cellMetadata": {
      "byteLimit": 2048000,
      "rowLimit": 10000
     },
     "inputWidgets": {},
     "nuid": "c0fe6e0f-2c47-4881-a431-a59687938d11",
     "showTitle": false,
     "tableResultSettingsMap": {},
     "title": ""
    }
   },
   "outputs": [
    {
     "name": "stdout",
     "output_type": "stream",
     "text": [
      "+-----+---------+----------+---------+-------------------+-------------------+-----------+--------+--------+-------------------+-----------+---------+------------+---------------+\n",
      "|LogID|VehicleID|EntryPoint|ExitPoint|          EntryTime|           ExitTime|VehicleType|SpeedKMH|TollPaid|TripDurationMinutes|IsOverspeed|SpeedRank|LastExitTime|IdleTimeMinutes|\n",
      "+-----+---------+----------+---------+-------------------+-------------------+-----------+--------+--------+-------------------+-----------+---------+------------+---------------+\n",
      "| L001|     V001|     GateA|    GateC|2024-05-01 08:01:00|2024-05-01 08:20:00|        Car|    60.0|    50.0|               19.0|      false|        2|        NULL|           NULL|\n",
      "| L002|     V002|     GateB|    GateC|2024-05-01 08:10:00|2024-05-01 08:45:00|      Truck|    45.0|   100.0|               35.0|      false|        1|        NULL|           NULL|\n",
      "| L003|     V003|     GateA|    GateD|2024-05-01 09:00:00|2024-05-01 09:18:00|       Bike|    55.0|    30.0|               18.0|      false|        1|        NULL|           NULL|\n",
      "| L004|     V004|     GateC|    GateD|2024-05-01 09:15:00|2024-05-01 09:35:00|        Car|    80.0|    50.0|               20.0|       true|        1|        NULL|           NULL|\n",
      "| L005|     V005|     GateB|    GateA|2024-05-01 10:05:00|2024-05-01 10:40:00|        Bus|    40.0|    70.0|               35.0|      false|        1|        NULL|           NULL|\n",
      "+-----+---------+----------+---------+-------------------+-------------------+-----------+--------+--------+-------------------+-----------+---------+------------+---------------+\n",
      "\n"
     ]
    }
   ],
   "source": [
    " #Group by VehicleID to simulate route sessions\n",
    " #Find duration between subsequent trips (idle time)\n",
    " df = df.withColumn(\n",
    "    \"IdleTimeMinutes\",\n",
    "    (col(\"EntryTime\").cast(\"long\") - col(\"LastExitTime\").cast(\"long\")) / 60\n",
    ")\n",
    "df.show()"
   ]
  },
  {
   "cell_type": "markdown",
   "metadata": {
    "application/vnd.databricks.v1+cell": {
     "cellMetadata": {},
     "inputWidgets": {},
     "nuid": "c6be150a-b649-414c-b87b-208d481aeb75",
     "showTitle": false,
     "tableResultSettingsMap": {},
     "title": ""
    }
   },
   "source": [
    "**Anomaly Detection**"
   ]
  },
  {
   "cell_type": "code",
   "execution_count": 0,
   "metadata": {
    "application/vnd.databricks.v1+cell": {
     "cellMetadata": {
      "byteLimit": 2048000,
      "rowLimit": 10000
     },
     "inputWidgets": {},
     "nuid": "1e66a50a-4b81-4957-af18-5ad35f954867",
     "showTitle": false,
     "tableResultSettingsMap": {},
     "title": ""
    }
   },
   "outputs": [
    {
     "name": "stdout",
     "output_type": "stream",
     "text": [
      "['LogID', 'VehicleID', 'EntryPoint', 'ExitPoint', 'EntryTime', 'ExitTime', 'VehicleType', 'SpeedKMH', 'TollPaid', 'TripDurationMinutes', 'IsOverspeed', 'SpeedRank', 'LastExitTime', 'IdleTimeMinutes']\n"
     ]
    }
   ],
   "source": [
    "print(df.columns)"
   ]
  },
  {
   "cell_type": "code",
   "execution_count": 0,
   "metadata": {
    "application/vnd.databricks.v1+cell": {
     "cellMetadata": {
      "byteLimit": 2048000,
      "rowLimit": 10000
     },
     "inputWidgets": {},
     "nuid": "9b3c6991-8141-45e8-9e98-3f21f0961ce1",
     "showTitle": false,
     "tableResultSettingsMap": {},
     "title": ""
    }
   },
   "outputs": [
    {
     "name": "stdout",
     "output_type": "stream",
     "text": [
      "Vehicles with speed > 70 and TripDuration < 10 minutes\n",
      "+---------+--------+-------------------+\n",
      "|VehicleID|SpeedKMH|TripDurationMinutes|\n",
      "+---------+--------+-------------------+\n",
      "+---------+--------+-------------------+\n",
      "\n",
      "Vehicles that paid less toll for longer trips\n",
      "+---------+-------------------+--------+\n",
      "|VehicleID|TripDurationMinutes|TollPaid|\n",
      "+---------+-------------------+--------+\n",
      "+---------+-------------------+--------+\n",
      "\n",
      "Suspicious backtracking (ExitPoint earlier than EntryPoint)\n",
      "+---------+---------+----------+\n",
      "|VehicleID|ExitPoint|EntryPoint|\n",
      "+---------+---------+----------+\n",
      "|     V005|    GateA|     GateB|\n",
      "+---------+---------+----------+\n",
      "\n"
     ]
    }
   ],
   "source": [
    "#Identify vehicles with speed > 70 and TripDuration < 10 minutes\n",
    "print(\"Vehicles with speed > 70 and TripDuration < 10 minutes\")\n",
    "a=df.filter((col(\"SpeedKMH\")>70) & (col(\"TripDurationMinutes\") < 10))\n",
    "a.select(\"VehicleID\",\"SpeedKMH\",\"TripDurationMinutes\").show()\n",
    "#Vehicles that paid less toll for longer trips\n",
    "print(\"Vehicles that paid less toll for longer trips\")\n",
    "a1=df.filter((col(\"TripDurationMinutes\") > 60) & (col(\"TollPaid\") < 20))\n",
    "a1.select(\"VehicleID\",\"TripDurationMinutes\",\"TollPaid\").show()\n",
    "#Suspicious backtracking (ExitPoint earlier than EntryPoint)\n",
    "print(\"Suspicious backtracking (ExitPoint earlier than EntryPoint)\")\n",
    "a2=df.filter((col(\"ExitPoint\") < col(\"EntryPoint\")))\n",
    "a2.select(\"VehicleID\",\"ExitPoint\",\"EntryPoint\").show()"
   ]
  },
  {
   "cell_type": "markdown",
   "metadata": {
    "application/vnd.databricks.v1+cell": {
     "cellMetadata": {},
     "inputWidgets": {},
     "nuid": "a0b7fef5-e00e-4530-9be1-92f79a706c02",
     "showTitle": false,
     "tableResultSettingsMap": {},
     "title": ""
    }
   },
   "source": [
    "**Join with Metadata**"
   ]
  },
  {
   "cell_type": "code",
   "execution_count": 0,
   "metadata": {
    "application/vnd.databricks.v1+cell": {
     "cellMetadata": {
      "byteLimit": 2048000,
      "rowLimit": 10000
     },
     "inputWidgets": {},
     "nuid": "231cab39-8978-41e9-ab0c-2678fd04fcbd",
     "showTitle": false,
     "tableResultSettingsMap": {},
     "title": ""
    }
   },
   "outputs": [
    {
     "name": "stdout",
     "output_type": "stream",
     "text": [
      "+--------------+-----------+\n",
      "|RegisteredCity|TripsByCity|\n",
      "+--------------+-----------+\n",
      "|     Bangalore|          1|\n",
      "|       Chennai|          1|\n",
      "|        Mumbai|          1|\n",
      "|          Pune|          1|\n",
      "|         Delhi|          1|\n",
      "+--------------+-----------+\n",
      "\n"
     ]
    }
   ],
   "source": [
    "# Join and group trips by RegisteredCity\n",
    "r=spark.createDataFrame([\n",
    "    (\"V001\",\"Anil\",\"Hyundai i20\",\"Delhi\"),\n",
    "    (\"V002\",\"Rakesh\",\"Tata Truck\",\"Chennai\"),\n",
    "    (\"V003\",\"Sana\",\"Yamaha R15\",\"Mumbai\"),\n",
    "    (\"V004\",\"Neha\",\"Honda City\",\"Bangalore\"),\n",
    "    (\"V005\",\"Zoya\",\"Volvo Bus\",\"Pune\"),\n",
    "], [\"VehicleID\",\"OwnerName\",\"Model\",\"RegisteredCity\"])\n",
    "df = df.join(r, \"VehicleID\", \"left\")\n",
    "df.groupBy(\"RegisteredCity\").agg(count(\"*\").alias(\"TripsByCity\")).show()"
   ]
  },
  {
   "cell_type": "markdown",
   "metadata": {
    "application/vnd.databricks.v1+cell": {
     "cellMetadata": {},
     "inputWidgets": {},
     "nuid": "055bb971-fe87-4e0c-92a1-8bfcad53ebab",
     "showTitle": false,
     "tableResultSettingsMap": {},
     "title": ""
    }
   },
   "source": [
    "**Delta Lake Features**"
   ]
  },
  {
   "cell_type": "code",
   "execution_count": 0,
   "metadata": {
    "application/vnd.databricks.v1+cell": {
     "cellMetadata": {
      "byteLimit": 2048000,
      "rowLimit": 10000
     },
     "inputWidgets": {},
     "nuid": "1dc33f1a-8096-4dc1-8678-3f8c7cb3f3f0",
     "showTitle": false,
     "tableResultSettingsMap": {},
     "title": ""
    }
   },
   "outputs": [
    {
     "name": "stdout",
     "output_type": "stream",
     "text": [
      "+---------+-----+----------+---------+-------------------+-------------------+-----------+--------+--------+-------------------+-----------+---------+------------+---------------+---------+-----------+--------------+\n",
      "|VehicleID|LogID|EntryPoint|ExitPoint|          EntryTime|           ExitTime|VehicleType|SpeedKMH|TollPaid|TripDurationMinutes|IsOverspeed|SpeedRank|LastExitTime|IdleTimeMinutes|OwnerName|      Model|RegisteredCity|\n",
      "+---------+-----+----------+---------+-------------------+-------------------+-----------+--------+--------+-------------------+-----------+---------+------------+---------------+---------+-----------+--------------+\n",
      "|     V001| L001|     GateA|    GateC|2024-05-01 08:01:00|2024-05-01 08:20:00|        Car|    60.0|    50.0|               19.0|      false|        2|        NULL|           NULL|     Anil|Hyundai i20|         Delhi|\n",
      "|     V002| L002|     GateB|    GateC|2024-05-01 08:10:00|2024-05-01 08:45:00|      Truck|    45.0|   100.0|               35.0|      false|        1|        NULL|           NULL|   Rakesh| Tata Truck|       Chennai|\n",
      "|     V003| L003|     GateA|    GateD|2024-05-01 09:00:00|2024-05-01 09:18:00|       Bike|    55.0|    30.0|               18.0|      false|        1|        NULL|           NULL|     Sana| Yamaha R15|        Mumbai|\n",
      "|     V004| L004|     GateC|    GateD|2024-05-01 09:15:00|2024-05-01 09:35:00|        Car|    80.0|    50.0|               20.0|       true|        1|        NULL|           NULL|     Neha| Honda City|     Bangalore|\n",
      "|     V005| L005|     GateB|    GateA|2024-05-01 10:05:00|2024-05-01 10:40:00|        Bus|    40.0|    70.0|               35.0|      false|        1|        NULL|           NULL|     Zoya|  Volvo Bus|          Pune|\n",
      "+---------+-----+----------+---------+-------------------+-------------------+-----------+--------+--------+-------------------+-----------+---------+------------+---------------+---------+-----------+--------------+\n",
      "\n"
     ]
    }
   ],
   "source": [
    "#Save traffic_logs as Delta Table\n",
    "df.write.mode(\"overwrite\").format(\"delta\").save(\"file:/Workspace/Shared/traffic_logs\")\n",
    "#Apply MERGE INTO to update toll rates for all Bikes\n",
    "from delta.tables import DeltaTable\n",
    "dt=DeltaTable.forPath(spark,\"file:/Workspace/Shared/traffic_logs\")\n",
    "dt.update(condition=\"VehicleType='Bike'\", set={\"TollPaid\":\"TollPaid + 10\"})\n",
    "#Delete trips longer than 60 minutes\n",
    "dt.delete(\"TripDurationMinutes > 60\")\n",
    "#Use DESCRIBE HISTORY and VERSION AS OF\n",
    "spark.read.format(\"delta\").option(\"versionAsOf\", 0).load(\"file:/Workspace/Shared/traffic_logs\").show()"
   ]
  },
  {
   "cell_type": "markdown",
   "metadata": {
    "application/vnd.databricks.v1+cell": {
     "cellMetadata": {},
     "inputWidgets": {},
     "nuid": "97b72c81-9eb1-4908-b777-3789d29a0a0c",
     "showTitle": false,
     "tableResultSettingsMap": {},
     "title": ""
    }
   },
   "source": [
    "**Advanced Conditions**"
   ]
  },
  {
   "cell_type": "code",
   "execution_count": 0,
   "metadata": {
    "application/vnd.databricks.v1+cell": {
     "cellMetadata": {
      "byteLimit": 2048000,
      "rowLimit": 10000
     },
     "inputWidgets": {},
     "nuid": "4cc43c80-f4a1-43d2-9b7a-f59628a9ccc4",
     "showTitle": false,
     "tableResultSettingsMap": {},
     "title": ""
    }
   },
   "outputs": [
    {
     "name": "stdout",
     "output_type": "stream",
     "text": [
      "+---------+-------------------+------------+-----------+\n",
      "|VehicleID|TripDurationMinutes|TripCategory|TripsPerDay|\n",
      "+---------+-------------------+------------+-----------+\n",
      "|     V001|               19.0|      Medium|          1|\n",
      "|     V002|               35.0|        Long|          1|\n",
      "|     V003|               18.0|      Medium|          1|\n",
      "|     V004|               20.0|      Medium|          1|\n",
      "|     V005|               35.0|        Long|          1|\n",
      "+---------+-------------------+------------+-----------+\n",
      "\n",
      "+---------+-----------+----------+\n",
      "|VehicleID|TripsPerDay|IsFrequent|\n",
      "+---------+-----------+----------+\n",
      "|     V001|          1|     false|\n",
      "|     V002|          1|     false|\n",
      "|     V003|          1|     false|\n",
      "|     V004|          1|     false|\n",
      "|     V005|          1|     false|\n",
      "+---------+-----------+----------+\n",
      "\n"
     ]
    }
   ],
   "source": [
    " #when/otherwise : Tag trip type as:\"Short\" <15min \"Medium\" 15-30min \"Long\" >30min\n",
    " df=df.withColumn(\n",
    "    \"TripCategory\",\n",
    "    when(col(\"TripDurationMinutes\") < 15, \"Short\")\n",
    "      .when(col(\"TripDurationMinutes\") < 30, \"Medium\")\n",
    "      .otherwise(\"Long\")\n",
    ").withColumn(\n",
    "    \"TripsPerDay\",\n",
    "    count(\"*\").over(Window.partitionBy(\"VehicleID\", col(\"EntryTime\").substr(1,10)))\n",
    ")\n",
    "df.select(\"VehicleID\",\"TripDurationMinutes\",\"TripCategory\",\"TripsPerDay\").show()\n",
    " #Flag vehicles with more than 3 trips in a day\n",
    " df = df.withColumn(\"IsFrequent\", col(\"TripsPerDay\") > 3)\n",
    " df.select(\"VehicleID\",\"TripsPerDay\",\"IsFrequent\").show()"
   ]
  },
  {
   "cell_type": "markdown",
   "metadata": {
    "application/vnd.databricks.v1+cell": {
     "cellMetadata": {},
     "inputWidgets": {},
     "nuid": "edece70c-6c91-49ff-85a0-8b7d3eec16d1",
     "showTitle": false,
     "tableResultSettingsMap": {},
     "title": ""
    }
   },
   "source": [
    "**Export & Reporting**"
   ]
  },
  {
   "cell_type": "code",
   "execution_count": 0,
   "metadata": {
    "application/vnd.databricks.v1+cell": {
     "cellMetadata": {
      "byteLimit": 2048000,
      "rowLimit": 10000
     },
     "inputWidgets": {},
     "nuid": "9ac81206-e6b6-447e-9430-273159c3d806",
     "showTitle": false,
     "tableResultSettingsMap": {},
     "title": ""
    }
   },
   "outputs": [
    {
     "data": {
      "text/plain": [
       "DataFrame[]"
      ]
     },
     "execution_count": 46,
     "metadata": {},
     "output_type": "execute_result"
    }
   ],
   "source": [
    "#Write final enriched DataFrame to:Parquet partitioned by VehicleType and CSV for dashboard\n",
    "df.write.partitionBy(\"VehicleType\").mode(\"overwrite\").parquet(\"file/Workspace/Shared/trafficlog_parquet\")\n",
    "df.write.mode(\"overwrite\").option(\"header\",True).csv(\"file:/Workspace/Shared/trafficlog_csv\")\n",
    "#Create summary SQL View: total toll by VehicleType + ExitPoint\n",
    "df.createOrReplaceTempView(\"traffic_view\")\n",
    "spark.sql(\"\"\"\n",
    "CREATE OR REPLACE TEMP VIEW traffic_summary AS\n",
    "SELECT VehicleType, ExitPoint, SUM(TollPaid) AS TotalToll\n",
    "FROM traffic_view\n",
    "GROUP BY VehicleType, ExitPoint\n",
    "\"\"\")\n"
   ]
  },
  {
   "cell_type": "code",
   "execution_count": 0,
   "metadata": {
    "application/vnd.databricks.v1+cell": {
     "cellMetadata": {},
     "inputWidgets": {},
     "nuid": "8bf389d9-6585-4787-abd4-a1ae0a4b3657",
     "showTitle": false,
     "tableResultSettingsMap": {},
     "title": ""
    }
   },
   "outputs": [],
   "source": []
  }
 ],
 "metadata": {
  "application/vnd.databricks.v1+notebook": {
   "computePreferences": null,
   "dashboards": [],
   "environmentMetadata": {
    "base_environment": "",
    "environment_version": "2"
   },
   "inputWidgetPreferences": null,
   "language": "python",
   "notebookMetadata": {
    "pythonIndentUnit": 4
   },
   "notebookName": "june-19(set-1)",
   "widgets": {}
  },
  "language_info": {
   "name": "python"
  }
 },
 "nbformat": 4,
 "nbformat_minor": 0
}
