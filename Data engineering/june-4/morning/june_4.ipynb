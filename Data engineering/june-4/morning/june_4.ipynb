{
  "nbformat": 4,
  "nbformat_minor": 0,
  "metadata": {
    "colab": {
      "provenance": [],
      "gpuType": "T4"
    },
    "kernelspec": {
      "name": "python3",
      "display_name": "Python 3"
    },
    "language_info": {
      "name": "python"
    },
    "accelerator": "GPU"
  },
  "cells": [
    {
      "cell_type": "markdown",
      "source": [
        "**Intialize the Saprk Session**"
      ],
      "metadata": {
        "id": "W9pBrLi_a32z"
      }
    },
    {
      "cell_type": "code",
      "source": [
        "from pyspark.sql import SparkSession\n",
        "spark = SparkSession.builder \\\n",
        "    .appName(\"Spark-SQL-Exercises\") \\\n",
        "    .enableHiveSupport() \\\n",
        "    .getOrCreate()"
      ],
      "metadata": {
        "id": "atmaA9-Ha8bW"
      },
      "execution_count": 1,
      "outputs": []
    },
    {
      "cell_type": "markdown",
      "source": [
        "**Database & Table Tasks**"
      ],
      "metadata": {
        "id": "zoLx_lBxbTlD"
      }
    },
    {
      "cell_type": "code",
      "source": [
        "#1.Create a new database named sales_db\n",
        "spark.sql(\"CREATE DATABASE IF NOT EXISTS sales_db\")\n",
        "#2.Set the current database to sales_db\n",
        "spark.sql(\"USE sales_db\")\n",
        "#3.Create product_sales table\n",
        "spark.sql(\"\"\"\n",
        "    CREATE TABLE IF NOT EXISTS product_sales (\n",
        "        ProductID INT,\n",
        "        ProductName STRING,\n",
        "        Category STRING,\n",
        "        Price DOUBLE,\n",
        "        Quantity INT,\n",
        "        SaleDate DATE\n",
        "    )\n",
        "\"\"\")\n",
        "#4.Insert 5 rows into product_sales\n",
        "spark.sql(\"\"\"\n",
        "    INSERT INTO product_sales VALUES\n",
        "    (1, 'Laptop', 'Electronics', 1000.0, 2, CAST('2024-01-10' AS DATE)),\n",
        "    (2, 'Phone', 'Electronics', 600.0, 1, CAST('2024-02-15' AS DATE)),\n",
        "    (3, 'Desk', 'Furniture', 200.0, 3, CAST('2024-03-05' AS DATE)),\n",
        "    (4, 'Chair', 'Furniture', 150.0, 4, CAST('2024-04-20' AS DATE)),\n",
        "    (5, 'Tablet', 'Electronics', 450.0, 2, CAST('2024-05-10' AS DATE))\n",
        "\"\"\")\n"
      ],
      "metadata": {
        "colab": {
          "base_uri": "https://localhost:8080/"
        },
        "id": "ILmD8p1ZbQjJ",
        "outputId": "d40af31e-28fb-4270-ab09-8b6d1eb7cd0b"
      },
      "execution_count": 5,
      "outputs": [
        {
          "output_type": "execute_result",
          "data": {
            "text/plain": [
              "DataFrame[]"
            ]
          },
          "metadata": {},
          "execution_count": 5
        }
      ]
    },
    {
      "cell_type": "markdown",
      "source": [
        "**Query Tasks**"
      ],
      "metadata": {
        "id": "gW9kHa_icfYW"
      }
    },
    {
      "cell_type": "code",
      "source": [
        "#5.Select all records\n",
        "spark.sql(\"SELECT * FROM product_sales\").show()\n",
        "#6.Retrieve products where price is above 500.\n",
        "spark.sql(\"SELECT * FROM product_sales WHERE Price > 500\").show()\n",
        "#7.Total sale amount per product\n",
        "spark.sql(\"SELECT ProductName, Price, Quantity, Price * Quantity AS Total FROM product_sales\").show()\n",
        "#8.Number of products sold by Category\n",
        "spark.sql(\"SELECT Category, SUM(Quantity) AS TotalSold FROM product_sales GROUP BY Category\").show()\n",
        "#9.Sort by total sales\n",
        "spark.sql(\"SELECT ProductName, Price, Quantity, Price * Quantity AS Total FROM product_sales ORDER BY Total DESC\").show()\n"
      ],
      "metadata": {
        "colab": {
          "base_uri": "https://localhost:8080/"
        },
        "id": "Nq5aPoj8b3-Q",
        "outputId": "38f21a85-d4bd-4bf1-be20-98f14b50a894"
      },
      "execution_count": 6,
      "outputs": [
        {
          "output_type": "stream",
          "name": "stdout",
          "text": [
            "+---------+-----------+-----------+------+--------+----------+\n",
            "|ProductID|ProductName|   Category| Price|Quantity|  SaleDate|\n",
            "+---------+-----------+-----------+------+--------+----------+\n",
            "|        1|     Laptop|Electronics|1000.0|       2|2024-01-10|\n",
            "|        2|      Phone|Electronics| 600.0|       1|2024-02-15|\n",
            "|        3|       Desk|  Furniture| 200.0|       3|2024-03-05|\n",
            "|        4|      Chair|  Furniture| 150.0|       4|2024-04-20|\n",
            "|        5|     Tablet|Electronics| 450.0|       2|2024-05-10|\n",
            "+---------+-----------+-----------+------+--------+----------+\n",
            "\n",
            "+---------+-----------+-----------+------+--------+----------+\n",
            "|ProductID|ProductName|   Category| Price|Quantity|  SaleDate|\n",
            "+---------+-----------+-----------+------+--------+----------+\n",
            "|        1|     Laptop|Electronics|1000.0|       2|2024-01-10|\n",
            "|        2|      Phone|Electronics| 600.0|       1|2024-02-15|\n",
            "+---------+-----------+-----------+------+--------+----------+\n",
            "\n",
            "+-----------+------+--------+------+\n",
            "|ProductName| Price|Quantity| Total|\n",
            "+-----------+------+--------+------+\n",
            "|     Laptop|1000.0|       2|2000.0|\n",
            "|      Phone| 600.0|       1| 600.0|\n",
            "|       Desk| 200.0|       3| 600.0|\n",
            "|      Chair| 150.0|       4| 600.0|\n",
            "|     Tablet| 450.0|       2| 900.0|\n",
            "+-----------+------+--------+------+\n",
            "\n",
            "+-----------+---------+\n",
            "|   Category|TotalSold|\n",
            "+-----------+---------+\n",
            "|Electronics|        5|\n",
            "|  Furniture|        7|\n",
            "+-----------+---------+\n",
            "\n",
            "+-----------+------+--------+------+\n",
            "|ProductName| Price|Quantity| Total|\n",
            "+-----------+------+--------+------+\n",
            "|     Laptop|1000.0|       2|2000.0|\n",
            "|     Tablet| 450.0|       2| 900.0|\n",
            "|      Phone| 600.0|       1| 600.0|\n",
            "|       Desk| 200.0|       3| 600.0|\n",
            "|      Chair| 150.0|       4| 600.0|\n",
            "+-----------+------+--------+------+\n",
            "\n"
          ]
        }
      ]
    },
    {
      "cell_type": "markdown",
      "source": [
        "**Temporary View Tasks**"
      ],
      "metadata": {
        "id": "QkB_vRHPdZL4"
      }
    },
    {
      "cell_type": "code",
      "source": [
        "#10.Create a PySpark DataFrame\n",
        "temp_data = [\n",
        "    (1, \"Laptop\", 2),\n",
        "    (2, \"Phone\", 1),\n",
        "    (3, \"Tablet\", 3),\n",
        "    (4, \"Desktop\", 2),\n",
        "    (5, \"Monitor\", 4),\n",
        "    (6, \"Printer\", 1),\n",
        "    (7, \"Scanner\", 2),\n",
        "    (8, \"Keyboard\", 3),\n",
        "    (9, \"Mouse\", 2),\n",
        "    (10, \"Headphones\", 1)\n",
        "]\n",
        "columns = [\"ProductID\", \"ProductName\", \"Quantity\"]\n",
        "a=spark.createDataFrame(temp_data, columns)\n",
        "#11.Register as temp_orders\n",
        "a.createOrReplaceTempView(\"temp_orders\")\n",
        "#12.SQL query: quantity > 1\n",
        "spark.sql(\"SELECT * FROM temp_orders WHERE Quantity > 1\").show()"
      ],
      "metadata": {
        "colab": {
          "base_uri": "https://localhost:8080/"
        },
        "id": "AqcdGwmEcCl2",
        "outputId": "c5947723-46db-4438-f933-db44167f607a"
      },
      "execution_count": 8,
      "outputs": [
        {
          "output_type": "stream",
          "name": "stdout",
          "text": [
            "+---------+-----------+--------+\n",
            "|ProductID|ProductName|Quantity|\n",
            "+---------+-----------+--------+\n",
            "|        1|     Laptop|       2|\n",
            "|        3|     Tablet|       3|\n",
            "|        4|    Desktop|       2|\n",
            "|        5|    Monitor|       4|\n",
            "|        7|    Scanner|       2|\n",
            "|        8|   Keyboard|       3|\n",
            "|        9|      Mouse|       2|\n",
            "+---------+-----------+--------+\n",
            "\n"
          ]
        }
      ]
    },
    {
      "cell_type": "markdown",
      "source": [
        "**Global View Tasks**"
      ],
      "metadata": {
        "id": "TOzxz2wzeDyI"
      }
    },
    {
      "cell_type": "code",
      "source": [
        "#13.Global temporary view global_orders\n",
        "a.createOrReplaceGlobalTempView(\"global_orders\")\n",
        "#14.Query from another session (use global_temp)\n",
        "spark.sql(\"SELECT * FROM global_temp.global_orders\").show()"
      ],
      "metadata": {
        "colab": {
          "base_uri": "https://localhost:8080/"
        },
        "id": "flJ7ilYld03X",
        "outputId": "0fef5f91-7566-4fce-e193-4ba654ea04ff"
      },
      "execution_count": 9,
      "outputs": [
        {
          "output_type": "stream",
          "name": "stdout",
          "text": [
            "+---------+-----------+--------+\n",
            "|ProductID|ProductName|Quantity|\n",
            "+---------+-----------+--------+\n",
            "|        1|     Laptop|       2|\n",
            "|        2|      Phone|       1|\n",
            "|        3|     Tablet|       3|\n",
            "|        4|    Desktop|       2|\n",
            "|        5|    Monitor|       4|\n",
            "|        6|    Printer|       1|\n",
            "|        7|    Scanner|       2|\n",
            "|        8|   Keyboard|       3|\n",
            "|        9|      Mouse|       2|\n",
            "|       10| Headphones|       1|\n",
            "+---------+-----------+--------+\n",
            "\n"
          ]
        }
      ]
    },
    {
      "cell_type": "markdown",
      "source": [
        "**Join Tasks**"
      ],
      "metadata": {
        "id": "Ky_78lrAeaLK"
      }
    },
    {
      "cell_type": "code",
      "source": [
        "#15.Create customer_details table\n",
        "spark.sql(\"\"\"\n",
        "    CREATE TABLE IF NOT EXISTS customer_details (\n",
        "        CustomerID INT,\n",
        "        Name STRING,\n",
        "        Gender STRING,\n",
        "        City STRING,\n",
        "        SignupDate DATE\n",
        "    )\n",
        "\"\"\")\n",
        "#16.Insert records\n",
        "spark.sql(\"\"\"\n",
        "    INSERT INTO customer_details VALUES\n",
        "    (1,'Aaron','Male','Madurai',CAST('2022-01-01' AS DATE)),\n",
        "    (2,'Sobana','Femlae','Bengaluru',CAST('2021-03-15' AS DATE)),\n",
        "    (3,'Choki','Femlae','chennai',CAST('2023-06-20' AS DATE)),\n",
        "    (4,'Mickey','Male','Mumbai',CAST('2024-01-10' AS DATE)),\n",
        "    (5,'Bubu','Male','Madurai',CAST('2025-01-10' AS DATE))\n",
        "\"\"\")\n",
        "#17.Join on ProductID = CustomerID\n",
        "spark.sql(\"\"\"\n",
        "    SELECT p.ProductID, p.ProductName, c.Name, c.City\n",
        "    FROM product_sales p\n",
        "    JOIN customer_details c\n",
        "    ON p.ProductID = c.CustomerID\n",
        "\"\"\").show()\n",
        "#18.Customers who bought more than 2 products\n",
        "spark.sql(\"\"\"\n",
        "    SELECT c.Name, SUM(p.Quantity) AS TotalBought\n",
        "    FROM product_sales p\n",
        "    JOIN customer_details c\n",
        "    ON p.ProductID = c.CustomerID\n",
        "    GROUP BY c.Name\n",
        "    HAVING TotalBought > 2\n",
        "\"\"\").show()"
      ],
      "metadata": {
        "colab": {
          "base_uri": "https://localhost:8080/"
        },
        "id": "vSE45WC-eZjg",
        "outputId": "45f103d7-a1dd-4dda-a53c-bfa82a326ac8"
      },
      "execution_count": 11,
      "outputs": [
        {
          "output_type": "stream",
          "name": "stdout",
          "text": [
            "+---------+-----------+------+---------+\n",
            "|ProductID|ProductName|  Name|     City|\n",
            "+---------+-----------+------+---------+\n",
            "|        1|     Laptop| Aaron|  Madurai|\n",
            "|        2|      Phone|Sobana|Bengaluru|\n",
            "|        3|       Desk| Choki|  chennai|\n",
            "|        4|      Chair|Mickey|   Mumbai|\n",
            "|        5|     Tablet|  Bubu|  Madurai|\n",
            "+---------+-----------+------+---------+\n",
            "\n",
            "+------+-----------+\n",
            "|  Name|TotalBought|\n",
            "+------+-----------+\n",
            "|Mickey|          4|\n",
            "| Choki|          3|\n",
            "+------+-----------+\n",
            "\n"
          ]
        }
      ]
    },
    {
      "cell_type": "markdown",
      "source": [
        "**View & Summary Tasks**"
      ],
      "metadata": {
        "id": "nrK61b82gTQJ"
      }
    },
    {
      "cell_type": "code",
      "source": [
        "#19.Create view sales_summary\n",
        "spark.sql(\"\"\"\n",
        "    CREATE OR REPLACE VIEW sales_summary AS\n",
        "    SELECT ProductName, Price, Quantity, Price * Quantity AS Total\n",
        "    FROM product_sales\n",
        "\"\"\")\n",
        "#20.Query for Total > 1000\n",
        "spark.sql(\"SELECT * FROM sales_summary WHERE Total > 1000\").show()"
      ],
      "metadata": {
        "colab": {
          "base_uri": "https://localhost:8080/"
        },
        "id": "YJ7Fo-KbeTha",
        "outputId": "55bc25ae-eaa5-4410-b87d-1e47794d9737"
      },
      "execution_count": 12,
      "outputs": [
        {
          "output_type": "stream",
          "name": "stdout",
          "text": [
            "+-----------+------+--------+------+\n",
            "|ProductName| Price|Quantity| Total|\n",
            "+-----------+------+--------+------+\n",
            "|     Laptop|1000.0|       2|2000.0|\n",
            "+-----------+------+--------+------+\n",
            "\n"
          ]
        }
      ]
    },
    {
      "cell_type": "markdown",
      "source": [
        "**Cleanup Tasks**"
      ],
      "metadata": {
        "id": "VNuhf8Qcgns2"
      }
    },
    {
      "cell_type": "code",
      "source": [
        "#21.Drop view\n",
        "spark.sql(\"DROP VIEW IF EXISTS sales_summary\")\n",
        "#22.Drop tables\n",
        "spark.sql(\"DROP TABLE IF EXISTS product_sales\")\n",
        "spark.sql(\"DROP TABLE IF EXISTS customer_details\")\n",
        "#23.Drop database\n",
        "spark.sql(\"DROP DATABASE IF EXISTS sales_db\")"
      ],
      "metadata": {
        "colab": {
          "base_uri": "https://localhost:8080/"
        },
        "id": "7KRL6vm9gmR4",
        "outputId": "7eab39f0-b8bf-495a-f40e-f60ee00d8e39"
      },
      "execution_count": 14,
      "outputs": [
        {
          "output_type": "execute_result",
          "data": {
            "text/plain": [
              "DataFrame[]"
            ]
          },
          "metadata": {},
          "execution_count": 14
        }
      ]
    },
    {
      "cell_type": "code",
      "source": [],
      "metadata": {
        "id": "-hzvP8sMgsKK"
      },
      "execution_count": null,
      "outputs": []
    }
  ]
}