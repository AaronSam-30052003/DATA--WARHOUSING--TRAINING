{
  "nbformat": 4,
  "nbformat_minor": 0,
  "metadata": {
    "colab": {
      "provenance": [],
      "gpuType": "T4"
    },
    "kernelspec": {
      "name": "python3",
      "display_name": "Python 3"
    },
    "language_info": {
      "name": "python"
    },
    "accelerator": "GPU"
  },
  "cells": [
    {
      "cell_type": "markdown",
      "source": [
        "**Intialize the Spark Session**"
      ],
      "metadata": {
        "id": "_81y-s4jHTxP"
      }
    },
    {
      "cell_type": "code",
      "source": [
        "from pyspark.sql import SparkSession\n",
        "from pyspark.sql.functions import *\n",
        "\n",
        "spark = SparkSession.builder\\\n",
        "        .appName(\"PracticeProject\")\\\n",
        "        .enableHiveSupport()\\\n",
        "        .getOrCreate()\n",
        "spark\n"
      ],
      "metadata": {
        "colab": {
          "base_uri": "https://localhost:8080/",
          "height": 219
        },
        "id": "pwfIjS_RHapV",
        "outputId": "5cf5adab-4bec-4fa8-a60d-89114ddb6fe7"
      },
      "execution_count": 2,
      "outputs": [
        {
          "output_type": "execute_result",
          "data": {
            "text/plain": [
              "<pyspark.sql.session.SparkSession at 0x7c73a5218610>"
            ],
            "text/html": [
              "\n",
              "            <div>\n",
              "                <p><b>SparkSession - hive</b></p>\n",
              "                \n",
              "        <div>\n",
              "            <p><b>SparkContext</b></p>\n",
              "\n",
              "            <p><a href=\"http://ad3de623a45b:4040\">Spark UI</a></p>\n",
              "\n",
              "            <dl>\n",
              "              <dt>Version</dt>\n",
              "                <dd><code>v3.5.1</code></dd>\n",
              "              <dt>Master</dt>\n",
              "                <dd><code>local[*]</code></dd>\n",
              "              <dt>AppName</dt>\n",
              "                <dd><code>PracticeProject</code></dd>\n",
              "            </dl>\n",
              "        </div>\n",
              "        \n",
              "            </div>\n",
              "        "
            ]
          },
          "metadata": {},
          "execution_count": 2
        }
      ]
    },
    {
      "cell_type": "markdown",
      "source": [
        "**Data Preparation**"
      ],
      "metadata": {
        "id": "WhKdojCjIZ59"
      }
    },
    {
      "cell_type": "code",
      "source": [
        "# Customer Data\n",
        "customers_data = [\n",
        "    (101, 'Ali', 'ali@gmail.com', 'Mumbai', '2022-05-10'),\n",
        "    (102, 'Neha', 'neha@yahoo.com', 'Delhi', '2023-01-15'),\n",
        "    (103, 'Ravi', 'ravi@hotmail.com', 'Bangalore', '2021-11-01'),\n",
        "    (104, 'Sneha', 'sneha@outlook.com', 'Hyderabad', '2020-07-22'),\n",
        "    (105, 'Amit', 'amit@gmail.com', 'Chennai', '2023-03-10'),\n",
        "]\n",
        "# Orders Data\n",
        "orders_data = [\n",
        "    (1, 101, 'Laptop', 'Electronics', 2, 50000.0, '2024-01-10'),\n",
        "    (2, 101, 'Mouse', 'Electronics', 1, 1200.0, '2024-01-15'),\n",
        "    (3, 102, 'Tablet', 'Electronics', 1, 20000.0, '2024-02-01'),\n",
        "    (4, 103, 'Bookshelf', 'Furniture', 1, 3500.0, '2024-02-10'),\n",
        "    (5, 104, 'Mixer', 'Appliances', 1, 5000.0, '2024-02-15'),\n",
        "    (6, 105, 'Notebook', 'Stationery', 5, 500.0, '2024-03-01'),\n",
        "    (7, 102, 'Phone', 'Electronics', 1, 30000.0, '2024-03-02'),\n",
        "]\n",
        "customers_df = spark.createDataFrame(customers_data, [\"CustomerID\", \"Name\", \"Email\", \"City\", \"SignupDate\"])\n",
        "orders_df = spark.createDataFrame(orders_data, [\"OrderID\", \"CustomerID\", \"Product\", \"Category\", \"Quantity\", \"Price\", \"OrderDate\"])\n",
        "#create sales schema\n",
        "spark.sql(\"CREATE DATABASE IF NOT EXISTS sales\")\n",
        "# save as tables\n",
        "customers_df.write.mode(\"overwrite\").saveAsTable(\"sales.customers\")\n",
        "orders_df.write.mode(\"overwrite\").saveAsTable(\"sales.orders\")"
      ],
      "metadata": {
        "id": "onsv3Sg9IB_W"
      },
      "execution_count": 15,
      "outputs": []
    },
    {
      "cell_type": "markdown",
      "source": [
        "**SECTION A: PySpark DataFrame Tasks**"
      ],
      "metadata": {
        "id": "xhFqrQmEJ4G-"
      }
    },
    {
      "cell_type": "code",
      "source": [
        "#1.Add TotalAmount = Price * Quantity\n",
        "orders_df =orders_df.withColumn(\"TotalAmount\", col(\"Price\") * col(\"Quantity\"))\n",
        "print(\"Step 1: TotalAmount column added\")\n",
        "orders_df.show()\n",
        "#2.Filter orders where TotalAmount > 10000\n",
        "print(\"Orders where TotalAmount > 10000\")\n",
        "orders_df.filter(col(\"TotalAmount\") > 10000).show()\n",
        "#3.Standardize City field (lowercase)\n",
        "customers_df =customers_df.withColumn(\"City\", lower(col(\"City\")))\n",
        "print(\"Customers with lowercase city names\")\n",
        "customers_df.show()\n",
        "#4.Extract OrderYear\n",
        "orders_df =orders_df.withColumn(\"OrderYear\", year(col(\"OrderDate\")))\n",
        "print(\"Orders with OrderYear extracted\")\n",
        "orders_df.show()\n",
        "#5.Fill nulls in any column\n",
        "orders_df =orders_df.fillna({\"Category\": \"Misc\"})\n",
        "print(\"Orders after filling nulls in Category with 'Misc'\")\n",
        "orders_df.show()\n",
        "#6.Categorize orders using when/otherwise\n",
        "orders_df =orders_df.withColumn(\"OrderCategory\",\n",
        "    when(col(\"TotalAmount\") < 5000, \"Low\")\n",
        "    .when((col(\"TotalAmount\") >= 5000) & (col(\"TotalAmount\") <= 20000), \"Medium\")\n",
        "    .otherwise(\"High\")\n",
        ")\n",
        "print(\"Orders categorized by TotalAmount\")\n",
        "orders_df.show()\n"
      ],
      "metadata": {
        "colab": {
          "base_uri": "https://localhost:8080/"
        },
        "id": "0xBJqFtUI1Ga",
        "outputId": "cc18e293-8b0c-4c38-c18d-2b0fff30c6f8"
      },
      "execution_count": 16,
      "outputs": [
        {
          "output_type": "stream",
          "name": "stdout",
          "text": [
            "Step 1: TotalAmount column added\n",
            "+-------+----------+---------+-----------+--------+-------+----------+-----------+\n",
            "|OrderID|CustomerID|  Product|   Category|Quantity|  Price| OrderDate|TotalAmount|\n",
            "+-------+----------+---------+-----------+--------+-------+----------+-----------+\n",
            "|      1|       101|   Laptop|Electronics|       2|50000.0|2024-01-10|   100000.0|\n",
            "|      2|       101|    Mouse|Electronics|       1| 1200.0|2024-01-15|     1200.0|\n",
            "|      3|       102|   Tablet|Electronics|       1|20000.0|2024-02-01|    20000.0|\n",
            "|      4|       103|Bookshelf|  Furniture|       1| 3500.0|2024-02-10|     3500.0|\n",
            "|      5|       104|    Mixer| Appliances|       1| 5000.0|2024-02-15|     5000.0|\n",
            "|      6|       105| Notebook| Stationery|       5|  500.0|2024-03-01|     2500.0|\n",
            "|      7|       102|    Phone|Electronics|       1|30000.0|2024-03-02|    30000.0|\n",
            "+-------+----------+---------+-----------+--------+-------+----------+-----------+\n",
            "\n",
            "Orders where TotalAmount > 10000\n",
            "+-------+----------+-------+-----------+--------+-------+----------+-----------+\n",
            "|OrderID|CustomerID|Product|   Category|Quantity|  Price| OrderDate|TotalAmount|\n",
            "+-------+----------+-------+-----------+--------+-------+----------+-----------+\n",
            "|      1|       101| Laptop|Electronics|       2|50000.0|2024-01-10|   100000.0|\n",
            "|      3|       102| Tablet|Electronics|       1|20000.0|2024-02-01|    20000.0|\n",
            "|      7|       102|  Phone|Electronics|       1|30000.0|2024-03-02|    30000.0|\n",
            "+-------+----------+-------+-----------+--------+-------+----------+-----------+\n",
            "\n",
            "Customers with lowercase city names\n",
            "+----------+-----+-----------------+---------+----------+\n",
            "|CustomerID| Name|            Email|     City|SignupDate|\n",
            "+----------+-----+-----------------+---------+----------+\n",
            "|       101|  Ali|    ali@gmail.com|   mumbai|2022-05-10|\n",
            "|       102| Neha|   neha@yahoo.com|    delhi|2023-01-15|\n",
            "|       103| Ravi| ravi@hotmail.com|bangalore|2021-11-01|\n",
            "|       104|Sneha|sneha@outlook.com|hyderabad|2020-07-22|\n",
            "|       105| Amit|   amit@gmail.com|  chennai|2023-03-10|\n",
            "+----------+-----+-----------------+---------+----------+\n",
            "\n",
            "Orders with OrderYear extracted\n",
            "+-------+----------+---------+-----------+--------+-------+----------+-----------+---------+\n",
            "|OrderID|CustomerID|  Product|   Category|Quantity|  Price| OrderDate|TotalAmount|OrderYear|\n",
            "+-------+----------+---------+-----------+--------+-------+----------+-----------+---------+\n",
            "|      1|       101|   Laptop|Electronics|       2|50000.0|2024-01-10|   100000.0|     2024|\n",
            "|      2|       101|    Mouse|Electronics|       1| 1200.0|2024-01-15|     1200.0|     2024|\n",
            "|      3|       102|   Tablet|Electronics|       1|20000.0|2024-02-01|    20000.0|     2024|\n",
            "|      4|       103|Bookshelf|  Furniture|       1| 3500.0|2024-02-10|     3500.0|     2024|\n",
            "|      5|       104|    Mixer| Appliances|       1| 5000.0|2024-02-15|     5000.0|     2024|\n",
            "|      6|       105| Notebook| Stationery|       5|  500.0|2024-03-01|     2500.0|     2024|\n",
            "|      7|       102|    Phone|Electronics|       1|30000.0|2024-03-02|    30000.0|     2024|\n",
            "+-------+----------+---------+-----------+--------+-------+----------+-----------+---------+\n",
            "\n",
            "Orders after filling nulls in Category with 'Misc'\n",
            "+-------+----------+---------+-----------+--------+-------+----------+-----------+---------+\n",
            "|OrderID|CustomerID|  Product|   Category|Quantity|  Price| OrderDate|TotalAmount|OrderYear|\n",
            "+-------+----------+---------+-----------+--------+-------+----------+-----------+---------+\n",
            "|      1|       101|   Laptop|Electronics|       2|50000.0|2024-01-10|   100000.0|     2024|\n",
            "|      2|       101|    Mouse|Electronics|       1| 1200.0|2024-01-15|     1200.0|     2024|\n",
            "|      3|       102|   Tablet|Electronics|       1|20000.0|2024-02-01|    20000.0|     2024|\n",
            "|      4|       103|Bookshelf|  Furniture|       1| 3500.0|2024-02-10|     3500.0|     2024|\n",
            "|      5|       104|    Mixer| Appliances|       1| 5000.0|2024-02-15|     5000.0|     2024|\n",
            "|      6|       105| Notebook| Stationery|       5|  500.0|2024-03-01|     2500.0|     2024|\n",
            "|      7|       102|    Phone|Electronics|       1|30000.0|2024-03-02|    30000.0|     2024|\n",
            "+-------+----------+---------+-----------+--------+-------+----------+-----------+---------+\n",
            "\n",
            "Orders categorized by TotalAmount\n",
            "+-------+----------+---------+-----------+--------+-------+----------+-----------+---------+-------------+\n",
            "|OrderID|CustomerID|  Product|   Category|Quantity|  Price| OrderDate|TotalAmount|OrderYear|OrderCategory|\n",
            "+-------+----------+---------+-----------+--------+-------+----------+-----------+---------+-------------+\n",
            "|      1|       101|   Laptop|Electronics|       2|50000.0|2024-01-10|   100000.0|     2024|         High|\n",
            "|      2|       101|    Mouse|Electronics|       1| 1200.0|2024-01-15|     1200.0|     2024|          Low|\n",
            "|      3|       102|   Tablet|Electronics|       1|20000.0|2024-02-01|    20000.0|     2024|       Medium|\n",
            "|      4|       103|Bookshelf|  Furniture|       1| 3500.0|2024-02-10|     3500.0|     2024|          Low|\n",
            "|      5|       104|    Mixer| Appliances|       1| 5000.0|2024-02-15|     5000.0|     2024|       Medium|\n",
            "|      6|       105| Notebook| Stationery|       5|  500.0|2024-03-01|     2500.0|     2024|          Low|\n",
            "|      7|       102|    Phone|Electronics|       1|30000.0|2024-03-02|    30000.0|     2024|         High|\n",
            "+-------+----------+---------+-----------+--------+-------+----------+-----------+---------+-------------+\n",
            "\n"
          ]
        }
      ]
    },
    {
      "cell_type": "markdown",
      "source": [
        "**SECTION B: Spark SQL Tasks**"
      ],
      "metadata": {
        "id": "GjDOzeB2M5DJ"
      }
    },
    {
      "cell_type": "code",
      "source": [
        "#7.Orders made by \"Ali\"\n",
        "print(\"Orders made by Ali:\")\n",
        "spark.sql(\"\"\"\n",
        "    SELECT o.* FROM sales.orders o\n",
        "    JOIN sales.customers c ON o.CustomerID = c.CustomerID\n",
        "    WHERE c.Name = 'Ali'\n",
        "\"\"\").show()\n",
        "#8.Total spending per customer\n",
        "print(\"Total spending per customer:\")\n",
        "spark.sql(\"\"\"\n",
        "    SELECT c.Name, SUM(o.Price * o.Quantity) AS TotalSpent\n",
        "    FROM sales.orders o\n",
        "    JOIN sales.customers c ON o.CustomerID = c.CustomerID\n",
        "    GROUP BY c.Name\n",
        "\"\"\").show()\n",
        "#9.Category with highest total revenue\n",
        "print(\"Category with highest total revenue:\")\n",
        "spark.sql(\"\"\"\n",
        "    SELECT Category, SUM(Price * Quantity) AS Revenue\n",
        "    FROM sales.orders\n",
        "    GROUP BY Category\n",
        "    ORDER BY Revenue DESC\n",
        "    LIMIT 1\n",
        "\"\"\").show()\n",
        "#10.Create view customer_orders\n",
        "print(\"View customer_orders created\")\n",
        "spark.sql(\"\"\"\n",
        "    CREATE OR REPLACE VIEW customer_orders AS\n",
        "    SELECT c.Name AS CustomerName, o.Product, o.Price * o.Quantity AS TotalAmount\n",
        "    FROM sales.orders o\n",
        "    JOIN sales.customers c ON o.CustomerID = c.CustomerID\n",
        "\"\"\")\n",
        "#11.Query for orders after Feb 2024\n",
        "print(\"Orders after Feb 2024:\")\n",
        "spark.sql(\"\"\"\n",
        "    SELECT * FROM customer_orders\n",
        "    WHERE TotalAmount IS NOT NULL AND Product IN (\n",
        "        SELECT Product FROM sales.orders WHERE OrderDate > '2024-02-01'\n",
        "    )\n",
        "\"\"\").show()\n"
      ],
      "metadata": {
        "colab": {
          "base_uri": "https://localhost:8080/"
        },
        "id": "QRFrULZeKemH",
        "outputId": "c54f9cc5-1693-4f2e-b20c-45bfdc818033"
      },
      "execution_count": 17,
      "outputs": [
        {
          "output_type": "stream",
          "name": "stdout",
          "text": [
            "Orders made by Ali:\n",
            "+-------+----------+-------+-----------+--------+-------+----------+\n",
            "|OrderID|CustomerID|Product|   Category|Quantity|  Price| OrderDate|\n",
            "+-------+----------+-------+-----------+--------+-------+----------+\n",
            "|      1|       101| Laptop|Electronics|       2|50000.0|2024-01-10|\n",
            "|      2|       101|  Mouse|Electronics|       1| 1200.0|2024-01-15|\n",
            "+-------+----------+-------+-----------+--------+-------+----------+\n",
            "\n",
            "Total spending per customer:\n",
            "+-----+----------+\n",
            "| Name|TotalSpent|\n",
            "+-----+----------+\n",
            "| Neha|   50000.0|\n",
            "|  Ali|  101200.0|\n",
            "| Ravi|    3500.0|\n",
            "|Sneha|    5000.0|\n",
            "| Amit|    2500.0|\n",
            "+-----+----------+\n",
            "\n",
            "Category with highest total revenue:\n",
            "+-----------+--------+\n",
            "|   Category| Revenue|\n",
            "+-----------+--------+\n",
            "|Electronics|151200.0|\n",
            "+-----------+--------+\n",
            "\n",
            "View customer_orders created\n",
            "Orders after Feb 2024:\n",
            "+------------+---------+-----------+\n",
            "|CustomerName|  Product|TotalAmount|\n",
            "+------------+---------+-----------+\n",
            "|        Ravi|Bookshelf|     3500.0|\n",
            "|       Sneha|    Mixer|     5000.0|\n",
            "|        Amit| Notebook|     2500.0|\n",
            "|        Neha|    Phone|    30000.0|\n",
            "+------------+---------+-----------+\n",
            "\n"
          ]
        }
      ]
    },
    {
      "cell_type": "markdown",
      "source": [
        "**SECTION C: Advanced Practice**"
      ],
      "metadata": {
        "id": "Dc_Cz_WSNtrT"
      }
    },
    {
      "cell_type": "code",
      "source": [
        "#12.Global Temp View\n",
        "print(\"Global Temp View created\")\n",
        "customers_df.createOrReplaceGlobalTempView(\"customers\")\n",
        "spark.sql(\"SELECT * FROM global_temp.customers WHERE City = 'mumbai'\").show()\n",
        "#13.Save orders_df (with TotalAmount) to Parquet\n",
        "orders_df.write.mode(\"overwrite\").parquet(\"/tmp/orders_parquet\")\n",
        "print(\"Orders saved to Parquet\")\n",
        "#14.Read back and count\n",
        "parquet_df = spark.read.parquet(\"/tmp/orders_parquet\")\n",
        "print(\"Total Orders:\", parquet_df.count())"
      ],
      "metadata": {
        "colab": {
          "base_uri": "https://localhost:8080/"
        },
        "id": "TDIeNYaUNY8B",
        "outputId": "0f9b97fe-3ec7-4231-e0b4-7c983ac8c53b"
      },
      "execution_count": 18,
      "outputs": [
        {
          "output_type": "stream",
          "name": "stdout",
          "text": [
            "Global Temp View created\n",
            "+----------+----+-------------+------+----------+\n",
            "|CustomerID|Name|        Email|  City|SignupDate|\n",
            "+----------+----+-------------+------+----------+\n",
            "|       101| Ali|ali@gmail.com|mumbai|2022-05-10|\n",
            "+----------+----+-------------+------+----------+\n",
            "\n",
            "Orders saved to Parquet\n",
            "Total Orders: 7\n"
          ]
        }
      ]
    },
    {
      "cell_type": "markdown",
      "source": [
        "**SECTION D: UDF + Built-in Function Tasks**"
      ],
      "metadata": {
        "id": "Yf4cdpVOOKWc"
      }
    },
    {
      "cell_type": "code",
      "source": [
        "from pyspark.sql.types import StringType\n",
        "#15.UDF to mask email\n",
        "def mask_email(email):\n",
        "    name, domain = email.split(\"@\")\n",
        "    return name[0] + \"***@\" + domain\n",
        "mask_email_udf = udf(mask_email, StringType())\n",
        "customers_df = customers_df.withColumn(\"MaskedEmail\", mask_email_udf(col(\"Email\")))\n",
        "print(\"Customers with masked emails:\")\n",
        "customers_df.show()\n",
        "#16.concat_ws() to create full label like \"Ali from Mumbai\"\n",
        "customers_df = customers_df.withColumn(\"Label\", concat_ws(\" \", col(\"Name\"), lit(\"from\"), col(\"City\")))\n",
        "print(\"Customers with full labels:\")\n",
        "customers_df.show()\n",
        "# 17. regexp_replace to clean product names\n",
        "orders_df = orders_df.withColumn(\"CleanProduct\", regexp_replace(\"Product\", \"[^a-zA-Z0-9]\", \"\"))\n",
        "print(\"Orders with cleaned product names:\")\n",
        "orders_df.show()\n",
        "#18.to_date and datediff to compute customer age (days since signup)\n",
        "customers_df = customers_df.withColumn(\"SignupDate\", to_date(\"SignupDate\"))\n",
        "customers_df = customers_df.withColumn(\"CustomerAgeDays\", datediff(current_date(), col(\"SignupDate\")))\n",
        "print(\"Customers with age in days:\")\n",
        "customers_df.show()\n"
      ],
      "metadata": {
        "colab": {
          "base_uri": "https://localhost:8080/"
        },
        "id": "qS8st09ZOARa",
        "outputId": "d5ae4e37-cf16-4cee-912e-d7cbc94a1f75"
      },
      "execution_count": 19,
      "outputs": [
        {
          "output_type": "stream",
          "name": "stdout",
          "text": [
            "Customers with masked emails:\n",
            "+----------+-----+-----------------+---------+----------+----------------+\n",
            "|CustomerID| Name|            Email|     City|SignupDate|     MaskedEmail|\n",
            "+----------+-----+-----------------+---------+----------+----------------+\n",
            "|       101|  Ali|    ali@gmail.com|   mumbai|2022-05-10|  a***@gmail.com|\n",
            "|       102| Neha|   neha@yahoo.com|    delhi|2023-01-15|  n***@yahoo.com|\n",
            "|       103| Ravi| ravi@hotmail.com|bangalore|2021-11-01|r***@hotmail.com|\n",
            "|       104|Sneha|sneha@outlook.com|hyderabad|2020-07-22|s***@outlook.com|\n",
            "|       105| Amit|   amit@gmail.com|  chennai|2023-03-10|  a***@gmail.com|\n",
            "+----------+-----+-----------------+---------+----------+----------------+\n",
            "\n",
            "Customers with full labels:\n",
            "+----------+-----+-----------------+---------+----------+----------------+--------------------+\n",
            "|CustomerID| Name|            Email|     City|SignupDate|     MaskedEmail|               Label|\n",
            "+----------+-----+-----------------+---------+----------+----------------+--------------------+\n",
            "|       101|  Ali|    ali@gmail.com|   mumbai|2022-05-10|  a***@gmail.com|     Ali from mumbai|\n",
            "|       102| Neha|   neha@yahoo.com|    delhi|2023-01-15|  n***@yahoo.com|     Neha from delhi|\n",
            "|       103| Ravi| ravi@hotmail.com|bangalore|2021-11-01|r***@hotmail.com| Ravi from bangalore|\n",
            "|       104|Sneha|sneha@outlook.com|hyderabad|2020-07-22|s***@outlook.com|Sneha from hyderabad|\n",
            "|       105| Amit|   amit@gmail.com|  chennai|2023-03-10|  a***@gmail.com|   Amit from chennai|\n",
            "+----------+-----+-----------------+---------+----------+----------------+--------------------+\n",
            "\n",
            "Orders with cleaned product names:\n",
            "+-------+----------+---------+-----------+--------+-------+----------+-----------+---------+-------------+------------+\n",
            "|OrderID|CustomerID|  Product|   Category|Quantity|  Price| OrderDate|TotalAmount|OrderYear|OrderCategory|CleanProduct|\n",
            "+-------+----------+---------+-----------+--------+-------+----------+-----------+---------+-------------+------------+\n",
            "|      1|       101|   Laptop|Electronics|       2|50000.0|2024-01-10|   100000.0|     2024|         High|      Laptop|\n",
            "|      2|       101|    Mouse|Electronics|       1| 1200.0|2024-01-15|     1200.0|     2024|          Low|       Mouse|\n",
            "|      3|       102|   Tablet|Electronics|       1|20000.0|2024-02-01|    20000.0|     2024|       Medium|      Tablet|\n",
            "|      4|       103|Bookshelf|  Furniture|       1| 3500.0|2024-02-10|     3500.0|     2024|          Low|   Bookshelf|\n",
            "|      5|       104|    Mixer| Appliances|       1| 5000.0|2024-02-15|     5000.0|     2024|       Medium|       Mixer|\n",
            "|      6|       105| Notebook| Stationery|       5|  500.0|2024-03-01|     2500.0|     2024|          Low|    Notebook|\n",
            "|      7|       102|    Phone|Electronics|       1|30000.0|2024-03-02|    30000.0|     2024|         High|       Phone|\n",
            "+-------+----------+---------+-----------+--------+-------+----------+-----------+---------+-------------+------------+\n",
            "\n",
            "Customers with age in days:\n",
            "+----------+-----+-----------------+---------+----------+----------------+--------------------+---------------+\n",
            "|CustomerID| Name|            Email|     City|SignupDate|     MaskedEmail|               Label|CustomerAgeDays|\n",
            "+----------+-----+-----------------+---------+----------+----------------+--------------------+---------------+\n",
            "|       101|  Ali|    ali@gmail.com|   mumbai|2022-05-10|  a***@gmail.com|     Ali from mumbai|           1121|\n",
            "|       102| Neha|   neha@yahoo.com|    delhi|2023-01-15|  n***@yahoo.com|     Neha from delhi|            871|\n",
            "|       103| Ravi| ravi@hotmail.com|bangalore|2021-11-01|r***@hotmail.com| Ravi from bangalore|           1311|\n",
            "|       104|Sneha|sneha@outlook.com|hyderabad|2020-07-22|s***@outlook.com|Sneha from hyderabad|           1778|\n",
            "|       105| Amit|   amit@gmail.com|  chennai|2023-03-10|  a***@gmail.com|   Amit from chennai|            817|\n",
            "+----------+-----+-----------------+---------+----------+----------------+--------------------+---------------+\n",
            "\n"
          ]
        }
      ]
    },
    {
      "cell_type": "markdown",
      "source": [
        "**Display of final customer and order data**"
      ],
      "metadata": {
        "id": "tyBTG0A8Ox5Q"
      }
    },
    {
      "cell_type": "code",
      "source": [
        "customers_df.show(truncate=False)\n",
        "orders_df.show(truncate=False)"
      ],
      "metadata": {
        "colab": {
          "base_uri": "https://localhost:8080/"
        },
        "id": "EJdsVn5JOiGK",
        "outputId": "224471f1-1588-408d-f708-ad35c3cbbdfb"
      },
      "execution_count": 20,
      "outputs": [
        {
          "output_type": "stream",
          "name": "stdout",
          "text": [
            "+----------+-----+-----------------+---------+----------+----------------+--------------------+---------------+\n",
            "|CustomerID|Name |Email            |City     |SignupDate|MaskedEmail     |Label               |CustomerAgeDays|\n",
            "+----------+-----+-----------------+---------+----------+----------------+--------------------+---------------+\n",
            "|101       |Ali  |ali@gmail.com    |mumbai   |2022-05-10|a***@gmail.com  |Ali from mumbai     |1121           |\n",
            "|102       |Neha |neha@yahoo.com   |delhi    |2023-01-15|n***@yahoo.com  |Neha from delhi     |871            |\n",
            "|103       |Ravi |ravi@hotmail.com |bangalore|2021-11-01|r***@hotmail.com|Ravi from bangalore |1311           |\n",
            "|104       |Sneha|sneha@outlook.com|hyderabad|2020-07-22|s***@outlook.com|Sneha from hyderabad|1778           |\n",
            "|105       |Amit |amit@gmail.com   |chennai  |2023-03-10|a***@gmail.com  |Amit from chennai   |817            |\n",
            "+----------+-----+-----------------+---------+----------+----------------+--------------------+---------------+\n",
            "\n",
            "+-------+----------+---------+-----------+--------+-------+----------+-----------+---------+-------------+------------+\n",
            "|OrderID|CustomerID|Product  |Category   |Quantity|Price  |OrderDate |TotalAmount|OrderYear|OrderCategory|CleanProduct|\n",
            "+-------+----------+---------+-----------+--------+-------+----------+-----------+---------+-------------+------------+\n",
            "|1      |101       |Laptop   |Electronics|2       |50000.0|2024-01-10|100000.0   |2024     |High         |Laptop      |\n",
            "|2      |101       |Mouse    |Electronics|1       |1200.0 |2024-01-15|1200.0     |2024     |Low          |Mouse       |\n",
            "|3      |102       |Tablet   |Electronics|1       |20000.0|2024-02-01|20000.0    |2024     |Medium       |Tablet      |\n",
            "|4      |103       |Bookshelf|Furniture  |1       |3500.0 |2024-02-10|3500.0     |2024     |Low          |Bookshelf   |\n",
            "|5      |104       |Mixer    |Appliances |1       |5000.0 |2024-02-15|5000.0     |2024     |Medium       |Mixer       |\n",
            "|6      |105       |Notebook |Stationery |5       |500.0  |2024-03-01|2500.0     |2024     |Low          |Notebook    |\n",
            "|7      |102       |Phone    |Electronics|1       |30000.0|2024-03-02|30000.0    |2024     |High         |Phone       |\n",
            "+-------+----------+---------+-----------+--------+-------+----------+-----------+---------+-------------+------------+\n",
            "\n"
          ]
        }
      ]
    },
    {
      "cell_type": "code",
      "source": [],
      "metadata": {
        "id": "4_ZR7wOaOtfg"
      },
      "execution_count": null,
      "outputs": []
    }
  ]
}